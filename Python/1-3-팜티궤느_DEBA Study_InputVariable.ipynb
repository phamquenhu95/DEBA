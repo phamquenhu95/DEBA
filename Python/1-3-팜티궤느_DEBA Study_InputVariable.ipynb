{
 "cells": [
  {
   "cell_type": "code",
   "execution_count": 3,
   "metadata": {
    "ExecuteTime": {
     "end_time": "2023-01-05T05:14:17.350825Z",
     "start_time": "2023-01-05T05:14:17.330875Z"
    }
   },
   "outputs": [
    {
     "name": "stdout",
     "output_type": "stream",
     "text": [
      "Intel64 Family 6 Model 142 Stepping 11, GenuineIntel\n",
      "8(GB)\n",
      "Windows\n",
      "10.0.19044\n",
      "C:\\Users\\phamt\\DEBAStudy\\Practice\n",
      "2023-01-03 16:12:54.412954\n",
      "2023-01-05 14:13:43.208848\n",
      "2023-01-05 14:13:43.208848\n",
      "2023-01-05 14:14:17.340823\n",
      "다음 출력을 파일명으로 설정하고 제출하시오: 팜티궤느_201902731_DEBA Study_1기_InputVariable\n"
     ]
    }
   ],
   "source": [
    "# 반드시 이 cell을 실행하시오\n",
    "# 실행하지 않을 시 직접 하지 않은 것으로 간주\n",
    "# 마지막 줄 출력으로 파일명을 설정하고 제출 필수\n",
    "import platform, psutil, os, datetime\n",
    "print(platform.processor())\n",
    "print(str(round(psutil.virtual_memory().total / (1024.0 **3)))+\"(GB)\")\n",
    "print(platform.system())\n",
    "print(platform.version())\n",
    "print(os.getcwd())\n",
    "print(datetime.datetime.fromtimestamp(os.path.getctime(os.getcwd())))\n",
    "print(datetime.datetime.fromtimestamp(os.path.getmtime(os.getcwd())))\n",
    "print(datetime.datetime.fromtimestamp(os.path.getatime(os.getcwd())))\n",
    "print(datetime.datetime.now())\n",
    "title = 'InputVariable'    # 고정값\n",
    "name = '팜티궤느'    # 본인 이름을 작성\n",
    "studentid = '201902731'    # 본인 학번을 작성\n",
    "course = 'DEBA Study'    # 'E정보시스템', 'E데이터베이스', '빅데이터', \n",
    "                          # '비즈니스혁신을위한데이터사이언스응용', '인공지능활용디지털경제플랫폼연구'\n",
    "course_number = '1기'    #  학수번호 끝자리 (아래 예시)\n",
    "                         # E정보시스템 (0003853001) => 1반\n",
    "                         # E정보시스템 (0003853001) => 2반\n",
    "                         # E데이터베이스 (0003854001) => 1반\n",
    "                         # E데이터베이스 (0003854002) => 2반\n",
    "                         # 빅데이터 (0006718001) => 1반\n",
    "                         # 비즈니스혁신을위한데이터사이언스응용 (1002667001) => 1반\n",
    "print('다음 출력을 파일명으로 설정하고 제출하시오:', name + '_' + studentid + '_' + course + '_' + course_number + '_' + title)"
   ]
  },
  {
   "cell_type": "markdown",
   "metadata": {},
   "source": [
    "# **파이썬에서 변하는 데이터 형태**\n",
    "\n",
    "[![Open in Colab](http://colab.research.google.com/assets/colab-badge.svg)](https://colab.research.google.com/github/thekimk/Tutorial-Python-Programming/blob/main/Practice1-3_Basic_InputVariable_KK(Practice).ipynb)\n",
    "\n",
    "> **\"파이썬의 데이터 형에 연산자를 직접 계산/출력 할 수 있지만, 데이터 형을 저장 할수도 있음\"**\n",
    "> - 파이썬이 이해하는 데이터 형태\n",
    "> - 파이썬에서 데이터의 형태 변환\n",
    "> - 파이썬이 사용하는 연산의 형태\n",
    "\n",
    "- **변수(Variable):** 변할수 있는 값으로 임시로 혹은 영구적으로 데이터 형을 기억해두기 위한 저장소\n",
    "> - 비어있는 변수를 만들고 데이터 형을 담아 할당(저장)\n",
    "> - 할당된 변수를 사용하여 그 안에 담긴 데이터를 사용할 수 있음\n",
    "> - 프로그래밍에서 **`같다`** 의미 기호는 **`==`**\n",
    "> <center><img src='Image/Basic/Variable_Structure.png' width='200'></center>\n",
    "> - **예시:**\n",
    ">```python\n",
    "name = 'KK'\n",
    "age = 100\n",
    "location = ['서울시', '용산구']\n",
    "age = 10\n",
    "print(age)    # 10\n",
    ">\n",
    "> - **생성규칙:** 규칙을 지킨 경우만 변수로 인식\n",
    ">> - 영문 문자와 숫자, _(밑줄 문자)를 사용할 수 있음\n",
    ">> - 문자부터 시작해야 하며 숫자부터 시작하면 안됨\n",
    ">> - 숫자로만 구성된 변수는 사용할 수 없음\n",
    ">> - 대소문자를 구분하기 때문에 크기가 다르면 다른 변수\n",
    ">> - 빈칸과 특수 문자(+, -, *, /, $, @, &, % 등) 사용할 수 없음\n",
    ">> - 다른 프로그래밍 언어와의 차이점\n",
    ">>> - 변수 생성시 타입(Type)을 미 선언\n",
    ">>> - 변수 생성 없이 바로 사용 가능\n",
    ">> **`C언어`*\n",
    ">> ```c\n",
    "#include <stdio.h>\n",
    "int a;\n",
    "int b;\n",
    "int c;\n",
    "a = 20;\n",
    "b = 100;\n",
    "c = a*b\n",
    "printf(c)\n",
    ">>```\n",
    ">> **`Python`*\n",
    ">> ```python\n",
    "a,b = 20,100\n",
    "print(a*b)\n",
    ">```\n",
    ">\n",
    "> - **변수생성팁:** 누가 봐도 이해하기 쉬운 센스 있는 변수 선언 추천\n",
    "> ```python\n",
    "a = [500, 800, 600, 1200]    # ??\n",
    "price_flow = [500, 800, 600, 1200]    # 가격흐름\n",
    "```"
   ]
  },
  {
   "cell_type": "code",
   "execution_count": 4,
   "metadata": {
    "ExecuteTime": {
     "end_time": "2023-01-05T05:14:17.366744Z",
     "start_time": "2023-01-05T05:14:17.352782Z"
    }
   },
   "outputs": [],
   "source": [
    "# 숫자가 가장 처음에 등장하면 에러가 발생\n",
    "# 4pple = 10"
   ]
  },
  {
   "cell_type": "code",
   "execution_count": 5,
   "metadata": {
    "ExecuteTime": {
     "end_time": "2023-01-05T05:14:17.382730Z",
     "start_time": "2023-01-05T05:14:17.368776Z"
    }
   },
   "outputs": [
    {
     "data": {
      "text/plain": [
       "50"
      ]
     },
     "execution_count": 5,
     "metadata": {},
     "output_type": "execute_result"
    }
   ],
   "source": [
    "# 정상적으로 admin이란 변수 생성\n",
    "admin = 50\n",
    "admin"
   ]
  },
  {
   "cell_type": "code",
   "execution_count": 6,
   "metadata": {
    "ExecuteTime": {
     "end_time": "2023-01-05T05:14:17.397661Z",
     "start_time": "2023-01-05T05:14:17.386694Z"
    }
   },
   "outputs": [
    {
     "data": {
      "text/plain": [
       "60"
      ]
     },
     "execution_count": 6,
     "metadata": {},
     "output_type": "execute_result"
    }
   ],
   "source": [
    "# 정상적으로 Apple이란 변수 생성\n",
    "Apple = 60\n",
    "Apple"
   ]
  },
  {
   "cell_type": "code",
   "execution_count": 7,
   "metadata": {
    "ExecuteTime": {
     "end_time": "2023-01-05T05:14:17.412622Z",
     "start_time": "2023-01-05T05:14:17.399658Z"
    }
   },
   "outputs": [
    {
     "data": {
      "text/plain": [
       "70"
      ]
     },
     "execution_count": 7,
     "metadata": {},
     "output_type": "execute_result"
    }
   ],
   "source": [
    "# 대소문자를 구분하기 때문에 앞에 나온 변수인 Apple과는 별개의 변수\n",
    "apple = 70\n",
    "apple"
   ]
  },
  {
   "cell_type": "code",
   "execution_count": 8,
   "metadata": {
    "ExecuteTime": {
     "end_time": "2023-01-05T05:14:17.428629Z",
     "start_time": "2023-01-05T05:14:17.414616Z"
    }
   },
   "outputs": [
    {
     "data": {
      "text/plain": [
       "False"
      ]
     },
     "execution_count": 8,
     "metadata": {},
     "output_type": "execute_result"
    }
   ],
   "source": [
    "# Apple과 apple이 같은지 비교\n",
    "Apple == apple    # Apple is apple"
   ]
  },
  {
   "cell_type": "code",
   "execution_count": 9,
   "metadata": {
    "ExecuteTime": {
     "end_time": "2023-01-05T05:14:17.443571Z",
     "start_time": "2023-01-05T05:14:17.430574Z"
    }
   },
   "outputs": [
    {
     "name": "stdout",
     "output_type": "stream",
     "text": [
      "50 60 70\n"
     ]
    }
   ],
   "source": [
    "# 세 변수의 값을 모두 출력하면 50 60 70이다.\n",
    "print(admin, Apple, apple)"
   ]
  },
  {
   "cell_type": "code",
   "execution_count": 10,
   "metadata": {
    "ExecuteTime": {
     "end_time": "2023-01-05T05:14:17.458531Z",
     "start_time": "2023-01-05T05:14:17.445534Z"
    }
   },
   "outputs": [
    {
     "data": {
      "text/plain": [
       "10"
      ]
     },
     "execution_count": 10,
     "metadata": {},
     "output_type": "execute_result"
    }
   ],
   "source": [
    "# 변수에 어떤 데이터/값의 형태를 반영할지 미리 선언할 필요없이\n",
    "# 변수에 저장된 값의 형태를 파악해서 자동으로 인지\n",
    "x = 10\n",
    "x"
   ]
  },
  {
   "cell_type": "code",
   "execution_count": 11,
   "metadata": {
    "ExecuteTime": {
     "end_time": "2023-01-05T05:14:17.474458Z",
     "start_time": "2023-01-05T05:14:17.460497Z"
    }
   },
   "outputs": [
    {
     "data": {
      "text/plain": [
       "int"
      ]
     },
     "execution_count": 11,
     "metadata": {},
     "output_type": "execute_result"
    }
   ],
   "source": [
    "type(x)"
   ]
  },
  {
   "cell_type": "code",
   "execution_count": 12,
   "metadata": {
    "ExecuteTime": {
     "end_time": "2023-01-05T05:14:17.490447Z",
     "start_time": "2023-01-05T05:14:17.478446Z"
    }
   },
   "outputs": [
    {
     "data": {
      "text/plain": [
       "'Hello, world!'"
      ]
     },
     "execution_count": 12,
     "metadata": {},
     "output_type": "execute_result"
    }
   ],
   "source": [
    "y = 'Hello, world!'\n",
    "y"
   ]
  },
  {
   "cell_type": "code",
   "execution_count": 13,
   "metadata": {
    "ExecuteTime": {
     "end_time": "2023-01-05T05:14:17.506372Z",
     "start_time": "2023-01-05T05:14:17.492408Z"
    }
   },
   "outputs": [
    {
     "data": {
      "text/plain": [
       "str"
      ]
     },
     "execution_count": 13,
     "metadata": {},
     "output_type": "execute_result"
    }
   ],
   "source": [
    "# 타입확인\n",
    "type(y)"
   ]
  },
  {
   "cell_type": "code",
   "execution_count": 14,
   "metadata": {
    "ExecuteTime": {
     "end_time": "2023-01-05T05:14:17.522363Z",
     "start_time": "2023-01-05T05:14:17.508369Z"
    }
   },
   "outputs": [
    {
     "data": {
      "text/plain": [
       "{'name': 'KK'}"
      ]
     },
     "execution_count": 14,
     "metadata": {},
     "output_type": "execute_result"
    }
   ],
   "source": [
    "z = {'name': 'KK'}\n",
    "z"
   ]
  },
  {
   "cell_type": "code",
   "execution_count": 15,
   "metadata": {
    "ExecuteTime": {
     "end_time": "2023-01-05T05:14:17.538285Z",
     "start_time": "2023-01-05T05:14:17.523327Z"
    }
   },
   "outputs": [
    {
     "data": {
      "text/plain": [
       "dict"
      ]
     },
     "execution_count": 15,
     "metadata": {},
     "output_type": "execute_result"
    }
   ],
   "source": [
    "# 타입확인\n",
    "type(z)"
   ]
  },
  {
   "cell_type": "markdown",
   "metadata": {},
   "source": [
    "## 예약어/외장함수/내장함수 이름 불가\n",
    "\n",
    "**\"파이썬 예약어(if, for, while, and, or 등)/외장함수/내장함수는 변수명 사용불가(비권장)\"**\n",
    "- **예약어(Reserved Words):** 파이썬에서 이미 문법적인 용도로 사용되는 단어들"
   ]
  },
  {
   "cell_type": "code",
   "execution_count": 16,
   "metadata": {
    "ExecuteTime": {
     "end_time": "2023-01-05T05:14:17.554277Z",
     "start_time": "2023-01-05T05:14:17.540282Z"
    }
   },
   "outputs": [
    {
     "name": "stdout",
     "output_type": "stream",
     "text": [
      "36\n",
      "\n",
      "['False', 'None', 'True', '__peg_parser__', 'and', 'as', 'assert', 'async', 'await', 'break', 'class', 'continue', 'def', 'del', 'elif', 'else', 'except', 'finally', 'for', 'from', 'global', 'if', 'import', 'in', 'is', 'lambda', 'nonlocal', 'not', 'or', 'pass', 'raise', 'return', 'try', 'while', 'with', 'yield']\n"
     ]
    }
   ],
   "source": [
    "import keyword    # 예약어 모음을 확인하기 위해 외장함수 호출\n",
    "\n",
    "print(len(keyword.kwlist))\n",
    "print()\n",
    "print(keyword.kwlist)"
   ]
  },
  {
   "cell_type": "markdown",
   "metadata": {},
   "source": [
    "- **외장함수:** 자주 사용하는 기능을 정의하고 실행하는 역할을 담은 파일(함수/클래스)\n",
    "> - 패키지(Package) > 모듈(Module) > 함수(Function)\n",
    "> - 모듈/함수 이름을 변수로 써도 상관 없지만, 기존에 모듈/함수 사용 불가\n"
   ]
  },
  {
   "cell_type": "code",
   "execution_count": 17,
   "metadata": {
    "ExecuteTime": {
     "end_time": "2023-01-05T05:14:17.570201Z",
     "start_time": "2023-01-05T05:14:17.556237Z"
    }
   },
   "outputs": [],
   "source": [
    "# keyword = 10"
   ]
  },
  {
   "cell_type": "code",
   "execution_count": 18,
   "metadata": {
    "ExecuteTime": {
     "end_time": "2023-01-05T05:14:17.586160Z",
     "start_time": "2023-01-05T05:14:17.572197Z"
    }
   },
   "outputs": [],
   "source": [
    "# keyword.    # tab을 누르면 내장 함수 목록 출력"
   ]
  },
  {
   "cell_type": "code",
   "execution_count": 19,
   "metadata": {
    "ExecuteTime": {
     "end_time": "2023-01-05T05:14:17.602141Z",
     "start_time": "2023-01-05T05:14:17.587156Z"
    }
   },
   "outputs": [
    {
     "data": {
      "text/plain": [
       "['__all__',\n",
       " '__builtins__',\n",
       " '__cached__',\n",
       " '__doc__',\n",
       " '__file__',\n",
       " '__loader__',\n",
       " '__name__',\n",
       " '__package__',\n",
       " '__spec__',\n",
       " 'iskeyword',\n",
       " 'issoftkeyword',\n",
       " 'kwlist',\n",
       " 'softkwlist']"
      ]
     },
     "execution_count": 19,
     "metadata": {},
     "output_type": "execute_result"
    }
   ],
   "source": [
    "dir(keyword)   # dir 명령어로 내장 함수 목록 출력"
   ]
  },
  {
   "cell_type": "code",
   "execution_count": 20,
   "metadata": {
    "ExecuteTime": {
     "end_time": "2023-01-05T05:14:18.232108Z",
     "start_time": "2023-01-05T05:14:17.604111Z"
    },
    "scrolled": true
   },
   "outputs": [
    {
     "data": {
      "text/plain": [
       "['BooleanDtype',\n",
       " 'Categorical',\n",
       " 'CategoricalDtype',\n",
       " 'CategoricalIndex',\n",
       " 'DataFrame',\n",
       " 'DateOffset',\n",
       " 'DatetimeIndex',\n",
       " 'DatetimeTZDtype',\n",
       " 'ExcelFile',\n",
       " 'ExcelWriter',\n",
       " 'Flags',\n",
       " 'Float32Dtype',\n",
       " 'Float64Dtype',\n",
       " 'Float64Index',\n",
       " 'Grouper',\n",
       " 'HDFStore',\n",
       " 'Index',\n",
       " 'IndexSlice',\n",
       " 'Int16Dtype',\n",
       " 'Int32Dtype',\n",
       " 'Int64Dtype',\n",
       " 'Int64Index',\n",
       " 'Int8Dtype',\n",
       " 'Interval',\n",
       " 'IntervalDtype',\n",
       " 'IntervalIndex',\n",
       " 'MultiIndex',\n",
       " 'NA',\n",
       " 'NaT',\n",
       " 'NamedAgg',\n",
       " 'Period',\n",
       " 'PeriodDtype',\n",
       " 'PeriodIndex',\n",
       " 'RangeIndex',\n",
       " 'Series',\n",
       " 'SparseDtype',\n",
       " 'StringDtype',\n",
       " 'Timedelta',\n",
       " 'TimedeltaIndex',\n",
       " 'Timestamp',\n",
       " 'UInt16Dtype',\n",
       " 'UInt32Dtype',\n",
       " 'UInt64Dtype',\n",
       " 'UInt64Index',\n",
       " 'UInt8Dtype',\n",
       " '__all__',\n",
       " '__builtins__',\n",
       " '__cached__',\n",
       " '__deprecated_num_index_names',\n",
       " '__dir__',\n",
       " '__doc__',\n",
       " '__docformat__',\n",
       " '__file__',\n",
       " '__getattr__',\n",
       " '__git_version__',\n",
       " '__loader__',\n",
       " '__name__',\n",
       " '__package__',\n",
       " '__path__',\n",
       " '__spec__',\n",
       " '__version__',\n",
       " '_config',\n",
       " '_is_numpy_dev',\n",
       " '_libs',\n",
       " '_testing',\n",
       " '_typing',\n",
       " '_version',\n",
       " 'api',\n",
       " 'array',\n",
       " 'arrays',\n",
       " 'bdate_range',\n",
       " 'compat',\n",
       " 'concat',\n",
       " 'core',\n",
       " 'crosstab',\n",
       " 'cut',\n",
       " 'date_range',\n",
       " 'describe_option',\n",
       " 'errors',\n",
       " 'eval',\n",
       " 'factorize',\n",
       " 'get_dummies',\n",
       " 'get_option',\n",
       " 'infer_freq',\n",
       " 'interval_range',\n",
       " 'io',\n",
       " 'isna',\n",
       " 'isnull',\n",
       " 'json_normalize',\n",
       " 'lreshape',\n",
       " 'melt',\n",
       " 'merge',\n",
       " 'merge_asof',\n",
       " 'merge_ordered',\n",
       " 'notna',\n",
       " 'notnull',\n",
       " 'offsets',\n",
       " 'option_context',\n",
       " 'options',\n",
       " 'pandas',\n",
       " 'period_range',\n",
       " 'pivot',\n",
       " 'pivot_table',\n",
       " 'plotting',\n",
       " 'qcut',\n",
       " 'read_clipboard',\n",
       " 'read_csv',\n",
       " 'read_excel',\n",
       " 'read_feather',\n",
       " 'read_fwf',\n",
       " 'read_gbq',\n",
       " 'read_hdf',\n",
       " 'read_html',\n",
       " 'read_json',\n",
       " 'read_orc',\n",
       " 'read_parquet',\n",
       " 'read_pickle',\n",
       " 'read_sas',\n",
       " 'read_spss',\n",
       " 'read_sql',\n",
       " 'read_sql_query',\n",
       " 'read_sql_table',\n",
       " 'read_stata',\n",
       " 'read_table',\n",
       " 'read_xml',\n",
       " 'reset_option',\n",
       " 'set_eng_float_format',\n",
       " 'set_option',\n",
       " 'show_versions',\n",
       " 'test',\n",
       " 'testing',\n",
       " 'timedelta_range',\n",
       " 'to_datetime',\n",
       " 'to_numeric',\n",
       " 'to_pickle',\n",
       " 'to_timedelta',\n",
       " 'tseries',\n",
       " 'unique',\n",
       " 'util',\n",
       " 'value_counts',\n",
       " 'wide_to_long']"
      ]
     },
     "execution_count": 20,
     "metadata": {},
     "output_type": "execute_result"
    }
   ],
   "source": [
    "# 예시\n",
    "import pandas as pd\n",
    "dir(pd)"
   ]
  },
  {
   "cell_type": "markdown",
   "metadata": {},
   "source": [
    "- **[내장함수(Built-in Function)](https://docs.python.org/ko/3.8/library/functions.html):** 별도의 모듈(Module)/라이브러리 추가 없이 기본적으로 제공되는 함수\n",
    "\n",
    "> - 수많은 내장 함수 존재하며 일일이 설명은 어렵고, 필요시 지속적으로 언급"
   ]
  },
  {
   "cell_type": "code",
   "execution_count": 21,
   "metadata": {
    "ExecuteTime": {
     "end_time": "2023-01-05T05:14:18.247094Z",
     "start_time": "2023-01-05T05:14:18.235099Z"
    }
   },
   "outputs": [
    {
     "data": {
      "text/plain": [
       "3"
      ]
     },
     "execution_count": 21,
     "metadata": {},
     "output_type": "execute_result"
    }
   ],
   "source": [
    "# -3의 절대값\n",
    "abs(-3)"
   ]
  },
  {
   "cell_type": "code",
   "execution_count": 22,
   "metadata": {
    "ExecuteTime": {
     "end_time": "2023-01-05T05:14:18.262026Z",
     "start_time": "2023-01-05T05:14:18.249063Z"
    }
   },
   "outputs": [
    {
     "data": {
      "text/plain": [
       "2"
      ]
     },
     "execution_count": 22,
     "metadata": {},
     "output_type": "execute_result"
    }
   ],
   "source": [
    "# 1과 2 중에서 최대값\n",
    "max(1,2)"
   ]
  },
  {
   "cell_type": "code",
   "execution_count": 23,
   "metadata": {
    "ExecuteTime": {
     "end_time": "2023-01-05T05:14:18.278025Z",
     "start_time": "2023-01-05T05:14:18.263024Z"
    }
   },
   "outputs": [
    {
     "data": {
      "text/plain": [
       "1"
      ]
     },
     "execution_count": 23,
     "metadata": {},
     "output_type": "execute_result"
    }
   ],
   "source": [
    "# 1과 2 중에서 최소값\n",
    "min(1,2)"
   ]
  },
  {
   "cell_type": "code",
   "execution_count": 24,
   "metadata": {
    "ExecuteTime": {
     "end_time": "2023-01-05T05:14:18.293939Z",
     "start_time": "2023-01-05T05:14:18.280981Z"
    }
   },
   "outputs": [
    {
     "data": {
      "text/plain": [
       "1"
      ]
     },
     "execution_count": 24,
     "metadata": {},
     "output_type": "execute_result"
    }
   ],
   "source": [
    "# 1과 2 중에서 최소값\n",
    "min(1,2)"
   ]
  },
  {
   "cell_type": "code",
   "execution_count": 25,
   "metadata": {
    "ExecuteTime": {
     "end_time": "2023-01-05T05:14:18.309498Z",
     "start_time": "2023-01-05T05:14:18.295935Z"
    }
   },
   "outputs": [
    {
     "data": {
      "text/plain": [
       "1"
      ]
     },
     "execution_count": 25,
     "metadata": {},
     "output_type": "execute_result"
    }
   ],
   "source": [
    "# [1,2,3] 중에서 최소값\n",
    "min([1,2,3])"
   ]
  },
  {
   "cell_type": "code",
   "execution_count": 26,
   "metadata": {
    "ExecuteTime": {
     "end_time": "2023-01-05T05:14:18.324365Z",
     "start_time": "2023-01-05T05:14:18.312399Z"
    }
   },
   "outputs": [
    {
     "data": {
      "text/plain": [
       "16"
      ]
     },
     "execution_count": 26,
     "metadata": {},
     "output_type": "execute_result"
    }
   ],
   "source": [
    "# 2^4\n",
    "2**4"
   ]
  },
  {
   "cell_type": "code",
   "execution_count": 27,
   "metadata": {
    "ExecuteTime": {
     "end_time": "2023-01-05T05:14:18.339328Z",
     "start_time": "2023-01-05T05:14:18.326361Z"
    }
   },
   "outputs": [
    {
     "data": {
      "text/plain": [
       "16"
      ]
     },
     "execution_count": 27,
     "metadata": {},
     "output_type": "execute_result"
    }
   ],
   "source": [
    "# 2^4\n",
    "pow(2,4)"
   ]
  },
  {
   "cell_type": "code",
   "execution_count": 28,
   "metadata": {
    "ExecuteTime": {
     "end_time": "2023-01-05T05:14:18.355285Z",
     "start_time": "2023-01-05T05:14:18.341356Z"
    }
   },
   "outputs": [
    {
     "data": {
      "text/plain": [
       "27"
      ]
     },
     "execution_count": 28,
     "metadata": {},
     "output_type": "execute_result"
    }
   ],
   "source": [
    "# 3^3\n",
    "pow(3,3)"
   ]
  },
  {
   "cell_type": "code",
   "execution_count": 29,
   "metadata": {
    "ExecuteTime": {
     "end_time": "2023-01-05T05:14:18.371241Z",
     "start_time": "2023-01-05T05:14:18.356281Z"
    }
   },
   "outputs": [
    {
     "data": {
      "text/plain": [
       "0.5"
      ]
     },
     "execution_count": 29,
     "metadata": {},
     "output_type": "execute_result"
    }
   ],
   "source": [
    "# 2^(-1)\n",
    "pow(2,-1)"
   ]
  },
  {
   "cell_type": "markdown",
   "metadata": {},
   "source": [
    "- range([start], stop, [step]) 내장함수로 쉽게 시퀀스(Sequence) 생성 가능\n",
    "- start와 step은 생략 가능하며 start는 0, step은 1이 고정값"
   ]
  },
  {
   "cell_type": "code",
   "execution_count": 30,
   "metadata": {
    "ExecuteTime": {
     "end_time": "2023-01-05T05:14:18.387200Z",
     "start_time": "2023-01-05T05:14:18.378222Z"
    }
   },
   "outputs": [
    {
     "data": {
      "text/plain": [
       "range(0, 10)"
      ]
     },
     "execution_count": 30,
     "metadata": {},
     "output_type": "execute_result"
    }
   ],
   "source": [
    "# 0이상 10미만 시퀀스 생성\n",
    "range(10)"
   ]
  },
  {
   "cell_type": "code",
   "execution_count": 31,
   "metadata": {
    "ExecuteTime": {
     "end_time": "2023-01-05T05:14:18.402160Z",
     "start_time": "2023-01-05T05:14:18.389194Z"
    }
   },
   "outputs": [
    {
     "data": {
      "text/plain": [
       "[0, 1, 2, 3, 4, 5, 6, 7, 8, 9]"
      ]
     },
     "execution_count": 31,
     "metadata": {},
     "output_type": "execute_result"
    }
   ],
   "source": [
    "# 0이상 10미만 시퀀스 리스트 생성\n",
    "list(range(10))"
   ]
  },
  {
   "cell_type": "code",
   "execution_count": 32,
   "metadata": {
    "ExecuteTime": {
     "end_time": "2023-01-05T05:14:18.417145Z",
     "start_time": "2023-01-05T05:14:18.405152Z"
    }
   },
   "outputs": [
    {
     "data": {
      "text/plain": [
       "[3, 4, 5, 6, 7, 8, 9]"
      ]
     },
     "execution_count": 32,
     "metadata": {},
     "output_type": "execute_result"
    }
   ],
   "source": [
    "# 3이상 10미만 시퀀스 리스트 생성\n",
    "list(range(3,10))"
   ]
  },
  {
   "cell_type": "code",
   "execution_count": 33,
   "metadata": {
    "ExecuteTime": {
     "end_time": "2023-01-05T05:14:18.433090Z",
     "start_time": "2023-01-05T05:14:18.419112Z"
    }
   },
   "outputs": [
    {
     "data": {
      "text/plain": [
       "[]"
      ]
     },
     "execution_count": 33,
     "metadata": {},
     "output_type": "execute_result"
    }
   ],
   "source": [
    "# 0이상 3미만 역 시퀀스 리스트 생성\n",
    "list(range(0,3,-1))"
   ]
  },
  {
   "cell_type": "code",
   "execution_count": 34,
   "metadata": {
    "ExecuteTime": {
     "end_time": "2023-01-05T05:14:18.449069Z",
     "start_time": "2023-01-05T05:14:18.435078Z"
    }
   },
   "outputs": [
    {
     "data": {
      "text/plain": [
       "[3, 5, 7, 9]"
      ]
     },
     "execution_count": 34,
     "metadata": {},
     "output_type": "execute_result"
    }
   ],
   "source": [
    "# 3이상 10미만 2간격 시퀀스 리스트 생성\n",
    "list(range(3,10,2))"
   ]
  },
  {
   "cell_type": "code",
   "execution_count": 35,
   "metadata": {
    "ExecuteTime": {
     "end_time": "2023-01-05T05:14:18.465017Z",
     "start_time": "2023-01-05T05:14:18.451027Z"
    }
   },
   "outputs": [
    {
     "data": {
      "text/plain": [
       "[10, 9, 8, 7, 6, 5, 4]"
      ]
     },
     "execution_count": 35,
     "metadata": {},
     "output_type": "execute_result"
    }
   ],
   "source": [
    "# 10이상 3미만 역 시퀀스 리스트 생성\n",
    "list(range(10,3,-1))"
   ]
  },
  {
   "cell_type": "code",
   "execution_count": 36,
   "metadata": {
    "ExecuteTime": {
     "end_time": "2023-01-05T05:14:18.480981Z",
     "start_time": "2023-01-05T05:14:18.467984Z"
    }
   },
   "outputs": [
    {
     "data": {
      "text/plain": [
       "(0, 1, 2, 3, 4, 5, 6, 7, 8, 9)"
      ]
     },
     "execution_count": 36,
     "metadata": {},
     "output_type": "execute_result"
    }
   ],
   "source": [
    "# 0이상 10미만 튜플 생성\n",
    "tuple(range(10))"
   ]
  },
  {
   "cell_type": "code",
   "execution_count": 37,
   "metadata": {
    "ExecuteTime": {
     "end_time": "2023-01-05T05:14:18.496905Z",
     "start_time": "2023-01-05T05:14:18.482974Z"
    }
   },
   "outputs": [
    {
     "data": {
      "text/plain": [
       "['h', 'e', 'l', 'l', 'o']"
      ]
     },
     "execution_count": 37,
     "metadata": {},
     "output_type": "execute_result"
    }
   ],
   "source": [
    "# 'hello' 문자열 리스트 변환\n",
    "list('hello')"
   ]
  },
  {
   "cell_type": "code",
   "execution_count": 38,
   "metadata": {
    "ExecuteTime": {
     "end_time": "2023-01-05T05:14:18.512894Z",
     "start_time": "2023-01-05T05:14:18.498900Z"
    }
   },
   "outputs": [
    {
     "data": {
      "text/plain": [
       "('h', 'e', 'l', 'l', 'o')"
      ]
     },
     "execution_count": 38,
     "metadata": {},
     "output_type": "execute_result"
    }
   ],
   "source": [
    "# 'hello' 문자열 튜플 변환\n",
    "tuple('hello')"
   ]
  },
  {
   "cell_type": "markdown",
   "metadata": {},
   "source": [
    "- **Question:** range 함수를 사용하여 아래와 같은 tuple 값을 출력하시오\n",
    "\n",
    "```python\n",
    "(5, 3, 1, -1, -3, -5, -7, -9)\n",
    "```"
   ]
  },
  {
   "cell_type": "code",
   "execution_count": 39,
   "metadata": {
    "ExecuteTime": {
     "end_time": "2023-01-05T05:14:18.528819Z",
     "start_time": "2023-01-05T05:14:18.514896Z"
    }
   },
   "outputs": [
    {
     "data": {
      "text/plain": [
       "(5, 3, 1, -1, -3, -5, -7, -9)"
      ]
     },
     "execution_count": 39,
     "metadata": {},
     "output_type": "execute_result"
    }
   ],
   "source": [
    "\n",
    "tuple(range(5,-11,-2))"
   ]
  },
  {
   "cell_type": "markdown",
   "metadata": {},
   "source": [
    "## 변수의 생성과 삭제\n",
    "\n",
    "- 변수이름1, 변수이름2, 변수이름3 = 값1, 값2, 값3\n",
    "- 변수의 갯수와 값의 갯수는 동일해야 하며 나열된 순서대로 할당"
   ]
  },
  {
   "cell_type": "code",
   "execution_count": 40,
   "metadata": {
    "ExecuteTime": {
     "end_time": "2023-01-05T05:14:18.544810Z",
     "start_time": "2023-01-05T05:14:18.530815Z"
    }
   },
   "outputs": [],
   "source": [
    "# x = 10\n",
    "# y = 20\n",
    "# z = 30\n",
    "x, y, z = 10, 20, 30"
   ]
  },
  {
   "cell_type": "code",
   "execution_count": 41,
   "metadata": {
    "ExecuteTime": {
     "end_time": "2023-01-05T05:14:18.560734Z",
     "start_time": "2023-01-05T05:14:18.546772Z"
    }
   },
   "outputs": [
    {
     "data": {
      "text/plain": [
       "10"
      ]
     },
     "execution_count": 41,
     "metadata": {},
     "output_type": "execute_result"
    }
   ],
   "source": [
    "x"
   ]
  },
  {
   "cell_type": "code",
   "execution_count": 42,
   "metadata": {
    "ExecuteTime": {
     "end_time": "2023-01-05T05:14:18.576721Z",
     "start_time": "2023-01-05T05:14:18.562730Z"
    }
   },
   "outputs": [
    {
     "data": {
      "text/plain": [
       "20"
      ]
     },
     "execution_count": 42,
     "metadata": {},
     "output_type": "execute_result"
    }
   ],
   "source": [
    "y"
   ]
  },
  {
   "cell_type": "code",
   "execution_count": 43,
   "metadata": {
    "ExecuteTime": {
     "end_time": "2023-01-05T05:14:18.592649Z",
     "start_time": "2023-01-05T05:14:18.578719Z"
    }
   },
   "outputs": [
    {
     "data": {
      "text/plain": [
       "30"
      ]
     },
     "execution_count": 43,
     "metadata": {},
     "output_type": "execute_result"
    }
   ],
   "source": [
    "z"
   ]
  },
  {
   "cell_type": "markdown",
   "metadata": {},
   "source": [
    "- 변수1 = 변수2 = 변수3 = 값\n",
    "- 마지막 값으로 앞의 변수에 모두 할당"
   ]
  },
  {
   "cell_type": "code",
   "execution_count": 44,
   "metadata": {
    "ExecuteTime": {
     "end_time": "2023-01-05T05:14:18.608606Z",
     "start_time": "2023-01-05T05:14:18.594644Z"
    }
   },
   "outputs": [],
   "source": [
    "x = y = z = 10"
   ]
  },
  {
   "cell_type": "code",
   "execution_count": 45,
   "metadata": {
    "ExecuteTime": {
     "end_time": "2023-01-05T05:14:18.624564Z",
     "start_time": "2023-01-05T05:14:18.610602Z"
    }
   },
   "outputs": [
    {
     "data": {
      "text/plain": [
       "10"
      ]
     },
     "execution_count": 45,
     "metadata": {},
     "output_type": "execute_result"
    }
   ],
   "source": [
    "x"
   ]
  },
  {
   "cell_type": "code",
   "execution_count": 46,
   "metadata": {
    "ExecuteTime": {
     "end_time": "2023-01-05T05:14:18.639525Z",
     "start_time": "2023-01-05T05:14:18.626558Z"
    }
   },
   "outputs": [
    {
     "data": {
      "text/plain": [
       "10"
      ]
     },
     "execution_count": 46,
     "metadata": {},
     "output_type": "execute_result"
    }
   ],
   "source": [
    "y"
   ]
  },
  {
   "cell_type": "code",
   "execution_count": 47,
   "metadata": {
    "ExecuteTime": {
     "end_time": "2023-01-05T05:14:18.654483Z",
     "start_time": "2023-01-05T05:14:18.641519Z"
    }
   },
   "outputs": [
    {
     "data": {
      "text/plain": [
       "10"
      ]
     },
     "execution_count": 47,
     "metadata": {},
     "output_type": "execute_result"
    }
   ],
   "source": [
    "z"
   ]
  },
  {
   "cell_type": "code",
   "execution_count": 48,
   "metadata": {
    "ExecuteTime": {
     "end_time": "2023-01-05T05:14:18.670440Z",
     "start_time": "2023-01-05T05:14:18.656480Z"
    }
   },
   "outputs": [
    {
     "name": "stdout",
     "output_type": "stream",
     "text": [
      "1 python [1, 2, 3]\n"
     ]
    }
   ],
   "source": [
    "a = 1\n",
    "b = \"python\"\n",
    "c = [1,2,3]\n",
    "print(a, b, c)"
   ]
  },
  {
   "cell_type": "code",
   "execution_count": 49,
   "metadata": {
    "ExecuteTime": {
     "end_time": "2023-01-05T05:14:18.686398Z",
     "start_time": "2023-01-05T05:14:18.671438Z"
    }
   },
   "outputs": [
    {
     "name": "stdout",
     "output_type": "stream",
     "text": [
      "10 35.2 pineapple\n"
     ]
    }
   ],
   "source": [
    "d, e, f = 10, 35.2, 'pineapple'\n",
    "print(d, e, f)"
   ]
  },
  {
   "cell_type": "markdown",
   "metadata": {},
   "source": [
    "- 변수1, 변수2 = 변수2, 변수1\n",
    "- 변수1과 변수2의 값 치환"
   ]
  },
  {
   "cell_type": "code",
   "execution_count": 50,
   "metadata": {
    "ExecuteTime": {
     "end_time": "2023-01-05T05:14:18.702355Z",
     "start_time": "2023-01-05T05:14:18.688392Z"
    }
   },
   "outputs": [
    {
     "name": "stdout",
     "output_type": "stream",
     "text": [
      "10 20\n"
     ]
    }
   ],
   "source": [
    "x, y = 10, 20\n",
    "print(x, y)"
   ]
  },
  {
   "cell_type": "code",
   "execution_count": 51,
   "metadata": {
    "ExecuteTime": {
     "end_time": "2023-01-05T05:14:18.718340Z",
     "start_time": "2023-01-05T05:14:18.704351Z"
    }
   },
   "outputs": [],
   "source": [
    "# 값 치환\n",
    "x, y = y, x"
   ]
  },
  {
   "cell_type": "code",
   "execution_count": 52,
   "metadata": {
    "ExecuteTime": {
     "end_time": "2023-01-05T05:14:18.734269Z",
     "start_time": "2023-01-05T05:14:18.720307Z"
    }
   },
   "outputs": [
    {
     "data": {
      "text/plain": [
       "20"
      ]
     },
     "execution_count": 52,
     "metadata": {},
     "output_type": "execute_result"
    }
   ],
   "source": [
    "x"
   ]
  },
  {
   "cell_type": "code",
   "execution_count": 53,
   "metadata": {
    "ExecuteTime": {
     "end_time": "2023-01-05T05:14:18.749230Z",
     "start_time": "2023-01-05T05:14:18.736267Z"
    }
   },
   "outputs": [
    {
     "data": {
      "text/plain": [
       "10"
      ]
     },
     "execution_count": 53,
     "metadata": {},
     "output_type": "execute_result"
    }
   ],
   "source": [
    "y"
   ]
  },
  {
   "cell_type": "code",
   "execution_count": 54,
   "metadata": {
    "ExecuteTime": {
     "end_time": "2023-01-05T05:14:18.764224Z",
     "start_time": "2023-01-05T05:14:18.750228Z"
    }
   },
   "outputs": [],
   "source": [
    "# del 명령어로 변수 삭제 가능\n",
    "# del x\n",
    "# x"
   ]
  },
  {
   "cell_type": "markdown",
   "metadata": {},
   "source": [
    "- **(주의)** 변수끼리 할당 시 복사하지 않고 할당하면 동일 변수로 취급"
   ]
  },
  {
   "cell_type": "code",
   "execution_count": 55,
   "metadata": {
    "ExecuteTime": {
     "end_time": "2023-01-05T05:14:18.780189Z",
     "start_time": "2023-01-05T05:14:18.766185Z"
    }
   },
   "outputs": [
    {
     "name": "stdout",
     "output_type": "stream",
     "text": [
      "[200, 20, 30] [200, 20, 30]\n"
     ]
    }
   ],
   "source": [
    "a = [10, 20, 30]\n",
    "b = a\n",
    "a[0] = 200\n",
    "print(a, b) \n",
    "# a = [200, 20, 30]\n",
    "# b = [10, 20, 30]"
   ]
  },
  {
   "cell_type": "code",
   "execution_count": 56,
   "metadata": {
    "ExecuteTime": {
     "end_time": "2023-01-05T05:14:18.796105Z",
     "start_time": "2023-01-05T05:14:18.782143Z"
    }
   },
   "outputs": [
    {
     "name": "stdout",
     "output_type": "stream",
     "text": [
      "[200, 20, 30] [10, 20, 30]\n"
     ]
    }
   ],
   "source": [
    "# 복사방법1\n",
    "a = [10, 20, 30]\n",
    "b = a.copy()    # 복사방법1\n",
    "a[0] = 200\n",
    "print(a, b)"
   ]
  },
  {
   "cell_type": "code",
   "execution_count": 57,
   "metadata": {
    "ExecuteTime": {
     "end_time": "2023-01-05T05:14:18.811099Z",
     "start_time": "2023-01-05T05:14:18.802090Z"
    }
   },
   "outputs": [
    {
     "name": "stdout",
     "output_type": "stream",
     "text": [
      "[200, 20, 30] [10, 20, 30]\n"
     ]
    }
   ],
   "source": [
    "# 복사방법2\n",
    "a = [10, 20, 30]\n",
    "b = a[:]    # 복사방법2\n",
    "a[0] = 200\n",
    "print(a, b)"
   ]
  },
  {
   "cell_type": "code",
   "execution_count": 58,
   "metadata": {
    "ExecuteTime": {
     "end_time": "2023-01-05T05:14:18.826028Z",
     "start_time": "2023-01-05T05:14:18.815055Z"
    }
   },
   "outputs": [
    {
     "name": "stdout",
     "output_type": "stream",
     "text": [
      "python life\n"
     ]
    }
   ],
   "source": [
    "a, b = ('python', 'life')\n",
    "print(a, b)"
   ]
  },
  {
   "cell_type": "code",
   "execution_count": 59,
   "metadata": {
    "ExecuteTime": {
     "end_time": "2023-01-05T05:14:18.842013Z",
     "start_time": "2023-01-05T05:14:18.828022Z"
    }
   },
   "outputs": [
    {
     "name": "stdout",
     "output_type": "stream",
     "text": [
      "python life\n"
     ]
    }
   ],
   "source": [
    "(a, b) = 'python', 'life'\n",
    "print(a, b)"
   ]
  },
  {
   "cell_type": "code",
   "execution_count": 60,
   "metadata": {
    "ExecuteTime": {
     "end_time": "2023-01-05T05:14:18.857941Z",
     "start_time": "2023-01-05T05:14:18.842980Z"
    }
   },
   "outputs": [
    {
     "name": "stdout",
     "output_type": "stream",
     "text": [
      "python life\n"
     ]
    }
   ],
   "source": [
    "[a,b] = ['python', 'life']\n",
    "print(a, b)"
   ]
  },
  {
   "cell_type": "markdown",
   "metadata": {},
   "source": [
    "- **Question:** 다음 중 사용할 수 없는 변수명을 모두 고르고 이유를 설명하시오\n",
    "\n",
    "(1) class\n",
    "(2) normal\n",
    "(3) 1st\n",
    "(4) _python\n",
    "(5) 변수\n",
    "(6) except"
   ]
  },
  {
   "cell_type": "code",
   "execution_count": 61,
   "metadata": {
    "ExecuteTime": {
     "end_time": "2023-01-05T05:14:18.873920Z",
     "start_time": "2023-01-05T05:14:18.860931Z"
    }
   },
   "outputs": [],
   "source": [
    "# 설명\n",
    "# 1) class 예약어\n",
    "# 2) except 예약어\n",
    "# 3) 1st 숫자로 시작\n",
    "# 4) 변수 한글"
   ]
  },
  {
   "cell_type": "markdown",
   "metadata": {},
   "source": [
    "## 빈 변수 생성\n",
    "\n",
    "- **None:** 파이썬에서 아무것도 없는 빈 상태를 나타내는 자료형\n",
    "\n",
    "> - **특징:**\n",
    ">> - 비어있는 문자/리스트/집합/딕셔너리와 다름\n",
    ">> - False나 0과 다름\n",
    ">> - 'None'은 문자와 다름\n",
    "\n",
    "> - **적절한 사용 시점:**\n",
    ">> - 값을 알수 없거나 존재하지 않는 경우\n",
    ">> - 값이 \"없음\" 일 경우\n",
    ">> - 값이 정의되지 않는 경우\n",
    ">> - 값을 초기화 해서 사용하는 경우\n",
    "\n",
    "\n",
    "\n",
    "<!-- https://m.blog.naver.com/PostView.naver?isHttpsRedirect=true&blogId=youndok&logNo=222085870181 -->"
   ]
  },
  {
   "cell_type": "code",
   "execution_count": 62,
   "metadata": {
    "ExecuteTime": {
     "end_time": "2023-01-05T05:14:18.888881Z",
     "start_time": "2023-01-05T05:14:18.875893Z"
    }
   },
   "outputs": [],
   "source": [
    "# x = "
   ]
  },
  {
   "cell_type": "code",
   "execution_count": 63,
   "metadata": {
    "ExecuteTime": {
     "end_time": "2023-01-05T05:14:18.903817Z",
     "start_time": "2023-01-05T05:14:18.891850Z"
    }
   },
   "outputs": [],
   "source": [
    "x = None\n",
    "x"
   ]
  },
  {
   "cell_type": "code",
   "execution_count": 64,
   "metadata": {
    "ExecuteTime": {
     "end_time": "2023-01-05T05:14:18.919773Z",
     "start_time": "2023-01-05T05:14:18.906811Z"
    }
   },
   "outputs": [
    {
     "data": {
      "text/plain": [
       "NoneType"
      ]
     },
     "execution_count": 64,
     "metadata": {},
     "output_type": "execute_result"
    }
   ],
   "source": [
    "type(x)"
   ]
  },
  {
   "cell_type": "code",
   "execution_count": 65,
   "metadata": {
    "ExecuteTime": {
     "end_time": "2023-01-05T05:14:18.935732Z",
     "start_time": "2023-01-05T05:14:18.921771Z"
    }
   },
   "outputs": [
    {
     "data": {
      "text/plain": [
       "False"
      ]
     },
     "execution_count": 65,
     "metadata": {},
     "output_type": "execute_result"
    }
   ],
   "source": [
    "# None과 False가 같은지 비교\n",
    "None == False"
   ]
  },
  {
   "cell_type": "code",
   "execution_count": 66,
   "metadata": {
    "ExecuteTime": {
     "end_time": "2023-01-05T05:14:18.951688Z",
     "start_time": "2023-01-05T05:14:18.936729Z"
    }
   },
   "outputs": [
    {
     "data": {
      "text/plain": [
       "False"
      ]
     },
     "execution_count": 66,
     "metadata": {},
     "output_type": "execute_result"
    }
   ],
   "source": [
    "# None과 True가 같은지 비교\n",
    "None == True"
   ]
  },
  {
   "cell_type": "markdown",
   "metadata": {},
   "source": [
    "## 변수의 연산"
   ]
  },
  {
   "cell_type": "code",
   "execution_count": 67,
   "metadata": {
    "ExecuteTime": {
     "end_time": "2023-01-05T05:14:18.967647Z",
     "start_time": "2023-01-05T05:14:18.953683Z"
    }
   },
   "outputs": [
    {
     "data": {
      "text/plain": [
       "30"
      ]
     },
     "execution_count": 67,
     "metadata": {},
     "output_type": "execute_result"
    }
   ],
   "source": [
    "a = 10\n",
    "b = 20\n",
    "a + b"
   ]
  },
  {
   "cell_type": "code",
   "execution_count": 68,
   "metadata": {
    "ExecuteTime": {
     "end_time": "2023-01-05T05:14:18.982658Z",
     "start_time": "2023-01-05T05:14:18.970638Z"
    }
   },
   "outputs": [
    {
     "data": {
      "text/plain": [
       "30"
      ]
     },
     "execution_count": 68,
     "metadata": {},
     "output_type": "execute_result"
    }
   ],
   "source": [
    "a = 10\n",
    "a + 20"
   ]
  },
  {
   "cell_type": "code",
   "execution_count": 69,
   "metadata": {
    "ExecuteTime": {
     "end_time": "2023-01-05T05:14:18.998565Z",
     "start_time": "2023-01-05T05:14:18.984602Z"
    }
   },
   "outputs": [
    {
     "data": {
      "text/plain": [
       "10"
      ]
     },
     "execution_count": 69,
     "metadata": {},
     "output_type": "execute_result"
    }
   ],
   "source": [
    "a"
   ]
  },
  {
   "cell_type": "code",
   "execution_count": 70,
   "metadata": {
    "ExecuteTime": {
     "end_time": "2023-01-05T05:14:19.014521Z",
     "start_time": "2023-01-05T05:14:19.001560Z"
    }
   },
   "outputs": [
    {
     "data": {
      "text/plain": [
       "30"
      ]
     },
     "execution_count": 70,
     "metadata": {},
     "output_type": "execute_result"
    }
   ],
   "source": [
    "a = 10\n",
    "a = a + 20\n",
    "a"
   ]
  },
  {
   "cell_type": "code",
   "execution_count": 71,
   "metadata": {
    "ExecuteTime": {
     "end_time": "2023-01-05T05:14:19.030478Z",
     "start_time": "2023-01-05T05:14:19.017515Z"
    }
   },
   "outputs": [
    {
     "data": {
      "text/plain": [
       "-30"
      ]
     },
     "execution_count": 71,
     "metadata": {},
     "output_type": "execute_result"
    }
   ],
   "source": [
    "-a"
   ]
  },
  {
   "cell_type": "markdown",
   "metadata": {},
   "source": [
    "## 변수에 값을 입력받아 연산\n",
    "\n",
    "> - **input():** 사용자가 입력한 값을 가져오는 함수\n",
    "> - 입력값은 문자열로 간주"
   ]
  },
  {
   "cell_type": "code",
   "execution_count": 72,
   "metadata": {
    "ExecuteTime": {
     "end_time": "2023-01-05T05:14:19.046435Z",
     "start_time": "2023-01-05T05:14:19.034480Z"
    }
   },
   "outputs": [],
   "source": [
    "# input()"
   ]
  },
  {
   "cell_type": "code",
   "execution_count": 73,
   "metadata": {
    "ExecuteTime": {
     "end_time": "2023-01-05T05:14:19.062427Z",
     "start_time": "2023-01-05T05:14:19.048430Z"
    }
   },
   "outputs": [],
   "source": [
    "# x = input()"
   ]
  },
  {
   "cell_type": "code",
   "execution_count": 74,
   "metadata": {
    "ExecuteTime": {
     "end_time": "2023-01-05T05:14:19.078350Z",
     "start_time": "2023-01-05T05:14:19.065387Z"
    }
   },
   "outputs": [],
   "source": [
    "# x"
   ]
  },
  {
   "cell_type": "code",
   "execution_count": 75,
   "metadata": {
    "ExecuteTime": {
     "end_time": "2023-01-05T05:14:19.094308Z",
     "start_time": "2023-01-05T05:14:19.080346Z"
    }
   },
   "outputs": [],
   "source": [
    "# x = input('입력값을 받습니다: ')"
   ]
  },
  {
   "cell_type": "code",
   "execution_count": 76,
   "metadata": {
    "ExecuteTime": {
     "end_time": "2023-01-05T05:14:19.110264Z",
     "start_time": "2023-01-05T05:14:19.096316Z"
    }
   },
   "outputs": [],
   "source": [
    "# x"
   ]
  },
  {
   "cell_type": "code",
   "execution_count": 77,
   "metadata": {
    "ExecuteTime": {
     "end_time": "2023-01-05T05:14:19.126224Z",
     "start_time": "2023-01-05T05:14:19.112261Z"
    }
   },
   "outputs": [],
   "source": [
    "# a = input('첫 번째 숫자를 입력하세요: ')\n",
    "# b = input('두 번째 숫자를 입력하세요: ')\n",
    "# a + b"
   ]
  },
  {
   "cell_type": "code",
   "execution_count": 78,
   "metadata": {
    "ExecuteTime": {
     "end_time": "2023-01-05T05:14:19.142223Z",
     "start_time": "2023-01-05T05:14:19.130213Z"
    }
   },
   "outputs": [],
   "source": [
    "# type(x)"
   ]
  },
  {
   "cell_type": "code",
   "execution_count": 79,
   "metadata": {
    "ExecuteTime": {
     "end_time": "2023-01-05T05:14:19.158138Z",
     "start_time": "2023-01-05T05:14:19.144175Z"
    }
   },
   "outputs": [],
   "source": [
    "# type(a)"
   ]
  },
  {
   "cell_type": "code",
   "execution_count": 80,
   "metadata": {
    "ExecuteTime": {
     "end_time": "2023-01-05T05:14:19.174093Z",
     "start_time": "2023-01-05T05:14:19.161129Z"
    }
   },
   "outputs": [],
   "source": [
    "# a = int(input('첫 번째 숫자를 입력하세요: '))\n",
    "# b = int(input('두 번째 숫자를 입력하세요: ')) \n",
    "# a + b"
   ]
  },
  {
   "cell_type": "code",
   "execution_count": 81,
   "metadata": {
    "ExecuteTime": {
     "end_time": "2023-01-05T05:14:19.190054Z",
     "start_time": "2023-01-05T05:14:19.176090Z"
    }
   },
   "outputs": [],
   "source": [
    "# # a는 정수 100, b는 실수 10.5를 입력받아 합계를 출력\n",
    "# a = int(input('첫 번째 숫자를 입력하세요: '))\n",
    "# b = float(input('두 번째 숫자를 입력하세요: ')) \n",
    "# a + b"
   ]
  },
  {
   "cell_type": "markdown",
   "metadata": {},
   "source": [
    "- 변수1, 변수2 = input('문자열').split('기준문자열')\n",
    "- 여러개의 문자열을 입력받을 시, 분리(split) 구분자(기준문자열)를 지정하여 사용 가능"
   ]
  },
  {
   "cell_type": "code",
   "execution_count": 82,
   "metadata": {
    "ExecuteTime": {
     "end_time": "2023-01-05T05:14:19.206008Z",
     "start_time": "2023-01-05T05:14:19.192048Z"
    }
   },
   "outputs": [
    {
     "name": "stdout",
     "output_type": "stream",
     "text": [
      "['My', 'name', 'is', 'KK']\n",
      "My name is KK\n"
     ]
    }
   ],
   "source": [
    "temp = 'My name is KK'\n",
    "print(temp.split(' '))\n",
    "print(''.join(temp))"
   ]
  },
  {
   "cell_type": "code",
   "execution_count": 83,
   "metadata": {
    "ExecuteTime": {
     "end_time": "2023-01-05T05:14:19.221965Z",
     "start_time": "2023-01-05T05:14:19.208004Z"
    }
   },
   "outputs": [],
   "source": [
    "# a, b = input('문자열 2개를 입력하세요: ').split(',')\n",
    "# print(a, b)"
   ]
  },
  {
   "cell_type": "code",
   "execution_count": 84,
   "metadata": {
    "ExecuteTime": {
     "end_time": "2023-01-05T05:14:19.237923Z",
     "start_time": "2023-01-05T05:14:19.232936Z"
    }
   },
   "outputs": [],
   "source": [
    "# a, b = input('숫자 두 개를 입력하세요: ').split() # split 값이 없으면 공백을 기준으로 분리\n",
    "# a + b"
   ]
  },
  {
   "cell_type": "code",
   "execution_count": 85,
   "metadata": {
    "ExecuteTime": {
     "end_time": "2023-01-05T05:14:19.253881Z",
     "start_time": "2023-01-05T05:14:19.239918Z"
    }
   },
   "outputs": [],
   "source": [
    "# a, b = input('숫자 두 개를 입력하세요: ').split() \n",
    "# int(a) + int(b)"
   ]
  },
  {
   "cell_type": "code",
   "execution_count": 86,
   "metadata": {
    "ExecuteTime": {
     "end_time": "2023-01-05T05:14:19.269837Z",
     "start_time": "2023-01-05T05:14:19.255876Z"
    }
   },
   "outputs": [],
   "source": [
    "# a, b = input('숫자 두 개를 입력하세요: ').split() \n",
    "# a = int(a)\n",
    "# b = int(b)\n",
    "# a + b"
   ]
  },
  {
   "cell_type": "code",
   "execution_count": 87,
   "metadata": {
    "ExecuteTime": {
     "end_time": "2023-01-05T05:14:19.285797Z",
     "start_time": "2023-01-05T05:14:19.271833Z"
    }
   },
   "outputs": [],
   "source": [
    "# # map(함수, 값) 내장함수를 사용하여 각각의 값의 함수처리 출력\n",
    "# # 숫자 입력시 공백을 기준으로 2개를 입력\n",
    "# # 출력은 2개의 입력값 합\n",
    "# a, b = map(int, input('숫자 두 개를 입력하세요: ').split())\n",
    "# a + b"
   ]
  },
  {
   "cell_type": "markdown",
   "metadata": {},
   "source": [
    "- **Question:** 정수 3개를 입력받아 합계를 출력하시오"
   ]
  },
  {
   "cell_type": "code",
   "execution_count": 88,
   "metadata": {
    "ExecuteTime": {
     "end_time": "2023-01-05T05:14:27.602209Z",
     "start_time": "2023-01-05T05:14:19.288789Z"
    }
   },
   "outputs": [
    {
     "name": "stdout",
     "output_type": "stream",
     "text": [
      "첫 번째 숫자를 입력하세요: 1\n",
      "두 번째 숫자를 입력하세요: 2\n",
      "세 번째 숫자를 입력하세요: 3\n"
     ]
    },
    {
     "data": {
      "text/plain": [
       "6"
      ]
     },
     "execution_count": 88,
     "metadata": {},
     "output_type": "execute_result"
    }
   ],
   "source": [
    "# a는 정수 1, b는 정수 2, c는 정수 3을  입력받아 합계를 출력\n",
    "a = int(input('첫 번째 숫자를 입력하세요: '))\n",
    "b = int(input('두 번째 숫자를 입력하세요: ')) \n",
    "c = int(input('세 번째 숫자를 입력하세요: '))\n",
    "a + b + c"
   ]
  },
  {
   "cell_type": "markdown",
   "metadata": {},
   "source": [
    "## 변수의 비교와 논리\n",
    "\n",
    "- **Question:** 한 과목이라도 50점 미만이면 불합격(False)를 출력하시오\n",
    "\n",
    "```python\n",
    "korean = 92\n",
    "english = 47\n",
    "mathematics = 86\n",
    "science = 81\n",
    "```"
   ]
  },
  {
   "cell_type": "code",
   "execution_count": 89,
   "metadata": {
    "ExecuteTime": {
     "end_time": "2023-01-05T05:14:27.618140Z",
     "start_time": "2023-01-05T05:14:27.604178Z"
    }
   },
   "outputs": [
    {
     "data": {
      "text/plain": [
       "False"
      ]
     },
     "execution_count": 89,
     "metadata": {},
     "output_type": "execute_result"
    }
   ],
   "source": [
    "korean = 92\n",
    "english = 47\n",
    "mathematics = 86\n",
    "science = 81\n",
    "korean >= 50 and english >= 50 and mathematics >= 50 and science >= 50\n"
   ]
  },
  {
   "cell_type": "markdown",
   "metadata": {},
   "source": [
    "## 순서가 있는 시퀀스 데이터 형태\n",
    "\n",
    "- **시퀀스(Sequence):** 리스트/튜플/문자열 등으로 연속적으로 이어진 순서가 있는 자료형\n",
    "> - 시퀀스는 어떠한 자료형으로 구성되든 공통된 동작과 기능을 제공\n",
    "> - 시퀀스의 각 값을 요소(Element)라고 함\n",
    "> - 순서가 있기 때문에 인덱스/인덱싱/슬라이싱 가능"
   ]
  },
  {
   "cell_type": "code",
   "execution_count": 90,
   "metadata": {
    "ExecuteTime": {
     "end_time": "2023-01-05T05:14:27.633102Z",
     "start_time": "2023-01-05T05:14:27.622130Z"
    }
   },
   "outputs": [
    {
     "data": {
      "text/plain": [
       "[0, 10, 20, 30, 40, 50, 60, 70, 80, 90]"
      ]
     },
     "execution_count": 90,
     "metadata": {},
     "output_type": "execute_result"
    }
   ],
   "source": [
    "a = [0, 10, 20, 30, 40, 50, 60, 70, 80, 90]\n",
    "a"
   ]
  },
  {
   "cell_type": "code",
   "execution_count": 91,
   "metadata": {
    "ExecuteTime": {
     "end_time": "2023-01-05T05:14:27.648125Z",
     "start_time": "2023-01-05T05:14:27.635094Z"
    }
   },
   "outputs": [
    {
     "data": {
      "text/plain": [
       "[0, 10, 20, 30, 40, 50, 60, 70, 80, 90]"
      ]
     },
     "execution_count": 91,
     "metadata": {},
     "output_type": "execute_result"
    }
   ],
   "source": [
    "# 0이상 100미만 10간격 시퀀스 리스트 생성\n",
    "a = list(range(0, 100, 10))\n",
    "a"
   ]
  },
  {
   "cell_type": "markdown",
   "metadata": {},
   "source": [
    "- 시퀀스는 멤버연산자를 사용해서 멤버를 조회 할 수 있음"
   ]
  },
  {
   "cell_type": "code",
   "execution_count": 92,
   "metadata": {
    "ExecuteTime": {
     "end_time": "2023-01-05T05:14:27.664018Z",
     "start_time": "2023-01-05T05:14:27.652051Z"
    }
   },
   "outputs": [
    {
     "data": {
      "text/plain": [
       "True"
      ]
     },
     "execution_count": 92,
     "metadata": {},
     "output_type": "execute_result"
    }
   ],
   "source": [
    "# 30이 a리스트에 포함되는지 여부\n",
    "30 in a"
   ]
  },
  {
   "cell_type": "code",
   "execution_count": 93,
   "metadata": {
    "ExecuteTime": {
     "end_time": "2023-01-05T05:14:27.679906Z",
     "start_time": "2023-01-05T05:14:27.668008Z"
    }
   },
   "outputs": [
    {
     "data": {
      "text/plain": [
       "False"
      ]
     },
     "execution_count": 93,
     "metadata": {},
     "output_type": "execute_result"
    }
   ],
   "source": [
    "# 100이 a리스트에 포함되는지 여부\n",
    "100 in a"
   ]
  },
  {
   "cell_type": "code",
   "execution_count": 94,
   "metadata": {
    "ExecuteTime": {
     "end_time": "2023-01-05T05:14:27.695814Z",
     "start_time": "2023-01-05T05:14:27.683849Z"
    }
   },
   "outputs": [
    {
     "data": {
      "text/plain": [
       "True"
      ]
     },
     "execution_count": 94,
     "metadata": {},
     "output_type": "execute_result"
    }
   ],
   "source": [
    "# 100이 a리스트에 포함되지 않는지 여부\n",
    "100 not in a"
   ]
  },
  {
   "cell_type": "code",
   "execution_count": 95,
   "metadata": {
    "ExecuteTime": {
     "end_time": "2023-01-05T05:14:27.711770Z",
     "start_time": "2023-01-05T05:14:27.699809Z"
    }
   },
   "outputs": [
    {
     "data": {
      "text/plain": [
       "True"
      ]
     },
     "execution_count": 95,
     "metadata": {},
     "output_type": "execute_result"
    }
   ],
   "source": [
    "# 43이 (38, 76, 43, 62, 19) 튜플에 포함되는지 여부 \n",
    "43 in (38, 76, 43, 62, 19)"
   ]
  },
  {
   "cell_type": "markdown",
   "metadata": {},
   "source": [
    "- 시퀀스가 길어지고 일일이 만들기 어려우면 **`range()`** 함수로 쉽게 생성 가능\n",
    "\n",
    "```python\n",
    "range(start, stop, step)    # start부터 stop-1까지 step간격으로 생성\n",
    "```\n",
    "\n",
    "```python\n",
    "range(5)    # 0,1,2,3,4 (시작 인덱스완 간격이 자동으로 0과 1로 지정)\n",
    "range(1,5)    # 1,2,3,4 (간격은 자동으로 1로 지정)\n",
    "range(1,5,2)    # 1,3\n",
    "```"
   ]
  },
  {
   "cell_type": "code",
   "execution_count": 96,
   "metadata": {
    "ExecuteTime": {
     "end_time": "2023-01-05T05:14:27.727755Z",
     "start_time": "2023-01-05T05:14:27.715762Z"
    }
   },
   "outputs": [
    {
     "data": {
      "text/plain": [
       "True"
      ]
     },
     "execution_count": 96,
     "metadata": {},
     "output_type": "execute_result"
    }
   ],
   "source": [
    "# 1이 0이상 10미만 시퀀스에 포함되는지 여부\n",
    "1 in range(10)"
   ]
  },
  {
   "cell_type": "code",
   "execution_count": 97,
   "metadata": {
    "ExecuteTime": {
     "end_time": "2023-01-05T05:14:27.743686Z",
     "start_time": "2023-01-05T05:14:27.729756Z"
    }
   },
   "outputs": [
    {
     "data": {
      "text/plain": [
       "True"
      ]
     },
     "execution_count": 97,
     "metadata": {},
     "output_type": "execute_result"
    }
   ],
   "source": [
    "# 'P'문자가 'Hello, Python'에 포함되는지 여부\n",
    "'P' in 'Hello, Python'"
   ]
  },
  {
   "cell_type": "markdown",
   "metadata": {},
   "source": [
    "- 시퀀스는 일부 산술연산자를 사용할 수 있으면 오로지 **`Python`** 에서만 가능!"
   ]
  },
  {
   "cell_type": "code",
   "execution_count": 98,
   "metadata": {
    "ExecuteTime": {
     "end_time": "2023-01-05T05:14:27.759645Z",
     "start_time": "2023-01-05T05:14:27.746680Z"
    }
   },
   "outputs": [
    {
     "data": {
      "text/plain": [
       "[0, 10, 20, 30, 0, 10, 20, 30]"
      ]
     },
     "execution_count": 98,
     "metadata": {},
     "output_type": "execute_result"
    }
   ],
   "source": [
    "# [0, 10, 20, 30] 리스트와 [0, 10, 20, 30] 리스트 붙이기\n",
    "a = [0, 10, 20, 30]\n",
    "b = [0, 10, 20, 30]\n",
    "a + b"
   ]
  },
  {
   "cell_type": "code",
   "execution_count": 99,
   "metadata": {
    "ExecuteTime": {
     "end_time": "2023-01-05T05:14:27.775602Z",
     "start_time": "2023-01-05T05:14:27.761638Z"
    }
   },
   "outputs": [],
   "source": [
    "# 파이썬이 이해하는 형태가 아닌 함수모습으로 연산은 불가\n",
    "# range(0, 10) + range(10, 20)"
   ]
  },
  {
   "cell_type": "code",
   "execution_count": 100,
   "metadata": {
    "ExecuteTime": {
     "end_time": "2023-01-05T05:14:27.791557Z",
     "start_time": "2023-01-05T05:14:27.778594Z"
    }
   },
   "outputs": [
    {
     "data": {
      "text/plain": [
       "[0, 1, 2, 3, 4, 5, 6, 7, 8, 9, 10, 11, 12, 13, 14, 15, 16, 17, 18, 19]"
      ]
     },
     "execution_count": 100,
     "metadata": {},
     "output_type": "execute_result"
    }
   ],
   "source": [
    "# 0이상 10미만 시퀀스 리스트와 10이상 20미만 시퀀스 리스트 붙이기\n",
    "list(range(0, 10)) + list(range(10, 20))"
   ]
  },
  {
   "cell_type": "code",
   "execution_count": 101,
   "metadata": {
    "ExecuteTime": {
     "end_time": "2023-01-05T05:14:27.806518Z",
     "start_time": "2023-01-05T05:14:27.793553Z"
    }
   },
   "outputs": [
    {
     "data": {
      "text/plain": [
       "(0, 1, 2, 3, 4, 5, 6, 7, 8, 9, 10, 11, 12, 13, 14, 15, 16, 17, 18, 19)"
      ]
     },
     "execution_count": 101,
     "metadata": {},
     "output_type": "execute_result"
    }
   ],
   "source": [
    "# 0이상 10미만 시퀀스 튜플과 10이상 20미만 시퀀스 튜플 붙이기\n",
    "tuple(range(0, 10)) + tuple(range(10, 20))"
   ]
  },
  {
   "cell_type": "code",
   "execution_count": 102,
   "metadata": {
    "ExecuteTime": {
     "end_time": "2023-01-05T05:14:27.821477Z",
     "start_time": "2023-01-05T05:14:27.808513Z"
    }
   },
   "outputs": [
    {
     "data": {
      "text/plain": [
       "'Hello, world!'"
      ]
     },
     "execution_count": 102,
     "metadata": {},
     "output_type": "execute_result"
    }
   ],
   "source": [
    "'Hello, ' + 'world!'"
   ]
  },
  {
   "cell_type": "code",
   "execution_count": 103,
   "metadata": {
    "ExecuteTime": {
     "end_time": "2023-01-05T05:14:27.836440Z",
     "start_time": "2023-01-05T05:14:27.822476Z"
    }
   },
   "outputs": [],
   "source": [
    "# 문자열과 숫자의 연산 불가\n",
    "# 'Hello, ' + 10"
   ]
  },
  {
   "cell_type": "code",
   "execution_count": 104,
   "metadata": {
    "ExecuteTime": {
     "end_time": "2023-01-05T05:14:27.851398Z",
     "start_time": "2023-01-05T05:14:27.838435Z"
    }
   },
   "outputs": [
    {
     "data": {
      "text/plain": [
       "'Hello, 10'"
      ]
     },
     "execution_count": 104,
     "metadata": {},
     "output_type": "execute_result"
    }
   ],
   "source": [
    "# 형태를 통일하면 연산 가능\n",
    "'Hello, ' + str(10) "
   ]
  },
  {
   "cell_type": "code",
   "execution_count": 105,
   "metadata": {
    "ExecuteTime": {
     "end_time": "2023-01-05T05:14:27.867357Z",
     "start_time": "2023-01-05T05:14:27.852395Z"
    }
   },
   "outputs": [
    {
     "data": {
      "text/plain": [
       "'Hello, 1.5'"
      ]
     },
     "execution_count": 105,
     "metadata": {},
     "output_type": "execute_result"
    }
   ],
   "source": [
    "'Hello, ' + str(1.5)"
   ]
  },
  {
   "cell_type": "code",
   "execution_count": 106,
   "metadata": {
    "ExecuteTime": {
     "end_time": "2023-01-05T05:14:27.883312Z",
     "start_time": "2023-01-05T05:14:27.869352Z"
    }
   },
   "outputs": [
    {
     "data": {
      "text/plain": [
       "[0, 10, 20, 30, 0, 10, 20, 30, 0, 10, 20, 30]"
      ]
     },
     "execution_count": 106,
     "metadata": {},
     "output_type": "execute_result"
    }
   ],
   "source": [
    "# [0, 10, 20, 30] 리스트 3번 반복하기\n",
    "[0, 10, 20, 30] * 3"
   ]
  },
  {
   "cell_type": "code",
   "execution_count": 107,
   "metadata": {
    "ExecuteTime": {
     "end_time": "2023-01-05T05:14:27.899270Z",
     "start_time": "2023-01-05T05:14:27.884309Z"
    }
   },
   "outputs": [
    {
     "data": {
      "text/plain": [
       "[0, 2, 4, 0, 2, 4, 0, 2, 4]"
      ]
     },
     "execution_count": 107,
     "metadata": {},
     "output_type": "execute_result"
    }
   ],
   "source": [
    "# 0이상 5미만 2간격 시퀀스 리스트 3번 반복하기\n",
    "list(range(0, 5, 2)) * 3"
   ]
  },
  {
   "cell_type": "code",
   "execution_count": 108,
   "metadata": {
    "ExecuteTime": {
     "end_time": "2023-01-05T05:14:27.915226Z",
     "start_time": "2023-01-05T05:14:27.901268Z"
    }
   },
   "outputs": [
    {
     "data": {
      "text/plain": [
       "(0, 2, 4, 0, 2, 4, 0, 2, 4)"
      ]
     },
     "execution_count": 108,
     "metadata": {},
     "output_type": "execute_result"
    }
   ],
   "source": [
    "# 0이상 5미만 2간격 시퀀스 튜플 3번 반복하기\n",
    "tuple(range(0, 5, 2)) * 3"
   ]
  },
  {
   "cell_type": "code",
   "execution_count": 109,
   "metadata": {
    "ExecuteTime": {
     "end_time": "2023-01-05T05:14:27.931184Z",
     "start_time": "2023-01-05T05:14:27.917223Z"
    }
   },
   "outputs": [
    {
     "data": {
      "text/plain": [
       "'Hello, Hello, Hello, '"
      ]
     },
     "execution_count": 109,
     "metadata": {},
     "output_type": "execute_result"
    }
   ],
   "source": [
    "# 문자열 3번 반복하기\n",
    "'Hello, ' * 3"
   ]
  },
  {
   "cell_type": "code",
   "execution_count": 110,
   "metadata": {
    "ExecuteTime": {
     "end_time": "2023-01-05T05:14:27.947141Z",
     "start_time": "2023-01-05T05:14:27.933181Z"
    }
   },
   "outputs": [],
   "source": [
    "a = [0, 10, 20, 30, 40, 50, 60, 70, 80, 90]"
   ]
  },
  {
   "cell_type": "code",
   "execution_count": 111,
   "metadata": {
    "ExecuteTime": {
     "end_time": "2023-01-05T05:14:27.963121Z",
     "start_time": "2023-01-05T05:14:27.949158Z"
    }
   },
   "outputs": [
    {
     "data": {
      "text/plain": [
       "10"
      ]
     },
     "execution_count": 111,
     "metadata": {},
     "output_type": "execute_result"
    }
   ],
   "source": [
    "# 값의 갯수 측정\n",
    "len(a)"
   ]
  },
  {
   "cell_type": "code",
   "execution_count": 112,
   "metadata": {
    "ExecuteTime": {
     "end_time": "2023-01-05T05:14:27.978083Z",
     "start_time": "2023-01-05T05:14:27.965115Z"
    }
   },
   "outputs": [
    {
     "data": {
      "text/plain": [
       "5"
      ]
     },
     "execution_count": 112,
     "metadata": {},
     "output_type": "execute_result"
    }
   ],
   "source": [
    "b = (38, 76, 43, 62, 19)\n",
    "len(b)"
   ]
  },
  {
   "cell_type": "code",
   "execution_count": 113,
   "metadata": {
    "ExecuteTime": {
     "end_time": "2023-01-05T05:14:27.993040Z",
     "start_time": "2023-01-05T05:14:27.980076Z"
    }
   },
   "outputs": [
    {
     "data": {
      "text/plain": [
       "5"
      ]
     },
     "execution_count": 113,
     "metadata": {},
     "output_type": "execute_result"
    }
   ],
   "source": [
    "# 0이상 10미만 2간격 시퀀스의 갯수\n",
    "len(range(0, 10, 2))"
   ]
  },
  {
   "cell_type": "code",
   "execution_count": 114,
   "metadata": {
    "ExecuteTime": {
     "end_time": "2023-01-05T05:14:28.008998Z",
     "start_time": "2023-01-05T05:14:27.995036Z"
    }
   },
   "outputs": [
    {
     "data": {
      "text/plain": [
       "13"
      ]
     },
     "execution_count": 114,
     "metadata": {},
     "output_type": "execute_result"
    }
   ],
   "source": [
    "# 문자열은 공백도 포함하여 갯수를 계산\n",
    "hello = 'Hello, world!'\n",
    "len(hello)"
   ]
  },
  {
   "cell_type": "code",
   "execution_count": 115,
   "metadata": {
    "ExecuteTime": {
     "end_time": "2023-01-05T05:14:28.024955Z",
     "start_time": "2023-01-05T05:14:28.011990Z"
    }
   },
   "outputs": [
    {
     "data": {
      "text/plain": [
       "5"
      ]
     },
     "execution_count": 115,
     "metadata": {},
     "output_type": "execute_result"
    }
   ],
   "source": [
    "hello = '안녕하세요'\n",
    "len(hello)"
   ]
  },
  {
   "cell_type": "markdown",
   "metadata": {},
   "source": [
    "- **Question:** 다음 2개의 변수를 사용하여 최근 3년간의 연도 및 GDP를 출력하시오\n",
    "\n",
    "```python\n",
    "year = [2011, 2012, 2013, 2014, 2015, 2016, 2017, 2018]\n",
    "GDP = [10249679, 10195318, 10143645, 10103233, 10022181, 9930616, 9857426, 9838892]\n",
    "```"
   ]
  },
  {
   "cell_type": "code",
   "execution_count": 116,
   "metadata": {
    "ExecuteTime": {
     "end_time": "2023-01-05T05:14:28.039917Z",
     "start_time": "2023-01-05T05:14:28.026952Z"
    }
   },
   "outputs": [
    {
     "data": {
      "text/plain": [
       "[9930616, 9857426, 9838892]"
      ]
     },
     "execution_count": 116,
     "metadata": {},
     "output_type": "execute_result"
    }
   ],
   "source": [
    "year = [2011, 2012, 2013, 2014, 2015, 2016, 2017, 2018]\n",
    "GDP = [10249679, 10195318, 10143645, 10103233, 10022181, 9930616, 9857426, 9838892]\n",
    "year[-3:]\n",
    "GDP[-3:]\n"
   ]
  },
  {
   "cell_type": "markdown",
   "metadata": {},
   "source": [
    "- **Question:** 다음 튜플에서 인덱스가 홀수인 요소들을 출력하시오\n",
    "\n",
    "```python\n",
    "n = (-32, 75, 97, -10, 9, 32, 4, -15, 0, 76, 14, 2)\n",
    "```"
   ]
  },
  {
   "cell_type": "code",
   "execution_count": 117,
   "metadata": {
    "ExecuteTime": {
     "end_time": "2023-01-05T05:14:28.054875Z",
     "start_time": "2023-01-05T05:14:28.041912Z"
    }
   },
   "outputs": [
    {
     "data": {
      "text/plain": [
       "(75, -10, 32, -15, 76, 2)"
      ]
     },
     "execution_count": 117,
     "metadata": {},
     "output_type": "execute_result"
    }
   ],
   "source": [
    "n = (-32, 75, 97, -10, 9, 32, 4, -15, 0, 76, 14, 2)\n",
    "n[1::2]\n",
    "#n[1:12:2]\n",
    "#n[1:len(n):2]\n"
   ]
  },
  {
   "cell_type": "markdown",
   "metadata": {},
   "source": [
    "- **Question:** 아래와 같이 3층의 $*$ 문자로 이루어진 별자리를 `star`라는 변수로 만들어 변수에 저장된 별자리를 출력하시오\n",
    "\n",
    "```python\n",
    "*\n",
    "**\n",
    "***\n",
    "```"
   ]
  },
  {
   "cell_type": "code",
   "execution_count": 118,
   "metadata": {
    "ExecuteTime": {
     "end_time": "2023-01-05T05:14:28.070832Z",
     "start_time": "2023-01-05T05:14:28.056870Z"
    }
   },
   "outputs": [
    {
     "name": "stdout",
     "output_type": "stream",
     "text": [
      "*\n",
      "**\n",
      "***\n"
     ]
    }
   ],
   "source": [
    "star = '*'\n",
    "print(star)\n",
    "print(star*2)\n",
    "print(star*3)\n"
   ]
  },
  {
   "cell_type": "code",
   "execution_count": 119,
   "metadata": {
    "ExecuteTime": {
     "end_time": "2023-01-05T05:14:28.086792Z",
     "start_time": "2023-01-05T05:14:28.072828Z"
    }
   },
   "outputs": [
    {
     "name": "stdout",
     "output_type": "stream",
     "text": [
      "*\n",
      "**\n",
      "***\n"
     ]
    }
   ],
   "source": [
    "star = 3\n",
    "for x in range(1,4):\n",
    "    for y in range(x):\n",
    "        print('*', end='')\n",
    "    print()"
   ]
  },
  {
   "cell_type": "code",
   "execution_count": 120,
   "metadata": {
    "ExecuteTime": {
     "end_time": "2023-01-05T05:14:32.046627Z",
     "start_time": "2023-01-05T05:14:28.088786Z"
    }
   },
   "outputs": [
    {
     "name": "stdout",
     "output_type": "stream",
     "text": [
      "* 수량을 입력하세요: 3\n",
      "*\n",
      "**\n",
      "***\n"
     ]
    }
   ],
   "source": [
    "a = int(input('* 수량을 입력하세요: '))\n",
    "for x in range(1,a+1):\n",
    "    for y in range(x):\n",
    "        print('*', end='')\n",
    "    print()\n"
   ]
  },
  {
   "cell_type": "markdown",
   "metadata": {},
   "source": [
    "- **Question:** 우리나라는 섭씨 온도표시를 사용하지만, 미국은 화시 온도표시를 사용합니다.    \n",
    "0도의 섭씨는 화씨로 32도 입니다. 만약 18도의 섭씨는 화씨로 얼마가 될지 출력하시오.    \n",
    "이때 사용할 변수명 섭씨는 `C` 화씨는 `F`로 하시오.\n"
   ]
  },
  {
   "cell_type": "code",
   "execution_count": 121,
   "metadata": {
    "ExecuteTime": {
     "end_time": "2023-01-05T05:14:36.209179Z",
     "start_time": "2023-01-05T05:14:32.049620Z"
    }
   },
   "outputs": [
    {
     "name": "stdout",
     "output_type": "stream",
     "text": [
      "섭씨 온도를 입력하세요 : 18\n",
      "섭씨의  18 도는 화씨로  50 도 입니다.\n"
     ]
    }
   ],
   "source": [
    "C = int(input('섭씨 온도를 입력하세요 : '))\n",
    "F = C + 32\n",
    "print('섭씨의 ', C, '도는 화씨로 ', F, '도 입니다.')"
   ]
  },
  {
   "cell_type": "markdown",
   "metadata": {},
   "source": [
    "- **Question:** `range` 함수를 사용해 9부터 0(포함)까지의 거꾸로 나열되 있는 리스트를 출력하시오\n",
    "\n",
    "```python\n",
    "# 예상출력\n",
    "[9, 8, 7, 6, 5, 4, 3, 2, 1, 0]\n",
    "```"
   ]
  },
  {
   "cell_type": "code",
   "execution_count": 122,
   "metadata": {
    "ExecuteTime": {
     "end_time": "2023-01-05T05:14:36.224163Z",
     "start_time": "2023-01-05T05:14:36.211174Z"
    }
   },
   "outputs": [
    {
     "data": {
      "text/plain": [
       "[9, 8, 7, 6, 5, 4, 3, 2, 1, 0]"
      ]
     },
     "execution_count": 122,
     "metadata": {},
     "output_type": "execute_result"
    }
   ],
   "source": [
    "a = list(range(9, -1, -1))\n",
    "a\n"
   ]
  },
  {
   "cell_type": "markdown",
   "metadata": {},
   "source": [
    "- **Question:** `range` 함수를 사용하여 0이상 10000 미만인 모든 짝수의 합계를 `sum` 내장함수를 사용하여 `summation` 이란 변수에 저장하고, 갯수를 `count`라는 변수에 저장한 후 평균을 출력하시오"
   ]
  },
  {
   "cell_type": "code",
   "execution_count": 123,
   "metadata": {
    "ExecuteTime": {
     "end_time": "2023-01-05T05:14:36.239100Z",
     "start_time": "2023-01-05T05:14:36.229126Z"
    }
   },
   "outputs": [
    {
     "name": "stdout",
     "output_type": "stream",
     "text": [
      "짝수의 합계: 24995000\n",
      "갯수: 5000\n",
      "평균: 4999.0\n"
     ]
    }
   ],
   "source": [
    "summation = sum(list(range(0, 10000, 2)))\n",
    "print('짝수의 합계:', summation)\n",
    "count = len(range(0, 10000, 2))\n",
    "print('갯수:', count)\n",
    "print('평균:', summation/count)\n",
    "# print(list(range(0, 10000, 2)))\n"
   ]
  },
  {
   "cell_type": "code",
   "execution_count": 124,
   "metadata": {
    "ExecuteTime": {
     "end_time": "2023-01-05T05:14:36.255056Z",
     "start_time": "2023-01-05T05:14:36.242103Z"
    }
   },
   "outputs": [
    {
     "name": "stdout",
     "output_type": "stream",
     "text": [
      "짝수의 합계: 24995000\n",
      "갯수: 5000\n",
      "평균: 4999.0\n"
     ]
    }
   ],
   "source": [
    "n = list(range(0, 10000, 2))\n",
    "summation = sum(n)\n",
    "print('짝수의 합계:', summation)\n",
    "count = len(n)\n",
    "print('갯수:', count)\n",
    "print('평균:', summation/count)\n",
    "# print(list(range(0, 10000, 2)))"
   ]
  },
  {
   "cell_type": "code",
   "execution_count": 125,
   "metadata": {
    "ExecuteTime": {
     "end_time": "2023-01-05T05:14:45.398008Z",
     "start_time": "2023-01-05T05:14:36.257056Z"
    }
   },
   "outputs": [
    {
     "name": "stdout",
     "output_type": "stream",
     "text": [
      "숫자를 입력하세요: 10000\n",
      "짝수의 합계: 24995000\n",
      "갯수: 5000\n",
      "평균: 4999.0\n"
     ]
    }
   ],
   "source": [
    "a = int(input('숫자를 입력하세요: '))\n",
    "n = list(range(0, a , 2))\n",
    "summation = sum(n)\n",
    "print('짝수의 합계:', summation)\n",
    "count = len(n)\n",
    "print('갯수:', count)\n",
    "print('평균:', summation/count)\n",
    "# print(list(range(0, 10000, 2)))\n"
   ]
  },
  {
   "cell_type": "code",
   "execution_count": 126,
   "metadata": {
    "ExecuteTime": {
     "end_time": "2023-01-05T05:14:45.429890Z",
     "start_time": "2023-01-05T05:14:45.400971Z"
    }
   },
   "outputs": [
    {
     "name": "stdout",
     "output_type": "stream",
     "text": [
      "Intel64 Family 6 Model 142 Stepping 11, GenuineIntel\n",
      "8(GB)\n",
      "Windows\n",
      "10.0.19044\n",
      "C:\\Users\\phamt\\DEBAStudy\\Practice\n",
      "2023-01-03 16:12:54.412954\n",
      "2023-01-05 14:13:43.208848\n",
      "2023-01-05 14:13:43.208848\n",
      "2023-01-05 14:14:45.410948\n",
      "다음 출력을 파일명으로 설정하고 제출하시오: 팜티궤느_201902731_DEBA Study_1기_InputVariable\n"
     ]
    }
   ],
   "source": [
    "# 반드시 이 cell을 실행하시오\n",
    "# 실행하지 않을 시 직접 하지 않은 것으로 간주\n",
    "# 마지막 줄 출력으로 파일명을 설정하고 제출 필수\n",
    "import platform, psutil, os, datetime\n",
    "print(platform.processor())\n",
    "print(str(round(psutil.virtual_memory().total / (1024.0 **3)))+\"(GB)\")\n",
    "print(platform.system())\n",
    "print(platform.version())\n",
    "print(os.getcwd())\n",
    "print(datetime.datetime.fromtimestamp(os.path.getctime(os.getcwd())))\n",
    "print(datetime.datetime.fromtimestamp(os.path.getmtime(os.getcwd())))\n",
    "print(datetime.datetime.fromtimestamp(os.path.getatime(os.getcwd())))\n",
    "print(datetime.datetime.now())\n",
    "title = 'InputVariable'    # 고정값\n",
    "name = '팜티궤느'    # 본인 이름을 작성\n",
    "studentid = '201902731'    # 본인 학번을 작성\n",
    "course = 'DEBA Study'    # 'E정보시스템', 'E데이터베이스', '빅데이터', \n",
    "                          # '비즈니스혁신을위한데이터사이언스응용', '인공지능활용디지털경제플랫폼연구'\n",
    "course_number = '1기'    #  학수번호 끝자리 (아래 예시)\n",
    "                         # E정보시스템 (0003853001) => 1반\n",
    "                         # E정보시스템 (0003853001) => 2반\n",
    "                         # E데이터베이스 (0003854001) => 1반\n",
    "                         # E데이터베이스 (0003854002) => 2반\n",
    "                         # 빅데이터 (0006718001) => 1반\n",
    "                         # 비즈니스혁신을위한데이터사이언스응용 (1002667001) => 1반\n",
    "print('다음 출력을 파일명으로 설정하고 제출하시오:', name + '_' + studentid + '_' + course + '_' + course_number + '_' + title)"
   ]
  }
 ],
 "metadata": {
  "hide_input": false,
  "kernelspec": {
   "display_name": "Python 3 (ipykernel)",
   "language": "python",
   "name": "python3"
  },
  "language_info": {
   "codemirror_mode": {
    "name": "ipython",
    "version": 3
   },
   "file_extension": ".py",
   "mimetype": "text/x-python",
   "name": "python",
   "nbconvert_exporter": "python",
   "pygments_lexer": "ipython3",
   "version": "3.9.12"
  },
  "toc": {
   "base_numbering": 1,
   "nav_menu": {},
   "number_sections": true,
   "sideBar": true,
   "skip_h1_title": false,
   "title_cell": "Table of Contents",
   "title_sidebar": "Contents",
   "toc_cell": false,
   "toc_position": {
    "height": "calc(100% - 180px)",
    "left": "10px",
    "top": "150px",
    "width": "308.833px"
   },
   "toc_section_display": true,
   "toc_window_display": true
  },
  "varInspector": {
   "cols": {
    "lenName": 16,
    "lenType": 16,
    "lenVar": 40
   },
   "kernels_config": {
    "python": {
     "delete_cmd_postfix": "",
     "delete_cmd_prefix": "del ",
     "library": "var_list.py",
     "varRefreshCmd": "print(var_dic_list())"
    },
    "r": {
     "delete_cmd_postfix": ") ",
     "delete_cmd_prefix": "rm(",
     "library": "var_list.r",
     "varRefreshCmd": "cat(var_dic_list()) "
    }
   },
   "position": {
    "height": "388.4px",
    "left": "850.92px",
    "right": "20px",
    "top": "120px",
    "width": "347px"
   },
   "types_to_exclude": [
    "module",
    "function",
    "builtin_function_or_method",
    "instance",
    "_Feature"
   ],
   "window_display": false
  }
 },
 "nbformat": 4,
 "nbformat_minor": 4
}
