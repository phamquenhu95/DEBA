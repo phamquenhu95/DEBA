{
 "cells": [
  {
   "cell_type": "code",
   "execution_count": 2,
   "metadata": {
    "ExecuteTime": {
     "end_time": "2023-01-05T04:52:38.968163Z",
     "start_time": "2023-01-05T04:52:38.950241Z"
    }
   },
   "outputs": [
    {
     "name": "stdout",
     "output_type": "stream",
     "text": [
      "Intel64 Family 6 Model 142 Stepping 11, GenuineIntel\n",
      "8(GB)\n",
      "Windows\n",
      "10.0.19044\n",
      "C:\\Users\\phamt\\DEBAStudy\\Tutorial-Python-Programming-main\n",
      "2022-11-18 05:04:20.360651\n",
      "2023-01-05 13:51:22.030187\n",
      "2023-01-05 13:51:22.030187\n",
      "2023-01-05 13:52:38.958190\n",
      "다음 출력을 파일명으로 설정하고 제출하시오: 팜티궤느_201902731_DEBA Study_1기_InputOutput\n"
     ]
    }
   ],
   "source": [
    "# 반드시 이 cell을 실행하시오\n",
    "# 실행하지 않을 시 직접 하지 않은 것으로 간주\n",
    "# 마지막 줄 출력으로 파일명을 설정하고 제출 필수\n",
    "import platform, psutil, os, datetime\n",
    "print(platform.processor())\n",
    "print(str(round(psutil.virtual_memory().total / (1024.0 **3)))+\"(GB)\")\n",
    "print(platform.system())\n",
    "print(platform.version())\n",
    "print(os.getcwd())\n",
    "print(datetime.datetime.fromtimestamp(os.path.getctime(os.getcwd())))\n",
    "print(datetime.datetime.fromtimestamp(os.path.getmtime(os.getcwd())))\n",
    "print(datetime.datetime.fromtimestamp(os.path.getatime(os.getcwd())))\n",
    "print(datetime.datetime.now())\n",
    "title = 'InputOutput'    # 고정값\n",
    "name = '팜티궤느'    # 본인 이름을 작성\n",
    "studentid = '201902731'    # 본인 학번을 작성\n",
    "course = 'DEBA Study'    # 'E정보시스템', 'E데이터베이스', '빅데이터', \n",
    "                          # '비즈니스혁신을위한데이터사이언스응용', '인공지능활용디지털경제플랫폼연구'\n",
    "course_number = '1기'    #  학수번호 끝자리 (아래 예시)\n",
    "                         # E정보시스템 (0003853001) => 1반\n",
    "                         # E정보시스템 (0003853001) => 2반\n",
    "                         # E데이터베이스 (0003854001) => 1반\n",
    "                         # E데이터베이스 (0003854002) => 2반\n",
    "                         # 빅데이터 (0006718001) => 1반\n",
    "                         # 비즈니스혁신을위한데이터사이언스응용 (1002667001) => 1반\n",
    "print('다음 출력을 파일명으로 설정하고 제출하시오:', name + '_' + studentid + '_' + course + '_' + course_number + '_' + title)"
   ]
  },
  {
   "cell_type": "markdown",
   "metadata": {},
   "source": [
    "# **프로그래밍 사고**\n",
    "\n",
    "[![Open in Colab](http://colab.research.google.com/assets/colab-badge.svg)](https://colab.research.google.com/github/thekimk/Tutorial-Python-Programming/blob/main/Practice1-2_Basic_InputOutput_KK(Practice).ipynb)\n",
    "\n",
    "- **필요성:** 사람마다 사용 언어와 생각 방식이 다르듯 프로그래밍 언어의 처리방식도 사람과 **`유사한 부분`** 과 **`다른 부분`** 이 존재하며 이를 이해하는 것이 필수"
   ]
  },
  {
   "cell_type": "markdown",
   "metadata": {},
   "source": [
    "## 유사한부분: Y = f(X) + e\n",
    "\n",
    "- **\"세상의 모든 로직은 입력(X), 처리(f), 출력(Y), 그리고 검증(e) 프로세스로 최적화되어 표현된다\"**\n",
    "\n",
    "<center><img src='Image/Basic/Programming_IndependentStructure.png' width='600'></center>\n",
    "\n",
    "---\n",
    "\n",
    "<span style=\"color:blue\">**\"비즈니스 작동요소 = 조직 작동방식 = 사람 교류방식 = 컴퓨터 교류방식 =**</span><span style=\"color:red\">**데이터과학 작동방식\"**</span>\n",
    "\n",
    "**1) 사람 교류방식 vs 컴퓨터 교류방식:**\n",
    "> <center><img src='Image/Basic/Programming_ManVsComputer.png' width='800'></center>\n",
    "\n",
    "**2) 실제 교류방식:** 반복적으로 피드백을 업데이트 하며 `관계를 업데이트`\n",
    "> <center><img src='Image/Basic/Programming_RealCommunication.png' width='600'></center>\n",
    "\n",
    "**3) 데이터과학 작동방식: 입력(x)/처리(f)/출력(y)/검증(e)**\n",
    "- **이상적:**\n",
    "> <center><img src='Image/Basic/Programming_BusinessProcess2.png' width='900'></center>\n",
    "\n",
    "- **현실적:** 끊없는(?) 학습과 예측의 `무한반복` 기반, 끝인 줄 알았는데 반쪽짜리\n",
    "> <center><img src='Image/Basic/DataSplit_Concept1.png' width='900'></center>\n",
    "> <center><img src='Image/Basic/DataSplit_Concept2.png' width='900'></center>\n",
    "> <center><img src='Image/Basic/Analysis_Process.png' width='900'></center>\n"
   ]
  },
  {
   "cell_type": "markdown",
   "metadata": {},
   "source": [
    "## 다른부분: 같다 vs 할당한다\n",
    "\n",
    "- **사람의 사고:** \"나\"와 \"KK\"는 같다\n",
    "- **프로그래밍 사고:** \"나\"는 \"KK\"라고 할당한다(반영한다)\n",
    "\n",
    "```python\n",
    "I = \"KK\"\n",
    "print(I)\n",
    "KK\n",
    "```\n",
    "\n",
    "- **사람의 사고:** \"나\"와 \"KK\"는 같고, \"너\"는 \"Korea\"와 같고, \"나\"는 \"너\"와 같다. Why Korea?\n",
    "- **프로그래밍 사고:** \"나\"는 \"KK\"로 할당하고, \"너\"는 \"Korea\"로 할당하고, \"나\"는 \"너\"로 할당했다.\n",
    "\n",
    "```python\n",
    "I = \"KK\"\n",
    "You = \"Korea\"\n",
    "I = You\n",
    "print(I)\n",
    "Korea\n",
    "```"
   ]
  },
  {
   "cell_type": "code",
   "execution_count": 3,
   "metadata": {
    "ExecuteTime": {
     "end_time": "2023-01-05T04:52:38.983172Z",
     "start_time": "2023-01-05T04:52:38.970158Z"
    }
   },
   "outputs": [
    {
     "name": "stdout",
     "output_type": "stream",
     "text": [
      "KK\n"
     ]
    }
   ],
   "source": [
    "# Test\n",
    "I = 'KK'\n",
    "print(I)"
   ]
  },
  {
   "cell_type": "code",
   "execution_count": 4,
   "metadata": {
    "ExecuteTime": {
     "end_time": "2023-01-05T04:52:38.999081Z",
     "start_time": "2023-01-05T04:52:38.985119Z"
    }
   },
   "outputs": [
    {
     "name": "stdout",
     "output_type": "stream",
     "text": [
      "Korea\n"
     ]
    }
   ],
   "source": [
    "# Test\n",
    "I = \"KK\"\n",
    "You = \"Korea\"\n",
    "I = You\n",
    "print(I)"
   ]
  },
  {
   "cell_type": "code",
   "execution_count": 5,
   "metadata": {
    "ExecuteTime": {
     "end_time": "2023-01-05T04:52:39.015040Z",
     "start_time": "2023-01-05T04:52:39.001075Z"
    }
   },
   "outputs": [
    {
     "name": "stdout",
     "output_type": "stream",
     "text": [
      "Korea Korea\n"
     ]
    }
   ],
   "source": [
    "print(I, You)"
   ]
  },
  {
   "cell_type": "markdown",
   "metadata": {},
   "source": [
    "# **파이썬이 이해하는 데이터 형태**\n",
    "\n",
    "- **목적:** 데이터분석과 프로그래밍 과정에서 파이썬이 이해할 수 있는 데이터의 형태로 입력하고 출력됨\n",
    "> - Y = f(X)에서 입력(X)과 그리고 출력(Y)의 형태를 이해한다\n",
    "\n",
    "<center><img src='Image/Basic/Basic_DataType.PNG' width='1000'></center>\n",
    "\n",
    "- **데이터 값 핸들링:** 인덱스, 인덱싱, 슬라이싱\n",
    "> - **인덱스(Index):** 데이터 값의 순서를 의미하고 Python에선 1이 아닌 0부터 순서 시작(영어권 문화)\n",
    "> <center><img src='Image/Basic/Basic_Index.png' width='400'></center>\n",
    ">\n",
    "> - **인덱싱(Indexing):** 인덱스를 사용하여 데이터의 값을 불러오는 것\n",
    ">> 데이터형[인덱스]\n",
    "> ```python\n",
    "'Ready'[3]    # d\n",
    "[1,2,3][2]    # 3\n",
    "A = 'My Name'\n",
    "A[3]    # N\n",
    ">```\n",
    ">\n",
    "> - **슬라이싱(Slicing):** 특정 인덱스가 아니라 일정 인덱스 범위의 값을 불러오는 것\n",
    "> <center><img src='Image/Basic/Basic_Slicing.png' width='400'></center>\n",
    ">\n",
    "> ```python\n",
    "A = [2,4,6,8,10,12,14]\n",
    "A[2:5]\n",
    ">```"
   ]
  },
  {
   "cell_type": "markdown",
   "metadata": {},
   "source": [
    "## 숫자형(Numbers): 숫자의 특성을 갖는 것"
   ]
  },
  {
   "cell_type": "code",
   "execution_count": 6,
   "metadata": {
    "ExecuteTime": {
     "end_time": "2023-01-05T04:52:39.030996Z",
     "start_time": "2023-01-05T04:52:39.017033Z"
    }
   },
   "outputs": [
    {
     "name": "stdout",
     "output_type": "stream",
     "text": [
      "10\n"
     ]
    }
   ],
   "source": [
    "# 10이라는 입력을 A라는 변수에 그대로 출력\n",
    "# print 함수는 값을 출력하는 기능\n",
    "A = 10\n",
    "print(A)    # shift + tab"
   ]
  },
  {
   "cell_type": "code",
   "execution_count": 7,
   "metadata": {
    "ExecuteTime": {
     "end_time": "2023-01-05T04:52:39.046989Z",
     "start_time": "2023-01-05T04:52:39.033025Z"
    }
   },
   "outputs": [
    {
     "data": {
      "text/plain": [
       "10"
      ]
     },
     "execution_count": 7,
     "metadata": {},
     "output_type": "execute_result"
    }
   ],
   "source": [
    "# 기본적으로 마지막줄은 자동 출력기능이라서 print를 사용하지 않아도 됨\n",
    "A = 10\n",
    "A"
   ]
  },
  {
   "cell_type": "code",
   "execution_count": 8,
   "metadata": {
    "ExecuteTime": {
     "end_time": "2023-01-05T04:52:39.062909Z",
     "start_time": "2023-01-05T04:52:39.049947Z"
    }
   },
   "outputs": [
    {
     "data": {
      "text/plain": [
       "10"
      ]
     },
     "execution_count": 8,
     "metadata": {},
     "output_type": "execute_result"
    }
   ],
   "source": [
    "# 마지막줄 이외의 줄은 print, display 함수를 쓰지 않으면 자동 출력되지 않음\n",
    "A = 10\n",
    "A\n",
    "A"
   ]
  },
  {
   "cell_type": "code",
   "execution_count": 9,
   "metadata": {
    "ExecuteTime": {
     "end_time": "2023-01-05T04:52:39.077905Z",
     "start_time": "2023-01-05T04:52:39.064905Z"
    }
   },
   "outputs": [
    {
     "name": "stdout",
     "output_type": "stream",
     "text": [
      "10\n"
     ]
    },
    {
     "data": {
      "text/plain": [
       "10"
      ]
     },
     "execution_count": 9,
     "metadata": {},
     "output_type": "execute_result"
    }
   ],
   "source": [
    "A = 10\n",
    "print(A)\n",
    "A"
   ]
  },
  {
   "cell_type": "code",
   "execution_count": 10,
   "metadata": {
    "ExecuteTime": {
     "end_time": "2023-01-05T04:52:39.092830Z",
     "start_time": "2023-01-05T04:52:39.079866Z"
    }
   },
   "outputs": [
    {
     "data": {
      "text/plain": [
       "int"
      ]
     },
     "execution_count": 10,
     "metadata": {},
     "output_type": "execute_result"
    }
   ],
   "source": [
    "# A+10 입력받아 type함수로 형태를 처리하고 output에 출력\n",
    "# 자료형을 확인할 때는 type 함수를 이용함\n",
    "output = type(A+10)\n",
    "output"
   ]
  },
  {
   "cell_type": "code",
   "execution_count": 11,
   "metadata": {
    "ExecuteTime": {
     "end_time": "2023-01-05T04:52:39.108787Z",
     "start_time": "2023-01-05T04:52:39.096819Z"
    }
   },
   "outputs": [
    {
     "name": "stdout",
     "output_type": "stream",
     "text": [
      "110\n"
     ]
    }
   ],
   "source": [
    "A = A + 100\n",
    "print(A)"
   ]
  },
  {
   "cell_type": "code",
   "execution_count": 12,
   "metadata": {
    "ExecuteTime": {
     "end_time": "2023-01-05T04:52:39.124745Z",
     "start_time": "2023-01-05T04:52:39.110782Z"
    }
   },
   "outputs": [
    {
     "name": "stdout",
     "output_type": "stream",
     "text": [
      "1110\n"
     ]
    }
   ],
   "source": [
    "print(A + 1000)"
   ]
  },
  {
   "cell_type": "code",
   "execution_count": 13,
   "metadata": {
    "ExecuteTime": {
     "end_time": "2023-01-05T04:52:39.139707Z",
     "start_time": "2023-01-05T04:52:39.127737Z"
    }
   },
   "outputs": [
    {
     "name": "stdout",
     "output_type": "stream",
     "text": [
      "Final A is  110\n"
     ]
    }
   ],
   "source": [
    "# print 함수는 임의의 문자화 함께 출력 가능\n",
    "print('Final A is ', A)"
   ]
  },
  {
   "cell_type": "code",
   "execution_count": 14,
   "metadata": {
    "ExecuteTime": {
     "end_time": "2023-01-05T04:52:39.154664Z",
     "start_time": "2023-01-05T04:52:39.141701Z"
    }
   },
   "outputs": [
    {
     "data": {
      "text/plain": [
       "float"
      ]
     },
     "execution_count": 14,
     "metadata": {},
     "output_type": "execute_result"
    }
   ],
   "source": [
    "B = 3.14\n",
    "type(B)"
   ]
  },
  {
   "cell_type": "code",
   "execution_count": 15,
   "metadata": {
    "ExecuteTime": {
     "end_time": "2023-01-05T04:52:39.170622Z",
     "start_time": "2023-01-05T04:52:39.156694Z"
    }
   },
   "outputs": [
    {
     "data": {
      "text/plain": [
       "(int, float)"
      ]
     },
     "execution_count": 15,
     "metadata": {},
     "output_type": "execute_result"
    }
   ],
   "source": [
    "type(A), type(B)"
   ]
  },
  {
   "cell_type": "code",
   "execution_count": 16,
   "metadata": {
    "ExecuteTime": {
     "end_time": "2023-01-05T04:52:39.186620Z",
     "start_time": "2023-01-05T04:52:39.172619Z"
    }
   },
   "outputs": [
    {
     "data": {
      "text/plain": [
       "113.14"
      ]
     },
     "execution_count": 16,
     "metadata": {},
     "output_type": "execute_result"
    }
   ],
   "source": [
    "# 계산기처럼 쉽게 연산도 가능\n",
    "A + B"
   ]
  },
  {
   "cell_type": "code",
   "execution_count": 17,
   "metadata": {
    "ExecuteTime": {
     "end_time": "2023-01-05T04:52:39.202536Z",
     "start_time": "2023-01-05T04:52:39.188574Z"
    }
   },
   "outputs": [
    {
     "data": {
      "text/plain": [
       "float"
      ]
     },
     "execution_count": 17,
     "metadata": {},
     "output_type": "execute_result"
    }
   ],
   "source": [
    "# int와 float가 더해지면 가장 영역이 넓은 float 형태로 저장\n",
    "type(A + B)"
   ]
  },
  {
   "cell_type": "markdown",
   "metadata": {},
   "source": [
    "## 불리언(Boolean): 참과 거짓으로 표현하는 것"
   ]
  },
  {
   "cell_type": "code",
   "execution_count": 18,
   "metadata": {
    "ExecuteTime": {
     "end_time": "2023-01-05T04:52:39.218494Z",
     "start_time": "2023-01-05T04:52:39.204532Z"
    }
   },
   "outputs": [
    {
     "data": {
      "text/plain": [
       "True"
      ]
     },
     "execution_count": 18,
     "metadata": {},
     "output_type": "execute_result"
    }
   ],
   "source": [
    "# 0이 아닌 숫자는 True\n",
    "bool(A)"
   ]
  },
  {
   "cell_type": "code",
   "execution_count": 19,
   "metadata": {
    "ExecuteTime": {
     "end_time": "2023-01-05T04:52:39.233454Z",
     "start_time": "2023-01-05T04:52:39.220524Z"
    }
   },
   "outputs": [
    {
     "data": {
      "text/plain": [
       "False"
      ]
     },
     "execution_count": 19,
     "metadata": {},
     "output_type": "execute_result"
    }
   ],
   "source": [
    "# 비어있는 문자는 False\n",
    "bool('')"
   ]
  },
  {
   "cell_type": "code",
   "execution_count": 20,
   "metadata": {
    "ExecuteTime": {
     "end_time": "2023-01-05T04:52:39.248462Z",
     "start_time": "2023-01-05T04:52:39.235450Z"
    }
   },
   "outputs": [
    {
     "data": {
      "text/plain": [
       "True"
      ]
     },
     "execution_count": 20,
     "metadata": {},
     "output_type": "execute_result"
    }
   ],
   "source": [
    "bool(' ')"
   ]
  },
  {
   "cell_type": "code",
   "execution_count": 21,
   "metadata": {
    "ExecuteTime": {
     "end_time": "2023-01-05T04:52:39.263407Z",
     "start_time": "2023-01-05T04:52:39.250443Z"
    }
   },
   "outputs": [
    {
     "data": {
      "text/plain": [
       "True"
      ]
     },
     "execution_count": 21,
     "metadata": {},
     "output_type": "execute_result"
    }
   ],
   "source": [
    "bool('python')"
   ]
  },
  {
   "cell_type": "code",
   "execution_count": 22,
   "metadata": {
    "ExecuteTime": {
     "end_time": "2023-01-05T04:52:39.278383Z",
     "start_time": "2023-01-05T04:52:39.266369Z"
    }
   },
   "outputs": [
    {
     "data": {
      "text/plain": [
       "False"
      ]
     },
     "execution_count": 22,
     "metadata": {},
     "output_type": "execute_result"
    }
   ],
   "source": [
    "bool(0)"
   ]
  },
  {
   "cell_type": "code",
   "execution_count": 23,
   "metadata": {
    "ExecuteTime": {
     "end_time": "2023-01-05T04:52:39.294293Z",
     "start_time": "2023-01-05T04:52:39.280330Z"
    }
   },
   "outputs": [
    {
     "data": {
      "text/plain": [
       "True"
      ]
     },
     "execution_count": 23,
     "metadata": {},
     "output_type": "execute_result"
    }
   ],
   "source": [
    "bool(1)"
   ]
  },
  {
   "cell_type": "code",
   "execution_count": 24,
   "metadata": {
    "ExecuteTime": {
     "end_time": "2023-01-05T04:52:39.310247Z",
     "start_time": "2023-01-05T04:52:39.296285Z"
    }
   },
   "outputs": [
    {
     "data": {
      "text/plain": [
       "True"
      ]
     },
     "execution_count": 24,
     "metadata": {},
     "output_type": "execute_result"
    }
   ],
   "source": [
    "bool(100)"
   ]
  },
  {
   "cell_type": "code",
   "execution_count": 25,
   "metadata": {
    "ExecuteTime": {
     "end_time": "2023-01-05T04:52:39.325793Z",
     "start_time": "2023-01-05T04:52:39.312243Z"
    }
   },
   "outputs": [
    {
     "data": {
      "text/plain": [
       "False"
      ]
     },
     "execution_count": 25,
     "metadata": {},
     "output_type": "execute_result"
    }
   ],
   "source": [
    "bool(False)"
   ]
  },
  {
   "cell_type": "code",
   "execution_count": 26,
   "metadata": {
    "ExecuteTime": {
     "end_time": "2023-01-05T04:52:39.341751Z",
     "start_time": "2023-01-05T04:52:39.327788Z"
    }
   },
   "outputs": [
    {
     "data": {
      "text/plain": [
       "True"
      ]
     },
     "execution_count": 26,
     "metadata": {},
     "output_type": "execute_result"
    }
   ],
   "source": [
    "bool(True)"
   ]
  },
  {
   "cell_type": "code",
   "execution_count": 27,
   "metadata": {
    "ExecuteTime": {
     "end_time": "2023-01-05T04:52:39.357742Z",
     "start_time": "2023-01-05T04:52:39.342748Z"
    }
   },
   "outputs": [
    {
     "data": {
      "text/plain": [
       "False"
      ]
     },
     "execution_count": 27,
     "metadata": {},
     "output_type": "execute_result"
    }
   ],
   "source": [
    "# 파이썬은 사람의 언어중 영어의 어순을 그대로 사용하는 특징\n",
    "# I가 You인지 의문문을 쓰면 True/False 반환\n",
    "I = 'KK'\n",
    "You = 'Korea'\n",
    "I is You"
   ]
  },
  {
   "cell_type": "code",
   "execution_count": 28,
   "metadata": {
    "ExecuteTime": {
     "end_time": "2023-01-05T04:52:39.373666Z",
     "start_time": "2023-01-05T04:52:39.359703Z"
    }
   },
   "outputs": [
    {
     "data": {
      "text/plain": [
       "True"
      ]
     },
     "execution_count": 28,
     "metadata": {},
     "output_type": "execute_result"
    }
   ],
   "source": [
    "I = You\n",
    "I is You"
   ]
  },
  {
   "cell_type": "markdown",
   "metadata": {},
   "source": [
    "## 문자열(Strings): 따옴표 안에 입력된 것\n",
    "\n",
    "- 큰 따옴표(\" \")나 작은 따옴표 (' ')로 감싸진 부분을 파이썬은 문자열로 인식\n",
    "```python\n",
    "'hello!'\n",
    "'3.14'\n",
    "\"3.14\"\n",
    "```\n",
    "\n",
    "- 따옴표로 감싸진 문자열 내에서 **`따옴표`** 자체를 문자열로 반영할때는 다른 종류의 따옴표 사용\n",
    "```python\n",
    "'오늘 수업은 \"여기까지\" 하겠습니다!'    # 가능\n",
    "\"오늘 수업은 '여기까지' 하겠습니다!\"    # 가능\n",
    "\"오늘 수업은 \"여기까지\" 하겠습니다!\"    # 불가능\n",
    "'오늘 수업은 '여기까지' 하겠습니다!'    # 불가능\n",
    "```\n",
    "\n",
    "- 여러줄의 문자열을 반영할때는 **`따옴표 3개`** 로 감싸서 사용\n",
    "```python\n",
    "'오늘 수업은 \n",
    "\"여기까지\" 하겠습니다!'    # 불가능\n",
    "'''오늘 수업은\n",
    "\"여기까지\" 하겠습니다!'''    # 가능\n",
    "\"\"\"오늘 수업은\n",
    "'여기까지' 하겠습니다!\"\"\"    # 가능\n",
    "```\n"
   ]
  },
  {
   "cell_type": "code",
   "execution_count": 29,
   "metadata": {
    "ExecuteTime": {
     "end_time": "2023-01-05T04:52:39.389624Z",
     "start_time": "2023-01-05T04:52:39.380648Z"
    }
   },
   "outputs": [
    {
     "data": {
      "text/plain": [
       "str"
      ]
     },
     "execution_count": 29,
     "metadata": {},
     "output_type": "execute_result"
    }
   ],
   "source": [
    "I = 'KK'\n",
    "type(I)"
   ]
  },
  {
   "cell_type": "code",
   "execution_count": 30,
   "metadata": {
    "ExecuteTime": {
     "end_time": "2023-01-05T04:52:39.404584Z",
     "start_time": "2023-01-05T04:52:39.390620Z"
    }
   },
   "outputs": [
    {
     "data": {
      "text/plain": [
       "'My name is KK'"
      ]
     },
     "execution_count": 30,
     "metadata": {},
     "output_type": "execute_result"
    }
   ],
   "source": [
    "Intro = 'My name is KK'\n",
    "Intro"
   ]
  },
  {
   "cell_type": "code",
   "execution_count": 31,
   "metadata": {
    "ExecuteTime": {
     "end_time": "2023-01-05T04:52:39.420173Z",
     "start_time": "2023-01-05T04:52:39.406650Z"
    }
   },
   "outputs": [
    {
     "data": {
      "text/plain": [
       "str"
      ]
     },
     "execution_count": 31,
     "metadata": {},
     "output_type": "execute_result"
    }
   ],
   "source": [
    "type(Intro)"
   ]
  },
  {
   "cell_type": "code",
   "execution_count": 32,
   "metadata": {
    "ExecuteTime": {
     "end_time": "2023-01-05T04:52:39.436130Z",
     "start_time": "2023-01-05T04:52:39.422168Z"
    }
   },
   "outputs": [
    {
     "data": {
      "text/plain": [
       "'My name is KKMy name is KK'"
      ]
     },
     "execution_count": 32,
     "metadata": {},
     "output_type": "execute_result"
    }
   ],
   "source": [
    "# 다른 프로그래밍 언어와 달리 숫자가 아닌 문자로 숫자 연산 적용 가능\n",
    "Intro*2"
   ]
  },
  {
   "cell_type": "code",
   "execution_count": 33,
   "metadata": {
    "ExecuteTime": {
     "end_time": "2023-01-05T04:52:39.452088Z",
     "start_time": "2023-01-05T04:52:39.438129Z"
    }
   },
   "outputs": [
    {
     "data": {
      "text/plain": [
       "str"
      ]
     },
     "execution_count": 33,
     "metadata": {},
     "output_type": "execute_result"
    }
   ],
   "source": [
    "Intro = 'My name is KK & 1.0'\n",
    "type(Intro)"
   ]
  },
  {
   "cell_type": "code",
   "execution_count": 34,
   "metadata": {
    "ExecuteTime": {
     "end_time": "2023-01-05T04:52:39.468086Z",
     "start_time": "2023-01-05T04:52:39.453086Z"
    }
   },
   "outputs": [
    {
     "data": {
      "text/plain": [
       "19"
      ]
     },
     "execution_count": 34,
     "metadata": {},
     "output_type": "execute_result"
    }
   ],
   "source": [
    "# 문자열의 길이 또는 갯수\n",
    "len(Intro)"
   ]
  },
  {
   "cell_type": "code",
   "execution_count": 35,
   "metadata": {
    "ExecuteTime": {
     "end_time": "2023-01-05T04:52:39.484002Z",
     "start_time": "2023-01-05T04:52:39.470042Z"
    }
   },
   "outputs": [
    {
     "data": {
      "text/plain": [
       "'M'"
      ]
     },
     "execution_count": 35,
     "metadata": {},
     "output_type": "execute_result"
    }
   ],
   "source": [
    "# 문자열의 원소를 선택할 때는 대괄호안에 순서를 나타내는 인덱스를 입력\n",
    "# 파이썬의 순서는 \"0\"부터 시작함\n",
    "Intro[0]"
   ]
  },
  {
   "cell_type": "code",
   "execution_count": 36,
   "metadata": {
    "ExecuteTime": {
     "end_time": "2023-01-05T04:52:39.498962Z",
     "start_time": "2023-01-05T04:52:39.485998Z"
    }
   },
   "outputs": [
    {
     "data": {
      "text/plain": [
       "'y'"
      ]
     },
     "execution_count": 36,
     "metadata": {},
     "output_type": "execute_result"
    }
   ],
   "source": [
    "Intro[1]"
   ]
  },
  {
   "cell_type": "code",
   "execution_count": 37,
   "metadata": {
    "ExecuteTime": {
     "end_time": "2023-01-05T04:52:39.513958Z",
     "start_time": "2023-01-05T04:52:39.499962Z"
    },
    "slideshow": {
     "slide_type": "slide"
    }
   },
   "outputs": [
    {
     "data": {
      "text/plain": [
       "'0'"
      ]
     },
     "execution_count": 37,
     "metadata": {},
     "output_type": "execute_result"
    }
   ],
   "source": [
    "Intro[18]"
   ]
  },
  {
   "cell_type": "code",
   "execution_count": 38,
   "metadata": {
    "ExecuteTime": {
     "end_time": "2023-01-05T04:52:39.528882Z",
     "start_time": "2023-01-05T04:52:39.516948Z"
    },
    "slideshow": {
     "slide_type": "slide"
    }
   },
   "outputs": [],
   "source": [
    "# 길이를 벗어난 인덱스를 입력하면 오류\n",
    "# Intro[19]"
   ]
  },
  {
   "cell_type": "code",
   "execution_count": 39,
   "metadata": {
    "ExecuteTime": {
     "end_time": "2023-01-05T04:52:39.543871Z",
     "start_time": "2023-01-05T04:52:39.529913Z"
    }
   },
   "outputs": [
    {
     "data": {
      "text/plain": [
       "'0'"
      ]
     },
     "execution_count": 39,
     "metadata": {},
     "output_type": "execute_result"
    }
   ],
   "source": [
    "# 뒤에서부터 값을 추출가능\n",
    "# 뒤에서의 추출순서는 \"-1\"부터 시작함\n",
    "Intro[-1]"
   ]
  },
  {
   "cell_type": "code",
   "execution_count": 40,
   "metadata": {
    "ExecuteTime": {
     "end_time": "2023-01-05T04:52:39.559800Z",
     "start_time": "2023-01-05T04:52:39.546835Z"
    }
   },
   "outputs": [
    {
     "data": {
      "text/plain": [
       "'.'"
      ]
     },
     "execution_count": 40,
     "metadata": {},
     "output_type": "execute_result"
    }
   ],
   "source": [
    "Intro[-2]"
   ]
  },
  {
   "cell_type": "code",
   "execution_count": 41,
   "metadata": {
    "ExecuteTime": {
     "end_time": "2023-01-05T04:52:39.574759Z",
     "start_time": "2023-01-05T04:52:39.561794Z"
    }
   },
   "outputs": [
    {
     "data": {
      "text/plain": [
       "'My n'"
      ]
     },
     "execution_count": 41,
     "metadata": {},
     "output_type": "execute_result"
    }
   ],
   "source": [
    "# 여러개의 문자열을 선택할 때는 범위로 입력하되 [시작인텍스 이상:끝인덱스 미만] 형식\n",
    "# 끝인덱스는 포함되지 않음\n",
    "Intro[0:4]"
   ]
  },
  {
   "cell_type": "code",
   "execution_count": 42,
   "metadata": {
    "ExecuteTime": {
     "end_time": "2023-01-05T04:52:39.589720Z",
     "start_time": "2023-01-05T04:52:39.577752Z"
    }
   },
   "outputs": [
    {
     "data": {
      "text/plain": [
       "'& 1.'"
      ]
     },
     "execution_count": 42,
     "metadata": {},
     "output_type": "execute_result"
    }
   ],
   "source": [
    "Intro[-5:-1]"
   ]
  },
  {
   "cell_type": "code",
   "execution_count": 43,
   "metadata": {
    "ExecuteTime": {
     "end_time": "2023-01-05T04:52:39.605677Z",
     "start_time": "2023-01-05T04:52:39.590716Z"
    }
   },
   "outputs": [],
   "source": [
    "# 시작인텍스와 끝인텍스를 생략하면 자동으로 시작이나 끝까지 임을 인식함"
   ]
  },
  {
   "cell_type": "code",
   "execution_count": 44,
   "metadata": {
    "ExecuteTime": {
     "end_time": "2023-01-05T04:52:39.621634Z",
     "start_time": "2023-01-05T04:52:39.606674Z"
    }
   },
   "outputs": [
    {
     "data": {
      "text/plain": [
       "'My n'"
      ]
     },
     "execution_count": 44,
     "metadata": {},
     "output_type": "execute_result"
    }
   ],
   "source": [
    "Intro[:4]"
   ]
  },
  {
   "cell_type": "code",
   "execution_count": 45,
   "metadata": {
    "ExecuteTime": {
     "end_time": "2023-01-05T04:52:39.637592Z",
     "start_time": "2023-01-05T04:52:39.623629Z"
    }
   },
   "outputs": [
    {
     "data": {
      "text/plain": [
       "'& 1.0'"
      ]
     },
     "execution_count": 45,
     "metadata": {},
     "output_type": "execute_result"
    }
   ],
   "source": [
    "Intro[-5:]"
   ]
  },
  {
   "cell_type": "code",
   "execution_count": 46,
   "metadata": {
    "ExecuteTime": {
     "end_time": "2023-01-05T04:52:39.653548Z",
     "start_time": "2023-01-05T04:52:39.639588Z"
    }
   },
   "outputs": [
    {
     "data": {
      "text/plain": [
       "'My name is KK & 1.0 Haha'"
      ]
     },
     "execution_count": 46,
     "metadata": {},
     "output_type": "execute_result"
    }
   ],
   "source": [
    "# 더하기로 쉽게 문자열을 붙일 수 있음\n",
    "# 다른 프로그래밍 언어에선 숫자가 아닌 문자에 더하기 연산 불가\n",
    "Intro + ' Haha'"
   ]
  },
  {
   "cell_type": "code",
   "execution_count": 47,
   "metadata": {
    "ExecuteTime": {
     "end_time": "2023-01-05T04:52:39.669507Z",
     "start_time": "2023-01-05T04:52:39.655545Z"
    }
   },
   "outputs": [
    {
     "data": {
      "text/plain": [
       "'110 is your age'"
      ]
     },
     "execution_count": 47,
     "metadata": {},
     "output_type": "execute_result"
    }
   ],
   "source": [
    "# 숫자를 문자로 바꾸기 위해서 str 함수를 사용\n",
    "# %가 위치한 곳에 값을 입력받아 출력\n",
    "'%s is your age' % str(A)"
   ]
  },
  {
   "cell_type": "code",
   "execution_count": 48,
   "metadata": {
    "ExecuteTime": {
     "end_time": "2023-01-05T04:52:39.685464Z",
     "start_time": "2023-01-05T04:52:39.672500Z"
    }
   },
   "outputs": [
    {
     "data": {
      "text/plain": [
       "'110 is your age'"
      ]
     },
     "execution_count": 48,
     "metadata": {},
     "output_type": "execute_result"
    }
   ],
   "source": [
    "str(A) + ' is your age'"
   ]
  },
  {
   "cell_type": "code",
   "execution_count": 49,
   "metadata": {
    "ExecuteTime": {
     "end_time": "2023-01-05T04:52:39.700424Z",
     "start_time": "2023-01-05T04:52:39.686462Z"
    }
   },
   "outputs": [
    {
     "data": {
      "text/plain": [
       "'I ate 10 apples. So I was sick for three days.'"
      ]
     },
     "execution_count": 49,
     "metadata": {},
     "output_type": "execute_result"
    }
   ],
   "source": [
    "# % 호로 여러개의 문자열 입력받아 출력 가능\n",
    "number = 10\n",
    "day = 'three'\n",
    "'I ate %d apples. So I was sick for %s days.' % (number, day)"
   ]
  },
  {
   "cell_type": "code",
   "execution_count": 50,
   "metadata": {
    "ExecuteTime": {
     "end_time": "2023-01-05T04:52:39.715384Z",
     "start_time": "2023-01-05T04:52:39.702420Z"
    }
   },
   "outputs": [
    {
     "data": {
      "text/plain": [
       "'I ate 10 apples. So I was sick for three days.'"
      ]
     },
     "execution_count": 50,
     "metadata": {},
     "output_type": "execute_result"
    }
   ],
   "source": [
    "'I ate {0} apples. So I was sick for {1} days.'.format(10, 'three')"
   ]
  },
  {
   "cell_type": "code",
   "execution_count": 51,
   "metadata": {
    "ExecuteTime": {
     "end_time": "2023-01-05T04:52:39.731340Z",
     "start_time": "2023-01-05T04:52:39.716381Z"
    }
   },
   "outputs": [
    {
     "data": {
      "text/plain": [
       "'I ate {number} apples. So I was sick for {day} days.'"
      ]
     },
     "execution_count": 51,
     "metadata": {},
     "output_type": "execute_result"
    }
   ],
   "source": [
    "number = 10\n",
    "day = 'three'\n",
    "'I ate {number} apples. So I was sick for {day} days.'"
   ]
  },
  {
   "cell_type": "code",
   "execution_count": 52,
   "metadata": {
    "ExecuteTime": {
     "end_time": "2023-01-05T04:52:39.747297Z",
     "start_time": "2023-01-05T04:52:39.732337Z"
    }
   },
   "outputs": [
    {
     "data": {
      "text/plain": [
       "'I ate 10 apples. So I was sick for three days.'"
      ]
     },
     "execution_count": 52,
     "metadata": {},
     "output_type": "execute_result"
    }
   ],
   "source": [
    "number = 10\n",
    "day = 'three'\n",
    "f'I ate {number} apples. So I was sick for {day} days.'"
   ]
  },
  {
   "cell_type": "code",
   "execution_count": 53,
   "metadata": {
    "ExecuteTime": {
     "end_time": "2023-01-05T04:52:39.763256Z",
     "start_time": "2023-01-05T04:52:39.748295Z"
    }
   },
   "outputs": [
    {
     "data": {
      "text/plain": [
       "'M,y, ,n,a,m,e, ,i,s, ,K,K, ,&, ,1,.,0'"
      ]
     },
     "execution_count": 53,
     "metadata": {},
     "output_type": "execute_result"
    }
   ],
   "source": [
    "# join 함수로 반복적으로 값을 사이에 붙일 수 있음\n",
    "# 접착문자열.join(리스트)\n",
    "# 리스트 값들은 모두 문자열에서만 가능\n",
    "','.join(Intro)"
   ]
  },
  {
   "cell_type": "code",
   "execution_count": 54,
   "metadata": {
    "ExecuteTime": {
     "end_time": "2023-01-05T04:52:39.779213Z",
     "start_time": "2023-01-05T04:52:39.765251Z"
    }
   },
   "outputs": [
    {
     "data": {
      "text/plain": [
       "'M y   n a m e   i s   K K   &   1 . 0'"
      ]
     },
     "execution_count": 54,
     "metadata": {},
     "output_type": "execute_result"
    }
   ],
   "source": [
    "' '.join(Intro)"
   ]
  },
  {
   "cell_type": "code",
   "execution_count": 55,
   "metadata": {
    "ExecuteTime": {
     "end_time": "2023-01-05T04:52:39.795170Z",
     "start_time": "2023-01-05T04:52:39.780212Z"
    }
   },
   "outputs": [
    {
     "data": {
      "text/plain": [
       "'0.1 & KK si eman yM'"
      ]
     },
     "execution_count": 55,
     "metadata": {},
     "output_type": "execute_result"
    }
   ],
   "source": [
    "# reversed 함수로 쉽게 값을 뒤집을 수 있음\n",
    "''.join(reversed(Intro))"
   ]
  },
  {
   "cell_type": "code",
   "execution_count": 56,
   "metadata": {
    "ExecuteTime": {
     "end_time": "2023-01-05T04:52:39.811127Z",
     "start_time": "2023-01-05T04:52:39.797165Z"
    }
   },
   "outputs": [
    {
     "data": {
      "text/plain": [
       "'My name is KK & 1.0'"
      ]
     },
     "execution_count": 56,
     "metadata": {},
     "output_type": "execute_result"
    }
   ],
   "source": [
    "# Intro[시작:끝:간격]\n",
    "Intro[::]"
   ]
  },
  {
   "cell_type": "code",
   "execution_count": 57,
   "metadata": {
    "ExecuteTime": {
     "end_time": "2023-01-05T04:52:39.826088Z",
     "start_time": "2023-01-05T04:52:39.812160Z"
    }
   },
   "outputs": [
    {
     "data": {
      "text/plain": [
       "'My name is KK & 1.0'"
      ]
     },
     "execution_count": 57,
     "metadata": {},
     "output_type": "execute_result"
    }
   ],
   "source": [
    "Intro[::1]"
   ]
  },
  {
   "cell_type": "code",
   "execution_count": 58,
   "metadata": {
    "ExecuteTime": {
     "end_time": "2023-01-05T04:52:39.841048Z",
     "start_time": "2023-01-05T04:52:39.828083Z"
    }
   },
   "outputs": [
    {
     "data": {
      "text/plain": [
       "'M aei K&10'"
      ]
     },
     "execution_count": 58,
     "metadata": {},
     "output_type": "execute_result"
    }
   ],
   "source": [
    "Intro[::2]"
   ]
  },
  {
   "cell_type": "code",
   "execution_count": 59,
   "metadata": {
    "ExecuteTime": {
     "end_time": "2023-01-05T04:52:39.857005Z",
     "start_time": "2023-01-05T04:52:39.843043Z"
    }
   },
   "outputs": [
    {
     "data": {
      "text/plain": [
       "'0.1 & KK si eman yM'"
      ]
     },
     "execution_count": 59,
     "metadata": {},
     "output_type": "execute_result"
    }
   ],
   "source": [
    "# 간격도 음수를 사용해 뒤에서 앞으로 추출 가능\n",
    "Intro[::-1]"
   ]
  },
  {
   "cell_type": "code",
   "execution_count": 60,
   "metadata": {
    "ExecuteTime": {
     "end_time": "2023-01-05T04:52:39.872964Z",
     "start_time": "2023-01-05T04:52:39.859000Z"
    }
   },
   "outputs": [
    {
     "data": {
      "text/plain": [
       "['My', 'name', 'is', 'KK', '&', '1.0']"
      ]
     },
     "execution_count": 60,
     "metadata": {},
     "output_type": "execute_result"
    }
   ],
   "source": [
    "# 문자열.split(기준) 함수로 문자열 나누기\n",
    "# '기준'은 쪼개고 나서 사라짐\n",
    "# '기준'이 없으면 자동으로 '공백'을 기준으로 사용\n",
    "# 문자열이 쪼개진 후 결과는 리스트 형태로 반환\n",
    "Intro.split(' ')"
   ]
  },
  {
   "cell_type": "code",
   "execution_count": 61,
   "metadata": {
    "ExecuteTime": {
     "end_time": "2023-01-05T04:52:39.888920Z",
     "start_time": "2023-01-05T04:52:39.873960Z"
    }
   },
   "outputs": [
    {
     "data": {
      "text/plain": [
       "'My'"
      ]
     },
     "execution_count": 61,
     "metadata": {},
     "output_type": "execute_result"
    }
   ],
   "source": [
    "Intro.split(' ')[0]"
   ]
  },
  {
   "cell_type": "code",
   "execution_count": 62,
   "metadata": {
    "ExecuteTime": {
     "end_time": "2023-01-05T04:52:39.904877Z",
     "start_time": "2023-01-05T04:52:39.890915Z"
    }
   },
   "outputs": [
    {
     "data": {
      "text/plain": [
       "2"
      ]
     },
     "execution_count": 62,
     "metadata": {},
     "output_type": "execute_result"
    }
   ],
   "source": [
    "# count 함수로 문자 개수 세기\n",
    "Intro.count('K')"
   ]
  },
  {
   "cell_type": "code",
   "execution_count": 63,
   "metadata": {
    "ExecuteTime": {
     "end_time": "2023-01-05T04:52:39.920835Z",
     "start_time": "2023-01-05T04:52:39.906873Z"
    }
   },
   "outputs": [
    {
     "data": {
      "text/plain": [
       "16"
      ]
     },
     "execution_count": 63,
     "metadata": {},
     "output_type": "execute_result"
    }
   ],
   "source": [
    "# find 함수로 위치 알 수 있음\n",
    "# Intro.find(1)\n",
    "Intro.find('1')"
   ]
  },
  {
   "cell_type": "code",
   "execution_count": 64,
   "metadata": {
    "ExecuteTime": {
     "end_time": "2023-01-05T04:52:39.936792Z",
     "start_time": "2023-01-05T04:52:39.922829Z"
    }
   },
   "outputs": [
    {
     "data": {
      "text/plain": [
       "-1"
      ]
     },
     "execution_count": 64,
     "metadata": {},
     "output_type": "execute_result"
    }
   ],
   "source": [
    "Intro.find('2')"
   ]
  },
  {
   "cell_type": "code",
   "execution_count": 65,
   "metadata": {
    "ExecuteTime": {
     "end_time": "2023-01-05T04:52:39.951751Z",
     "start_time": "2023-01-05T04:52:39.938786Z"
    }
   },
   "outputs": [
    {
     "data": {
      "text/plain": [
       "'MY NAME IS KK & 1.0'"
      ]
     },
     "execution_count": 65,
     "metadata": {},
     "output_type": "execute_result"
    }
   ],
   "source": [
    "# Upper / Lower 함수로 대소문자 변경 가능\n",
    "Intro.upper()"
   ]
  },
  {
   "cell_type": "code",
   "execution_count": 66,
   "metadata": {
    "ExecuteTime": {
     "end_time": "2023-01-05T04:52:39.966711Z",
     "start_time": "2023-01-05T04:52:39.952749Z"
    }
   },
   "outputs": [
    {
     "data": {
      "text/plain": [
       "'my name is kk & 1.0'"
      ]
     },
     "execution_count": 66,
     "metadata": {},
     "output_type": "execute_result"
    }
   ],
   "source": [
    "Intro.lower()"
   ]
  },
  {
   "cell_type": "code",
   "execution_count": 67,
   "metadata": {
    "ExecuteTime": {
     "end_time": "2023-01-05T04:52:39.982672Z",
     "start_time": "2023-01-05T04:52:39.969704Z"
    }
   },
   "outputs": [
    {
     "data": {
      "text/plain": [
       "'Your name is KK & 1.0'"
      ]
     },
     "execution_count": 67,
     "metadata": {},
     "output_type": "execute_result"
    }
   ],
   "source": [
    "# replace 함수로 문자열 바꾸기\n",
    "Intro.replace('My', 'Your')"
   ]
  },
  {
   "cell_type": "markdown",
   "metadata": {},
   "source": [
    "- **Question:** 아래 결과가 출력되도록 코딩하시오('매우'는 13번 등장함)\n",
    "\n",
    "```python\n",
    "파이썬은 매우매우매우매우매우매우매우매우매우매우매우매우매우 쉽다.\n",
    "```"
   ]
  },
  {
   "cell_type": "code",
   "execution_count": 68,
   "metadata": {
    "ExecuteTime": {
     "end_time": "2023-01-05T04:52:39.998629Z",
     "start_time": "2023-01-05T04:52:39.984664Z"
    }
   },
   "outputs": [
    {
     "data": {
      "text/plain": [
       "'파이쎤은 매우매우매우매우매우매우매우매우매우매우매우매우매우 쉽다'"
      ]
     },
     "execution_count": 68,
     "metadata": {},
     "output_type": "execute_result"
    }
   ],
   "source": [
    "A = '파이쎤은'\n",
    "B = '매우'\n",
    "C = '쉽다'\n",
    "A + ' ' + B*13 + ' ' + C"
   ]
  },
  {
   "cell_type": "code",
   "execution_count": 69,
   "metadata": {
    "ExecuteTime": {
     "end_time": "2023-01-05T04:52:40.013586Z",
     "start_time": "2023-01-05T04:52:40.001619Z"
    }
   },
   "outputs": [
    {
     "name": "stdout",
     "output_type": "stream",
     "text": [
      "파이쎤은 매우매우매우매우매우매우매우매우매우매우매우매우매우 쉽다\n"
     ]
    }
   ],
   "source": [
    "print('파이쎤은', '매우'*13, '쉽다')"
   ]
  },
  {
   "cell_type": "markdown",
   "metadata": {},
   "source": [
    "- **Question:** 아래 문장에서 슬라이싱을 통해 Trial and error와 ladder 단어를 추출하여 출력하시오\n",
    "\n",
    "```markdown\n",
    "'Trial and error' is a ladder that reaching for the truth.\n",
    "```"
   ]
  },
  {
   "cell_type": "code",
   "execution_count": 70,
   "metadata": {
    "ExecuteTime": {
     "end_time": "2023-01-05T04:52:40.028546Z",
     "start_time": "2023-01-05T04:52:40.015583Z"
    }
   },
   "outputs": [
    {
     "data": {
      "text/plain": [
       "'ladder'"
      ]
     },
     "execution_count": 70,
     "metadata": {},
     "output_type": "execute_result"
    }
   ],
   "source": [
    "Exam = 'Trial and error is a ladder that reaching for the truth.'\n",
    "Exam.split(' ')[5]"
   ]
  },
  {
   "cell_type": "markdown",
   "metadata": {},
   "source": [
    "## 리스트(Lists): 여러개의 값을 하나로 모아서 다룰 때 사용"
   ]
  },
  {
   "cell_type": "code",
   "execution_count": 71,
   "metadata": {
    "ExecuteTime": {
     "end_time": "2023-01-05T04:52:40.044506Z",
     "start_time": "2023-01-05T04:52:40.030541Z"
    }
   },
   "outputs": [
    {
     "data": {
      "text/plain": [
       "[1, 2, 3, 4, 5]"
      ]
     },
     "execution_count": 71,
     "metadata": {},
     "output_type": "execute_result"
    }
   ],
   "source": [
    "# 대괄호로 묶인 데이터를 리스트로 인식\n",
    "Collection = [1,2,3,4,5]\n",
    "Collection"
   ]
  },
  {
   "cell_type": "code",
   "execution_count": 72,
   "metadata": {
    "ExecuteTime": {
     "end_time": "2023-01-05T04:52:40.060461Z",
     "start_time": "2023-01-05T04:52:40.046498Z"
    }
   },
   "outputs": [
    {
     "data": {
      "text/plain": [
       "list"
      ]
     },
     "execution_count": 72,
     "metadata": {},
     "output_type": "execute_result"
    }
   ],
   "source": [
    "type(Collection)"
   ]
  },
  {
   "cell_type": "code",
   "execution_count": 73,
   "metadata": {
    "ExecuteTime": {
     "end_time": "2023-01-05T04:52:40.076418Z",
     "start_time": "2023-01-05T04:52:40.062458Z"
    }
   },
   "outputs": [
    {
     "name": "stdout",
     "output_type": "stream",
     "text": [
      "[10]\n"
     ]
    },
    {
     "data": {
      "text/plain": [
       "list"
      ]
     },
     "execution_count": 73,
     "metadata": {},
     "output_type": "execute_result"
    }
   ],
   "source": [
    "List1 = [10]\n",
    "print(List1)\n",
    "type(List1)"
   ]
  },
  {
   "cell_type": "code",
   "execution_count": 74,
   "metadata": {
    "ExecuteTime": {
     "end_time": "2023-01-05T04:52:40.091378Z",
     "start_time": "2023-01-05T04:52:40.078414Z"
    }
   },
   "outputs": [
    {
     "name": "stdout",
     "output_type": "stream",
     "text": [
      "[]\n"
     ]
    },
    {
     "data": {
      "text/plain": [
       "list"
      ]
     },
     "execution_count": 74,
     "metadata": {},
     "output_type": "execute_result"
    }
   ],
   "source": [
    "# 빈 리스트 생성\n",
    "List2 = []\n",
    "print(List2)\n",
    "type(List2)"
   ]
  },
  {
   "cell_type": "code",
   "execution_count": 75,
   "metadata": {
    "ExecuteTime": {
     "end_time": "2023-01-05T04:52:40.106338Z",
     "start_time": "2023-01-05T04:52:40.092377Z"
    }
   },
   "outputs": [
    {
     "data": {
      "text/plain": [
       "[[10], [], [1, 2, 3, 4, 5]]"
      ]
     },
     "execution_count": 75,
     "metadata": {},
     "output_type": "execute_result"
    }
   ],
   "source": [
    "# 리스트끼리 묶어서 차원을 늘릴 수도 있음\n",
    "Final = [List1, List2, Collection]\n",
    "Final"
   ]
  },
  {
   "cell_type": "code",
   "execution_count": 76,
   "metadata": {
    "ExecuteTime": {
     "end_time": "2023-01-05T04:52:40.121298Z",
     "start_time": "2023-01-05T04:52:40.107335Z"
    }
   },
   "outputs": [
    {
     "data": {
      "text/plain": [
       "list"
      ]
     },
     "execution_count": 76,
     "metadata": {},
     "output_type": "execute_result"
    }
   ],
   "source": [
    "type(Final)"
   ]
  },
  {
   "cell_type": "code",
   "execution_count": 77,
   "metadata": {
    "ExecuteTime": {
     "end_time": "2023-01-05T04:52:40.136261Z",
     "start_time": "2023-01-05T04:52:40.122296Z"
    }
   },
   "outputs": [
    {
     "data": {
      "text/plain": [
       "[10]"
      ]
     },
     "execution_count": 77,
     "metadata": {},
     "output_type": "execute_result"
    }
   ],
   "source": [
    "Final[0]    # 0번쨰 row"
   ]
  },
  {
   "cell_type": "code",
   "execution_count": 78,
   "metadata": {
    "ExecuteTime": {
     "end_time": "2023-01-05T04:52:40.151217Z",
     "start_time": "2023-01-05T04:52:40.138253Z"
    }
   },
   "outputs": [
    {
     "data": {
      "text/plain": [
       "[]"
      ]
     },
     "execution_count": 78,
     "metadata": {},
     "output_type": "execute_result"
    }
   ],
   "source": [
    "Final[1]    # 1번쨰 row"
   ]
  },
  {
   "cell_type": "code",
   "execution_count": 79,
   "metadata": {
    "ExecuteTime": {
     "end_time": "2023-01-05T04:52:40.166178Z",
     "start_time": "2023-01-05T04:52:40.153213Z"
    }
   },
   "outputs": [
    {
     "data": {
      "text/plain": [
       "[1, 2, 3, 4, 5]"
      ]
     },
     "execution_count": 79,
     "metadata": {},
     "output_type": "execute_result"
    }
   ],
   "source": [
    "Final[2]    # 2번쨰 row"
   ]
  },
  {
   "cell_type": "code",
   "execution_count": 80,
   "metadata": {
    "ExecuteTime": {
     "end_time": "2023-01-05T04:52:40.181138Z",
     "start_time": "2023-01-05T04:52:40.167176Z"
    }
   },
   "outputs": [
    {
     "data": {
      "text/plain": [
       "2"
      ]
     },
     "execution_count": 80,
     "metadata": {},
     "output_type": "execute_result"
    }
   ],
   "source": [
    "Final[2][1]    # 2번째 row에서 1번째 값"
   ]
  },
  {
   "cell_type": "code",
   "execution_count": 81,
   "metadata": {
    "ExecuteTime": {
     "end_time": "2023-01-05T04:52:40.196100Z",
     "start_time": "2023-01-05T04:52:40.182137Z"
    }
   },
   "outputs": [
    {
     "data": {
      "text/plain": [
       "5"
      ]
     },
     "execution_count": 81,
     "metadata": {},
     "output_type": "execute_result"
    }
   ],
   "source": [
    "Final[2][-1]    # 2번째 row에서 마지막 값"
   ]
  },
  {
   "cell_type": "code",
   "execution_count": 82,
   "metadata": {
    "ExecuteTime": {
     "end_time": "2023-01-05T04:52:40.212055Z",
     "start_time": "2023-01-05T04:52:40.198095Z"
    }
   },
   "outputs": [
    {
     "data": {
      "text/plain": [
       "[[10]]"
      ]
     },
     "execution_count": 82,
     "metadata": {},
     "output_type": "execute_result"
    }
   ],
   "source": [
    "Final[:1]    # [시작위치 이상: 끝위치 미만]"
   ]
  },
  {
   "cell_type": "code",
   "execution_count": 83,
   "metadata": {
    "ExecuteTime": {
     "end_time": "2023-01-05T04:52:40.242009Z",
     "start_time": "2023-01-05T04:52:40.223026Z"
    }
   },
   "outputs": [
    {
     "data": {
      "text/plain": [
       "[[10], [], [1, 2, 3, 4, 5]]"
      ]
     },
     "execution_count": 83,
     "metadata": {},
     "output_type": "execute_result"
    }
   ],
   "source": [
    "Final[:3]"
   ]
  },
  {
   "cell_type": "code",
   "execution_count": 84,
   "metadata": {
    "ExecuteTime": {
     "end_time": "2023-01-05T04:52:40.257934Z",
     "start_time": "2023-01-05T04:52:40.244005Z"
    }
   },
   "outputs": [
    {
     "data": {
      "text/plain": [
       "[[10], [], [1, 2, 3, 4, 5]]"
      ]
     },
     "execution_count": 84,
     "metadata": {},
     "output_type": "execute_result"
    }
   ],
   "source": [
    "Final[:5]"
   ]
  },
  {
   "cell_type": "code",
   "execution_count": 85,
   "metadata": {
    "ExecuteTime": {
     "end_time": "2023-01-05T04:52:40.273924Z",
     "start_time": "2023-01-05T04:52:40.260929Z"
    }
   },
   "outputs": [
    {
     "data": {
      "text/plain": [
       "[1, 2, 3]"
      ]
     },
     "execution_count": 85,
     "metadata": {},
     "output_type": "execute_result"
    }
   ],
   "source": [
    "Final[2][:3]"
   ]
  },
  {
   "cell_type": "code",
   "execution_count": 86,
   "metadata": {
    "ExecuteTime": {
     "end_time": "2023-01-05T04:52:40.289848Z",
     "start_time": "2023-01-05T04:52:40.275917Z"
    }
   },
   "outputs": [
    {
     "data": {
      "text/plain": [
       "[1, 2, 3, 4, 5]"
      ]
     },
     "execution_count": 86,
     "metadata": {},
     "output_type": "execute_result"
    }
   ],
   "source": [
    "Final[2]"
   ]
  },
  {
   "cell_type": "code",
   "execution_count": 87,
   "metadata": {
    "ExecuteTime": {
     "end_time": "2023-01-05T04:52:40.305805Z",
     "start_time": "2023-01-05T04:52:40.291842Z"
    }
   },
   "outputs": [
    {
     "data": {
      "text/plain": [
       "[1, 2, 3, 4, 5, 100]"
      ]
     },
     "execution_count": 87,
     "metadata": {},
     "output_type": "execute_result"
    }
   ],
   "source": [
    "# append 함수로 값을 추가 가능\n",
    "Final[2].append(100)\n",
    "Final[2]"
   ]
  },
  {
   "cell_type": "code",
   "execution_count": 88,
   "metadata": {
    "ExecuteTime": {
     "end_time": "2023-01-05T04:52:40.321763Z",
     "start_time": "2023-01-05T04:52:40.307800Z"
    }
   },
   "outputs": [
    {
     "data": {
      "text/plain": [
       "[[10], [], [1, 2, 3, 4, 5, 100]]"
      ]
     },
     "execution_count": 88,
     "metadata": {},
     "output_type": "execute_result"
    }
   ],
   "source": [
    "Final"
   ]
  },
  {
   "cell_type": "code",
   "execution_count": 89,
   "metadata": {
    "ExecuteTime": {
     "end_time": "2023-01-05T04:52:40.337760Z",
     "start_time": "2023-01-05T04:52:40.323758Z"
    }
   },
   "outputs": [
    {
     "data": {
      "text/plain": [
       "[1, 2, 3, 4, 5, 100, 1, 2, 3, 4, 5, 100]"
      ]
     },
     "execution_count": 89,
     "metadata": {},
     "output_type": "execute_result"
    }
   ],
   "source": [
    "# 더하기와 반복으로 쉽게 확장가능\n",
    "Final[2] + Final[2]"
   ]
  },
  {
   "cell_type": "code",
   "execution_count": 90,
   "metadata": {
    "ExecuteTime": {
     "end_time": "2023-01-05T04:52:40.352681Z",
     "start_time": "2023-01-05T04:52:40.339716Z"
    }
   },
   "outputs": [
    {
     "data": {
      "text/plain": [
       "[1, 2, 3, 4, 5, 100, 1, 2, 3, 4, 5, 100, 1, 2, 3, 4, 5, 100]"
      ]
     },
     "execution_count": 90,
     "metadata": {},
     "output_type": "execute_result"
    }
   ],
   "source": [
    "# 곱하기로 쉽게 확장가능\n",
    "Final[2] * 3"
   ]
  },
  {
   "cell_type": "code",
   "execution_count": 91,
   "metadata": {
    "ExecuteTime": {
     "end_time": "2023-01-05T04:52:40.367639Z",
     "start_time": "2023-01-05T04:52:40.354674Z"
    }
   },
   "outputs": [
    {
     "data": {
      "text/plain": [
       "3"
      ]
     },
     "execution_count": 91,
     "metadata": {},
     "output_type": "execute_result"
    }
   ],
   "source": [
    "# 길이를 구할때는 len 함수사용\n",
    "len(Final)"
   ]
  },
  {
   "cell_type": "code",
   "execution_count": 92,
   "metadata": {
    "ExecuteTime": {
     "end_time": "2023-01-05T04:52:40.383634Z",
     "start_time": "2023-01-05T04:52:40.368672Z"
    }
   },
   "outputs": [
    {
     "data": {
      "text/plain": [
       "6"
      ]
     },
     "execution_count": 92,
     "metadata": {},
     "output_type": "execute_result"
    }
   ],
   "source": [
    "len(Final[2])"
   ]
  },
  {
   "cell_type": "code",
   "execution_count": 93,
   "metadata": {
    "ExecuteTime": {
     "end_time": "2023-01-05T04:52:40.399555Z",
     "start_time": "2023-01-05T04:52:40.385593Z"
    }
   },
   "outputs": [
    {
     "data": {
      "text/plain": [
       "'1 First'"
      ]
     },
     "execution_count": 93,
     "metadata": {},
     "output_type": "execute_result"
    }
   ],
   "source": [
    "# 숫자를 문자와 붙이려면 형태를 문자로 맞춰야 함\n",
    "# Final[2][0] + ' First'\n",
    "str(Final[2][0]) + ' First'"
   ]
  },
  {
   "cell_type": "code",
   "execution_count": 94,
   "metadata": {
    "ExecuteTime": {
     "end_time": "2023-01-05T04:52:40.416510Z",
     "start_time": "2023-01-05T04:52:40.402571Z"
    }
   },
   "outputs": [
    {
     "data": {
      "text/plain": [
       "[1, 2, 3, 4, 5, 100]"
      ]
     },
     "execution_count": 94,
     "metadata": {},
     "output_type": "execute_result"
    }
   ],
   "source": [
    "Final[2]"
   ]
  },
  {
   "cell_type": "code",
   "execution_count": 95,
   "metadata": {
    "ExecuteTime": {
     "end_time": "2023-01-05T04:52:40.430980Z",
     "start_time": "2023-01-05T04:52:40.418536Z"
    }
   },
   "outputs": [
    {
     "data": {
      "text/plain": [
       "[[10], [], [100, 2, 3, 4, 5, 100]]"
      ]
     },
     "execution_count": 95,
     "metadata": {},
     "output_type": "execute_result"
    }
   ],
   "source": [
    "# 값의 수정은 대입으로 가능\n",
    "Final[2][0] = 100\n",
    "Final"
   ]
  },
  {
   "cell_type": "code",
   "execution_count": 96,
   "metadata": {
    "ExecuteTime": {
     "end_time": "2023-01-05T04:52:40.446974Z",
     "start_time": "2023-01-05T04:52:40.432975Z"
    }
   },
   "outputs": [
    {
     "data": {
      "text/plain": [
       "[[10], [], [100, 2, 3, 4, 5]]"
      ]
     },
     "execution_count": 96,
     "metadata": {},
     "output_type": "execute_result"
    }
   ],
   "source": [
    "# 값의 삭제는 del 함수 사용\n",
    "del Final[2][-1]\n",
    "Final"
   ]
  },
  {
   "cell_type": "code",
   "execution_count": 97,
   "metadata": {
    "ExecuteTime": {
     "end_time": "2023-01-05T04:52:40.462894Z",
     "start_time": "2023-01-05T04:52:40.448931Z"
    }
   },
   "outputs": [],
   "source": [
    "# 값의 추가\n",
    "Final.append(111)"
   ]
  },
  {
   "cell_type": "code",
   "execution_count": 98,
   "metadata": {
    "ExecuteTime": {
     "end_time": "2023-01-05T04:52:40.478853Z",
     "start_time": "2023-01-05T04:52:40.464891Z"
    }
   },
   "outputs": [
    {
     "data": {
      "text/plain": [
       "[[10], [], [100, 2, 3, 4, 5], 111]"
      ]
     },
     "execution_count": 98,
     "metadata": {},
     "output_type": "execute_result"
    }
   ],
   "source": [
    "Final"
   ]
  },
  {
   "cell_type": "code",
   "execution_count": 99,
   "metadata": {
    "ExecuteTime": {
     "end_time": "2023-01-05T04:52:40.494810Z",
     "start_time": "2023-01-05T04:52:40.480849Z"
    }
   },
   "outputs": [
    {
     "data": {
      "text/plain": [
       "[[10], [], [2, 3, 4, 5, 100], 111]"
      ]
     },
     "execution_count": 99,
     "metadata": {},
     "output_type": "execute_result"
    }
   ],
   "source": [
    "# 정렬하기\n",
    "# 같은 유형의 값으로만 들어있어야 비교가 가능하고 정렬이 됨\n",
    "Final[2].sort()\n",
    "Final"
   ]
  },
  {
   "cell_type": "code",
   "execution_count": 100,
   "metadata": {
    "ExecuteTime": {
     "end_time": "2023-01-05T04:52:40.510807Z",
     "start_time": "2023-01-05T04:52:40.496830Z"
    }
   },
   "outputs": [
    {
     "data": {
      "text/plain": [
       "[[10], [], [100, 5, 4, 3, 2], 111]"
      ]
     },
     "execution_count": 100,
     "metadata": {},
     "output_type": "execute_result"
    }
   ],
   "source": [
    "# 역순정렬\n",
    "Final[2].reverse()\n",
    "Final"
   ]
  },
  {
   "cell_type": "code",
   "execution_count": 101,
   "metadata": {
    "ExecuteTime": {
     "end_time": "2023-01-05T04:52:40.525728Z",
     "start_time": "2023-01-05T04:52:40.512787Z"
    }
   },
   "outputs": [
    {
     "data": {
      "text/plain": [
       "3"
      ]
     },
     "execution_count": 101,
     "metadata": {},
     "output_type": "execute_result"
    }
   ],
   "source": [
    "# 위치 반환\n",
    "Final.index(111)"
   ]
  },
  {
   "cell_type": "code",
   "execution_count": 102,
   "metadata": {
    "ExecuteTime": {
     "end_time": "2023-01-05T04:52:40.540687Z",
     "start_time": "2023-01-05T04:52:40.526758Z"
    }
   },
   "outputs": [
    {
     "data": {
      "text/plain": [
       "0"
      ]
     },
     "execution_count": 102,
     "metadata": {},
     "output_type": "execute_result"
    }
   ],
   "source": [
    "Final.index([10])"
   ]
  },
  {
   "cell_type": "code",
   "execution_count": 103,
   "metadata": {
    "ExecuteTime": {
     "end_time": "2023-01-05T04:52:40.556644Z",
     "start_time": "2023-01-05T04:52:40.541685Z"
    }
   },
   "outputs": [
    {
     "data": {
      "text/plain": [
       "[100, 5, 4, 3, 2]"
      ]
     },
     "execution_count": 103,
     "metadata": {},
     "output_type": "execute_result"
    }
   ],
   "source": [
    "Final[2]"
   ]
  },
  {
   "cell_type": "code",
   "execution_count": 104,
   "metadata": {
    "ExecuteTime": {
     "end_time": "2023-01-05T04:52:40.572601Z",
     "start_time": "2023-01-05T04:52:40.557642Z"
    }
   },
   "outputs": [
    {
     "data": {
      "text/plain": [
       "[[10], [], [100, 6, 5, 4, 3, 2], 111]"
      ]
     },
     "execution_count": 104,
     "metadata": {},
     "output_type": "execute_result"
    }
   ],
   "source": [
    "# a번째 위치에 b를 추가하는건 insert(a,b) 사용\n",
    "Final[2].insert(1,6)\n",
    "Final"
   ]
  },
  {
   "cell_type": "code",
   "execution_count": 105,
   "metadata": {
    "ExecuteTime": {
     "end_time": "2023-01-05T04:52:40.588559Z",
     "start_time": "2023-01-05T04:52:40.574597Z"
    }
   },
   "outputs": [
    {
     "data": {
      "text/plain": [
       "[[10], [], [100, 6, 6, 5, 4, 3, 2], 111]"
      ]
     },
     "execution_count": 105,
     "metadata": {},
     "output_type": "execute_result"
    }
   ],
   "source": [
    "Final[2].insert(1,6)\n",
    "Final"
   ]
  },
  {
   "cell_type": "code",
   "execution_count": 106,
   "metadata": {
    "ExecuteTime": {
     "end_time": "2023-01-05T04:52:40.604517Z",
     "start_time": "2023-01-05T04:52:40.590553Z"
    }
   },
   "outputs": [
    {
     "data": {
      "text/plain": [
       "[[10], [], [100, 6, 6, 5, 4, 6, 3, 2], 111]"
      ]
     },
     "execution_count": 106,
     "metadata": {},
     "output_type": "execute_result"
    }
   ],
   "source": [
    "Final[2].insert(5,6)\n",
    "Final"
   ]
  },
  {
   "cell_type": "code",
   "execution_count": 107,
   "metadata": {
    "ExecuteTime": {
     "end_time": "2023-01-05T04:52:40.620474Z",
     "start_time": "2023-01-05T04:52:40.606512Z"
    }
   },
   "outputs": [
    {
     "data": {
      "text/plain": [
       "[[10], [], [100, 6, 5, 4, 6, 3, 2], 111]"
      ]
     },
     "execution_count": 107,
     "metadata": {},
     "output_type": "execute_result"
    }
   ],
   "source": [
    "# 값의 삭제\n",
    "# 여러개일 경우 맨 처음 나오는 한개만 삭제\n",
    "Final[2].remove(6)\n",
    "Final"
   ]
  },
  {
   "cell_type": "code",
   "execution_count": 108,
   "metadata": {
    "ExecuteTime": {
     "end_time": "2023-01-05T04:52:40.636060Z",
     "start_time": "2023-01-05T04:52:40.622506Z"
    }
   },
   "outputs": [
    {
     "data": {
      "text/plain": [
       "2"
      ]
     },
     "execution_count": 108,
     "metadata": {},
     "output_type": "execute_result"
    }
   ],
   "source": [
    "# 특정 값의 개수 세기\n",
    "Final[2].count(6)"
   ]
  },
  {
   "cell_type": "code",
   "execution_count": 109,
   "metadata": {
    "ExecuteTime": {
     "end_time": "2023-01-05T04:52:40.652017Z",
     "start_time": "2023-01-05T04:52:40.638056Z"
    }
   },
   "outputs": [
    {
     "data": {
      "text/plain": [
       "[[10], [], [100, 6, 5, 4, 6, 3, 2, 1, 2, 3], 111]"
      ]
     },
     "execution_count": 109,
     "metadata": {},
     "output_type": "execute_result"
    }
   ],
   "source": [
    "# append는 값의 추가이며 extend는 리스트 확장\n",
    "Final[2].extend([1,2,3])\n",
    "Final"
   ]
  },
  {
   "cell_type": "code",
   "execution_count": 110,
   "metadata": {
    "ExecuteTime": {
     "end_time": "2023-01-05T04:52:40.667976Z",
     "start_time": "2023-01-05T04:52:40.653014Z"
    }
   },
   "outputs": [
    {
     "data": {
      "text/plain": [
       "[[10], [], [100, 6, 5, 4, 6, 3, 2, 1, 2, 3, [1, 2, 3]], 111]"
      ]
     },
     "execution_count": 110,
     "metadata": {},
     "output_type": "execute_result"
    }
   ],
   "source": [
    "Final[2].append([1,2,3])\n",
    "Final"
   ]
  },
  {
   "cell_type": "code",
   "execution_count": 111,
   "metadata": {
    "ExecuteTime": {
     "end_time": "2023-01-05T04:52:40.683933Z",
     "start_time": "2023-01-05T04:52:40.669979Z"
    }
   },
   "outputs": [
    {
     "data": {
      "text/plain": [
       "[[10], [], [100, 6, 5, 4, 6, 3, 2, 1, 2, 3, [1, 2, 3], 1], 111]"
      ]
     },
     "execution_count": 111,
     "metadata": {},
     "output_type": "execute_result"
    }
   ],
   "source": [
    "Final[2].append(1)\n",
    "Final"
   ]
  },
  {
   "cell_type": "code",
   "execution_count": 112,
   "metadata": {
    "ExecuteTime": {
     "end_time": "2023-01-05T04:52:40.699889Z",
     "start_time": "2023-01-05T04:52:40.685928Z"
    }
   },
   "outputs": [],
   "source": [
    "# Final[2].append(1,2)"
   ]
  },
  {
   "cell_type": "markdown",
   "metadata": {},
   "source": [
    "## 튜플(Tuples): 리스트와 유사하나 순서와 값의 변경 불가\n",
    "\n",
    "- 리스트는 값의 생성/삭제/수정이 가능하지만 저장된 값이 쉽게 바뀔수 있는 단점\n",
    "- 리스트는 **`[ ]`**, 튜플은 **`( )`** 기호를 사용하여 형태를 구분\n",
    "- 튜플은 값의 생성/삭제/수정이 불가하지만 그외 기능은 리스트와 동일\n",
    "- 인덱스/인덱싱/슬라이싱/연산 등은 모두 가능\n",
    "\n",
    "```python\n",
    "()    # 빈 튜플\n",
    "('a',)    # 값이 1개인 튜플이며 콤마는 필수!\n",
    "('a', 'b', 'c')    # 값이 3개인 튜플\n",
    "'a', 'b', 'c'    # 위와 동일하게 인식\n",
    "```"
   ]
  },
  {
   "cell_type": "code",
   "execution_count": 113,
   "metadata": {
    "ExecuteTime": {
     "end_time": "2023-01-05T04:52:40.715847Z",
     "start_time": "2023-01-05T04:52:40.701884Z"
    }
   },
   "outputs": [
    {
     "data": {
      "text/plain": [
       "list"
      ]
     },
     "execution_count": 113,
     "metadata": {},
     "output_type": "execute_result"
    }
   ],
   "source": [
    "KK = [1,2]\n",
    "type(KK)"
   ]
  },
  {
   "cell_type": "code",
   "execution_count": 114,
   "metadata": {
    "ExecuteTime": {
     "end_time": "2023-01-05T04:52:40.731804Z",
     "start_time": "2023-01-05T04:52:40.716845Z"
    }
   },
   "outputs": [
    {
     "data": {
      "text/plain": [
       "tuple"
      ]
     },
     "execution_count": 114,
     "metadata": {},
     "output_type": "execute_result"
    }
   ],
   "source": [
    "KK = (1,2)\n",
    "type(KK)"
   ]
  },
  {
   "cell_type": "code",
   "execution_count": 115,
   "metadata": {
    "ExecuteTime": {
     "end_time": "2023-01-05T04:52:40.746765Z",
     "start_time": "2023-01-05T04:52:40.733799Z"
    }
   },
   "outputs": [
    {
     "data": {
      "text/plain": [
       "tuple"
      ]
     },
     "execution_count": 115,
     "metadata": {},
     "output_type": "execute_result"
    }
   ],
   "source": [
    "# 문자 숫자 결합된 튜플 가능\n",
    "KK = ('a', 'b', 100)\n",
    "type(KK)"
   ]
  },
  {
   "cell_type": "code",
   "execution_count": 116,
   "metadata": {
    "ExecuteTime": {
     "end_time": "2023-01-05T04:52:40.761723Z",
     "start_time": "2023-01-05T04:52:40.749756Z"
    }
   },
   "outputs": [
    {
     "data": {
      "text/plain": [
       "('a', 'b', 100)"
      ]
     },
     "execution_count": 116,
     "metadata": {},
     "output_type": "execute_result"
    }
   ],
   "source": [
    "KK"
   ]
  },
  {
   "cell_type": "code",
   "execution_count": 117,
   "metadata": {
    "ExecuteTime": {
     "end_time": "2023-01-05T04:52:40.777682Z",
     "start_time": "2023-01-05T04:52:40.763719Z"
    }
   },
   "outputs": [
    {
     "data": {
      "text/plain": [
       "tuple"
      ]
     },
     "execution_count": 117,
     "metadata": {},
     "output_type": "execute_result"
    }
   ],
   "source": [
    "# 반 튜플 생성\n",
    "KK_test = ()\n",
    "type(KK_test)"
   ]
  },
  {
   "cell_type": "code",
   "execution_count": 118,
   "metadata": {
    "ExecuteTime": {
     "end_time": "2023-01-05T04:52:40.793638Z",
     "start_time": "2023-01-05T04:52:40.779676Z"
    }
   },
   "outputs": [
    {
     "data": {
      "text/plain": [
       "()"
      ]
     },
     "execution_count": 118,
     "metadata": {},
     "output_type": "execute_result"
    }
   ],
   "source": [
    "KK_test"
   ]
  },
  {
   "cell_type": "code",
   "execution_count": 119,
   "metadata": {
    "ExecuteTime": {
     "end_time": "2023-01-05T04:52:40.808600Z",
     "start_time": "2023-01-05T04:52:40.795634Z"
    }
   },
   "outputs": [],
   "source": [
    "# 리스트와 마찬가지로 값의 추출 및 연산으로 확장 가능"
   ]
  },
  {
   "cell_type": "code",
   "execution_count": 120,
   "metadata": {
    "ExecuteTime": {
     "end_time": "2023-01-05T04:52:40.823561Z",
     "start_time": "2023-01-05T04:52:40.810595Z"
    }
   },
   "outputs": [
    {
     "data": {
      "text/plain": [
       "('a', 'b')"
      ]
     },
     "execution_count": 120,
     "metadata": {},
     "output_type": "execute_result"
    }
   ],
   "source": [
    "KK[:2]"
   ]
  },
  {
   "cell_type": "code",
   "execution_count": 121,
   "metadata": {
    "ExecuteTime": {
     "end_time": "2023-01-05T04:52:40.838519Z",
     "start_time": "2023-01-05T04:52:40.826633Z"
    }
   },
   "outputs": [
    {
     "data": {
      "text/plain": [
       "('b', 100)"
      ]
     },
     "execution_count": 121,
     "metadata": {},
     "output_type": "execute_result"
    }
   ],
   "source": [
    "KK[1:]"
   ]
  },
  {
   "cell_type": "code",
   "execution_count": 122,
   "metadata": {
    "ExecuteTime": {
     "end_time": "2023-01-05T04:52:40.853478Z",
     "start_time": "2023-01-05T04:52:40.839516Z"
    }
   },
   "outputs": [
    {
     "data": {
      "text/plain": [
       "('b', 100, 'b', 100, 'b', 100)"
      ]
     },
     "execution_count": 122,
     "metadata": {},
     "output_type": "execute_result"
    }
   ],
   "source": [
    "KK[1:]*3"
   ]
  },
  {
   "cell_type": "markdown",
   "metadata": {},
   "source": [
    "## 집합(Sets): 중복없는 값을 선택하거나 값을 비교할 때 사용"
   ]
  },
  {
   "cell_type": "code",
   "execution_count": 123,
   "metadata": {
    "ExecuteTime": {
     "end_time": "2023-01-05T04:52:40.869436Z",
     "start_time": "2023-01-05T04:52:40.856473Z"
    }
   },
   "outputs": [
    {
     "data": {
      "text/plain": [
       "{1, 2, 3, 4, 5}"
      ]
     },
     "execution_count": 123,
     "metadata": {},
     "output_type": "execute_result"
    }
   ],
   "source": [
    "# 중복되지 않은 값들을 추출\n",
    "left = set([1,2,3,5,4,3,2,1])\n",
    "left"
   ]
  },
  {
   "cell_type": "code",
   "execution_count": 124,
   "metadata": {
    "ExecuteTime": {
     "end_time": "2023-01-05T04:52:40.885394Z",
     "start_time": "2023-01-05T04:52:40.870432Z"
    }
   },
   "outputs": [
    {
     "data": {
      "text/plain": [
       "set"
      ]
     },
     "execution_count": 124,
     "metadata": {},
     "output_type": "execute_result"
    }
   ],
   "source": [
    "type(left)"
   ]
  },
  {
   "cell_type": "code",
   "execution_count": 125,
   "metadata": {
    "ExecuteTime": {
     "end_time": "2023-01-05T04:52:40.901350Z",
     "start_time": "2023-01-05T04:52:40.887388Z"
    }
   },
   "outputs": [
    {
     "data": {
      "text/plain": [
       "{4, 5, 6, 7}"
      ]
     },
     "execution_count": 125,
     "metadata": {},
     "output_type": "execute_result"
    }
   ],
   "source": [
    "right = set([4,5,6,7,6,5,4])\n",
    "right"
   ]
  },
  {
   "cell_type": "code",
   "execution_count": 126,
   "metadata": {
    "ExecuteTime": {
     "end_time": "2023-01-05T04:52:40.917307Z",
     "start_time": "2023-01-05T04:52:40.902349Z"
    }
   },
   "outputs": [
    {
     "name": "stdout",
     "output_type": "stream",
     "text": [
      "{1, 2, 3, 4, 5} {4, 5, 6, 7}\n"
     ]
    }
   ],
   "source": [
    "print(left, right)"
   ]
  },
  {
   "cell_type": "code",
   "execution_count": 127,
   "metadata": {
    "ExecuteTime": {
     "end_time": "2023-01-05T04:52:40.933264Z",
     "start_time": "2023-01-05T04:52:40.919303Z"
    }
   },
   "outputs": [
    {
     "data": {
      "text/plain": [
       "{4, 5}"
      ]
     },
     "execution_count": 127,
     "metadata": {},
     "output_type": "execute_result"
    }
   ],
   "source": [
    "# 교집합, 합집합, 차집합 계산 가능\n",
    "left & right"
   ]
  },
  {
   "cell_type": "code",
   "execution_count": 128,
   "metadata": {
    "ExecuteTime": {
     "end_time": "2023-01-05T04:52:40.949222Z",
     "start_time": "2023-01-05T04:52:40.935261Z"
    }
   },
   "outputs": [
    {
     "data": {
      "text/plain": [
       "{4, 5}"
      ]
     },
     "execution_count": 128,
     "metadata": {},
     "output_type": "execute_result"
    }
   ],
   "source": [
    "left.intersection(right)"
   ]
  },
  {
   "cell_type": "code",
   "execution_count": 129,
   "metadata": {
    "ExecuteTime": {
     "end_time": "2023-01-05T04:52:40.965181Z",
     "start_time": "2023-01-05T04:52:40.951221Z"
    }
   },
   "outputs": [
    {
     "data": {
      "text/plain": [
       "{1, 2, 3, 4, 5, 6, 7}"
      ]
     },
     "execution_count": 129,
     "metadata": {},
     "output_type": "execute_result"
    }
   ],
   "source": [
    "left | right"
   ]
  },
  {
   "cell_type": "code",
   "execution_count": 130,
   "metadata": {
    "ExecuteTime": {
     "end_time": "2023-01-05T04:52:40.981138Z",
     "start_time": "2023-01-05T04:52:40.966178Z"
    }
   },
   "outputs": [
    {
     "data": {
      "text/plain": [
       "{1, 2, 3, 4, 5, 6, 7}"
      ]
     },
     "execution_count": 130,
     "metadata": {},
     "output_type": "execute_result"
    }
   ],
   "source": [
    "left.union(right)"
   ]
  },
  {
   "cell_type": "code",
   "execution_count": 131,
   "metadata": {
    "ExecuteTime": {
     "end_time": "2023-01-05T04:52:40.997095Z",
     "start_time": "2023-01-05T04:52:40.984129Z"
    }
   },
   "outputs": [
    {
     "data": {
      "text/plain": [
       "{1, 2, 3}"
      ]
     },
     "execution_count": 131,
     "metadata": {},
     "output_type": "execute_result"
    }
   ],
   "source": [
    "left - right"
   ]
  },
  {
   "cell_type": "code",
   "execution_count": 132,
   "metadata": {
    "ExecuteTime": {
     "end_time": "2023-01-05T04:52:41.013053Z",
     "start_time": "2023-01-05T04:52:40.999089Z"
    }
   },
   "outputs": [
    {
     "data": {
      "text/plain": [
       "{6, 7}"
      ]
     },
     "execution_count": 132,
     "metadata": {},
     "output_type": "execute_result"
    }
   ],
   "source": [
    "right - left"
   ]
  },
  {
   "cell_type": "code",
   "execution_count": 133,
   "metadata": {
    "ExecuteTime": {
     "end_time": "2023-01-05T04:52:41.029228Z",
     "start_time": "2023-01-05T04:52:41.015048Z"
    }
   },
   "outputs": [
    {
     "data": {
      "text/plain": [
       "{1, 2, 3}"
      ]
     },
     "execution_count": 133,
     "metadata": {},
     "output_type": "execute_result"
    }
   ],
   "source": [
    "left.difference(right)"
   ]
  },
  {
   "cell_type": "code",
   "execution_count": 134,
   "metadata": {
    "ExecuteTime": {
     "end_time": "2023-01-05T04:52:41.045132Z",
     "start_time": "2023-01-05T04:52:41.030172Z"
    }
   },
   "outputs": [
    {
     "data": {
      "text/plain": [
       "{6, 7}"
      ]
     },
     "execution_count": 134,
     "metadata": {},
     "output_type": "execute_result"
    }
   ],
   "source": [
    "right.difference(left)"
   ]
  },
  {
   "cell_type": "code",
   "execution_count": 135,
   "metadata": {
    "ExecuteTime": {
     "end_time": "2023-01-05T04:52:41.060092Z",
     "start_time": "2023-01-05T04:52:41.047126Z"
    }
   },
   "outputs": [
    {
     "data": {
      "text/plain": [
       "{1, 2, 3, 4, 5}"
      ]
     },
     "execution_count": 135,
     "metadata": {},
     "output_type": "execute_result"
    }
   ],
   "source": [
    "left"
   ]
  },
  {
   "cell_type": "code",
   "execution_count": 136,
   "metadata": {
    "ExecuteTime": {
     "end_time": "2023-01-05T04:52:41.075051Z",
     "start_time": "2023-01-05T04:52:41.061100Z"
    }
   },
   "outputs": [
    {
     "data": {
      "text/plain": [
       "{1, 2, 3, 4, 5, 6}"
      ]
     },
     "execution_count": 136,
     "metadata": {},
     "output_type": "execute_result"
    }
   ],
   "source": [
    "# add 함수로 신규 값 추가 가능\n",
    "left.add(6)\n",
    "left"
   ]
  },
  {
   "cell_type": "code",
   "execution_count": 137,
   "metadata": {
    "ExecuteTime": {
     "end_time": "2023-01-05T04:52:41.091010Z",
     "start_time": "2023-01-05T04:52:41.077048Z"
    }
   },
   "outputs": [
    {
     "data": {
      "text/plain": [
       "{1, 2, 3, 4, 5, 6}"
      ]
     },
     "execution_count": 137,
     "metadata": {},
     "output_type": "execute_result"
    }
   ],
   "source": [
    "left.add(6)\n",
    "left"
   ]
  },
  {
   "cell_type": "code",
   "execution_count": 138,
   "metadata": {
    "ExecuteTime": {
     "end_time": "2023-01-05T04:52:41.106972Z",
     "start_time": "2023-01-05T04:52:41.093004Z"
    }
   },
   "outputs": [
    {
     "data": {
      "text/plain": [
       "{2, 3, 4, 5, 6}"
      ]
     },
     "execution_count": 138,
     "metadata": {},
     "output_type": "execute_result"
    }
   ],
   "source": [
    "# remove 함수로 기존 값 삭제 가능\n",
    "left.remove(1)\n",
    "left"
   ]
  },
  {
   "cell_type": "code",
   "execution_count": 139,
   "metadata": {
    "ExecuteTime": {
     "end_time": "2023-01-05T04:52:41.122924Z",
     "start_time": "2023-01-05T04:52:41.107966Z"
    }
   },
   "outputs": [
    {
     "data": {
      "text/plain": [
       "{1, 2, 3, 4, 5, 6, 7}"
      ]
     },
     "execution_count": 139,
     "metadata": {},
     "output_type": "execute_result"
    }
   ],
   "source": [
    "# update 함수로 신규 값 추가 가능\n",
    "left.update([1,7])\n",
    "left"
   ]
  },
  {
   "cell_type": "code",
   "execution_count": 140,
   "metadata": {
    "ExecuteTime": {
     "end_time": "2023-01-05T04:52:41.137884Z",
     "start_time": "2023-01-05T04:52:41.123922Z"
    }
   },
   "outputs": [],
   "source": [
    "# 값의 순서가 없는 자료형태이기 때문에 인덱싱으로 값에 접근하려면 리스트나 튜플로 변환해야 함\n",
    "# left[0]"
   ]
  },
  {
   "cell_type": "code",
   "execution_count": 141,
   "metadata": {
    "ExecuteTime": {
     "end_time": "2023-01-05T04:52:41.152869Z",
     "start_time": "2023-01-05T04:52:41.140881Z"
    }
   },
   "outputs": [
    {
     "data": {
      "text/plain": [
       "[4, 5, 6, 1, 7]"
      ]
     },
     "execution_count": 141,
     "metadata": {},
     "output_type": "execute_result"
    }
   ],
   "source": [
    "list(left)[2:]"
   ]
  },
  {
   "cell_type": "code",
   "execution_count": 142,
   "metadata": {
    "ExecuteTime": {
     "end_time": "2023-01-05T04:52:41.167837Z",
     "start_time": "2023-01-05T04:52:41.153841Z"
    }
   },
   "outputs": [
    {
     "data": {
      "text/plain": [
       "(4, 5, 6, 1, 7)"
      ]
     },
     "execution_count": 142,
     "metadata": {},
     "output_type": "execute_result"
    }
   ],
   "source": [
    "tuple(left)[2:]"
   ]
  },
  {
   "cell_type": "markdown",
   "metadata": {},
   "source": [
    "## 딕셔너리(Dictionaries): 짝으로 이루어진 값을 표현할 때 사용\n",
    "\n",
    "- 중괄호기호 **`{ }`** 로 값을 묶어서 형태를 구분\n",
    "- 값은 따옴표 **`Key:Value`** 를 기준으로 키(Key)와 자료(Value)를 묶어서 생성\n",
    "- **Key:** 왼쪽에 있는 키는 데이터의 **`열쇠`** 와 같은 기능\n",
    "> - Key는 변할수 없도록 지정하고 있어서, 변하지 않는 자료형만 사용이 가능\n",
    "> - 리스트는 사용 불가하지만 튜플을 사용 가능\n",
    "- **Value:** 오른쪽에 있는 값은 **`Key`** 로 꺼낼수 있는 지정된 자료\n",
    "> - Key 값이 같은 Value가 2개 이상 있으면 마지막 Value만 Key에 대응되어 저장"
   ]
  },
  {
   "cell_type": "code",
   "execution_count": 143,
   "metadata": {
    "ExecuteTime": {
     "end_time": "2023-01-05T04:52:41.182764Z",
     "start_time": "2023-01-05T04:52:41.169798Z"
    }
   },
   "outputs": [
    {
     "data": {
      "text/plain": [
       "{'Name': 'KK',\n",
       " 'Age': 100,\n",
       " 'Birth': '1104',\n",
       " 'Phone': '010-0000-0000',\n",
       " '1': 'test'}"
      ]
     },
     "execution_count": 143,
     "metadata": {},
     "output_type": "execute_result"
    }
   ],
   "source": [
    "# {키1:값1, 키2:값2, 키3:값3, ...}\n",
    "Teacher = {'Name':'KK', 'Age':100, 'Birth':'1104', 'Phone':'010-0000-0000', '1':'test'}\n",
    "Teacher"
   ]
  },
  {
   "cell_type": "code",
   "execution_count": 144,
   "metadata": {
    "ExecuteTime": {
     "end_time": "2023-01-05T04:52:41.198727Z",
     "start_time": "2023-01-05T04:52:41.184760Z"
    }
   },
   "outputs": [
    {
     "data": {
      "text/plain": [
       "{'Name': ['KK', 'WW'],\n",
       " 'Age': 100,\n",
       " 'Birth': '1104',\n",
       " 'Phone': '010-0000-0000',\n",
       " '1': 'test'}"
      ]
     },
     "execution_count": 144,
     "metadata": {},
     "output_type": "execute_result"
    }
   ],
   "source": [
    "Teacher2 = {'Name':['KK', 'WW'], 'Age':100, 'Birth':'1104', 'Phone':'010-0000-0000', '1':'test'}\n",
    "Teacher2"
   ]
  },
  {
   "cell_type": "markdown",
   "metadata": {},
   "source": [
    "- 함수의 입력값이 많아질때 별도로 처리해서 한꺼번에 입력\n",
    "- 2차원 이상의 데이터를 표현"
   ]
  },
  {
   "cell_type": "code",
   "execution_count": 145,
   "metadata": {
    "ExecuteTime": {
     "end_time": "2023-01-05T04:52:42.201025Z",
     "start_time": "2023-01-05T04:52:41.200750Z"
    }
   },
   "outputs": [
    {
     "data": {
      "text/html": [
       "<div>\n",
       "<style scoped>\n",
       "    .dataframe tbody tr th:only-of-type {\n",
       "        vertical-align: middle;\n",
       "    }\n",
       "\n",
       "    .dataframe tbody tr th {\n",
       "        vertical-align: top;\n",
       "    }\n",
       "\n",
       "    .dataframe thead th {\n",
       "        text-align: right;\n",
       "    }\n",
       "</style>\n",
       "<table border=\"1\" class=\"dataframe\">\n",
       "  <thead>\n",
       "    <tr style=\"text-align: right;\">\n",
       "      <th></th>\n",
       "      <th>Example</th>\n",
       "    </tr>\n",
       "  </thead>\n",
       "  <tbody>\n",
       "    <tr>\n",
       "      <th>Name</th>\n",
       "      <td>KK</td>\n",
       "    </tr>\n",
       "    <tr>\n",
       "      <th>Age</th>\n",
       "      <td>100</td>\n",
       "    </tr>\n",
       "    <tr>\n",
       "      <th>Birth</th>\n",
       "      <td>1104</td>\n",
       "    </tr>\n",
       "    <tr>\n",
       "      <th>Phone</th>\n",
       "      <td>010-0000-0000</td>\n",
       "    </tr>\n",
       "    <tr>\n",
       "      <th>1</th>\n",
       "      <td>test</td>\n",
       "    </tr>\n",
       "  </tbody>\n",
       "</table>\n",
       "</div>"
      ],
      "text/plain": [
       "             Example\n",
       "Name              KK\n",
       "Age              100\n",
       "Birth           1104\n",
       "Phone  010-0000-0000\n",
       "1               test"
      ]
     },
     "execution_count": 145,
     "metadata": {},
     "output_type": "execute_result"
    }
   ],
   "source": [
    "import pandas as pd\n",
    "\n",
    "pd.DataFrame.from_dict(Teacher, orient='index', columns=['Example'])"
   ]
  },
  {
   "cell_type": "code",
   "execution_count": 146,
   "metadata": {
    "ExecuteTime": {
     "end_time": "2023-01-05T04:52:42.215986Z",
     "start_time": "2023-01-05T04:52:42.203020Z"
    }
   },
   "outputs": [
    {
     "data": {
      "text/html": [
       "<div>\n",
       "<style scoped>\n",
       "    .dataframe tbody tr th:only-of-type {\n",
       "        vertical-align: middle;\n",
       "    }\n",
       "\n",
       "    .dataframe tbody tr th {\n",
       "        vertical-align: top;\n",
       "    }\n",
       "\n",
       "    .dataframe thead th {\n",
       "        text-align: right;\n",
       "    }\n",
       "</style>\n",
       "<table border=\"1\" class=\"dataframe\">\n",
       "  <thead>\n",
       "    <tr style=\"text-align: right;\">\n",
       "      <th></th>\n",
       "      <th>Name</th>\n",
       "      <th>Age</th>\n",
       "      <th>Birth</th>\n",
       "      <th>Phone</th>\n",
       "      <th>1</th>\n",
       "    </tr>\n",
       "  </thead>\n",
       "  <tbody>\n",
       "    <tr>\n",
       "      <th>Example</th>\n",
       "      <td>KK</td>\n",
       "      <td>100</td>\n",
       "      <td>1104</td>\n",
       "      <td>010-0000-0000</td>\n",
       "      <td>test</td>\n",
       "    </tr>\n",
       "  </tbody>\n",
       "</table>\n",
       "</div>"
      ],
      "text/plain": [
       "        Name  Age Birth          Phone     1\n",
       "Example   KK  100  1104  010-0000-0000  test"
      ]
     },
     "execution_count": 146,
     "metadata": {},
     "output_type": "execute_result"
    }
   ],
   "source": [
    "pd.DataFrame.from_dict(Teacher, orient='index', columns=['Example']).T"
   ]
  },
  {
   "cell_type": "code",
   "execution_count": 147,
   "metadata": {
    "ExecuteTime": {
     "end_time": "2023-01-05T04:52:42.230946Z",
     "start_time": "2023-01-05T04:52:42.217980Z"
    }
   },
   "outputs": [
    {
     "data": {
      "text/plain": [
       "{'Name': 'KK',\n",
       " 'Age': 100,\n",
       " 'Birth': '1104',\n",
       " 'Phone': '010-0000-0000',\n",
       " 1: 'test2'}"
      ]
     },
     "execution_count": 147,
     "metadata": {},
     "output_type": "execute_result"
    }
   ],
   "source": [
    "# 동일한 key가 2개 존재할 경우 이전 입력값은 무시됨\n",
    "Teacher = {'Name':'KK', 'Age':100, 'Birth':'1104', 'Phone':'010-0000-0000', 1:'test', 1:'test2'}\n",
    "Teacher"
   ]
  },
  {
   "cell_type": "code",
   "execution_count": 148,
   "metadata": {
    "ExecuteTime": {
     "end_time": "2023-01-05T04:52:42.246904Z",
     "start_time": "2023-01-05T04:52:42.232940Z"
    }
   },
   "outputs": [],
   "source": [
    "# Teacher = {'Name':'KK', 'Age':100, 'Birth':'1104', 'Phone':'010-0000-0000', 1:'test', [1]:'test2'}\n",
    "# Teacher"
   ]
  },
  {
   "cell_type": "code",
   "execution_count": 149,
   "metadata": {
    "ExecuteTime": {
     "end_time": "2023-01-05T04:52:42.262860Z",
     "start_time": "2023-01-05T04:52:42.248899Z"
    }
   },
   "outputs": [
    {
     "data": {
      "text/plain": [
       "{'Name': 'KK',\n",
       " 'Age': 100,\n",
       " 'Birth': '1104',\n",
       " 'Phone': '010-0000-0000',\n",
       " 1: 'test2',\n",
       " 'Hobby': None}"
      ]
     },
     "execution_count": 149,
     "metadata": {},
     "output_type": "execute_result"
    }
   ],
   "source": [
    "# key 값을 추가하면 쉽게 데이터 반영\n",
    "# dict[키] = 값\n",
    "Teacher['Hobby'] = None\n",
    "Teacher"
   ]
  },
  {
   "cell_type": "code",
   "execution_count": 150,
   "metadata": {
    "ExecuteTime": {
     "end_time": "2023-01-05T04:52:42.278817Z",
     "start_time": "2023-01-05T04:52:42.265854Z"
    }
   },
   "outputs": [
    {
     "data": {
      "text/plain": [
       "dict"
      ]
     },
     "execution_count": 150,
     "metadata": {},
     "output_type": "execute_result"
    }
   ],
   "source": [
    "type(Teacher)"
   ]
  },
  {
   "cell_type": "code",
   "execution_count": 151,
   "metadata": {
    "ExecuteTime": {
     "end_time": "2023-01-05T04:52:42.294776Z",
     "start_time": "2023-01-05T04:52:42.280813Z"
    }
   },
   "outputs": [
    {
     "data": {
      "text/plain": [
       "'KK'"
      ]
     },
     "execution_count": 151,
     "metadata": {},
     "output_type": "execute_result"
    }
   ],
   "source": [
    "Teacher['Name']"
   ]
  },
  {
   "cell_type": "code",
   "execution_count": 152,
   "metadata": {
    "ExecuteTime": {
     "end_time": "2023-01-05T04:52:42.309736Z",
     "start_time": "2023-01-05T04:52:42.296804Z"
    }
   },
   "outputs": [
    {
     "data": {
      "text/plain": [
       "'test2'"
      ]
     },
     "execution_count": 152,
     "metadata": {},
     "output_type": "execute_result"
    }
   ],
   "source": [
    "Teacher[1]"
   ]
  },
  {
   "cell_type": "code",
   "execution_count": 153,
   "metadata": {
    "ExecuteTime": {
     "end_time": "2023-01-05T04:52:42.324694Z",
     "start_time": "2023-01-05T04:52:42.311764Z"
    }
   },
   "outputs": [
    {
     "data": {
      "text/plain": [
       "dict_keys(['Name', 'Age', 'Birth', 'Phone', 1, 'Hobby'])"
      ]
     },
     "execution_count": 153,
     "metadata": {},
     "output_type": "execute_result"
    }
   ],
   "source": [
    "# key, value 값만 추출하기\n",
    "Teacher.keys()"
   ]
  },
  {
   "cell_type": "code",
   "execution_count": 154,
   "metadata": {
    "ExecuteTime": {
     "end_time": "2023-01-05T04:52:42.340746Z",
     "start_time": "2023-01-05T04:52:42.326690Z"
    }
   },
   "outputs": [
    {
     "data": {
      "text/plain": [
       "dict_values(['KK', 100, '1104', '010-0000-0000', 'test2', None])"
      ]
     },
     "execution_count": 154,
     "metadata": {},
     "output_type": "execute_result"
    }
   ],
   "source": [
    "Teacher.values()"
   ]
  },
  {
   "cell_type": "code",
   "execution_count": 155,
   "metadata": {
    "ExecuteTime": {
     "end_time": "2023-01-05T04:52:42.356654Z",
     "start_time": "2023-01-05T04:52:42.341728Z"
    }
   },
   "outputs": [
    {
     "data": {
      "text/plain": [
       "dict_items([('Name', 'KK'), ('Age', 100), ('Birth', '1104'), ('Phone', '010-0000-0000'), (1, 'test2'), ('Hobby', None)])"
      ]
     },
     "execution_count": 155,
     "metadata": {},
     "output_type": "execute_result"
    }
   ],
   "source": [
    "Teacher.items()"
   ]
  },
  {
   "cell_type": "code",
   "execution_count": 156,
   "metadata": {
    "ExecuteTime": {
     "end_time": "2023-01-05T04:52:42.372645Z",
     "start_time": "2023-01-05T04:52:42.358684Z"
    }
   },
   "outputs": [
    {
     "data": {
      "text/plain": [
       "dict_keys(['Name', 'Age', 'Birth', 'Phone', 1, 'Hobby'])"
      ]
     },
     "execution_count": 156,
     "metadata": {},
     "output_type": "execute_result"
    }
   ],
   "source": [
    "Teacher.keys()"
   ]
  },
  {
   "cell_type": "code",
   "execution_count": 157,
   "metadata": {
    "ExecuteTime": {
     "end_time": "2023-01-05T04:52:42.388572Z",
     "start_time": "2023-01-05T04:52:42.373607Z"
    }
   },
   "outputs": [
    {
     "data": {
      "text/plain": [
       "['Name', 'Age', 'Birth', 'Phone', 1, 'Hobby']"
      ]
     },
     "execution_count": 157,
     "metadata": {},
     "output_type": "execute_result"
    }
   ],
   "source": [
    "list(Teacher.keys())"
   ]
  },
  {
   "cell_type": "code",
   "execution_count": 158,
   "metadata": {
    "ExecuteTime": {
     "end_time": "2023-01-05T04:52:42.404526Z",
     "start_time": "2023-01-05T04:52:42.392559Z"
    }
   },
   "outputs": [
    {
     "data": {
      "text/plain": [
       "True"
      ]
     },
     "execution_count": 158,
     "metadata": {},
     "output_type": "execute_result"
    }
   ],
   "source": [
    "# 영어어순의 in 전치사로 key 존재(포함)여부 확인\n",
    "'Name' in Teacher"
   ]
  },
  {
   "cell_type": "code",
   "execution_count": 159,
   "metadata": {
    "ExecuteTime": {
     "end_time": "2023-01-05T04:52:42.419711Z",
     "start_time": "2023-01-05T04:52:42.406522Z"
    }
   },
   "outputs": [
    {
     "data": {
      "text/plain": [
       "False"
      ]
     },
     "execution_count": 159,
     "metadata": {},
     "output_type": "execute_result"
    }
   ],
   "source": [
    "'Email' in Teacher"
   ]
  },
  {
   "cell_type": "code",
   "execution_count": 160,
   "metadata": {
    "ExecuteTime": {
     "end_time": "2023-01-05T04:52:42.435471Z",
     "start_time": "2023-01-05T04:52:42.421514Z"
    }
   },
   "outputs": [
    {
     "data": {
      "text/plain": [
       "{'Age': 100,\n",
       " 'Birth': '1104',\n",
       " 'Phone': '010-0000-0000',\n",
       " 1: 'test2',\n",
       " 'Hobby': None}"
      ]
     },
     "execution_count": 160,
     "metadata": {},
     "output_type": "execute_result"
    }
   ],
   "source": [
    "# 딕셔너리 자료 삭제\n",
    "del Teacher['Name']\n",
    "Teacher"
   ]
  },
  {
   "cell_type": "code",
   "execution_count": 161,
   "metadata": {
    "ExecuteTime": {
     "end_time": "2023-01-05T04:52:42.451088Z",
     "start_time": "2023-01-05T04:52:42.437465Z"
    }
   },
   "outputs": [
    {
     "data": {
      "text/plain": [
       "{}"
      ]
     },
     "execution_count": 161,
     "metadata": {},
     "output_type": "execute_result"
    }
   ],
   "source": [
    "# 딕셔너리 삭제\n",
    "Teacher.clear()\n",
    "Teacher"
   ]
  },
  {
   "cell_type": "markdown",
   "metadata": {},
   "source": [
    "# **파이썬에서 데이터의 형태 변환**\n",
    "\n",
    "**1. 파이썬 정수 변환:** int()     \n",
    "**2. 파이썬 실수 변환:** float()     \n",
    "**3. 파이썬 불리언 변환:** bool()     \n",
    "**4. 파이썬 문자열 변환:** str()     \n",
    "**5. 파이썬 리스트/튜플/집합/딕셔너리 변환:** list()/tuple()/set()/dict()     "
   ]
  },
  {
   "cell_type": "markdown",
   "metadata": {},
   "source": [
    "## 정수로 변환(Int)\n",
    "\n",
    "> 입력값을 정수형으로 변환\n",
    "> - int(숫자)\n",
    "> - int(불리언)\n",
    "> - int(계산식)\n",
    "> - int('문자열')"
   ]
  },
  {
   "cell_type": "code",
   "execution_count": 162,
   "metadata": {
    "ExecuteTime": {
     "end_time": "2023-01-05T04:52:42.467097Z",
     "start_time": "2023-01-05T04:52:42.453085Z"
    }
   },
   "outputs": [
    {
     "data": {
      "text/plain": [
       "10"
      ]
     },
     "execution_count": 162,
     "metadata": {},
     "output_type": "execute_result"
    }
   ],
   "source": [
    "int(10)"
   ]
  },
  {
   "cell_type": "code",
   "execution_count": 163,
   "metadata": {
    "ExecuteTime": {
     "end_time": "2023-01-05T04:52:42.483053Z",
     "start_time": "2023-01-05T04:52:42.468078Z"
    }
   },
   "outputs": [
    {
     "data": {
      "text/plain": [
       "3"
      ]
     },
     "execution_count": 163,
     "metadata": {},
     "output_type": "execute_result"
    }
   ],
   "source": [
    "## 3.141592 정수로 변환\n",
    "int(3.141592)"
   ]
  },
  {
   "cell_type": "code",
   "execution_count": 164,
   "metadata": {
    "ExecuteTime": {
     "end_time": "2023-01-05T04:52:42.498960Z",
     "start_time": "2023-01-05T04:52:42.484035Z"
    }
   },
   "outputs": [
    {
     "data": {
      "text/plain": [
       "1"
      ]
     },
     "execution_count": 164,
     "metadata": {},
     "output_type": "execute_result"
    }
   ],
   "source": [
    "# True 정수로 변환\n",
    "int(True)"
   ]
  },
  {
   "cell_type": "code",
   "execution_count": 165,
   "metadata": {
    "ExecuteTime": {
     "end_time": "2023-01-05T04:52:42.514918Z",
     "start_time": "2023-01-05T04:52:42.500989Z"
    }
   },
   "outputs": [
    {
     "data": {
      "text/plain": [
       "2"
      ]
     },
     "execution_count": 165,
     "metadata": {},
     "output_type": "execute_result"
    }
   ],
   "source": [
    "# 5를 2로 나누고 정수로 변환\n",
    "int(5/2)"
   ]
  },
  {
   "cell_type": "code",
   "execution_count": 166,
   "metadata": {
    "ExecuteTime": {
     "end_time": "2023-01-05T04:52:42.529878Z",
     "start_time": "2023-01-05T04:52:42.516947Z"
    }
   },
   "outputs": [
    {
     "data": {
      "text/plain": [
       "10"
      ]
     },
     "execution_count": 166,
     "metadata": {},
     "output_type": "execute_result"
    }
   ],
   "source": [
    "# 숫자형태의 문자 10을 정수로 변환\n",
    "int('10')"
   ]
  },
  {
   "cell_type": "code",
   "execution_count": 167,
   "metadata": {
    "ExecuteTime": {
     "end_time": "2023-01-05T04:52:42.544838Z",
     "start_time": "2023-01-05T04:52:42.531880Z"
    }
   },
   "outputs": [],
   "source": [
    "# 문자는 기본적으로 정수 변환 불가\n",
    "# int('KK')"
   ]
  },
  {
   "cell_type": "markdown",
   "metadata": {},
   "source": [
    "## 실수로 변환(Float)\n",
    "\n",
    "> 입력값을 실수형으로 변환\n",
    "> - float(숫자)\n",
    "> - float(불리언)\n",
    "> - float(계산식)\n",
    "> - float('문자열')"
   ]
  },
  {
   "cell_type": "code",
   "execution_count": 168,
   "metadata": {
    "ExecuteTime": {
     "end_time": "2023-01-05T04:52:42.560794Z",
     "start_time": "2023-01-05T04:52:42.546833Z"
    }
   },
   "outputs": [
    {
     "data": {
      "text/plain": [
       "5.0"
      ]
     },
     "execution_count": 168,
     "metadata": {},
     "output_type": "execute_result"
    }
   ],
   "source": [
    "float(5)"
   ]
  },
  {
   "cell_type": "code",
   "execution_count": 169,
   "metadata": {
    "ExecuteTime": {
     "end_time": "2023-01-05T04:52:42.576752Z",
     "start_time": "2023-01-05T04:52:42.561792Z"
    }
   },
   "outputs": [
    {
     "data": {
      "text/plain": [
       "3.141592"
      ]
     },
     "execution_count": 169,
     "metadata": {},
     "output_type": "execute_result"
    }
   ],
   "source": [
    "# 3.141592 실수로 변환\n",
    "float(3.141592)"
   ]
  },
  {
   "cell_type": "code",
   "execution_count": 170,
   "metadata": {
    "ExecuteTime": {
     "end_time": "2023-01-05T04:52:42.592709Z",
     "start_time": "2023-01-05T04:52:42.578746Z"
    }
   },
   "outputs": [
    {
     "data": {
      "text/plain": [
       "0.0"
      ]
     },
     "execution_count": 170,
     "metadata": {},
     "output_type": "execute_result"
    }
   ],
   "source": [
    "# False 실수로 변환\n",
    "float(False)"
   ]
  },
  {
   "cell_type": "code",
   "execution_count": 171,
   "metadata": {
    "ExecuteTime": {
     "end_time": "2023-01-05T04:52:42.608666Z",
     "start_time": "2023-01-05T04:52:42.593708Z"
    }
   },
   "outputs": [
    {
     "data": {
      "text/plain": [
       "1.0"
      ]
     },
     "execution_count": 171,
     "metadata": {},
     "output_type": "execute_result"
    }
   ],
   "source": [
    "# True 실수로 변환\n",
    "float(True)"
   ]
  },
  {
   "cell_type": "code",
   "execution_count": 172,
   "metadata": {
    "ExecuteTime": {
     "end_time": "2023-01-05T04:52:42.624830Z",
     "start_time": "2023-01-05T04:52:42.610661Z"
    }
   },
   "outputs": [
    {
     "data": {
      "text/plain": [
       "3.0"
      ]
     },
     "execution_count": 172,
     "metadata": {},
     "output_type": "execute_result"
    }
   ],
   "source": [
    "# 1 + 2 연산 후 실수로 변환\n",
    "float(1 + 2)"
   ]
  },
  {
   "cell_type": "code",
   "execution_count": 173,
   "metadata": {
    "ExecuteTime": {
     "end_time": "2023-01-05T04:52:42.640608Z",
     "start_time": "2023-01-05T04:52:42.626620Z"
    }
   },
   "outputs": [
    {
     "data": {
      "text/plain": [
       "5.3"
      ]
     },
     "execution_count": 173,
     "metadata": {},
     "output_type": "execute_result"
    }
   ],
   "source": [
    "# 숫자형태의 문자를 실수로 변환\n",
    "float('5.3')"
   ]
  },
  {
   "cell_type": "code",
   "execution_count": 174,
   "metadata": {
    "ExecuteTime": {
     "end_time": "2023-01-05T04:52:42.656538Z",
     "start_time": "2023-01-05T04:52:42.643574Z"
    }
   },
   "outputs": [
    {
     "data": {
      "text/plain": [
       "(1+0j)"
      ]
     },
     "execution_count": 174,
     "metadata": {},
     "output_type": "execute_result"
    }
   ],
   "source": [
    "# True 불리언을 복소수로 변환\n",
    "complex(True)"
   ]
  },
  {
   "cell_type": "markdown",
   "metadata": {},
   "source": [
    "## 불리언으로 변환(Bool)\n",
    "\n",
    "> 입력값을 불리언형으로 변환(숫자의 경우 **`0인지`** 여부, 문자의 경우 **`비어있는지`** 여부)\n",
    "> - bool(숫자)\n",
    "> - bool(불리언)\n",
    "> - bool(계산식)\n",
    "> - bool('문자열')"
   ]
  },
  {
   "cell_type": "code",
   "execution_count": 175,
   "metadata": {
    "ExecuteTime": {
     "end_time": "2023-01-05T04:52:42.672531Z",
     "start_time": "2023-01-05T04:52:42.658534Z"
    }
   },
   "outputs": [
    {
     "data": {
      "text/plain": [
       "True"
      ]
     },
     "execution_count": 175,
     "metadata": {},
     "output_type": "execute_result"
    }
   ],
   "source": [
    "bool(54)"
   ]
  },
  {
   "cell_type": "code",
   "execution_count": 176,
   "metadata": {
    "ExecuteTime": {
     "end_time": "2023-01-05T04:52:42.688453Z",
     "start_time": "2023-01-05T04:52:42.674492Z"
    }
   },
   "outputs": [
    {
     "data": {
      "text/plain": [
       "False"
      ]
     },
     "execution_count": 176,
     "metadata": {},
     "output_type": "execute_result"
    }
   ],
   "source": [
    "# 0을 불리언으로 변환\n",
    "bool(0)"
   ]
  },
  {
   "cell_type": "code",
   "execution_count": 177,
   "metadata": {
    "ExecuteTime": {
     "end_time": "2023-01-05T04:52:42.703461Z",
     "start_time": "2023-01-05T04:52:42.690449Z"
    }
   },
   "outputs": [
    {
     "data": {
      "text/plain": [
       "True"
      ]
     },
     "execution_count": 177,
     "metadata": {},
     "output_type": "execute_result"
    }
   ],
   "source": [
    "# 3.141592 불리언으로 변환\n",
    "bool(3.141592)"
   ]
  },
  {
   "cell_type": "code",
   "execution_count": 178,
   "metadata": {
    "ExecuteTime": {
     "end_time": "2023-01-05T04:52:42.719412Z",
     "start_time": "2023-01-05T04:52:42.705409Z"
    }
   },
   "outputs": [
    {
     "data": {
      "text/plain": [
       "False"
      ]
     },
     "execution_count": 178,
     "metadata": {},
     "output_type": "execute_result"
    }
   ],
   "source": [
    "# 0.00 불리언으로 변환\n",
    "bool(0.00)"
   ]
  },
  {
   "cell_type": "code",
   "execution_count": 179,
   "metadata": {
    "ExecuteTime": {
     "end_time": "2023-01-05T04:52:42.735329Z",
     "start_time": "2023-01-05T04:52:42.721368Z"
    }
   },
   "outputs": [
    {
     "data": {
      "text/plain": [
       "False"
      ]
     },
     "execution_count": 179,
     "metadata": {},
     "output_type": "execute_result"
    }
   ],
   "source": [
    "# 1-1 연산결과 불리언으로 변환\n",
    "bool(1-1)"
   ]
  },
  {
   "cell_type": "code",
   "execution_count": 180,
   "metadata": {
    "ExecuteTime": {
     "end_time": "2023-01-05T04:52:42.751335Z",
     "start_time": "2023-01-05T04:52:42.737323Z"
    }
   },
   "outputs": [
    {
     "data": {
      "text/plain": [
       "True"
      ]
     },
     "execution_count": 180,
     "metadata": {},
     "output_type": "execute_result"
    }
   ],
   "source": [
    "# 1-2 연산결과 불리언으로 변환\n",
    "bool(1-2)"
   ]
  },
  {
   "cell_type": "code",
   "execution_count": 181,
   "metadata": {
    "ExecuteTime": {
     "end_time": "2023-01-05T04:52:42.767241Z",
     "start_time": "2023-01-05T04:52:42.752284Z"
    }
   },
   "outputs": [
    {
     "data": {
      "text/plain": [
       "True"
      ]
     },
     "execution_count": 181,
     "metadata": {},
     "output_type": "execute_result"
    }
   ],
   "source": [
    "# 2-1 연산결과 불리언으로 변환\n",
    "bool(2-1)"
   ]
  },
  {
   "cell_type": "code",
   "execution_count": 182,
   "metadata": {
    "ExecuteTime": {
     "end_time": "2023-01-05T04:52:42.783248Z",
     "start_time": "2023-01-05T04:52:42.769238Z"
    }
   },
   "outputs": [
    {
     "data": {
      "text/plain": [
       "True"
      ]
     },
     "execution_count": 182,
     "metadata": {},
     "output_type": "execute_result"
    }
   ],
   "source": [
    "# True 불리언으로 변환\n",
    "bool(True)"
   ]
  },
  {
   "cell_type": "code",
   "execution_count": 183,
   "metadata": {
    "ExecuteTime": {
     "end_time": "2023-01-05T04:52:42.799157Z",
     "start_time": "2023-01-05T04:52:42.785195Z"
    }
   },
   "outputs": [
    {
     "data": {
      "text/plain": [
       "True"
      ]
     },
     "execution_count": 183,
     "metadata": {},
     "output_type": "execute_result"
    }
   ],
   "source": [
    "# KK 문자 불리언으로 변환\n",
    "bool('KK')"
   ]
  },
  {
   "cell_type": "code",
   "execution_count": 184,
   "metadata": {
    "ExecuteTime": {
     "end_time": "2023-01-05T04:52:42.815115Z",
     "start_time": "2023-01-05T04:52:42.801184Z"
    }
   },
   "outputs": [
    {
     "data": {
      "text/plain": [
       "False"
      ]
     },
     "execution_count": 184,
     "metadata": {},
     "output_type": "execute_result"
    }
   ],
   "source": [
    "# 빈문자 불리언으로 변환\n",
    "bool('')"
   ]
  },
  {
   "cell_type": "code",
   "execution_count": 185,
   "metadata": {
    "ExecuteTime": {
     "end_time": "2023-01-05T04:52:42.831074Z",
     "start_time": "2023-01-05T04:52:42.817109Z"
    }
   },
   "outputs": [
    {
     "data": {
      "text/plain": [
       "True"
      ]
     },
     "execution_count": 185,
     "metadata": {},
     "output_type": "execute_result"
    }
   ],
   "source": [
    "# 공백문자 불리언으로 변환\n",
    "bool(' ')"
   ]
  },
  {
   "cell_type": "markdown",
   "metadata": {},
   "source": [
    "## 문자열로 변환(Str)\n",
    "\n",
    "> 입력값을 문자열형으로 변환    \n",
    ">\n",
    "> 출력값은 문자열형을 의미하는 따옴표가 반드시 동반    \n",
    ">\n",
    "> - str(숫자)\n",
    "> - str(불리언)\n",
    "> - str(계산식)\n",
    "> - str('문자열')"
   ]
  },
  {
   "cell_type": "code",
   "execution_count": 186,
   "metadata": {
    "ExecuteTime": {
     "end_time": "2023-01-05T04:52:42.847030Z",
     "start_time": "2023-01-05T04:52:42.833066Z"
    }
   },
   "outputs": [
    {
     "data": {
      "text/plain": [
       "'10'"
      ]
     },
     "execution_count": 186,
     "metadata": {},
     "output_type": "execute_result"
    }
   ],
   "source": [
    "# 숫자를 문자열로 변환\n",
    "str(10)"
   ]
  },
  {
   "cell_type": "code",
   "execution_count": 187,
   "metadata": {
    "ExecuteTime": {
     "end_time": "2023-01-05T04:52:42.863035Z",
     "start_time": "2023-01-05T04:52:42.850021Z"
    }
   },
   "outputs": [
    {
     "data": {
      "text/plain": [
       "'3.141592'"
      ]
     },
     "execution_count": 187,
     "metadata": {},
     "output_type": "execute_result"
    }
   ],
   "source": [
    "# 3.141592 문자열로 변환\n",
    "str(3.141592)"
   ]
  },
  {
   "cell_type": "code",
   "execution_count": 188,
   "metadata": {
    "ExecuteTime": {
     "end_time": "2023-01-05T04:52:42.878944Z",
     "start_time": "2023-01-05T04:52:42.864983Z"
    }
   },
   "outputs": [
    {
     "data": {
      "text/plain": [
       "'True'"
      ]
     },
     "execution_count": 188,
     "metadata": {},
     "output_type": "execute_result"
    }
   ],
   "source": [
    "# True를 문자열로 변환\n",
    "str(True)"
   ]
  },
  {
   "cell_type": "code",
   "execution_count": 189,
   "metadata": {
    "ExecuteTime": {
     "end_time": "2023-01-05T04:52:42.894901Z",
     "start_time": "2023-01-05T04:52:42.880938Z"
    }
   },
   "outputs": [
    {
     "data": {
      "text/plain": [
       "'False'"
      ]
     },
     "execution_count": 189,
     "metadata": {},
     "output_type": "execute_result"
    }
   ],
   "source": [
    "# False를 문자열로 변환\n",
    "str(False)"
   ]
  },
  {
   "cell_type": "code",
   "execution_count": 190,
   "metadata": {
    "ExecuteTime": {
     "end_time": "2023-01-05T04:52:42.910910Z",
     "start_time": "2023-01-05T04:52:42.895934Z"
    }
   },
   "outputs": [
    {
     "data": {
      "text/plain": [
       "'2'"
      ]
     },
     "execution_count": 190,
     "metadata": {},
     "output_type": "execute_result"
    }
   ],
   "source": [
    "# 숫자형태 문자 2를 문자열로 변환\n",
    "str('2')"
   ]
  },
  {
   "cell_type": "code",
   "execution_count": 191,
   "metadata": {
    "ExecuteTime": {
     "end_time": "2023-01-05T04:52:42.926860Z",
     "start_time": "2023-01-05T04:52:42.912888Z"
    }
   },
   "outputs": [
    {
     "data": {
      "text/plain": [
       "'KK'"
      ]
     },
     "execution_count": 191,
     "metadata": {},
     "output_type": "execute_result"
    }
   ],
   "source": [
    "# 문자 KK 문자열로 변환\n",
    "str('KK')"
   ]
  },
  {
   "cell_type": "markdown",
   "metadata": {},
   "source": [
    "## 리스트/튜플/집합/딕셔너리 변환"
   ]
  },
  {
   "cell_type": "code",
   "execution_count": 192,
   "metadata": {
    "ExecuteTime": {
     "end_time": "2023-01-05T04:52:42.942802Z",
     "start_time": "2023-01-05T04:52:42.927847Z"
    }
   },
   "outputs": [
    {
     "data": {
      "text/plain": [
       "[1, 2]"
      ]
     },
     "execution_count": 192,
     "metadata": {},
     "output_type": "execute_result"
    }
   ],
   "source": [
    "# (1,2) 튜플을 리스트로 변환\n",
    "list((1,2))"
   ]
  },
  {
   "cell_type": "code",
   "execution_count": 193,
   "metadata": {
    "ExecuteTime": {
     "end_time": "2023-01-05T04:52:42.958730Z",
     "start_time": "2023-01-05T04:52:42.944768Z"
    }
   },
   "outputs": [
    {
     "data": {
      "text/plain": [
       "(1, 2)"
      ]
     },
     "execution_count": 193,
     "metadata": {},
     "output_type": "execute_result"
    }
   ],
   "source": [
    "# [1,2] 리스트를 튜플로 변환\n",
    "tuple([1,2])"
   ]
  },
  {
   "cell_type": "code",
   "execution_count": 194,
   "metadata": {
    "ExecuteTime": {
     "end_time": "2023-01-05T04:52:42.974736Z",
     "start_time": "2023-01-05T04:52:42.960725Z"
    }
   },
   "outputs": [
    {
     "data": {
      "text/plain": [
       "{1, 2}"
      ]
     },
     "execution_count": 194,
     "metadata": {},
     "output_type": "execute_result"
    }
   ],
   "source": [
    "# [1,2,2] 리스트를 집합으로 변환\n",
    "set([1,2,2])"
   ]
  },
  {
   "cell_type": "code",
   "execution_count": 195,
   "metadata": {
    "ExecuteTime": {
     "end_time": "2023-01-05T04:52:42.990695Z",
     "start_time": "2023-01-05T04:52:42.976694Z"
    }
   },
   "outputs": [
    {
     "data": {
      "text/plain": [
       "{1: 2, 3: 4}"
      ]
     },
     "execution_count": 195,
     "metadata": {},
     "output_type": "execute_result"
    }
   ],
   "source": [
    "# [[1,2],[3,4]] 리스트를 딕셔너리로 변환\n",
    "dict([[1,2],[3,4]])"
   ]
  },
  {
   "cell_type": "code",
   "execution_count": 196,
   "metadata": {
    "ExecuteTime": {
     "end_time": "2023-01-05T04:52:43.006656Z",
     "start_time": "2023-01-05T04:52:42.992640Z"
    }
   },
   "outputs": [
    {
     "data": {
      "text/plain": [
       "dict"
      ]
     },
     "execution_count": 196,
     "metadata": {},
     "output_type": "execute_result"
    }
   ],
   "source": [
    "x = {\"a\":1,\"b\":2,\"c\":3}\n",
    "type(x)"
   ]
  },
  {
   "cell_type": "code",
   "execution_count": 197,
   "metadata": {
    "ExecuteTime": {
     "end_time": "2023-01-05T04:52:43.022562Z",
     "start_time": "2023-01-05T04:52:43.008599Z"
    }
   },
   "outputs": [
    {
     "data": {
      "text/plain": [
       "{'a': 1, 'b': 2, 'c': 3}"
      ]
     },
     "execution_count": 197,
     "metadata": {},
     "output_type": "execute_result"
    }
   ],
   "source": [
    "x"
   ]
  },
  {
   "cell_type": "code",
   "execution_count": 198,
   "metadata": {
    "ExecuteTime": {
     "end_time": "2023-01-05T04:52:43.038549Z",
     "start_time": "2023-01-05T04:52:43.023593Z"
    }
   },
   "outputs": [
    {
     "data": {
      "text/plain": [
       "['a', 'b', 'c']"
      ]
     },
     "execution_count": 198,
     "metadata": {},
     "output_type": "execute_result"
    }
   ],
   "source": [
    "# x 딕셔너리를 리스트로 변환\n",
    "list(x)"
   ]
  },
  {
   "cell_type": "code",
   "execution_count": 199,
   "metadata": {
    "ExecuteTime": {
     "end_time": "2023-01-05T04:52:43.054523Z",
     "start_time": "2023-01-05T04:52:43.040544Z"
    }
   },
   "outputs": [
    {
     "data": {
      "text/plain": [
       "[('a', 1), ('b', 2), ('c', 3)]"
      ]
     },
     "execution_count": 199,
     "metadata": {},
     "output_type": "execute_result"
    }
   ],
   "source": [
    "# x 딕셔너리를 튜플기반 리스트로 변환\n",
    "temp = []\n",
    "for i in x:\n",
    "    temp.append((i, x[i]))\n",
    "    \n",
    "temp"
   ]
  },
  {
   "cell_type": "code",
   "execution_count": 200,
   "metadata": {
    "ExecuteTime": {
     "end_time": "2023-01-05T04:52:43.070433Z",
     "start_time": "2023-01-05T04:52:43.056472Z"
    }
   },
   "outputs": [
    {
     "data": {
      "text/plain": [
       "list"
      ]
     },
     "execution_count": 200,
     "metadata": {},
     "output_type": "execute_result"
    }
   ],
   "source": [
    "y = [(i,x[i]) for i in x]\n",
    "type(y)"
   ]
  },
  {
   "cell_type": "code",
   "execution_count": 201,
   "metadata": {
    "ExecuteTime": {
     "end_time": "2023-01-05T04:52:43.086441Z",
     "start_time": "2023-01-05T04:52:43.072452Z"
    }
   },
   "outputs": [
    {
     "data": {
      "text/plain": [
       "[('a', 1), ('b', 2), ('c', 3)]"
      ]
     },
     "execution_count": 201,
     "metadata": {},
     "output_type": "execute_result"
    }
   ],
   "source": [
    "y"
   ]
  },
  {
   "cell_type": "code",
   "execution_count": 202,
   "metadata": {
    "ExecuteTime": {
     "end_time": "2023-01-05T04:52:43.102347Z",
     "start_time": "2023-01-05T04:52:43.087386Z"
    }
   },
   "outputs": [
    {
     "data": {
      "text/plain": [
       "dict"
      ]
     },
     "execution_count": 202,
     "metadata": {},
     "output_type": "execute_result"
    }
   ],
   "source": [
    "z = {i:j for i,j in y}\n",
    "type(z)"
   ]
  },
  {
   "cell_type": "code",
   "execution_count": 203,
   "metadata": {
    "ExecuteTime": {
     "end_time": "2023-01-05T04:52:43.118354Z",
     "start_time": "2023-01-05T04:52:43.103380Z"
    }
   },
   "outputs": [
    {
     "data": {
      "text/plain": [
       "{'a': 1, 'b': 2, 'c': 3}"
      ]
     },
     "execution_count": 203,
     "metadata": {},
     "output_type": "execute_result"
    }
   ],
   "source": [
    "z"
   ]
  },
  {
   "cell_type": "markdown",
   "metadata": {},
   "source": [
    "# **파이썬이 사용하는 연산의 형태**\n",
    "\n",
    "- **목적:** 실제 생활에서 사람이 생각(f)하는 사칙연산과 수리적 로직을 파이썬 방식으로 이해\n",
    "> - **산술연산자(Arithmetic Operator)**\n",
    "> - **할당연산자(Assignment Operator)**\n",
    "> - **비교연산자(Comparison Operator)**\n",
    "> - **논리연산자(Logical Operator)**\n",
    "> - **식별연산자(Identity Operator)**\n",
    "> - **멤버연산자(Menbership Operator)**"
   ]
  },
  {
   "cell_type": "markdown",
   "metadata": {},
   "source": [
    "## 산술연산자(Arithmetic Operator): 수학 연산을 위해 사용\n",
    "\n",
    "| 산술연산자 |  기능  |\n",
    "|:----------:|:------:|\n",
    "|     A + B    | 더하기 |\n",
    "|     A - B    |  빼기  |\n",
    "|     A * B    | 곱하기 |\n",
    "|     A / B    | 나누기 |\n",
    "|     A % B    | 나머지 |\n",
    "|    A ** B    |  제곱  |\n",
    "|    A // B    |   몫   |\n",
    "|   divmod(A,B)   | (몫, 나머지) |"
   ]
  },
  {
   "cell_type": "code",
   "execution_count": 204,
   "metadata": {
    "ExecuteTime": {
     "end_time": "2023-01-05T04:52:43.134293Z",
     "start_time": "2023-01-05T04:52:43.120299Z"
    }
   },
   "outputs": [
    {
     "data": {
      "text/plain": [
       "2"
      ]
     },
     "execution_count": 204,
     "metadata": {},
     "output_type": "execute_result"
    }
   ],
   "source": [
    "1 + 1"
   ]
  },
  {
   "cell_type": "code",
   "execution_count": 205,
   "metadata": {
    "ExecuteTime": {
     "end_time": "2023-01-05T04:52:43.150271Z",
     "start_time": "2023-01-05T04:52:43.136476Z"
    }
   },
   "outputs": [
    {
     "data": {
      "text/plain": [
       "1"
      ]
     },
     "execution_count": 205,
     "metadata": {},
     "output_type": "execute_result"
    }
   ],
   "source": [
    "3 - 2"
   ]
  },
  {
   "cell_type": "code",
   "execution_count": 206,
   "metadata": {
    "ExecuteTime": {
     "end_time": "2023-01-05T04:52:43.166178Z",
     "start_time": "2023-01-05T04:52:43.151254Z"
    }
   },
   "outputs": [
    {
     "data": {
      "text/plain": [
       "4"
      ]
     },
     "execution_count": 206,
     "metadata": {},
     "output_type": "execute_result"
    }
   ],
   "source": [
    "2 * 2"
   ]
  },
  {
   "cell_type": "code",
   "execution_count": 207,
   "metadata": {
    "ExecuteTime": {
     "end_time": "2023-01-05T04:52:43.182183Z",
     "start_time": "2023-01-05T04:52:43.169168Z"
    }
   },
   "outputs": [
    {
     "data": {
      "text/plain": [
       "2.0"
      ]
     },
     "execution_count": 207,
     "metadata": {},
     "output_type": "execute_result"
    }
   ],
   "source": [
    "4 / 2"
   ]
  },
  {
   "cell_type": "code",
   "execution_count": 208,
   "metadata": {
    "ExecuteTime": {
     "end_time": "2023-01-05T04:52:43.198127Z",
     "start_time": "2023-01-05T04:52:43.183133Z"
    }
   },
   "outputs": [
    {
     "data": {
      "text/plain": [
       "1"
      ]
     },
     "execution_count": 208,
     "metadata": {},
     "output_type": "execute_result"
    }
   ],
   "source": [
    "5 % 2"
   ]
  },
  {
   "cell_type": "code",
   "execution_count": 209,
   "metadata": {
    "ExecuteTime": {
     "end_time": "2023-01-05T04:52:43.214101Z",
     "start_time": "2023-01-05T04:52:43.200108Z"
    }
   },
   "outputs": [
    {
     "data": {
      "text/plain": [
       "27"
      ]
     },
     "execution_count": 209,
     "metadata": {},
     "output_type": "execute_result"
    }
   ],
   "source": [
    "3 ** 3    # 3 * 3 * 3"
   ]
  },
  {
   "cell_type": "code",
   "execution_count": 210,
   "metadata": {
    "ExecuteTime": {
     "end_time": "2023-01-05T04:52:43.230056Z",
     "start_time": "2023-01-05T04:52:43.216045Z"
    }
   },
   "outputs": [
    {
     "data": {
      "text/plain": [
       "3.5"
      ]
     },
     "execution_count": 210,
     "metadata": {},
     "output_type": "execute_result"
    }
   ],
   "source": [
    "7 / 2"
   ]
  },
  {
   "cell_type": "code",
   "execution_count": 211,
   "metadata": {
    "ExecuteTime": {
     "end_time": "2023-01-05T04:52:43.246006Z",
     "start_time": "2023-01-05T04:52:43.232002Z"
    }
   },
   "outputs": [
    {
     "data": {
      "text/plain": [
       "3"
      ]
     },
     "execution_count": 211,
     "metadata": {},
     "output_type": "execute_result"
    }
   ],
   "source": [
    "7 // 2"
   ]
  },
  {
   "cell_type": "code",
   "execution_count": 212,
   "metadata": {
    "ExecuteTime": {
     "end_time": "2023-01-05T04:52:43.261971Z",
     "start_time": "2023-01-05T04:52:43.247995Z"
    }
   },
   "outputs": [
    {
     "data": {
      "text/plain": [
       "(2, 1)"
      ]
     },
     "execution_count": 212,
     "metadata": {},
     "output_type": "execute_result"
    }
   ],
   "source": [
    "# 몫과 나머지 함께 구하기\n",
    "divmod(5,2)    # y1, y2 = f(x1, x2)"
   ]
  },
  {
   "cell_type": "code",
   "execution_count": 213,
   "metadata": {
    "ExecuteTime": {
     "end_time": "2023-01-05T04:52:43.277878Z",
     "start_time": "2023-01-05T04:52:43.263916Z"
    }
   },
   "outputs": [],
   "source": [
    "# quotient = divmod(5,2)[0]\n",
    "# remainder = divmod(5,2)[1]"
   ]
  },
  {
   "cell_type": "code",
   "execution_count": 214,
   "metadata": {
    "ExecuteTime": {
     "end_time": "2023-01-05T04:52:43.293887Z",
     "start_time": "2023-01-05T04:52:43.279873Z"
    }
   },
   "outputs": [
    {
     "name": "stdout",
     "output_type": "stream",
     "text": [
      "2 1\n"
     ]
    }
   ],
   "source": [
    "quotient, remainder = divmod(5, 2)\n",
    "print(quotient, remainder)"
   ]
  },
  {
   "cell_type": "code",
   "execution_count": 215,
   "metadata": {
    "ExecuteTime": {
     "end_time": "2023-01-05T04:52:43.309835Z",
     "start_time": "2023-01-05T04:52:43.295868Z"
    }
   },
   "outputs": [
    {
     "data": {
      "text/plain": [
       "1.5999999999999996"
      ]
     },
     "execution_count": 215,
     "metadata": {},
     "output_type": "execute_result"
    }
   ],
   "source": [
    "# 실수 계산부터는 오차가 발생\n",
    "4.3 - 2.7"
   ]
  },
  {
   "cell_type": "code",
   "execution_count": 216,
   "metadata": {
    "ExecuteTime": {
     "end_time": "2023-01-05T04:52:43.325787Z",
     "start_time": "2023-01-05T04:52:43.310791Z"
    }
   },
   "outputs": [
    {
     "data": {
      "text/plain": [
       "9.2"
      ]
     },
     "execution_count": 216,
     "metadata": {},
     "output_type": "execute_result"
    }
   ],
   "source": [
    "# 실수와 정수의 계산은 표현 범위가 넓은 실수로 계산\n",
    "4.2 + 5"
   ]
  },
  {
   "cell_type": "markdown",
   "metadata": {},
   "source": [
    "## 할당연산자(Assignment Operator): 값을 반영하기 위해 사용\n",
    "\n",
    "| 할당연산자 |                        기능                        |\n",
    "|:----------:|:--------------------------------------------------:|\n",
    "|     A = B    |             왼쪽 값에 오른쪽 값을 할당             |\n",
    "|    A += B    |       왼쪽 값을 오른쪽에 더한 후, 왼쪽에 할당      |\n",
    "|    A -= B    |        왼쪽 값을 오른쪽에 뺀 후, 왼쪽에 할당       |\n",
    "|    A *= B    |       왼쪽 값을 오른쪽에 곱한 후, 왼쪽에 할당      |\n",
    "|    A /= B    |       왼쪽 값을 오른쪽에 나눈 후, 왼쪽에 할당      |\n",
    "|    A %= B    | 왼쪽 값을 오른쪽에 나눈 후, 나머지값을 왼쪽에 할당 |"
   ]
  },
  {
   "cell_type": "code",
   "execution_count": 217,
   "metadata": {
    "ExecuteTime": {
     "end_time": "2023-01-05T04:52:43.341757Z",
     "start_time": "2023-01-05T04:52:43.327778Z"
    }
   },
   "outputs": [
    {
     "data": {
      "text/plain": [
       "5"
      ]
     },
     "execution_count": 217,
     "metadata": {},
     "output_type": "execute_result"
    }
   ],
   "source": [
    "x = 5\n",
    "x"
   ]
  },
  {
   "cell_type": "code",
   "execution_count": 218,
   "metadata": {
    "ExecuteTime": {
     "end_time": "2023-01-05T04:52:43.357714Z",
     "start_time": "2023-01-05T04:52:43.343735Z"
    }
   },
   "outputs": [
    {
     "data": {
      "text/plain": [
       "8"
      ]
     },
     "execution_count": 218,
     "metadata": {},
     "output_type": "execute_result"
    }
   ],
   "source": [
    "x = 5\n",
    "# x = x + 3\n",
    "x += 3\n",
    "x"
   ]
  },
  {
   "cell_type": "code",
   "execution_count": 219,
   "metadata": {
    "ExecuteTime": {
     "end_time": "2023-01-05T04:52:43.373669Z",
     "start_time": "2023-01-05T04:52:43.359662Z"
    }
   },
   "outputs": [
    {
     "data": {
      "text/plain": [
       "2"
      ]
     },
     "execution_count": 219,
     "metadata": {},
     "output_type": "execute_result"
    }
   ],
   "source": [
    "x = 5\n",
    "# x = x - 3\n",
    "x -= 3\n",
    "x"
   ]
  },
  {
   "cell_type": "code",
   "execution_count": 220,
   "metadata": {
    "ExecuteTime": {
     "end_time": "2023-01-05T04:52:43.389630Z",
     "start_time": "2023-01-05T04:52:43.375616Z"
    }
   },
   "outputs": [
    {
     "data": {
      "text/plain": [
       "15"
      ]
     },
     "execution_count": 220,
     "metadata": {},
     "output_type": "execute_result"
    }
   ],
   "source": [
    "x = 5\n",
    "# x = x * 3\n",
    "x *= 3\n",
    "x"
   ]
  },
  {
   "cell_type": "code",
   "execution_count": 221,
   "metadata": {
    "ExecuteTime": {
     "end_time": "2023-01-05T04:52:43.405536Z",
     "start_time": "2023-01-05T04:52:43.390616Z"
    }
   },
   "outputs": [
    {
     "data": {
      "text/plain": [
       "1.6666666666666667"
      ]
     },
     "execution_count": 221,
     "metadata": {},
     "output_type": "execute_result"
    }
   ],
   "source": [
    "x = 5\n",
    "# x = x / 3\n",
    "x /= 3\n",
    "x"
   ]
  },
  {
   "cell_type": "code",
   "execution_count": 222,
   "metadata": {
    "ExecuteTime": {
     "end_time": "2023-01-05T04:52:43.421544Z",
     "start_time": "2023-01-05T04:52:43.406574Z"
    }
   },
   "outputs": [
    {
     "data": {
      "text/plain": [
       "2"
      ]
     },
     "execution_count": 222,
     "metadata": {},
     "output_type": "execute_result"
    }
   ],
   "source": [
    "x = 5\n",
    "# x = x % 3\n",
    "x %= 3\n",
    "x"
   ]
  },
  {
   "cell_type": "markdown",
   "metadata": {},
   "source": [
    "## 비교연산자(Comparison Operator): 두 값을 비교하기 위해 사용\n",
    "\n",
    "| 비교연산자 |              기능             |\n",
    "|:----------:|:-----------------------------:|\n",
    "|    A == B    |              같음             |\n",
    "|    A != B    |           같지 않음           |\n",
    "|     A > B    |      왼쪽이 오른쪽보다 큼     |\n",
    "|     A < B    |      오른쪽이 왼쪽보다 큼     |\n",
    "|    A >= B    | 왼쪽이 오른쪽보다 크거나 같음 |\n",
    "|    A <= B    | 오른쪽이 왼쪽보다 크거나 같음 |"
   ]
  },
  {
   "cell_type": "code",
   "execution_count": 223,
   "metadata": {
    "ExecuteTime": {
     "end_time": "2023-01-05T04:52:43.437487Z",
     "start_time": "2023-01-05T04:52:43.422531Z"
    }
   },
   "outputs": [
    {
     "data": {
      "text/plain": [
       "False"
      ]
     },
     "execution_count": 223,
     "metadata": {},
     "output_type": "execute_result"
    }
   ],
   "source": [
    "5 == 3"
   ]
  },
  {
   "cell_type": "code",
   "execution_count": 224,
   "metadata": {
    "ExecuteTime": {
     "end_time": "2023-01-05T04:52:43.452459Z",
     "start_time": "2023-01-05T04:52:43.439446Z"
    }
   },
   "outputs": [
    {
     "data": {
      "text/plain": [
       "True"
      ]
     },
     "execution_count": 224,
     "metadata": {},
     "output_type": "execute_result"
    }
   ],
   "source": [
    "5 != 3"
   ]
  },
  {
   "cell_type": "code",
   "execution_count": 225,
   "metadata": {
    "ExecuteTime": {
     "end_time": "2023-01-05T04:52:43.467397Z",
     "start_time": "2023-01-05T04:52:43.454405Z"
    }
   },
   "outputs": [
    {
     "data": {
      "text/plain": [
       "True"
      ]
     },
     "execution_count": 225,
     "metadata": {},
     "output_type": "execute_result"
    }
   ],
   "source": [
    "4 > 3"
   ]
  },
  {
   "cell_type": "code",
   "execution_count": 226,
   "metadata": {
    "ExecuteTime": {
     "end_time": "2023-01-05T04:52:43.483329Z",
     "start_time": "2023-01-05T04:52:43.468370Z"
    }
   },
   "outputs": [
    {
     "data": {
      "text/plain": [
       "False"
      ]
     },
     "execution_count": 226,
     "metadata": {},
     "output_type": "execute_result"
    }
   ],
   "source": [
    "3 < 3"
   ]
  },
  {
   "cell_type": "code",
   "execution_count": 227,
   "metadata": {
    "ExecuteTime": {
     "end_time": "2023-01-05T04:52:43.499287Z",
     "start_time": "2023-01-05T04:52:43.485325Z"
    }
   },
   "outputs": [
    {
     "data": {
      "text/plain": [
       "True"
      ]
     },
     "execution_count": 227,
     "metadata": {},
     "output_type": "execute_result"
    }
   ],
   "source": [
    "6 >= 6"
   ]
  },
  {
   "cell_type": "code",
   "execution_count": 228,
   "metadata": {
    "ExecuteTime": {
     "end_time": "2023-01-05T04:52:43.514246Z",
     "start_time": "2023-01-05T04:52:43.500284Z"
    }
   },
   "outputs": [
    {
     "data": {
      "text/plain": [
       "True"
      ]
     },
     "execution_count": 228,
     "metadata": {},
     "output_type": "execute_result"
    }
   ],
   "source": [
    "7 <= 8"
   ]
  },
  {
   "cell_type": "markdown",
   "metadata": {},
   "source": [
    "## 논리연산자(Logical Operator): 여러 조건/상황을 반영하기 위해 사용\n",
    "\n",
    "| 논리연산자 |             기능             |\n",
    "|:----------:|:----------------------------:|\n",
    "|    A and B   |    양쪽이 모두 참이면 True   |\n",
    "|    A or B    | 양쪽 중 하나라도 참이면 True |\n",
    "|     not A   |     오른쪽이 False면 True    |"
   ]
  },
  {
   "cell_type": "code",
   "execution_count": 229,
   "metadata": {
    "ExecuteTime": {
     "end_time": "2023-01-05T04:52:43.529206Z",
     "start_time": "2023-01-05T04:52:43.516241Z"
    }
   },
   "outputs": [
    {
     "data": {
      "text/plain": [
       "True"
      ]
     },
     "execution_count": 229,
     "metadata": {},
     "output_type": "execute_result"
    }
   ],
   "source": [
    "# 2는 5보다 작고 그리고 3은 10보다 작은가?\n",
    "2 < 5 and 3 < 10"
   ]
  },
  {
   "cell_type": "code",
   "execution_count": 230,
   "metadata": {
    "ExecuteTime": {
     "end_time": "2023-01-05T04:52:43.545164Z",
     "start_time": "2023-01-05T04:52:43.531234Z"
    }
   },
   "outputs": [
    {
     "data": {
      "text/plain": [
       "True"
      ]
     },
     "execution_count": 230,
     "metadata": {},
     "output_type": "execute_result"
    }
   ],
   "source": [
    "# 2는 4보다 작고 또는 7은 5보다 작은가?\n",
    "2 < 4 or 7 < 5"
   ]
  },
  {
   "cell_type": "code",
   "execution_count": 231,
   "metadata": {
    "ExecuteTime": {
     "end_time": "2023-01-05T04:52:43.559846Z",
     "start_time": "2023-01-05T04:52:43.547887Z"
    }
   },
   "outputs": [
    {
     "data": {
      "text/plain": [
       "True"
      ]
     },
     "execution_count": 231,
     "metadata": {},
     "output_type": "execute_result"
    }
   ],
   "source": [
    "# \"3은 4보다 작고 그리고 5는 2보다 작다\" 가 아닌것은 무엇인가?\n",
    "not (3 < 4 and 5 < 2)"
   ]
  },
  {
   "cell_type": "markdown",
   "metadata": {},
   "source": [
    "## 식별연산자(Identity Operator): 동일여부 비교하기 위해 사용\n",
    "\n",
    "| 식별연산자 |        기능        |\n",
    "|:----------:|:------------------:|\n",
    "|    A is B    | 양쪽이 같으면 True |\n",
    "|  A is not B  | 양쪽이 다르면 True |"
   ]
  },
  {
   "cell_type": "code",
   "execution_count": 232,
   "metadata": {
    "ExecuteTime": {
     "end_time": "2023-01-05T04:52:43.574803Z",
     "start_time": "2023-01-05T04:52:43.561839Z"
    }
   },
   "outputs": [
    {
     "data": {
      "text/plain": [
       "True"
      ]
     },
     "execution_count": 232,
     "metadata": {},
     "output_type": "execute_result"
    }
   ],
   "source": [
    "x = 'KK'\n",
    "y = 'KK'\n",
    "# x 와 y는 같은가?\n",
    "x is y"
   ]
  },
  {
   "cell_type": "code",
   "execution_count": 233,
   "metadata": {
    "ExecuteTime": {
     "end_time": "2023-01-05T04:52:43.590795Z",
     "start_time": "2023-01-05T04:52:43.577798Z"
    }
   },
   "outputs": [
    {
     "data": {
      "text/plain": [
       "True"
      ]
     },
     "execution_count": 233,
     "metadata": {},
     "output_type": "execute_result"
    }
   ],
   "source": [
    "# x 와 y는 같은가?\n",
    "x == y"
   ]
  },
  {
   "cell_type": "code",
   "execution_count": 234,
   "metadata": {
    "ExecuteTime": {
     "end_time": "2023-01-05T04:52:43.606721Z",
     "start_time": "2023-01-05T04:52:43.592758Z"
    }
   },
   "outputs": [
    {
     "data": {
      "text/plain": [
       "False"
      ]
     },
     "execution_count": 234,
     "metadata": {},
     "output_type": "execute_result"
    }
   ],
   "source": [
    "x = 'KK'\n",
    "y = 'Korea'\n",
    "# x 와 y는 같은가?\n",
    "x is y"
   ]
  },
  {
   "cell_type": "code",
   "execution_count": 235,
   "metadata": {
    "ExecuteTime": {
     "end_time": "2023-01-05T04:52:43.622726Z",
     "start_time": "2023-01-05T04:52:43.607718Z"
    }
   },
   "outputs": [
    {
     "data": {
      "text/plain": [
       "True"
      ]
     },
     "execution_count": 235,
     "metadata": {},
     "output_type": "execute_result"
    }
   ],
   "source": [
    "x = 'KK'\n",
    "y = 'Korea'\n",
    "# x 와 y는 다른가?\n",
    "x is not y"
   ]
  },
  {
   "cell_type": "markdown",
   "metadata": {},
   "source": [
    "## 멤버연산자(Menbership Operator): 포함여부 확인하기 위해 사용\n",
    "\n",
    "| 멤버연산자 |                기능                |\n",
    "|:----------:|:----------------------------------:|\n",
    "|    A in B    |     값이 오른쪽에 포함되면 True    |\n",
    "|  A not in B  | 값이 오른쪽에 포함되지 않으면 True |"
   ]
  },
  {
   "cell_type": "code",
   "execution_count": 236,
   "metadata": {
    "ExecuteTime": {
     "end_time": "2023-01-05T04:52:43.638635Z",
     "start_time": "2023-01-05T04:52:43.623712Z"
    }
   },
   "outputs": [
    {
     "data": {
      "text/plain": [
       "True"
      ]
     },
     "execution_count": 236,
     "metadata": {},
     "output_type": "execute_result"
    }
   ],
   "source": [
    "list_test = ['KK', 'Korea']\n",
    "# 'KK' 문자열은 list_test에 포함되는가?\n",
    "'KK' in list_test"
   ]
  },
  {
   "cell_type": "code",
   "execution_count": 237,
   "metadata": {
    "ExecuteTime": {
     "end_time": "2023-01-05T04:52:43.654591Z",
     "start_time": "2023-01-05T04:52:43.640631Z"
    }
   },
   "outputs": [
    {
     "data": {
      "text/plain": [
       "False"
      ]
     },
     "execution_count": 237,
     "metadata": {},
     "output_type": "execute_result"
    }
   ],
   "source": [
    "# 'KKK' 문자열은 list_test에 포함되는가?\n",
    "'KKK' in list_test"
   ]
  },
  {
   "cell_type": "code",
   "execution_count": 238,
   "metadata": {
    "ExecuteTime": {
     "end_time": "2023-01-05T04:52:43.670578Z",
     "start_time": "2023-01-05T04:52:43.656625Z"
    },
    "scrolled": true
   },
   "outputs": [
    {
     "data": {
      "text/plain": [
       "True"
      ]
     },
     "execution_count": 238,
     "metadata": {},
     "output_type": "execute_result"
    }
   ],
   "source": [
    "# 'KKK' 문자열은 list_test에 포함되지 않는가?\n",
    "'KKK' not in list_test"
   ]
  },
  {
   "cell_type": "markdown",
   "metadata": {},
   "source": [
    "## 연산의 우선순위(Priority): 여러개 연산시 우선순위부터 계산\n",
    "\n",
    "> - 괄호가 있으면 먼저 계산하고 나머지는 우선순위대로 계산\n",
    "> - 우선순위가 같다면 왼쪽 항부터 계산\n",
    "\n",
    "| 우선순위 | 연산자 | 설명 |\n",
    "|:---:|:---:|:---:|\n",
    "| 1 | (값...), [값...], {키: 값...}, {값...} | 튜플, 리스트, 딕셔너리, 세트 생성 |\n",
    "| 2 | x[인덱스], x[인덱스:인덱스], x(인수...), x.속성 | 리스트(튜플)   첨자, 슬라이싱, 함수 호출, 속성 참조 |\n",
    "| 3 | await   x | await 표현식 |\n",
    "| 4 | ** | 거듭제곱 |\n",
    "| 5 | +x, -x, ~x | 단항 덧셈(양의 부호), 단항 뺄셈(음의 부호), 비트 NOT |\n",
    "| 6 | *, @, /, //, % | 곱셈, 행렬 곱셈, 나눗셈, 버림 나눗셈, 나머지 |\n",
    "| 7 | +, - | 덧셈, 뺄셈 |\n",
    "| 8 | <<, >> | 비트 시프트 |\n",
    "| 9 | & | 비트 AND |\n",
    "| 10 | ^ | 비트 XOR |\n",
    "| 11 | \\| | 비트 OR |\n",
    "| 12 | in, not   in, is, is not,   <, <=, >, >=, !=, == | 포함 연산자, 객체 비교 연산자, 비교 연산자 |\n",
    "| 13 | not   x | 논리   NOT |\n",
    "| 14 | and | 논리 AND |\n",
    "| 15 | or | 논리 OR |\n",
    "| 16 | if else | 조건부 표현식 |\n",
    "| 17 | lambda | 람다 표현식 |\n",
    "\n",
    "- **Question:** 하기 출력을 실행하고 각 계산마다 어떤 순서로 계산하는지 주석(#)으로 서술하시오\n",
    "```python\n",
    "print(2 ** 2 ** 3)\n",
    "print(5 - 2 * 3 ** 4 // (( 5 + 6) % 7 ) / 8 )\n",
    "print(3 + 4 * 4 > 5 * 7 - 1)\n",
    "```"
   ]
  },
  {
   "cell_type": "code",
   "execution_count": 239,
   "metadata": {
    "ExecuteTime": {
     "end_time": "2023-01-05T04:52:43.686556Z",
     "start_time": "2023-01-05T04:52:43.672570Z"
    }
   },
   "outputs": [
    {
     "name": "stdout",
     "output_type": "stream",
     "text": [
      "256\n"
     ]
    }
   ],
   "source": [
    "print(2 ** 2 ** 3)"
   ]
  },
  {
   "cell_type": "code",
   "execution_count": 240,
   "metadata": {
    "ExecuteTime": {
     "end_time": "2023-01-05T04:52:43.702465Z",
     "start_time": "2023-01-05T04:52:43.687540Z"
    }
   },
   "outputs": [],
   "source": [
    "# 위 결과 출력 순서 작성\n",
    "# 1) 2 ** 3 = 8 (거듭제공) \n",
    "# 2) 2 ** 8 = 256 (거듭제공)"
   ]
  },
  {
   "cell_type": "code",
   "execution_count": 241,
   "metadata": {
    "ExecuteTime": {
     "end_time": "2023-01-05T04:52:43.718471Z",
     "start_time": "2023-01-05T04:52:43.704458Z"
    }
   },
   "outputs": [
    {
     "name": "stdout",
     "output_type": "stream",
     "text": [
      "0.0\n"
     ]
    }
   ],
   "source": [
    "print(5 - 2 * 3 ** 4 // (( 5 + 6) % 7 ) / 8 )"
   ]
  },
  {
   "cell_type": "code",
   "execution_count": 242,
   "metadata": {
    "ExecuteTime": {
     "end_time": "2023-01-05T04:52:43.734427Z",
     "start_time": "2023-01-05T04:52:43.720448Z"
    }
   },
   "outputs": [],
   "source": [
    "# 위 결과 출력 순서 작성\n",
    "# 1) 3 ** 4 (거듭제곱) -> 5 - 2 * 81 // ((5 + 6) % 7 ) / 8\n",
    "# 2) * 곱셈 -> 5 - 162 // ((5 + 6) % 7 ) / 8\n",
    "# 3) + (덧셈) -> 5 - 162 // (11 % 7 ) / 8\n",
    "# 4) % 나머지 -> 5 - 162 // 4 / 8\n",
    "# 5) // 버림 나눗셈 -> 5 - 40 / 8\n",
    "# 6) / 나눗셈 -> 5 - 5\n",
    "# 6) - (뺄셈) -> 0"
   ]
  },
  {
   "cell_type": "code",
   "execution_count": 243,
   "metadata": {
    "ExecuteTime": {
     "end_time": "2023-01-05T04:52:43.749370Z",
     "start_time": "2023-01-05T04:52:43.736408Z"
    }
   },
   "outputs": [
    {
     "name": "stdout",
     "output_type": "stream",
     "text": [
      "False\n"
     ]
    }
   ],
   "source": [
    "print(3 + 4 * 4 > 5 * 7 - 1)"
   ]
  },
  {
   "cell_type": "code",
   "execution_count": 244,
   "metadata": {
    "ExecuteTime": {
     "end_time": "2023-01-05T04:52:43.764332Z",
     "start_time": "2023-01-05T04:52:43.751333Z"
    }
   },
   "outputs": [],
   "source": [
    "# 위 결과 출력 순서 작성\n",
    "# 1) * 곱셈 -> 3 + 16 > 35 -1\n",
    "# 2) + (덧셈), - (뺄셈) -> 19 > 34\n",
    "# 3) > 비교 연산자"
   ]
  },
  {
   "cell_type": "code",
   "execution_count": 246,
   "metadata": {
    "ExecuteTime": {
     "end_time": "2023-01-05T04:53:24.917913Z",
     "start_time": "2023-01-05T04:53:24.892981Z"
    }
   },
   "outputs": [
    {
     "name": "stdout",
     "output_type": "stream",
     "text": [
      "Intel64 Family 6 Model 142 Stepping 11, GenuineIntel\n",
      "8(GB)\n",
      "Windows\n",
      "10.0.19044\n",
      "C:\\Users\\phamt\\DEBAStudy\\Tutorial-Python-Programming-main\n",
      "2022-11-18 05:04:20.360651\n",
      "2023-01-05 13:53:22.039387\n",
      "2023-01-05 13:53:22.039387\n",
      "2023-01-05 13:53:24.900960\n",
      "다음 출력을 파일명으로 설정하고 제출하시오: 팜티궤느_201902731_DEBA Study_1기_InputOutput\n"
     ]
    }
   ],
   "source": [
    "# 반드시 이 cell을 실행하시오\n",
    "# 실행하지 않을 시 직접 하지 않은 것으로 간주\n",
    "# 마지막 줄 출력으로 파일명을 설정하고 제출 필수\n",
    "import platform, psutil, os, datetime\n",
    "print(platform.processor())\n",
    "print(str(round(psutil.virtual_memory().total / (1024.0 **3)))+\"(GB)\")\n",
    "print(platform.system())\n",
    "print(platform.version())\n",
    "print(os.getcwd())\n",
    "print(datetime.datetime.fromtimestamp(os.path.getctime(os.getcwd())))\n",
    "print(datetime.datetime.fromtimestamp(os.path.getmtime(os.getcwd())))\n",
    "print(datetime.datetime.fromtimestamp(os.path.getatime(os.getcwd())))\n",
    "print(datetime.datetime.now())\n",
    "title = 'InputOutput'    # 고정값\n",
    "name = '팜티궤느'    # 본인 이름을 작성\n",
    "studentid = '201902731'    # 본인 학번을 작성\n",
    "course = 'DEBA Study'    # 'E정보시스템', 'E데이터베이스', '빅데이터', \n",
    "                          # '비즈니스혁신을위한데이터사이언스응용', '인공지능활용디지털경제플랫폼연구'\n",
    "course_number = '1기'    #  학수번호 끝자리 (아래 예시)\n",
    "                         # E정보시스템 (0003853001) => 1반\n",
    "                         # E정보시스템 (0003853001) => 2반\n",
    "                         # E데이터베이스 (0003854001) => 1반\n",
    "                         # E데이터베이스 (0003854002) => 2반\n",
    "                         # 빅데이터 (0006718001) => 1반\n",
    "                         # 비즈니스혁신을위한데이터사이언스응용 (1002667001) => 1반\n",
    "print('다음 출력을 파일명으로 설정하고 제출하시오:', name + '_' + studentid + '_' + course + '_' + course_number + '_' + title)"
   ]
  },
  {
   "cell_type": "code",
   "execution_count": null,
   "metadata": {},
   "outputs": [],
   "source": []
  }
 ],
 "metadata": {
  "hide_input": false,
  "kernelspec": {
   "display_name": "Python 3 (ipykernel)",
   "language": "python",
   "name": "python3"
  },
  "language_info": {
   "codemirror_mode": {
    "name": "ipython",
    "version": 3
   },
   "file_extension": ".py",
   "mimetype": "text/x-python",
   "name": "python",
   "nbconvert_exporter": "python",
   "pygments_lexer": "ipython3",
   "version": "3.9.12"
  },
  "toc": {
   "base_numbering": 1,
   "nav_menu": {},
   "number_sections": true,
   "sideBar": true,
   "skip_h1_title": false,
   "title_cell": "Table of Contents",
   "title_sidebar": "Contents",
   "toc_cell": false,
   "toc_position": {
    "height": "calc(100% - 180px)",
    "left": "10px",
    "top": "150px",
    "width": "471.75px"
   },
   "toc_section_display": true,
   "toc_window_display": true
  },
  "varInspector": {
   "cols": {
    "lenName": 16,
    "lenType": 16,
    "lenVar": 40
   },
   "kernels_config": {
    "python": {
     "delete_cmd_postfix": "",
     "delete_cmd_prefix": "del ",
     "library": "var_list.py",
     "varRefreshCmd": "print(var_dic_list())"
    },
    "r": {
     "delete_cmd_postfix": ") ",
     "delete_cmd_prefix": "rm(",
     "library": "var_list.r",
     "varRefreshCmd": "cat(var_dic_list()) "
    }
   },
   "types_to_exclude": [
    "module",
    "function",
    "builtin_function_or_method",
    "instance",
    "_Feature"
   ],
   "window_display": false
  }
 },
 "nbformat": 4,
 "nbformat_minor": 4
}
