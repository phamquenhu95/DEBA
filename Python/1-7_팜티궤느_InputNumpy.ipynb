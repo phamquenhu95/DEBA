{
 "cells": [
  {
   "cell_type": "code",
   "execution_count": 1,
   "metadata": {
    "ExecuteTime": {
     "end_time": "2023-02-08T12:28:10.827009Z",
     "start_time": "2023-02-08T12:28:10.816038Z"
    }
   },
   "outputs": [
    {
     "name": "stdout",
     "output_type": "stream",
     "text": [
      "Intel64 Family 6 Model 142 Stepping 11, GenuineIntel\n",
      "8(GB)\n",
      "Windows\n",
      "10.0.19041\n",
      "C:\\Users\\phamt\\DEBAStudy\\Practice\n",
      "2023-01-03 16:12:54.412954\n",
      "2023-02-08 20:13:18.955391\n",
      "2023-02-08 20:13:18.955391\n",
      "2023-02-08 21:28:10.822022\n",
      "다음 출력을 파일명으로 설정하고 제출하시오: 팜티궤느_201902731_DEBAStudy_1기_InputNumpy\n"
     ]
    }
   ],
   "source": [
    "# 반드시 이 cell을 실행하시오\n",
    "# 실행하지 않을 시 직접 하지 않은 것으로 간주\n",
    "# 마지막 줄 출력으로 파일명을 설정하고 제출 필수\n",
    "import platform, psutil, os, datetime\n",
    "print(platform.processor())\n",
    "print(str(round(psutil.virtual_memory().total / (1024.0 **3)))+\"(GB)\")\n",
    "print(platform.system())\n",
    "print(platform.version())\n",
    "print(os.getcwd())\n",
    "print(datetime.datetime.fromtimestamp(os.path.getctime(os.getcwd())))\n",
    "print(datetime.datetime.fromtimestamp(os.path.getmtime(os.getcwd())))\n",
    "print(datetime.datetime.fromtimestamp(os.path.getatime(os.getcwd())))\n",
    "print(datetime.datetime.now())\n",
    "title = 'InputNumpy'    # 고정값\n",
    "name = '팜티궤느'    # 본인 이름을 작성\n",
    "studentid = '201902731'    # 본인 학번을 작성\n",
    "course = 'DEBAStudy'    # 'E정보시스템', 'E데이터베이스', '빅데이터', \n",
    "                          # '비즈니스혁신을위한데이터사이언스응용', '인공지능활용디지털경제플랫폼연구'\n",
    "course_number = '1기'    #  학수번호 끝자리\n",
    "                         # E데이터베이스 (0003854001) => 1반\n",
    "                         # E데이터베이스 (0003854002) => 2반\n",
    "                         # 빅데이터 (0006718001) => 1반\n",
    "                         # 비즈니스혁신을위한데이터사이언스응용 (1002667001) => 1반\n",
    "print('다음 출력을 파일명으로 설정하고 제출하시오:', name + '_' + studentid + '_' + course + '_' + course_number + '_' + title)"
   ]
  },
  {
   "cell_type": "markdown",
   "metadata": {},
   "source": [
    "# **데이터분석 특화 데이터 라이브러리: [Numpy](https://numpy.org/doc/stable/index.html)**\n",
    "\n",
    "[![Open in Colab](http://colab.research.google.com/assets/colab-badge.svg)](https://colab.research.google.com/github/thekimk/Tutorial-Python-Programming/blob/main/Practice1-7_Basic_InputNumpy_KK.ipynb)\n",
    "\n",
    "| **라이브러리 종류** | **Numpy** | **Pandas** |\n",
    "|:---:|:---|:---|\n",
    "| **지원가능 데이터** | `값으로만` 구성된 형태 | `값과 이름`이 부여된 테이블 형태 |\n",
    "| **데이터 사용형태** | N차원 `Array` | 1차원 `Series` + N차원 `DataFrame` |\n",
    "| **데이터 위치인덱싱** | `열인덱싱` | Series는 `행인덱싱` + DataFrame은 `행과 열인덱싱` |\n",
    "| **데이터분석 활용** | 수치계산 | 데이터분석 및 시각화 |\n",
    "| **성능** | 복잡한 작업에서도 `빠름` | 복잡한 작업에선 `느린편` |\n",
    "| **개발 언어** | `C언어` 기반 | `R언어` 기반 |\n",
    "| **머신러닝 및 딥러닝 적용** | 대부분 알고리즘의 `입력으로 사용` | 대부분 알고리즘의 `입력으로 사용하지 않음` |\n",
    "\n",
    "---\n",
    "\n",
    "- **Numpy:** `Numerical Python`의 약자로 `수치를 다루는 분야`를 위한 파이썬 패키지\n",
    "\n",
    "> - 데이터분석 패키지 중 하나로 `고차원 데이터 연산(선형대수학)`과 `컴퓨팅 연산(자료구조)`에 특화\n",
    "> - 대표적으로 사용되는 `표준 수학 함수기능` 지원\n",
    "> - `저차원 및 고차원 데이터` 입출력 및 산술연산\n",
    "> - `Array 또는 Matrix와 같은 데이터 구조` 수치를 다루는 Python 데이터형태\n",
    "> - **Array:** `numpy.array`함수로 변환된 `다차원의 데이터 형태`(모든 값은 같은 자료형)\n"
   ]
  },
  {
   "cell_type": "markdown",
   "metadata": {},
   "source": [
    "## 설치 및 호출"
   ]
  },
  {
   "cell_type": "code",
   "execution_count": 2,
   "metadata": {
    "ExecuteTime": {
     "end_time": "2023-02-08T12:28:10.889890Z",
     "start_time": "2023-02-08T12:28:10.830003Z"
    }
   },
   "outputs": [],
   "source": [
    "# 주피터 노트북에서 Numpy 설치\n",
    "# Anaconda 설치하면 기 설치되어 있어서 진행할 필요 없음\n",
    "!pip install numpy"
   ]
  },
  {
   "cell_type": "code",
   "execution_count": 3,
   "metadata": {
    "ExecuteTime": {
     "end_time": "2023-02-08T12:28:10.905850Z",
     "start_time": "2023-02-08T12:28:10.891836Z"
    }
   },
   "outputs": [],
   "source": [
    "# Numpy 사용을 위해 패키지 불러오기\n",
    "# import 패키지명 as 닉네임\n",
    "# 관례적으로 np라는 약자를 많이 사용\n",
    "import numpy as np"
   ]
  },
  {
   "cell_type": "markdown",
   "metadata": {},
   "source": [
    "## List vs Array\n",
    "\n",
    "> **\"`List`로 `다차원 데이터`를 구현할 수 있는데 `Numpy ndarray`로 다차원을 다루는 이유는?\"**\n",
    "\n",
    "- **유사점:** List의 다차원이나 Numpy ndarray의 다차원 데이터의 출력은 (거의)같음"
   ]
  },
  {
   "cell_type": "code",
   "execution_count": 4,
   "metadata": {
    "ExecuteTime": {
     "end_time": "2023-02-08T12:28:10.921808Z",
     "start_time": "2023-02-08T12:28:10.909788Z"
    }
   },
   "outputs": [],
   "source": [
    "import numpy as np\n",
    "a = [1,2,3,4,5]\n",
    "b = np.array(a)"
   ]
  },
  {
   "cell_type": "code",
   "execution_count": 5,
   "metadata": {
    "ExecuteTime": {
     "end_time": "2023-02-08T12:28:10.937765Z",
     "start_time": "2023-02-08T12:28:10.923754Z"
    }
   },
   "outputs": [
    {
     "name": "stdout",
     "output_type": "stream",
     "text": [
      "[1, 2, 3, 4, 5] [1 2 3 4 5]\n"
     ]
    }
   ],
   "source": [
    "print(a, b)"
   ]
  },
  {
   "cell_type": "code",
   "execution_count": 6,
   "metadata": {
    "ExecuteTime": {
     "end_time": "2023-02-08T12:28:10.953709Z",
     "start_time": "2023-02-08T12:28:10.939709Z"
    }
   },
   "outputs": [
    {
     "data": {
      "text/plain": [
       "[1, 2, 3, 4, 5]"
      ]
     },
     "execution_count": 6,
     "metadata": {},
     "output_type": "execute_result"
    }
   ],
   "source": [
    "a"
   ]
  },
  {
   "cell_type": "code",
   "execution_count": 7,
   "metadata": {
    "ExecuteTime": {
     "end_time": "2023-02-08T12:28:10.969628Z",
     "start_time": "2023-02-08T12:28:10.955666Z"
    }
   },
   "outputs": [
    {
     "data": {
      "text/plain": [
       "array([1, 2, 3, 4, 5])"
      ]
     },
     "execution_count": 7,
     "metadata": {},
     "output_type": "execute_result"
    }
   ],
   "source": [
    "b"
   ]
  },
  {
   "cell_type": "code",
   "execution_count": 8,
   "metadata": {
    "ExecuteTime": {
     "end_time": "2023-02-08T12:28:10.984636Z",
     "start_time": "2023-02-08T12:28:10.971625Z"
    }
   },
   "outputs": [
    {
     "name": "stdout",
     "output_type": "stream",
     "text": [
      "<class 'list'> <class 'numpy.ndarray'>\n"
     ]
    }
   ],
   "source": [
    "print(type(a), type(b))"
   ]
  },
  {
   "cell_type": "markdown",
   "metadata": {},
   "source": [
    "- **차이점:** `고차원이거나 빅데이터`의 경우 `Numpy array 데이터`로 저장된 경우 `연산에 유리함`\n",
    "| **List** | **Array** |\n",
    "|:---:|:---:|\n",
    "| `여러 Type의 값`을 가질 수 있음 | `동일한 Type의 값`만 가질 수 있음 |\n",
    "| 메모리를 많이 점유하고 `계산 속도가 느림` | 메모리를 최적으로 쓰고 `계산 속도 향상` |\n",
    "| 각 `값마다 연산 필요` $\\rightarrow$ `반복문` 필요 | `벡터화(값의 묶음)로 연산` 가능 $\\rightarrow$ `반복문 불필요` |\n",
    ">\n",
    ">\n",
    "> - array를 사용하면 `list에서는 다소 독립적`으로만 사용했던 `콤마(,)기반으로 인덱싱과 슬라이싱 융합사용` 가능\n",
    "> - array를 사용하면 `정수 또는 불리언 형식으로 값을 선택`가능\n"
   ]
  },
  {
   "cell_type": "code",
   "execution_count": 9,
   "metadata": {
    "ExecuteTime": {
     "end_time": "2023-02-08T12:28:11.000578Z",
     "start_time": "2023-02-08T12:28:10.987580Z"
    }
   },
   "outputs": [
    {
     "data": {
      "text/plain": [
       "[0, 1, 2, 3, 4, 5, 6, 7, 8, 9, 0, 1, 2, 3, 4, 5, 6, 7, 8, 9]"
      ]
     },
     "execution_count": 9,
     "metadata": {},
     "output_type": "execute_result"
    }
   ],
   "source": [
    "# List 예시\n",
    "a = [0, 1, 2, 3, 4, 5, 6, 7, 8, 9]*2\n",
    "a"
   ]
  },
  {
   "cell_type": "code",
   "execution_count": 10,
   "metadata": {
    "ExecuteTime": {
     "end_time": "2023-02-08T12:28:11.016553Z",
     "start_time": "2023-02-08T12:28:11.002540Z"
    }
   },
   "outputs": [
    {
     "data": {
      "text/plain": [
       "array([ 0,  2,  4,  6,  8, 10, 12, 14, 16, 18])"
      ]
     },
     "execution_count": 10,
     "metadata": {},
     "output_type": "execute_result"
    }
   ],
   "source": [
    "# Array 예시\n",
    "a = np.array([0, 1, 2, 3, 4, 5, 6, 7, 8, 9])*2\n",
    "a"
   ]
  },
  {
   "cell_type": "code",
   "execution_count": 11,
   "metadata": {
    "ExecuteTime": {
     "end_time": "2023-02-08T12:28:11.032462Z",
     "start_time": "2023-02-08T12:28:11.018498Z"
    }
   },
   "outputs": [
    {
     "data": {
      "text/plain": [
       "[1, 2]"
      ]
     },
     "execution_count": 11,
     "metadata": {},
     "output_type": "execute_result"
    }
   ],
   "source": [
    "# List 예시\n",
    "a = [[0, 1, 2], [3, 4, 5]]\n",
    "a[0][1:]"
   ]
  },
  {
   "cell_type": "code",
   "execution_count": 12,
   "metadata": {
    "ExecuteTime": {
     "end_time": "2023-02-08T12:28:11.048417Z",
     "start_time": "2023-02-08T12:28:11.033457Z"
    }
   },
   "outputs": [
    {
     "data": {
      "text/plain": [
       "array([1, 2])"
      ]
     },
     "execution_count": 12,
     "metadata": {},
     "output_type": "execute_result"
    }
   ],
   "source": [
    "# Array 예시\n",
    "a = np.array([[0, 1, 2], [3, 4, 5]])\n",
    "a[0,1:]"
   ]
  },
  {
   "cell_type": "code",
   "execution_count": 13,
   "metadata": {
    "ExecuteTime": {
     "end_time": "2023-02-08T12:28:11.064374Z",
     "start_time": "2023-02-08T12:28:11.050411Z"
    }
   },
   "outputs": [
    {
     "data": {
      "text/plain": [
       "1"
      ]
     },
     "execution_count": 13,
     "metadata": {},
     "output_type": "execute_result"
    }
   ],
   "source": [
    "# List 예시\n",
    "a = [0, 1, 2, 3, 4, 5, 6, 7, 8, 9]\n",
    "a[True]"
   ]
  },
  {
   "cell_type": "code",
   "execution_count": 14,
   "metadata": {
    "ExecuteTime": {
     "end_time": "2023-02-08T12:28:11.080331Z",
     "start_time": "2023-02-08T12:28:11.066405Z"
    }
   },
   "outputs": [
    {
     "data": {
      "text/plain": [
       "array([[0, 1, 2, 3, 4, 5, 6, 7, 8, 9]])"
      ]
     },
     "execution_count": 14,
     "metadata": {},
     "output_type": "execute_result"
    }
   ],
   "source": [
    "# Array 예시\n",
    "a = np.array([0, 1, 2, 3, 4, 5, 6, 7, 8, 9])\n",
    "a[True]"
   ]
  },
  {
   "cell_type": "code",
   "execution_count": 15,
   "metadata": {
    "ExecuteTime": {
     "end_time": "2023-02-08T12:28:11.096330Z",
     "start_time": "2023-02-08T12:28:11.081328Z"
    }
   },
   "outputs": [],
   "source": [
    "# # List 예시\n",
    "#a = [0, 1, 2, 3, 4, 5, 6, 7, 8, 9]\n",
    "#a[True, False, True, False, True, False, True, False, True, False]"
   ]
  },
  {
   "cell_type": "markdown",
   "metadata": {},
   "source": [
    "```python\n",
    "---------------------------------------------------------------------------\n",
    "TypeError                                 Traceback (most recent call last)\n",
    "<ipython-input-45-a0b1051558de> in <module>\n",
    "----> 1 a[[True, False, True, False, True, False, True, False, True, False]]\n",
    "\n",
    "TypeError: list indices must be integers or slices, not list\n",
    "```"
   ]
  },
  {
   "cell_type": "code",
   "execution_count": 16,
   "metadata": {
    "ExecuteTime": {
     "end_time": "2023-02-08T12:28:11.112287Z",
     "start_time": "2023-02-08T12:28:11.098283Z"
    }
   },
   "outputs": [
    {
     "data": {
      "text/plain": [
       "array([0, 2, 4, 6, 8])"
      ]
     },
     "execution_count": 16,
     "metadata": {},
     "output_type": "execute_result"
    }
   ],
   "source": [
    "# Array 예시\n",
    "a = np.array([0, 1, 2, 3, 4, 5, 6, 7, 8, 9])\n",
    "a[[True, False, True, False, True, False, True, False, True, False]]"
   ]
  },
  {
   "cell_type": "markdown",
   "metadata": {},
   "source": [
    "- **정리:**\n",
    "> - 브로드캐스팅 기능으로 `형태가 다른 저차원과 고차원간 연산 가능`\n",
    "> - `행렬(저차원 및 고차원)을 다루는 선형대수` 및 `변환기능 지원`\n",
    "> - `빅데이터 연산`에 효율성이 높음\n",
    "> - 다른 프로그래밍 언어에서 존재하지 않음"
   ]
  },
  {
   "cell_type": "markdown",
   "metadata": {},
   "source": [
    "## **데이터 핸들링:** Numpy Array"
   ]
  },
  {
   "cell_type": "markdown",
   "metadata": {},
   "source": [
    "### Array 값 생성하기\n",
    "\n",
    "> - numpy 연산의 `기본이 되는 데이터 구조로 Array 또는 배열`이라고 함     \n",
    "> - `같은 type의 데이터만 저장` 가능\n",
    "> - 리스트보다 간편하게 만들 수 있으며 `연산이 빠른 장점`  \n",
    "> - 다른 차원간 연산인 `브로드캐스팅 연산` 지원  \n",
    "> - array 또한 `numpy 기본 함수`로서 생성 가능\n",
    "\n",
    "---\n",
    "\n",
    "- **사용법:**\n",
    "\n",
    "| **방법** \t| **설명** \t|\n",
    "|:---:|:---|\n",
    "| **`np.array(배열변환 대상 데이터)`** \t| 리스트와 같은 시퀀스 데이터를 Array로 변환 \t|\n",
    "| **`np.arange(start, end, step_forward)`**  \t| 시작이상 끝미만 동일 간격의 Array 데이터 생성 \t|\n",
    "| **`np.linspace(start, end, number)`**   \t| 시작부터 끝까지 일정 간격을 가진 특정 갯수의 Array 데이터 생성 \t|"
   ]
  },
  {
   "cell_type": "code",
   "execution_count": 17,
   "metadata": {
    "ExecuteTime": {
     "end_time": "2023-02-08T12:28:11.128250Z",
     "start_time": "2023-02-08T12:28:11.114242Z"
    },
    "slideshow": {
     "slide_type": "subslide"
    }
   },
   "outputs": [],
   "source": [
    "# 기존 리스트 데이터 구조를 array로 변환\n",
    "test_list = [1,2,3,4]\n",
    "test_array = np.array(test_list)"
   ]
  },
  {
   "cell_type": "code",
   "execution_count": 18,
   "metadata": {
    "ExecuteTime": {
     "end_time": "2023-02-08T12:28:11.144201Z",
     "start_time": "2023-02-08T12:28:11.129201Z"
    }
   },
   "outputs": [
    {
     "data": {
      "text/plain": [
       "array([1, 2, 3, 4])"
      ]
     },
     "execution_count": 18,
     "metadata": {},
     "output_type": "execute_result"
    }
   ],
   "source": [
    "# array 생성 확인\n",
    "test_array"
   ]
  },
  {
   "cell_type": "code",
   "execution_count": 19,
   "metadata": {
    "ExecuteTime": {
     "end_time": "2023-02-08T12:28:11.160118Z",
     "start_time": "2023-02-08T12:28:11.146157Z"
    }
   },
   "outputs": [],
   "source": [
    "# 같은 타입의 데이터만 들어가는지 확인\n",
    "# 문자열이 들어가면 가장 큰 범주의 데이터타입으로 저장\n",
    "test_list = [1, 2, 3.14]"
   ]
  },
  {
   "cell_type": "code",
   "execution_count": 20,
   "metadata": {
    "ExecuteTime": {
     "end_time": "2023-02-08T12:28:11.176103Z",
     "start_time": "2023-02-08T12:28:11.162113Z"
    }
   },
   "outputs": [
    {
     "data": {
      "text/plain": [
       "array([1.  , 2.  , 3.14])"
      ]
     },
     "execution_count": 20,
     "metadata": {},
     "output_type": "execute_result"
    }
   ],
   "source": [
    "np.array(test_list)"
   ]
  },
  {
   "cell_type": "code",
   "execution_count": 21,
   "metadata": {
    "ExecuteTime": {
     "end_time": "2023-02-08T12:28:11.192059Z",
     "start_time": "2023-02-08T12:28:11.177073Z"
    },
    "slideshow": {
     "slide_type": "subslide"
    }
   },
   "outputs": [
    {
     "data": {
      "text/plain": [
       "array([ 1,  2,  3,  4,  5,  6,  7,  8,  9, 10])"
      ]
     },
     "execution_count": 21,
     "metadata": {},
     "output_type": "execute_result"
    }
   ],
   "source": [
    "# np.arange 함수로 생성\n",
    "np.arange(1, 11)"
   ]
  },
  {
   "cell_type": "code",
   "execution_count": 22,
   "metadata": {
    "ExecuteTime": {
     "end_time": "2023-02-08T12:28:11.207990Z",
     "start_time": "2023-02-08T12:28:11.194027Z"
    }
   },
   "outputs": [
    {
     "data": {
      "text/plain": [
       "array([ 1, 11, 21, 31, 41, 51, 61, 71, 81, 91])"
      ]
     },
     "execution_count": 22,
     "metadata": {},
     "output_type": "execute_result"
    }
   ],
   "source": [
    "# 범위설정\n",
    "# (시작포인트, 마지막포인트 + 1, 스텝)\n",
    "# range() 함수와 동일하게 작동함\n",
    "# for i in range(1, 100, 10):\n",
    "#     print(i)\n",
    "np.arange(1, 100, 10)"
   ]
  },
  {
   "cell_type": "code",
   "execution_count": 23,
   "metadata": {
    "ExecuteTime": {
     "end_time": "2023-02-08T12:28:11.223976Z",
     "start_time": "2023-02-08T12:28:11.209984Z"
    }
   },
   "outputs": [
    {
     "data": {
      "text/plain": [
       "array([ 0.        ,  0.20408163,  0.40816327,  0.6122449 ,  0.81632653,\n",
       "        1.02040816,  1.2244898 ,  1.42857143,  1.63265306,  1.83673469,\n",
       "        2.04081633,  2.24489796,  2.44897959,  2.65306122,  2.85714286,\n",
       "        3.06122449,  3.26530612,  3.46938776,  3.67346939,  3.87755102,\n",
       "        4.08163265,  4.28571429,  4.48979592,  4.69387755,  4.89795918,\n",
       "        5.10204082,  5.30612245,  5.51020408,  5.71428571,  5.91836735,\n",
       "        6.12244898,  6.32653061,  6.53061224,  6.73469388,  6.93877551,\n",
       "        7.14285714,  7.34693878,  7.55102041,  7.75510204,  7.95918367,\n",
       "        8.16326531,  8.36734694,  8.57142857,  8.7755102 ,  8.97959184,\n",
       "        9.18367347,  9.3877551 ,  9.59183673,  9.79591837, 10.        ])"
      ]
     },
     "execution_count": 23,
     "metadata": {},
     "output_type": "execute_result"
    }
   ],
   "source": [
    "# 범위 데이터 생성 (시작포인트, 마지막포인트, 데이터갯수)\n",
    "np.linspace(0, 10, 50)"
   ]
  },
  {
   "cell_type": "markdown",
   "metadata": {},
   "source": [
    "- `특수한 형태`의 array도 numpy로 생성 가능\n",
    "- 입력 데이터는 `정수, 리스트, 튜플만 입력` 가능\n",
    "- **ndarray:** `n-dimensional array`\n",
    "\n",
    "| **함수** | **내용** |\n",
    "|:---:|:---|\n",
    "| **np.array(데이터)** | 입력된 데이터를 ndarray로 변환. dtype을 명시하면 자료형을 설정할 수 있다 |\n",
    "| **np.asarray(데이터)** | 입력 데이터를 ndarray로 변환하나 이미 ndarray일 경우에는 새로 메모리에 ndarray가 생성되지는 않는다 |\n",
    "| **np.arange(데이터)** | range 함수와 유사하나 ndarray를 반환 |\n",
    "| **np.ones(데이터)** | 전달인자로 전달한 dtype과 모양(행,렬)으로 배열을 생성하고 모든 내용을 1로 초기화하여 ndarray를 반환 |\n",
    "| **np.zeros(데이터)** | ones와 같으나 초기값이 0이다 |\n",
    "| **np.empty(데이터)** | ones와 zeros와 비슷하나 값을 초기화하지는 않는다 |\n"
   ]
  },
  {
   "cell_type": "code",
   "execution_count": 24,
   "metadata": {
    "ExecuteTime": {
     "end_time": "2023-02-08T12:28:11.239904Z",
     "start_time": "2023-02-08T12:28:11.232924Z"
    }
   },
   "outputs": [
    {
     "data": {
      "text/plain": [
       "array([1, 2, 3])"
      ]
     },
     "execution_count": 24,
     "metadata": {},
     "output_type": "execute_result"
    }
   ],
   "source": [
    "# 벡터 생성\n",
    "import numpy as np\n",
    "\n",
    "a1d = np.array([1,2,3])\n",
    "a1d"
   ]
  },
  {
   "cell_type": "code",
   "execution_count": 25,
   "metadata": {
    "ExecuteTime": {
     "end_time": "2023-02-08T12:28:11.254864Z",
     "start_time": "2023-02-08T12:28:11.241900Z"
    }
   },
   "outputs": [
    {
     "data": {
      "text/plain": [
       "numpy.ndarray"
      ]
     },
     "execution_count": 25,
     "metadata": {},
     "output_type": "execute_result"
    }
   ],
   "source": [
    "# 배열 형태 확인\n",
    "type(a1d)"
   ]
  },
  {
   "cell_type": "code",
   "execution_count": 26,
   "metadata": {
    "ExecuteTime": {
     "end_time": "2023-02-08T12:28:11.269827Z",
     "start_time": "2023-02-08T12:28:11.256862Z"
    }
   },
   "outputs": [
    {
     "data": {
      "text/plain": [
       "dtype('int32')"
      ]
     },
     "execution_count": 26,
     "metadata": {},
     "output_type": "execute_result"
    }
   ],
   "source": [
    "# 배열 내부 값들의 형태 확인\n",
    "a1d.dtype"
   ]
  },
  {
   "cell_type": "code",
   "execution_count": 27,
   "metadata": {
    "ExecuteTime": {
     "end_time": "2023-02-08T12:28:11.285782Z",
     "start_time": "2023-02-08T12:28:11.271820Z"
    }
   },
   "outputs": [
    {
     "data": {
      "text/plain": [
       "array([[1, 2, 3],\n",
       "       [4, 5, 6]])"
      ]
     },
     "execution_count": 27,
     "metadata": {},
     "output_type": "execute_result"
    }
   ],
   "source": [
    "# 2차원 배열(행렬) 생성\n",
    "b2d = np.array([[1,2,3], [4,5,6]]) # 각 배열의 길이는 동일해야 함\n",
    "b2d"
   ]
  },
  {
   "cell_type": "code",
   "execution_count": 28,
   "metadata": {
    "ExecuteTime": {
     "end_time": "2023-02-08T12:28:11.301740Z",
     "start_time": "2023-02-08T12:28:11.287778Z"
    }
   },
   "outputs": [
    {
     "data": {
      "text/plain": [
       "numpy.ndarray"
      ]
     },
     "execution_count": 28,
     "metadata": {},
     "output_type": "execute_result"
    }
   ],
   "source": [
    "# 배열 형태 확인\n",
    "type(b2d)"
   ]
  },
  {
   "cell_type": "code",
   "execution_count": 29,
   "metadata": {
    "ExecuteTime": {
     "end_time": "2023-02-08T12:28:11.317730Z",
     "start_time": "2023-02-08T12:28:11.303734Z"
    }
   },
   "outputs": [
    {
     "data": {
      "text/plain": [
       "(2, 3)"
      ]
     },
     "execution_count": 29,
     "metadata": {},
     "output_type": "execute_result"
    }
   ],
   "source": [
    "# 구조 확인\n",
    "b2d.shape"
   ]
  },
  {
   "cell_type": "code",
   "execution_count": 30,
   "metadata": {
    "ExecuteTime": {
     "end_time": "2023-02-08T12:28:11.333655Z",
     "start_time": "2023-02-08T12:28:11.319692Z"
    }
   },
   "outputs": [
    {
     "data": {
      "text/plain": [
       "array([[[1, 2, 3],\n",
       "        [4, 5, 6]]])"
      ]
     },
     "execution_count": 30,
     "metadata": {},
     "output_type": "execute_result"
    }
   ],
   "source": [
    "c3d = np.array([[[1,2,3], [4,5,6]]])\n",
    "c3d"
   ]
  },
  {
   "cell_type": "code",
   "execution_count": 31,
   "metadata": {
    "ExecuteTime": {
     "end_time": "2023-02-08T12:28:11.349612Z",
     "start_time": "2023-02-08T12:28:11.335650Z"
    }
   },
   "outputs": [
    {
     "data": {
      "text/plain": [
       "(1, 2, 3)"
      ]
     },
     "execution_count": 31,
     "metadata": {},
     "output_type": "execute_result"
    }
   ],
   "source": [
    "# 구조 확인\n",
    "c3d.shape"
   ]
  },
  {
   "cell_type": "code",
   "execution_count": 32,
   "metadata": {
    "ExecuteTime": {
     "end_time": "2023-02-08T12:28:11.365569Z",
     "start_time": "2023-02-08T12:28:11.351606Z"
    }
   },
   "outputs": [
    {
     "data": {
      "text/plain": [
       "array([[[ 1,  2,  3],\n",
       "        [ 4,  5,  6]],\n",
       "\n",
       "       [[10, 20, 30],\n",
       "        [40, 50, 60]]])"
      ]
     },
     "execution_count": 32,
     "metadata": {},
     "output_type": "execute_result"
    }
   ],
   "source": [
    "c3d = np.array([[[1,2,3], [4,5,6]],\n",
    "                [[10,20,30], [40,50,60]]])\n",
    "c3d"
   ]
  },
  {
   "cell_type": "code",
   "execution_count": 33,
   "metadata": {
    "ExecuteTime": {
     "end_time": "2023-02-08T12:28:11.381564Z",
     "start_time": "2023-02-08T12:28:11.367563Z"
    }
   },
   "outputs": [
    {
     "data": {
      "text/plain": [
       "(2, 2, 3)"
      ]
     },
     "execution_count": 33,
     "metadata": {},
     "output_type": "execute_result"
    }
   ],
   "source": [
    "# 구조 확인\n",
    "c3d.shape"
   ]
  },
  {
   "cell_type": "code",
   "execution_count": 34,
   "metadata": {
    "ExecuteTime": {
     "end_time": "2023-02-08T12:28:11.397483Z",
     "start_time": "2023-02-08T12:28:11.383521Z"
    }
   },
   "outputs": [
    {
     "data": {
      "text/plain": [
       "(2, 2, 3)"
      ]
     },
     "execution_count": 34,
     "metadata": {},
     "output_type": "execute_result"
    }
   ],
   "source": [
    "# 함수 사용해서 구조(모양)확인\n",
    "np.shape(c3d)"
   ]
  },
  {
   "cell_type": "code",
   "execution_count": 35,
   "metadata": {
    "ExecuteTime": {
     "end_time": "2023-02-08T12:28:11.413441Z",
     "start_time": "2023-02-08T12:28:11.399505Z"
    }
   },
   "outputs": [
    {
     "data": {
      "text/plain": [
       "12"
      ]
     },
     "execution_count": 35,
     "metadata": {},
     "output_type": "execute_result"
    }
   ],
   "source": [
    "# 고유값 확인\n",
    "# len 씌워주시면 고유값 갯수까지\n",
    "len(np.unique(c3d))"
   ]
  },
  {
   "cell_type": "code",
   "execution_count": 36,
   "metadata": {
    "ExecuteTime": {
     "end_time": "2023-02-08T12:28:11.429443Z",
     "start_time": "2023-02-08T12:28:11.415435Z"
    }
   },
   "outputs": [
    {
     "data": {
      "text/plain": [
       "list"
      ]
     },
     "execution_count": 36,
     "metadata": {},
     "output_type": "execute_result"
    }
   ],
   "source": [
    "# 타입변환\n",
    "test = [10,20,30]\n",
    "type(test)"
   ]
  },
  {
   "cell_type": "code",
   "execution_count": 37,
   "metadata": {
    "ExecuteTime": {
     "end_time": "2023-02-08T12:28:11.445403Z",
     "start_time": "2023-02-08T12:28:11.430428Z"
    }
   },
   "outputs": [
    {
     "data": {
      "text/plain": [
       "numpy.ndarray"
      ]
     },
     "execution_count": 37,
     "metadata": {},
     "output_type": "execute_result"
    }
   ],
   "source": [
    "test2 = np.asarray(test)\n",
    "type(test2)"
   ]
  },
  {
   "cell_type": "code",
   "execution_count": 38,
   "metadata": {
    "ExecuteTime": {
     "end_time": "2023-02-08T12:28:11.461361Z",
     "start_time": "2023-02-08T12:28:11.447385Z"
    }
   },
   "outputs": [
    {
     "name": "stdout",
     "output_type": "stream",
     "text": [
      "[10, 20, 30] [10 20 30]\n"
     ]
    }
   ],
   "source": [
    "print(test, test2)"
   ]
  },
  {
   "cell_type": "code",
   "execution_count": 39,
   "metadata": {
    "ExecuteTime": {
     "end_time": "2023-02-08T12:28:11.477319Z",
     "start_time": "2023-02-08T12:28:11.462322Z"
    }
   },
   "outputs": [
    {
     "data": {
      "text/plain": [
       "array([ 1,  2,  3,  4,  5,  6,  7,  8,  9, 10, 11, 12, 13, 14, 15, 16, 17,\n",
       "       18, 19])"
      ]
     },
     "execution_count": 39,
     "metadata": {},
     "output_type": "execute_result"
    }
   ],
   "source": [
    "# 연속적인 시퀀스(Sequence) 배열 생성\n",
    "np.arange(1,20)"
   ]
  },
  {
   "cell_type": "code",
   "execution_count": 40,
   "metadata": {
    "ExecuteTime": {
     "end_time": "2023-02-08T12:28:11.493274Z",
     "start_time": "2023-02-08T12:28:11.479265Z"
    }
   },
   "outputs": [
    {
     "data": {
      "text/plain": [
       "array([[0., 0., 0.],\n",
       "       [0., 0., 0.],\n",
       "       [0., 0., 0.]])"
      ]
     },
     "execution_count": 40,
     "metadata": {},
     "output_type": "execute_result"
    }
   ],
   "source": [
    "# 0인 값만 보유한 행렬 생성\n",
    "a2d = np.zeros((3,3))\n",
    "a2d"
   ]
  },
  {
   "cell_type": "code",
   "execution_count": 41,
   "metadata": {
    "ExecuteTime": {
     "end_time": "2023-02-08T12:28:11.509234Z",
     "start_time": "2023-02-08T12:28:11.495223Z"
    }
   },
   "outputs": [
    {
     "data": {
      "text/plain": [
       "array([[1., 1., 1.],\n",
       "       [1., 1., 1.]])"
      ]
     },
     "execution_count": 41,
     "metadata": {},
     "output_type": "execute_result"
    }
   ],
   "source": [
    "# 1인 값만 보유한 행렬 생성\n",
    "b2d = np.ones((2,3))\n",
    "b2d"
   ]
  },
  {
   "cell_type": "code",
   "execution_count": 42,
   "metadata": {
    "ExecuteTime": {
     "end_time": "2023-02-08T12:28:11.525142Z",
     "start_time": "2023-02-08T12:28:11.511179Z"
    }
   },
   "outputs": [
    {
     "data": {
      "text/plain": [
       "array([[7, 7, 7],\n",
       "       [7, 7, 7],\n",
       "       [7, 7, 7]])"
      ]
     },
     "execution_count": 42,
     "metadata": {},
     "output_type": "execute_result"
    }
   ],
   "source": [
    "# 특정 값만 보유한 행렬 생성\n",
    "c2d = np.full((3,3), 7)\n",
    "c2d"
   ]
  },
  {
   "cell_type": "code",
   "execution_count": 43,
   "metadata": {
    "ExecuteTime": {
     "end_time": "2023-02-08T12:28:11.541098Z",
     "start_time": "2023-02-08T12:28:11.527136Z"
    }
   },
   "outputs": [
    {
     "data": {
      "text/plain": [
       "array([[1., 0., 0.],\n",
       "       [0., 1., 0.],\n",
       "       [0., 0., 1.]])"
      ]
     },
     "execution_count": 43,
     "metadata": {},
     "output_type": "execute_result"
    }
   ],
   "source": [
    "# 대각행렬이라고도 하는데 대각선으로 1인 값만 존재\n",
    "d2d = np.eye(3)\n",
    "d2d"
   ]
  },
  {
   "cell_type": "code",
   "execution_count": 44,
   "metadata": {
    "ExecuteTime": {
     "end_time": "2023-02-08T12:28:11.557058Z",
     "start_time": "2023-02-08T12:28:11.543096Z"
    }
   },
   "outputs": [
    {
     "data": {
      "text/plain": [
       "array([[0.88707697, 0.14964068],\n",
       "       [0.14316564, 0.30056735]])"
      ]
     },
     "execution_count": 44,
     "metadata": {},
     "output_type": "execute_result"
    }
   ],
   "source": [
    "# 임의의 값으로 행렬을 생성\n",
    "e2d = np.random.random((2,2))\n",
    "e2d"
   ]
  },
  {
   "cell_type": "code",
   "execution_count": 45,
   "metadata": {
    "ExecuteTime": {
     "end_time": "2023-02-08T12:28:11.573013Z",
     "start_time": "2023-02-08T12:28:11.559051Z"
    }
   },
   "outputs": [
    {
     "data": {
      "text/plain": [
       "array([[-1, -1,  0,  0,  0],\n",
       "       [ 0,  0,  0,  0,  0],\n",
       "       [ 0,  0,  0,  0,  0],\n",
       "       [ 0,  0,  0,  0,  0]])"
      ]
     },
     "execution_count": 45,
     "metadata": {},
     "output_type": "execute_result"
    }
   ],
   "source": [
    "# 임의의 값으로 행렬을 생성하는데 값이 고정된 경우\n",
    "f2d = np.empty((4, 5), dtype=int)\n",
    "f2d"
   ]
  },
  {
   "cell_type": "code",
   "execution_count": 46,
   "metadata": {
    "ExecuteTime": {
     "end_time": "2023-02-08T12:28:11.588970Z",
     "start_time": "2023-02-08T12:28:11.575009Z"
    }
   },
   "outputs": [
    {
     "data": {
      "text/plain": [
       "array([[0.24961709, 0.8698854 ],\n",
       "       [0.01676948, 0.05201304]])"
      ]
     },
     "execution_count": 46,
     "metadata": {},
     "output_type": "execute_result"
    }
   ],
   "source": [
    "# 세부 값의 type 변환\n",
    "np.array(np.random.random((2,2)), dtype=np.float64)"
   ]
  },
  {
   "cell_type": "code",
   "execution_count": 47,
   "metadata": {
    "ExecuteTime": {
     "end_time": "2023-02-08T12:28:11.604928Z",
     "start_time": "2023-02-08T12:28:11.590966Z"
    }
   },
   "outputs": [
    {
     "name": "stderr",
     "output_type": "stream",
     "text": [
      "C:\\Users\\phamt\\AppData\\Local\\Temp\\ipykernel_10148\\3961762739.py:2: DeprecationWarning: `np.complex` is a deprecated alias for the builtin `complex`. To silence this warning, use `complex` by itself. Doing this will not modify any behavior and is safe. If you specifically wanted the numpy scalar type, use `np.complex128` here.\n",
      "Deprecated in NumPy 1.20; for more details and guidance: https://numpy.org/devdocs/release/1.20.0-notes.html#deprecations\n",
      "  np.array(np.random.random((2,2)), dtype=np.complex)\n"
     ]
    },
    {
     "data": {
      "text/plain": [
       "array([[0.17849692+0.j, 0.24932154+0.j],\n",
       "       [0.27136402+0.j, 0.26398878+0.j]])"
      ]
     },
     "execution_count": 47,
     "metadata": {},
     "output_type": "execute_result"
    }
   ],
   "source": [
    "# 세부 값의 type 변환\n",
    "np.array(np.random.random((2,2)), dtype=np.complex)"
   ]
  },
  {
   "cell_type": "code",
   "execution_count": 48,
   "metadata": {
    "ExecuteTime": {
     "end_time": "2023-02-08T12:28:11.620885Z",
     "start_time": "2023-02-08T12:28:11.606923Z"
    }
   },
   "outputs": [
    {
     "name": "stderr",
     "output_type": "stream",
     "text": [
      "C:\\Users\\phamt\\AppData\\Local\\Temp\\ipykernel_10148\\592469531.py:2: DeprecationWarning: `np.int` is a deprecated alias for the builtin `int`. To silence this warning, use `int` by itself. Doing this will not modify any behavior and is safe. When replacing `np.int`, you may wish to use e.g. `np.int64` or `np.int32` to specify the precision. If you wish to review your current use, check the release note link for additional information.\n",
      "Deprecated in NumPy 1.20; for more details and guidance: https://numpy.org/devdocs/release/1.20.0-notes.html#deprecations\n",
      "  np.array(np.random.random((2,2)), dtype=np.int)\n"
     ]
    },
    {
     "data": {
      "text/plain": [
       "array([[0, 0],\n",
       "       [0, 0]])"
      ]
     },
     "execution_count": 48,
     "metadata": {},
     "output_type": "execute_result"
    }
   ],
   "source": [
    "# 세부 값의 type 변환\n",
    "np.array(np.random.random((2,2)), dtype=np.int)"
   ]
  },
  {
   "cell_type": "code",
   "execution_count": 49,
   "metadata": {
    "ExecuteTime": {
     "end_time": "2023-02-08T12:28:11.636842Z",
     "start_time": "2023-02-08T12:28:11.622880Z"
    }
   },
   "outputs": [
    {
     "name": "stderr",
     "output_type": "stream",
     "text": [
      "C:\\Users\\phamt\\AppData\\Local\\Temp\\ipykernel_10148\\1427187144.py:2: DeprecationWarning: `np.bool` is a deprecated alias for the builtin `bool`. To silence this warning, use `bool` by itself. Doing this will not modify any behavior and is safe. If you specifically wanted the numpy scalar type, use `np.bool_` here.\n",
      "Deprecated in NumPy 1.20; for more details and guidance: https://numpy.org/devdocs/release/1.20.0-notes.html#deprecations\n",
      "  np.array(np.random.random((2,2)), dtype=np.bool)\n"
     ]
    },
    {
     "data": {
      "text/plain": [
       "array([[ True,  True],\n",
       "       [ True,  True]])"
      ]
     },
     "execution_count": 49,
     "metadata": {},
     "output_type": "execute_result"
    }
   ],
   "source": [
    "# 세부 값의 type 변환\n",
    "np.array(np.random.random((2,2)), dtype=np.bool)"
   ]
  },
  {
   "cell_type": "code",
   "execution_count": 50,
   "metadata": {
    "ExecuteTime": {
     "end_time": "2023-02-08T12:28:11.652800Z",
     "start_time": "2023-02-08T12:28:11.638838Z"
    }
   },
   "outputs": [
    {
     "name": "stderr",
     "output_type": "stream",
     "text": [
      "C:\\Users\\phamt\\AppData\\Local\\Temp\\ipykernel_10148\\306413462.py:2: DeprecationWarning: `np.object` is a deprecated alias for the builtin `object`. To silence this warning, use `object` by itself. Doing this will not modify any behavior and is safe. \n",
      "Deprecated in NumPy 1.20; for more details and guidance: https://numpy.org/devdocs/release/1.20.0-notes.html#deprecations\n",
      "  np.array(np.random.random((2,2)), dtype=np.object)\n"
     ]
    },
    {
     "data": {
      "text/plain": [
       "array([[0.11933353019531823, 0.27096761628235144],\n",
       "       [0.3482277557801763, 0.3852138379126938]], dtype=object)"
      ]
     },
     "execution_count": 50,
     "metadata": {},
     "output_type": "execute_result"
    }
   ],
   "source": [
    "# 세부 값의 type 변환\n",
    "np.array(np.random.random((2,2)), dtype=np.object)"
   ]
  },
  {
   "cell_type": "markdown",
   "metadata": {},
   "source": [
    "### Array 값 다루기\n",
    "\n",
    "> **\"데이터 분석을 하다보면 데이터 `각각의 값들에 접근`해야 하는 경우 종종 발생\"**\n",
    "> - **인덱싱(Indexing):** 데이터 `값 하나하나`에 접근하는 방법으로 `인덱스는 값의 순번`\n",
    "> - **슬라이싱(Slicing):** 인덱싱과 유사하며 데이터의 `여러개의 값`에 접근하는 방법\n",
    ">> - `다차원 데이터`의 경우 배열의 `각 차원에 대해 슬라이싱` 사용\n",
    ">> - 슬라이싱으로 값을 선택하면 `결과의 차원은 원래의 차원보다 같거나 작음`\n"
   ]
  },
  {
   "cell_type": "code",
   "execution_count": 51,
   "metadata": {
    "ExecuteTime": {
     "end_time": "2023-02-08T12:28:11.668758Z",
     "start_time": "2023-02-08T12:28:11.654795Z"
    }
   },
   "outputs": [
    {
     "data": {
      "text/plain": [
       "array([0, 1, 2, 3, 4, 5, 6, 7, 8, 9])"
      ]
     },
     "execution_count": 51,
     "metadata": {},
     "output_type": "execute_result"
    }
   ],
   "source": [
    "# 시퀀스 '백터' 생성\n",
    "a = np.arange(10)\n",
    "a"
   ]
  },
  {
   "cell_type": "code",
   "execution_count": 52,
   "metadata": {
    "ExecuteTime": {
     "end_time": "2023-02-08T12:28:11.684714Z",
     "start_time": "2023-02-08T12:28:11.670753Z"
    }
   },
   "outputs": [
    {
     "data": {
      "text/plain": [
       "5"
      ]
     },
     "execution_count": 52,
     "metadata": {},
     "output_type": "execute_result"
    }
   ],
   "source": [
    "# 5번째 값을 반환(0부터 시작해서 5번째)\n",
    "a[5]"
   ]
  },
  {
   "cell_type": "code",
   "execution_count": 53,
   "metadata": {
    "ExecuteTime": {
     "end_time": "2023-02-08T12:28:11.700672Z",
     "start_time": "2023-02-08T12:28:11.686710Z"
    }
   },
   "outputs": [
    {
     "data": {
      "text/plain": [
       "array([5, 6, 7])"
      ]
     },
     "execution_count": 53,
     "metadata": {},
     "output_type": "execute_result"
    }
   ],
   "source": [
    "# 변수[시작인덱스 이상:끝인덱스 미만:간격]\n",
    "a[5:8]"
   ]
  },
  {
   "cell_type": "code",
   "execution_count": 54,
   "metadata": {
    "ExecuteTime": {
     "end_time": "2023-02-08T12:28:11.716629Z",
     "start_time": "2023-02-08T12:28:11.702667Z"
    }
   },
   "outputs": [
    {
     "data": {
      "text/plain": [
       "array([0, 1, 2, 3])"
      ]
     },
     "execution_count": 54,
     "metadata": {},
     "output_type": "execute_result"
    }
   ],
   "source": [
    "# 시작인덱스 생략시 처음부터 지정\n",
    "a[:4]"
   ]
  },
  {
   "cell_type": "code",
   "execution_count": 55,
   "metadata": {
    "ExecuteTime": {
     "end_time": "2023-02-08T12:28:11.732586Z",
     "start_time": "2023-02-08T12:28:11.718624Z"
    }
   },
   "outputs": [
    {
     "data": {
      "text/plain": [
       "array([4, 5, 6, 7, 8, 9])"
      ]
     },
     "execution_count": 55,
     "metadata": {},
     "output_type": "execute_result"
    }
   ],
   "source": [
    "# 끝인덱스 생략시 마지막까지 지정\n",
    "a[4:]"
   ]
  },
  {
   "cell_type": "code",
   "execution_count": 56,
   "metadata": {
    "ExecuteTime": {
     "end_time": "2023-02-08T12:28:11.748543Z",
     "start_time": "2023-02-08T12:28:11.733584Z"
    }
   },
   "outputs": [
    {
     "data": {
      "text/plain": [
       "array([0, 1, 2, 3, 4, 5, 6, 7, 8, 9])"
      ]
     },
     "execution_count": 56,
     "metadata": {},
     "output_type": "execute_result"
    }
   ],
   "source": [
    "# 시작인덱스와 끝인덱스 생략시 자동으로 처음과 마지막을 지정\n",
    "# 간격은 생략시 자동으로 1입력\n",
    "a[::1]"
   ]
  },
  {
   "cell_type": "code",
   "execution_count": 57,
   "metadata": {
    "ExecuteTime": {
     "end_time": "2023-02-08T12:28:11.763503Z",
     "start_time": "2023-02-08T12:28:11.750538Z"
    }
   },
   "outputs": [
    {
     "data": {
      "text/plain": [
       "array([0, 3, 6, 9])"
      ]
     },
     "execution_count": 57,
     "metadata": {},
     "output_type": "execute_result"
    }
   ],
   "source": [
    "a[::3]"
   ]
  },
  {
   "cell_type": "code",
   "execution_count": 58,
   "metadata": {
    "ExecuteTime": {
     "end_time": "2023-02-08T12:28:11.778465Z",
     "start_time": "2023-02-08T12:28:11.765499Z"
    }
   },
   "outputs": [
    {
     "data": {
      "text/plain": [
       "array([0, 3, 6, 9])"
      ]
     },
     "execution_count": 58,
     "metadata": {},
     "output_type": "execute_result"
    }
   ],
   "source": [
    "# 간격을 음수를 취하면 뒤에서부터 출발\n",
    "a[::3]"
   ]
  },
  {
   "cell_type": "code",
   "execution_count": 59,
   "metadata": {
    "ExecuteTime": {
     "end_time": "2023-02-08T12:28:11.794420Z",
     "start_time": "2023-02-08T12:28:11.781463Z"
    }
   },
   "outputs": [
    {
     "data": {
      "text/plain": [
       "array([9, 6, 3, 0])"
      ]
     },
     "execution_count": 59,
     "metadata": {},
     "output_type": "execute_result"
    }
   ],
   "source": [
    "# 시작인덱스가 음수이면 뒤에서부터 출발\n",
    "# a[0, 1, 2, 3]\n",
    "# a[-4, -3, -2, -1]\n",
    "a[::-3]"
   ]
  },
  {
   "cell_type": "code",
   "execution_count": 60,
   "metadata": {
    "ExecuteTime": {
     "end_time": "2023-02-08T12:28:11.810377Z",
     "start_time": "2023-02-08T12:28:11.796417Z"
    }
   },
   "outputs": [
    {
     "data": {
      "text/plain": [
       "array([6, 7, 8, 9])"
      ]
     },
     "execution_count": 60,
     "metadata": {},
     "output_type": "execute_result"
    }
   ],
   "source": [
    "# 뒤에서 4번째 값부터 2간격으로\n",
    "a[-4:]"
   ]
  },
  {
   "cell_type": "code",
   "execution_count": 61,
   "metadata": {
    "ExecuteTime": {
     "end_time": "2023-02-08T12:28:11.826335Z",
     "start_time": "2023-02-08T12:28:11.812374Z"
    }
   },
   "outputs": [
    {
     "data": {
      "text/plain": [
       "array([[ 1,  2,  3,  4],\n",
       "       [ 5,  6,  7,  8],\n",
       "       [ 9, 10, 11, 12]])"
      ]
     },
     "execution_count": 61,
     "metadata": {},
     "output_type": "execute_result"
    }
   ],
   "source": [
    "a = np.array([[ 1,  2,  3,  4], [ 5,  6,  7,  8], [ 9, 10, 11, 12]])\n",
    "a"
   ]
  },
  {
   "cell_type": "code",
   "execution_count": 62,
   "metadata": {
    "ExecuteTime": {
     "end_time": "2023-02-08T12:28:11.841295Z",
     "start_time": "2023-02-08T12:28:11.828332Z"
    }
   },
   "outputs": [
    {
     "data": {
      "text/plain": [
       "array([ 1,  2,  3,  4,  5,  6,  7,  8,  9, 10, 11, 12])"
      ]
     },
     "execution_count": 62,
     "metadata": {},
     "output_type": "execute_result"
    }
   ],
   "source": [
    "np.array(range(1,13))"
   ]
  },
  {
   "cell_type": "code",
   "execution_count": 63,
   "metadata": {
    "ExecuteTime": {
     "end_time": "2023-02-08T12:28:11.856256Z",
     "start_time": "2023-02-08T12:28:11.843291Z"
    }
   },
   "outputs": [
    {
     "data": {
      "text/plain": [
       "array([[ 1,  2,  3,  4],\n",
       "       [ 5,  6,  7,  8],\n",
       "       [ 9, 10, 11, 12]])"
      ]
     },
     "execution_count": 63,
     "metadata": {},
     "output_type": "execute_result"
    }
   ],
   "source": [
    "# reshape을 사용해서 데이터 생성 가능\n",
    "a = np.array(range(1,13)).reshape(3,4)\n",
    "a"
   ]
  },
  {
   "cell_type": "code",
   "execution_count": 64,
   "metadata": {
    "ExecuteTime": {
     "end_time": "2023-02-08T12:28:11.872213Z",
     "start_time": "2023-02-08T12:28:11.858252Z"
    }
   },
   "outputs": [
    {
     "data": {
      "text/plain": [
       "array([5, 6, 7, 8])"
      ]
     },
     "execution_count": 64,
     "metadata": {},
     "output_type": "execute_result"
    }
   ],
   "source": [
    "# 백터의 경우와 달리 행과 열 각각의 인덱싱 시행\n",
    "# 1번째 행과 전체 열 출력\n",
    "a[1,:]"
   ]
  },
  {
   "cell_type": "code",
   "execution_count": 65,
   "metadata": {
    "ExecuteTime": {
     "end_time": "2023-02-08T12:28:11.888170Z",
     "start_time": "2023-02-08T12:28:11.873211Z"
    }
   },
   "outputs": [
    {
     "data": {
      "text/plain": [
       "array([[5, 6, 7, 8]])"
      ]
     },
     "execution_count": 65,
     "metadata": {},
     "output_type": "execute_result"
    }
   ],
   "source": [
    "# 1번째 이상 2번째 미만 행과 전체 열 출력\n",
    "a[1:2,:]"
   ]
  },
  {
   "cell_type": "code",
   "execution_count": 66,
   "metadata": {
    "ExecuteTime": {
     "end_time": "2023-02-08T12:28:11.904127Z",
     "start_time": "2023-02-08T12:28:11.890166Z"
    }
   },
   "outputs": [
    {
     "data": {
      "text/plain": [
       "array([[ 5,  6,  7,  8],\n",
       "       [ 9, 10, 11, 12]])"
      ]
     },
     "execution_count": 66,
     "metadata": {},
     "output_type": "execute_result"
    }
   ],
   "source": [
    "# 1번째 이상 3번째 미만 행과 전체 열 출력\n",
    "a[1:3,:]"
   ]
  },
  {
   "cell_type": "code",
   "execution_count": 67,
   "metadata": {
    "ExecuteTime": {
     "end_time": "2023-02-08T12:28:11.920084Z",
     "start_time": "2023-02-08T12:28:11.906123Z"
    }
   },
   "outputs": [
    {
     "data": {
      "text/plain": [
       "array([[ 2,  3],\n",
       "       [ 6,  7],\n",
       "       [10, 11]])"
      ]
     },
     "execution_count": 67,
     "metadata": {},
     "output_type": "execute_result"
    }
   ],
   "source": [
    "# 전체 행과 1번째 이상 3번째 미만 열 출력\n",
    "a[:,1:3]"
   ]
  },
  {
   "cell_type": "markdown",
   "metadata": {},
   "source": [
    "- **`정수` 배열 인덱싱(Int Array Indexing):**  배열의 `특정 위치에 있는 값`으로 구성할 수 있음\n",
    "- **`불리언` 배열 인덱싱(Boolean Array indexing):** 배열의 `특정 값만 선택`할 수 있으며, `일부 조건이 참인 경우의 값을 선택`하는데 사용"
   ]
  },
  {
   "cell_type": "code",
   "execution_count": 68,
   "metadata": {
    "ExecuteTime": {
     "end_time": "2023-02-08T12:28:11.936068Z",
     "start_time": "2023-02-08T12:28:11.922080Z"
    }
   },
   "outputs": [
    {
     "data": {
      "text/plain": [
       "array([[1, 2],\n",
       "       [3, 4],\n",
       "       [5, 6]])"
      ]
     },
     "execution_count": 68,
     "metadata": {},
     "output_type": "execute_result"
    }
   ],
   "source": [
    "a = np.array([[1,2], [3, 4], [5, 6]])\n",
    "a"
   ]
  },
  {
   "cell_type": "code",
   "execution_count": 69,
   "metadata": {
    "ExecuteTime": {
     "end_time": "2023-02-08T12:28:11.967957Z",
     "start_time": "2023-02-08T12:28:11.952034Z"
    }
   },
   "outputs": [
    {
     "data": {
      "text/plain": [
       "array([1, 4, 5])"
      ]
     },
     "execution_count": 69,
     "metadata": {},
     "output_type": "execute_result"
    }
   ],
   "source": [
    "# 인덱스를 직접 입력해서 값 출력 가능\n",
    "# (0,0), (1,1), (2,0) 값 출력\n",
    "np.array([a[0, 0], a[1, 1], a[2, 0]])"
   ]
  },
  {
   "cell_type": "code",
   "execution_count": 70,
   "metadata": {
    "ExecuteTime": {
     "end_time": "2023-02-08T12:28:11.982950Z",
     "start_time": "2023-02-08T12:28:11.969986Z"
    }
   },
   "outputs": [
    {
     "data": {
      "text/plain": [
       "array([1, 4, 5])"
      ]
     },
     "execution_count": 70,
     "metadata": {},
     "output_type": "execute_result"
    }
   ],
   "source": [
    "# (0,1,2)번째 행에서 (0,1,0)번째 열의 값 출력\n",
    "a[[0, 1, 2], [0, 1, 0]]"
   ]
  },
  {
   "cell_type": "code",
   "execution_count": 71,
   "metadata": {
    "ExecuteTime": {
     "end_time": "2023-02-08T12:28:11.997935Z",
     "start_time": "2023-02-08T12:28:11.984913Z"
    }
   },
   "outputs": [
    {
     "data": {
      "text/plain": [
       "array([[ 1,  2,  3],\n",
       "       [ 4,  5,  6],\n",
       "       [ 7,  8,  9],\n",
       "       [10, 11, 12]])"
      ]
     },
     "execution_count": 71,
     "metadata": {},
     "output_type": "execute_result"
    }
   ],
   "source": [
    "a = np.array([[1,2,3], [4,5,6], [7,8,9], [10, 11, 12]])\n",
    "a"
   ]
  },
  {
   "cell_type": "code",
   "execution_count": 72,
   "metadata": {
    "ExecuteTime": {
     "end_time": "2023-02-08T12:28:12.013867Z",
     "start_time": "2023-02-08T12:28:11.999872Z"
    }
   },
   "outputs": [
    {
     "data": {
      "text/plain": [
       "array([0, 2, 0, 1])"
      ]
     },
     "execution_count": 72,
     "metadata": {},
     "output_type": "execute_result"
    }
   ],
   "source": [
    "b = np.array([0, 2, 0, 1])\n",
    "b"
   ]
  },
  {
   "cell_type": "code",
   "execution_count": 73,
   "metadata": {
    "ExecuteTime": {
     "end_time": "2023-02-08T12:28:12.029656Z",
     "start_time": "2023-02-08T12:28:12.015829Z"
    }
   },
   "outputs": [
    {
     "data": {
      "text/plain": [
       "array([ 1,  6,  7, 11])"
      ]
     },
     "execution_count": 73,
     "metadata": {},
     "output_type": "execute_result"
    }
   ],
   "source": [
    "# 0~3까지의 행에서, b의 값위치 열값 추출\n",
    "a[np.arange(4), b]"
   ]
  },
  {
   "cell_type": "code",
   "execution_count": 74,
   "metadata": {
    "ExecuteTime": {
     "end_time": "2023-02-08T12:28:12.045639Z",
     "start_time": "2023-02-08T12:28:12.031651Z"
    }
   },
   "outputs": [
    {
     "data": {
      "text/plain": [
       "array([11, 16, 17, 21])"
      ]
     },
     "execution_count": 74,
     "metadata": {},
     "output_type": "execute_result"
    }
   ],
   "source": [
    "# 0~3까지의 행에서, b의 값위치 열값에 모두 10을 더해 출력\n",
    "a[np.arange(4), b] + 10"
   ]
  },
  {
   "cell_type": "code",
   "execution_count": 75,
   "metadata": {
    "ExecuteTime": {
     "end_time": "2023-02-08T12:28:12.061571Z",
     "start_time": "2023-02-08T12:28:12.047617Z"
    }
   },
   "outputs": [
    {
     "data": {
      "text/plain": [
       "array([[1, 2],\n",
       "       [3, 4],\n",
       "       [5, 6]])"
      ]
     },
     "execution_count": 75,
     "metadata": {},
     "output_type": "execute_result"
    }
   ],
   "source": [
    "a = np.array([[1,2], [3, 4], [5, 6]])\n",
    "a"
   ]
  },
  {
   "cell_type": "code",
   "execution_count": 76,
   "metadata": {
    "ExecuteTime": {
     "end_time": "2023-02-08T12:28:12.077527Z",
     "start_time": "2023-02-08T12:28:12.063566Z"
    }
   },
   "outputs": [
    {
     "data": {
      "text/plain": [
       "array([[False, False],\n",
       "       [ True,  True],\n",
       "       [ True,  True]])"
      ]
     },
     "execution_count": 76,
     "metadata": {},
     "output_type": "execute_result"
    }
   ],
   "source": [
    "# 각 값들이 2보다 큰지 논리값 반환\n",
    "a>2"
   ]
  },
  {
   "cell_type": "code",
   "execution_count": 77,
   "metadata": {
    "ExecuteTime": {
     "end_time": "2023-02-08T12:28:12.093485Z",
     "start_time": "2023-02-08T12:28:12.079524Z"
    }
   },
   "outputs": [
    {
     "data": {
      "text/plain": [
       "array([3, 4, 5, 6])"
      ]
     },
     "execution_count": 77,
     "metadata": {},
     "output_type": "execute_result"
    }
   ],
   "source": [
    "# 각 값들이 2보다 큰지 논리값에서 True인 위치의 행렬값 출력\n",
    "a[a>2]"
   ]
  },
  {
   "cell_type": "code",
   "execution_count": 78,
   "metadata": {
    "ExecuteTime": {
     "end_time": "2023-02-08T12:28:12.109475Z",
     "start_time": "2023-02-08T12:28:12.095481Z"
    }
   },
   "outputs": [
    {
     "data": {
      "text/plain": [
       "array([0, 1, 2, 3, 4, 5, 6, 7, 8, 9])"
      ]
     },
     "execution_count": 78,
     "metadata": {},
     "output_type": "execute_result"
    }
   ],
   "source": [
    "a = np.arange(10)\n",
    "a"
   ]
  },
  {
   "cell_type": "code",
   "execution_count": 79,
   "metadata": {
    "ExecuteTime": {
     "end_time": "2023-02-08T12:28:12.125432Z",
     "start_time": "2023-02-08T12:28:12.111471Z"
    }
   },
   "outputs": [
    {
     "data": {
      "text/plain": [
       "array([  0,   1,   2,   3,   4, 100, 100, 100,   8,   9])"
      ]
     },
     "execution_count": 79,
     "metadata": {},
     "output_type": "execute_result"
    }
   ],
   "source": [
    "# 5~7번째 값을 100으로 치환\n",
    "a[5:8] = 100\n",
    "a"
   ]
  },
  {
   "cell_type": "code",
   "execution_count": 80,
   "metadata": {
    "ExecuteTime": {
     "end_time": "2023-02-08T12:28:12.141388Z",
     "start_time": "2023-02-08T12:28:12.127396Z"
    }
   },
   "outputs": [
    {
     "data": {
      "text/plain": [
       "[0, 1, 2, 3, 4, 5, 6, 7, 8, 9]"
      ]
     },
     "execution_count": 80,
     "metadata": {},
     "output_type": "execute_result"
    }
   ],
   "source": [
    "b = list(range(10))\n",
    "b"
   ]
  },
  {
   "cell_type": "code",
   "execution_count": 81,
   "metadata": {
    "ExecuteTime": {
     "end_time": "2023-02-08T12:28:12.157314Z",
     "start_time": "2023-02-08T12:28:12.143353Z"
    }
   },
   "outputs": [],
   "source": [
    "# list에서는 동일하게 작동되지 않음\n",
    "# 바꾸려는 값의 갯수만큼 치환할 값을 할당해야 가능\n",
    "#b[5:8] = 100\n",
    "#b"
   ]
  },
  {
   "cell_type": "markdown",
   "metadata": {},
   "source": [
    "```python\n",
    "---------------------------------------------------------------------------\n",
    "TypeError                                 Traceback (most recent call last)\n",
    "<ipython-input-2-74d77b409a34> in <module>\n",
    "      1 b = list(range(10))\n",
    "----> 2 b[5:8] = 100\n",
    "      3 b\n",
    "\n",
    "TypeError: can only assign an iterable\n",
    "```"
   ]
  },
  {
   "cell_type": "code",
   "execution_count": 82,
   "metadata": {
    "ExecuteTime": {
     "end_time": "2023-02-08T12:28:12.173273Z",
     "start_time": "2023-02-08T12:28:12.159311Z"
    }
   },
   "outputs": [
    {
     "data": {
      "text/plain": [
       "array(['철수', '영희', '말자', '숙자'], dtype='<U2')"
      ]
     },
     "execution_count": 82,
     "metadata": {},
     "output_type": "execute_result"
    }
   ],
   "source": [
    "names = np.array(['철수', '영희', '말자', '숙자'])\n",
    "names"
   ]
  },
  {
   "cell_type": "code",
   "execution_count": 83,
   "metadata": {
    "ExecuteTime": {
     "end_time": "2023-02-08T12:28:12.189230Z",
     "start_time": "2023-02-08T12:28:12.175268Z"
    }
   },
   "outputs": [
    {
     "data": {
      "text/plain": [
       "array([ True, False, False, False])"
      ]
     },
     "execution_count": 83,
     "metadata": {},
     "output_type": "execute_result"
    }
   ],
   "source": [
    "# 각 값이 철수인지 논리값 반환\n",
    "names == '철수'"
   ]
  },
  {
   "cell_type": "code",
   "execution_count": 84,
   "metadata": {
    "ExecuteTime": {
     "end_time": "2023-02-08T12:28:12.205212Z",
     "start_time": "2023-02-08T12:28:12.190226Z"
    }
   },
   "outputs": [
    {
     "data": {
      "text/plain": [
       "array(['철수'], dtype='<U2')"
      ]
     },
     "execution_count": 84,
     "metadata": {},
     "output_type": "execute_result"
    }
   ],
   "source": [
    "# 각 값이 철수인지 논리값 기준 True인 값 반환\n",
    "names[names == '철수']"
   ]
  },
  {
   "cell_type": "code",
   "execution_count": 85,
   "metadata": {
    "ExecuteTime": {
     "end_time": "2023-02-08T12:28:12.220178Z",
     "start_time": "2023-02-08T12:28:12.208179Z"
    }
   },
   "outputs": [
    {
     "data": {
      "text/plain": [
       "array([[-2.09172515, -0.21503581,  0.78220297,  2.02405049],\n",
       "       [ 0.06268018, -1.1111145 , -0.7585435 , -1.14273517],\n",
       "       [ 0.33000696,  0.71118596, -1.73947213, -0.4039211 ],\n",
       "       [-0.64977404, -1.02906972,  1.30521309, -0.86525187]])"
      ]
     },
     "execution_count": 85,
     "metadata": {},
     "output_type": "execute_result"
    }
   ],
   "source": [
    "data = np.random.randn(4,4)\n",
    "data"
   ]
  },
  {
   "cell_type": "code",
   "execution_count": 86,
   "metadata": {
    "ExecuteTime": {
     "end_time": "2023-02-08T12:28:12.235145Z",
     "start_time": "2023-02-08T12:28:12.222141Z"
    }
   },
   "outputs": [
    {
     "data": {
      "text/plain": [
       "array([[0.        , 0.        , 0.78220297, 2.02405049],\n",
       "       [0.06268018, 0.        , 0.        , 0.        ],\n",
       "       [0.33000696, 0.71118596, 0.        , 0.        ],\n",
       "       [0.        , 0.        , 1.30521309, 0.        ]])"
      ]
     },
     "execution_count": 86,
     "metadata": {},
     "output_type": "execute_result"
    }
   ],
   "source": [
    "# 데이터가 0보다 작은지 논리값 기준 True인 값을 0으로 치환\n",
    "data[data<0] = 0\n",
    "data"
   ]
  },
  {
   "cell_type": "code",
   "execution_count": 87,
   "metadata": {
    "ExecuteTime": {
     "end_time": "2023-02-08T12:28:12.251088Z",
     "start_time": "2023-02-08T12:28:12.237101Z"
    }
   },
   "outputs": [
    {
     "data": {
      "text/plain": [
       "array([ True, False, False, False])"
      ]
     },
     "execution_count": 87,
     "metadata": {},
     "output_type": "execute_result"
    }
   ],
   "source": [
    "names == '철수'"
   ]
  },
  {
   "cell_type": "code",
   "execution_count": 88,
   "metadata": {
    "ExecuteTime": {
     "end_time": "2023-02-08T12:28:12.267049Z",
     "start_time": "2023-02-08T12:28:12.253058Z"
    }
   },
   "outputs": [
    {
     "data": {
      "text/plain": [
       "array([[0.        , 0.        , 0.78220297, 2.02405049]])"
      ]
     },
     "execution_count": 88,
     "metadata": {},
     "output_type": "execute_result"
    }
   ],
   "source": [
    "# names가 철수인지 논리값 기준 True인 값의 data값을 반환\n",
    "data[names == '철수']"
   ]
  },
  {
   "cell_type": "code",
   "execution_count": 89,
   "metadata": {
    "ExecuteTime": {
     "end_time": "2023-02-08T12:28:12.282978Z",
     "start_time": "2023-02-08T12:28:12.269015Z"
    }
   },
   "outputs": [
    {
     "data": {
      "text/plain": [
       "array(['개', '고양이', '고양이', '햄스터', '개', '햄스터'], dtype='<U3')"
      ]
     },
     "metadata": {},
     "output_type": "display_data"
    },
    {
     "data": {
      "text/plain": [
       "array([1, 2, 3, 4, 5, 6])"
      ]
     },
     "metadata": {},
     "output_type": "display_data"
    },
    {
     "data": {
      "text/plain": [
       "array([[ 0,  1,  2,  3,  4,  5],\n",
       "       [ 6,  7,  8,  9, 10, 11],\n",
       "       [12, 13, 14, 15, 16, 17],\n",
       "       [18, 19, 20, 21, 22, 23],\n",
       "       [24, 25, 26, 27, 28, 29],\n",
       "       [30, 31, 32, 33, 34, 35]])"
      ]
     },
     "metadata": {},
     "output_type": "display_data"
    }
   ],
   "source": [
    "# 테스트 array 생성\n",
    "pet = np.array(['개', '고양이', '고양이', '햄스터', '개', '햄스터'])\n",
    "num = np.array([1, 2, 3, 4, 5, 6])\n",
    "indexing_test = np.arange(36).reshape(6, 6) # 샘플데이터\n",
    "display(pet, num, indexing_test)"
   ]
  },
  {
   "cell_type": "code",
   "execution_count": 90,
   "metadata": {
    "ExecuteTime": {
     "end_time": "2023-02-08T12:28:12.298971Z",
     "start_time": "2023-02-08T12:28:12.283975Z"
    }
   },
   "outputs": [
    {
     "data": {
      "text/plain": [
       "array([False, False, False,  True,  True,  True])"
      ]
     },
     "execution_count": 90,
     "metadata": {},
     "output_type": "execute_result"
    }
   ],
   "source": [
    "# num이 3보다 큰지 논리값 출력\n",
    "num > 3"
   ]
  },
  {
   "cell_type": "code",
   "execution_count": 91,
   "metadata": {
    "ExecuteTime": {
     "end_time": "2023-02-08T12:28:12.314924Z",
     "start_time": "2023-02-08T12:28:12.299934Z"
    }
   },
   "outputs": [
    {
     "data": {
      "text/plain": [
       "array([[18, 19, 20, 21, 22, 23],\n",
       "       [24, 25, 26, 27, 28, 29],\n",
       "       [30, 31, 32, 33, 34, 35]])"
      ]
     },
     "execution_count": 91,
     "metadata": {},
     "output_type": "execute_result"
    }
   ],
   "source": [
    "indexing_test[num > 3]"
   ]
  },
  {
   "cell_type": "code",
   "execution_count": 92,
   "metadata": {
    "ExecuteTime": {
     "end_time": "2023-02-08T12:28:12.330902Z",
     "start_time": "2023-02-08T12:28:12.316907Z"
    }
   },
   "outputs": [
    {
     "data": {
      "text/plain": [
       "array([ True, False, False, False,  True, False])"
      ]
     },
     "execution_count": 92,
     "metadata": {},
     "output_type": "execute_result"
    }
   ],
   "source": [
    "# pet가 개인지 논리값 출력\n",
    "pet == '개'"
   ]
  },
  {
   "cell_type": "code",
   "execution_count": 93,
   "metadata": {
    "ExecuteTime": {
     "end_time": "2023-02-08T12:28:12.346808Z",
     "start_time": "2023-02-08T12:28:12.333844Z"
    }
   },
   "outputs": [
    {
     "data": {
      "text/plain": [
       "array([[ 0,  1,  2,  3,  4,  5],\n",
       "       [24, 25, 26, 27, 28, 29]])"
      ]
     },
     "execution_count": 93,
     "metadata": {},
     "output_type": "execute_result"
    }
   ],
   "source": [
    "indexing_test[pet == '개']"
   ]
  },
  {
   "cell_type": "code",
   "execution_count": 94,
   "metadata": {
    "ExecuteTime": {
     "end_time": "2023-02-08T12:28:12.362765Z",
     "start_time": "2023-02-08T12:28:12.348804Z"
    }
   },
   "outputs": [
    {
     "data": {
      "text/plain": [
       "array([ True, False, False,  True,  True,  True])"
      ]
     },
     "execution_count": 94,
     "metadata": {},
     "output_type": "execute_result"
    }
   ],
   "source": [
    "(pet == '개') | (pet == '햄스터')"
   ]
  },
  {
   "cell_type": "code",
   "execution_count": 95,
   "metadata": {
    "ExecuteTime": {
     "end_time": "2023-02-08T12:28:12.377760Z",
     "start_time": "2023-02-08T12:28:12.364760Z"
    }
   },
   "outputs": [
    {
     "data": {
      "text/plain": [
       "array([[ 3,  4,  5],\n",
       "       [21, 22, 23],\n",
       "       [27, 28, 29],\n",
       "       [33, 34, 35]])"
      ]
     },
     "execution_count": 95,
     "metadata": {},
     "output_type": "execute_result"
    }
   ],
   "source": [
    "# 펫 array 기준으로 햄스터와 개 데이터를 indexing_test에서 인덱싱해보기\n",
    "indexing_test[(pet == '개') | (pet == '햄스터'), 3:]"
   ]
  },
  {
   "cell_type": "code",
   "execution_count": 96,
   "metadata": {
    "ExecuteTime": {
     "end_time": "2023-02-08T12:28:12.392710Z",
     "start_time": "2023-02-08T12:28:12.379719Z"
    }
   },
   "outputs": [
    {
     "data": {
      "text/plain": [
       "2"
      ]
     },
     "execution_count": 96,
     "metadata": {},
     "output_type": "execute_result"
    }
   ],
   "source": [
    "# 불리언(True/False) 값을 숫자로 판단할 시 True=1, False=0으로 계산\n",
    "(pet == '개').sum()"
   ]
  },
  {
   "cell_type": "code",
   "execution_count": 97,
   "metadata": {
    "ExecuteTime": {
     "end_time": "2023-02-08T12:28:12.408670Z",
     "start_time": "2023-02-08T12:28:12.394679Z"
    }
   },
   "outputs": [
    {
     "data": {
      "text/plain": [
       "True"
      ]
     },
     "execution_count": 97,
     "metadata": {},
     "output_type": "execute_result"
    }
   ],
   "source": [
    "# 하나라도 참이면 참\n",
    "(pet == '개').any()"
   ]
  },
  {
   "cell_type": "code",
   "execution_count": 98,
   "metadata": {
    "ExecuteTime": {
     "end_time": "2023-02-08T12:28:12.424626Z",
     "start_time": "2023-02-08T12:28:12.410643Z"
    }
   },
   "outputs": [
    {
     "data": {
      "text/plain": [
       "False"
      ]
     },
     "execution_count": 98,
     "metadata": {},
     "output_type": "execute_result"
    }
   ],
   "source": [
    "# 전체데이터가 참이여야 참\n",
    "(pet == '개').all()"
   ]
  },
  {
   "cell_type": "markdown",
   "metadata": {},
   "source": [
    "## [**데이터 처리:** Numpy Function](https://numpy.org/doc/stable/reference/routines.math.html)"
   ]
  },
  {
   "cell_type": "markdown",
   "metadata": {},
   "source": [
    "### Array 기본 연산\n",
    "\n",
    "- 기본 수학 함수는 배열에서 `값마다 계산`되며 `numpy 내장 함수 모두 사용 가능`\n",
    "- 값연산 이외에 `벡터와 다차원 연산이 가능`하기 때문에 `반복문(for, while) 사용없이 직관적 연산 가능`\n",
    "- (고급) `크기가 다른 배열간의 연산`도 `브로드캐스팅(Broadcasting) 방식으로 연산 가능`\n",
    "\n",
    "**1) `하나의 배열`에 사용하는 함수**\n",
    "\n",
    "| 함수 | 설명 |\n",
    "|:---------|:-------------|\n",
    "| abs, fabs | 각 값의 절대값을 구한다. 복소수가 아닌 경우에는 fabs로 빠르게 연산가능 |\n",
    "| sqrt | 제곱근을 계산 array ** 0.5와 동일 |\n",
    "| square | 제곱을 계산 array ** 2와 동일 |\n",
    "| exp | 각 값에 지수 exp를 계산 |\n",
    "| log, log10, log2, logp | 각각 자연로그, 로그10, 로그2, 로그(1+x) |\n",
    "| sign | 각 값의 부호를 계산 |\n",
    "| ceil | 각 값의 소수자리 올림 |\n",
    "| floor | 각 값의 소수자리 버림 |\n",
    "| rint | 각 값의 소수자리 반올림. dtype 유지 |\n",
    "| modf | 값의 몫과 나머지를 각각 배열로 반환 |\n",
    "| isnan | 각 값이 숫자인지 아닌지 NaN으로 나타내는 불리언 배열 |\n",
    "| isfinite, isinf | 배열의 각 값이 유한한지 무한한지 나타내는 불리언 배열 |\n",
    "| cos, cosh, sin, sinh, tan, tanh | 일반 삼각함수와 쌍곡삼각 함수 |\n",
    "| logical_not | 각 값의 논리 부정(not) 값 계산 |\n",
    "\n",
    "**2) `서로 다른 배열`에 사용하는 함수**\n",
    "\n",
    "| 함수 | 설명 |\n",
    "|:---------|:-------------|\n",
    "| add | 두 배열에서 같은 위치의 값끼리 덧셈 |\n",
    "| subtract | 첫번째 배열 값 - 두번째 배열 값 |\n",
    "| multiply | 배열의 값끼리 곱셈 |\n",
    "| divide | 첫번째 배열의 값에서 두번째 배열의 값를 나눗셈 |\n",
    "| power | 첫번째 배열의 값에 두번째 배열의 값만큼 제곱 |\n",
    "| maximum, fmax | 두 값 중 큰 값을 반환. fmax는 NaN 무시 |\n",
    "| minimum, fmin | 두 값 중 작은 값 반환. fmin는 NaN 무시 |\n",
    "| mod | 첫번째 배열의 값에 두번째 배열의 값를 나눈 나머지 |\n",
    "| greater, greater_equal, less, less_equal, equal, not_equal | 두 값 간의 >, >=, <, <=, ==, != 비교연산 결과를 불리언 배열로 반환 |\n",
    "| logical_and, logical_or, logical_xor | 각각 두 값 간의 논리연산 결과를 반환 |"
   ]
  },
  {
   "cell_type": "code",
   "execution_count": 99,
   "metadata": {
    "ExecuteTime": {
     "end_time": "2023-02-08T12:28:12.440582Z",
     "start_time": "2023-02-08T12:28:12.426594Z"
    }
   },
   "outputs": [
    {
     "data": {
      "text/plain": [
       "array([[1., 2.],\n",
       "       [3., 4.]])"
      ]
     },
     "metadata": {},
     "output_type": "display_data"
    },
    {
     "data": {
      "text/plain": [
       "array([[5., 6.],\n",
       "       [7., 8.]])"
      ]
     },
     "metadata": {},
     "output_type": "display_data"
    }
   ],
   "source": [
    "a2d = np.array([[1,2],[3,4]], dtype=np.float64)\n",
    "b2d = np.array([[5,6],[7,8]], dtype=np.float64)\n",
    "display(a2d, b2d)"
   ]
  },
  {
   "cell_type": "code",
   "execution_count": 100,
   "metadata": {
    "ExecuteTime": {
     "end_time": "2023-02-08T12:28:12.456561Z",
     "start_time": "2023-02-08T12:28:12.442551Z"
    }
   },
   "outputs": [
    {
     "data": {
      "text/plain": [
       "array([[ 6.,  8.],\n",
       "       [10., 12.]])"
      ]
     },
     "execution_count": 100,
     "metadata": {},
     "output_type": "execute_result"
    }
   ],
   "source": [
    "# 요소별 합산\n",
    "a2d + b2d"
   ]
  },
  {
   "cell_type": "code",
   "execution_count": 101,
   "metadata": {
    "ExecuteTime": {
     "end_time": "2023-02-08T12:28:12.472471Z",
     "start_time": "2023-02-08T12:28:12.458509Z"
    }
   },
   "outputs": [
    {
     "data": {
      "text/plain": [
       "array([[ 6.,  8.],\n",
       "       [10., 12.]])"
      ]
     },
     "execution_count": 101,
     "metadata": {},
     "output_type": "execute_result"
    }
   ],
   "source": [
    "# 요소별 합산\n",
    "np.add(a2d, b2d)"
   ]
  },
  {
   "cell_type": "code",
   "execution_count": 102,
   "metadata": {
    "ExecuteTime": {
     "end_time": "2023-02-08T12:28:12.488461Z",
     "start_time": "2023-02-08T12:28:12.474502Z"
    }
   },
   "outputs": [
    {
     "data": {
      "text/plain": [
       "array([[-4., -4.],\n",
       "       [-4., -4.]])"
      ]
     },
     "execution_count": 102,
     "metadata": {},
     "output_type": "execute_result"
    }
   ],
   "source": [
    "# 요소별 빼기\n",
    "a2d - b2d"
   ]
  },
  {
   "cell_type": "code",
   "execution_count": 103,
   "metadata": {
    "ExecuteTime": {
     "end_time": "2023-02-08T12:28:12.504417Z",
     "start_time": "2023-02-08T12:28:12.490460Z"
    }
   },
   "outputs": [
    {
     "data": {
      "text/plain": [
       "array([[-4., -4.],\n",
       "       [-4., -4.]])"
      ]
     },
     "execution_count": 103,
     "metadata": {},
     "output_type": "execute_result"
    }
   ],
   "source": [
    "# 요소별 빼기\n",
    "np.subtract(a2d, b2d)"
   ]
  },
  {
   "cell_type": "code",
   "execution_count": 104,
   "metadata": {
    "ExecuteTime": {
     "end_time": "2023-02-08T12:28:12.520371Z",
     "start_time": "2023-02-08T12:28:12.506381Z"
    }
   },
   "outputs": [
    {
     "data": {
      "text/plain": [
       "array([[ 5., 12.],\n",
       "       [21., 32.]])"
      ]
     },
     "execution_count": 104,
     "metadata": {},
     "output_type": "execute_result"
    }
   ],
   "source": [
    "# 요소별 곱셈\n",
    "a2d * b2d"
   ]
  },
  {
   "cell_type": "code",
   "execution_count": 105,
   "metadata": {
    "ExecuteTime": {
     "end_time": "2023-02-08T12:28:12.536302Z",
     "start_time": "2023-02-08T12:28:12.522337Z"
    }
   },
   "outputs": [
    {
     "data": {
      "text/plain": [
       "array([[ 5., 12.],\n",
       "       [21., 32.]])"
      ]
     },
     "execution_count": 105,
     "metadata": {},
     "output_type": "execute_result"
    }
   ],
   "source": [
    "# 요소별 곱셈\n",
    "np.multiply(a2d, b2d)"
   ]
  },
  {
   "cell_type": "code",
   "execution_count": 106,
   "metadata": {
    "ExecuteTime": {
     "end_time": "2023-02-08T12:28:12.552259Z",
     "start_time": "2023-02-08T12:28:12.538297Z"
    }
   },
   "outputs": [
    {
     "data": {
      "text/plain": [
       "array([[0.2       , 0.33333333],\n",
       "       [0.42857143, 0.5       ]])"
      ]
     },
     "execution_count": 106,
     "metadata": {},
     "output_type": "execute_result"
    }
   ],
   "source": [
    "# 요소별 나누기\n",
    "a2d / b2d"
   ]
  },
  {
   "cell_type": "code",
   "execution_count": 107,
   "metadata": {
    "ExecuteTime": {
     "end_time": "2023-02-08T12:28:12.568215Z",
     "start_time": "2023-02-08T12:28:12.554252Z"
    }
   },
   "outputs": [
    {
     "data": {
      "text/plain": [
       "array([[0.2       , 0.33333333],\n",
       "       [0.42857143, 0.5       ]])"
      ]
     },
     "execution_count": 107,
     "metadata": {},
     "output_type": "execute_result"
    }
   ],
   "source": [
    "# 요소별 나누기\n",
    "np.divide(a2d, b2d)"
   ]
  },
  {
   "cell_type": "code",
   "execution_count": 108,
   "metadata": {
    "ExecuteTime": {
     "end_time": "2023-02-08T12:28:12.583176Z",
     "start_time": "2023-02-08T12:28:12.570210Z"
    }
   },
   "outputs": [
    {
     "data": {
      "text/plain": [
       "array([[1.        , 1.41421356],\n",
       "       [1.73205081, 2.        ]])"
      ]
     },
     "execution_count": 108,
     "metadata": {},
     "output_type": "execute_result"
    }
   ],
   "source": [
    "# 요소별 square root\n",
    "np.sqrt(a2d)"
   ]
  },
  {
   "cell_type": "code",
   "execution_count": 109,
   "metadata": {
    "ExecuteTime": {
     "end_time": "2023-02-08T12:28:12.598162Z",
     "start_time": "2023-02-08T12:28:12.585171Z"
    }
   },
   "outputs": [
    {
     "data": {
      "text/plain": [
       "array([[-1. ,  2. ,  3. ],\n",
       "       [-4. ,  5. ,  6. ],\n",
       "       [ 7.1,  8.4, -9.7]])"
      ]
     },
     "execution_count": 109,
     "metadata": {},
     "output_type": "execute_result"
    }
   ],
   "source": [
    "a2d = np.array([[-1,2,3],[-4,5,6],[7.1,8.4,-9.7]])\n",
    "a2d"
   ]
  },
  {
   "cell_type": "code",
   "execution_count": 110,
   "metadata": {
    "ExecuteTime": {
     "end_time": "2023-02-08T12:28:12.614092Z",
     "start_time": "2023-02-08T12:28:12.600131Z"
    }
   },
   "outputs": [
    {
     "data": {
      "text/plain": [
       "array([[1. , 2. , 3. ],\n",
       "       [4. , 5. , 6. ],\n",
       "       [7.1, 8.4, 9.7]])"
      ]
     },
     "execution_count": 110,
     "metadata": {},
     "output_type": "execute_result"
    }
   ],
   "source": [
    "# 절대값 변환\n",
    "np.abs(a2d)"
   ]
  },
  {
   "cell_type": "code",
   "execution_count": 111,
   "metadata": {
    "ExecuteTime": {
     "end_time": "2023-02-08T12:28:12.630051Z",
     "start_time": "2023-02-08T12:28:12.616086Z"
    }
   },
   "outputs": [
    {
     "name": "stderr",
     "output_type": "stream",
     "text": [
      "C:\\Users\\phamt\\AppData\\Local\\Temp\\ipykernel_10148\\1820938577.py:2: RuntimeWarning: invalid value encountered in sqrt\n",
      "  np.sqrt(a2d)\n"
     ]
    },
    {
     "data": {
      "text/plain": [
       "array([[       nan, 1.41421356, 1.73205081],\n",
       "       [       nan, 2.23606798, 2.44948974],\n",
       "       [2.66458252, 2.89827535,        nan]])"
      ]
     },
     "execution_count": 111,
     "metadata": {},
     "output_type": "execute_result"
    }
   ],
   "source": [
    "# square root\n",
    "np.sqrt(a2d)"
   ]
  },
  {
   "cell_type": "code",
   "execution_count": 112,
   "metadata": {
    "ExecuteTime": {
     "end_time": "2023-02-08T12:28:12.646034Z",
     "start_time": "2023-02-08T12:28:12.632044Z"
    }
   },
   "outputs": [
    {
     "name": "stderr",
     "output_type": "stream",
     "text": [
      "C:\\Users\\phamt\\AppData\\Local\\Temp\\ipykernel_10148\\1649283410.py:2: RuntimeWarning: invalid value encountered in sqrt\n",
      "  a2d**0.5\n"
     ]
    },
    {
     "data": {
      "text/plain": [
       "array([[       nan, 1.41421356, 1.73205081],\n",
       "       [       nan, 2.23606798, 2.44948974],\n",
       "       [2.66458252, 2.89827535,        nan]])"
      ]
     },
     "execution_count": 112,
     "metadata": {},
     "output_type": "execute_result"
    }
   ],
   "source": [
    "# is same as\n",
    "a2d**0.5"
   ]
  },
  {
   "cell_type": "code",
   "execution_count": 113,
   "metadata": {
    "ExecuteTime": {
     "end_time": "2023-02-08T12:28:12.662003Z",
     "start_time": "2023-02-08T12:28:12.648002Z"
    }
   },
   "outputs": [
    {
     "data": {
      "text/plain": [
       "array([[ 1.  ,  4.  ,  9.  ],\n",
       "       [16.  , 25.  , 36.  ],\n",
       "       [50.41, 70.56, 94.09]])"
      ]
     },
     "execution_count": 113,
     "metadata": {},
     "output_type": "execute_result"
    }
   ],
   "source": [
    "# 제곱 반환\n",
    "np.square(a2d)"
   ]
  },
  {
   "cell_type": "code",
   "execution_count": 114,
   "metadata": {
    "ExecuteTime": {
     "end_time": "2023-02-08T12:28:12.677946Z",
     "start_time": "2023-02-08T12:28:12.663959Z"
    }
   },
   "outputs": [
    {
     "data": {
      "text/plain": [
       "array([[3.67879441e-01, 7.38905610e+00, 2.00855369e+01],\n",
       "       [1.83156389e-02, 1.48413159e+02, 4.03428793e+02],\n",
       "       [1.21196707e+03, 4.44706675e+03, 6.12834951e-05]])"
      ]
     },
     "execution_count": 114,
     "metadata": {},
     "output_type": "execute_result"
    }
   ],
   "source": [
    "# exp\n",
    "np.exp(a2d)"
   ]
  },
  {
   "cell_type": "code",
   "execution_count": 115,
   "metadata": {
    "ExecuteTime": {
     "end_time": "2023-02-08T12:28:12.693880Z",
     "start_time": "2023-02-08T12:28:12.679916Z"
    }
   },
   "outputs": [
    {
     "data": {
      "text/plain": [
       "array([[-1. ,  2. ,  3. ],\n",
       "       [-4. ,  5. ,  6. ],\n",
       "       [ 7.1,  8.4, -9.7]])"
      ]
     },
     "execution_count": 115,
     "metadata": {},
     "output_type": "execute_result"
    }
   ],
   "source": [
    "# log\n",
    "# log + exp는 원래대로 반환\n",
    "np.log(np.exp(a2d))"
   ]
  },
  {
   "cell_type": "code",
   "execution_count": 116,
   "metadata": {
    "ExecuteTime": {
     "end_time": "2023-02-08T12:28:12.708839Z",
     "start_time": "2023-02-08T12:28:12.695874Z"
    }
   },
   "outputs": [
    {
     "data": {
      "text/plain": [
       "array([[-1.,  1.,  1.],\n",
       "       [-1.,  1.,  1.],\n",
       "       [ 1.,  1., -1.]])"
      ]
     },
     "execution_count": 116,
     "metadata": {},
     "output_type": "execute_result"
    }
   ],
   "source": [
    "# 부호반환\n",
    "np.sign(a2d)"
   ]
  },
  {
   "cell_type": "code",
   "execution_count": 117,
   "metadata": {
    "ExecuteTime": {
     "end_time": "2023-02-08T12:28:12.723826Z",
     "start_time": "2023-02-08T12:28:12.709836Z"
    }
   },
   "outputs": [
    {
     "data": {
      "text/plain": [
       "array([[-1.,  2.,  3.],\n",
       "       [-4.,  5.,  6.],\n",
       "       [ 8.,  9., -9.]])"
      ]
     },
     "execution_count": 117,
     "metadata": {},
     "output_type": "execute_result"
    }
   ],
   "source": [
    "# 올림값\n",
    "np.ceil(a2d)"
   ]
  },
  {
   "cell_type": "code",
   "execution_count": 118,
   "metadata": {
    "ExecuteTime": {
     "end_time": "2023-02-08T12:28:12.739784Z",
     "start_time": "2023-02-08T12:28:12.725821Z"
    }
   },
   "outputs": [
    {
     "data": {
      "text/plain": [
       "array([[False, False, False],\n",
       "       [False, False, False],\n",
       "       [False, False, False]])"
      ]
     },
     "execution_count": 118,
     "metadata": {},
     "output_type": "execute_result"
    }
   ],
   "source": [
    "# 값이 nan인지 여부\n",
    "np.isnan(a2d)"
   ]
  },
  {
   "cell_type": "code",
   "execution_count": 119,
   "metadata": {
    "ExecuteTime": {
     "end_time": "2023-02-08T12:28:12.755745Z",
     "start_time": "2023-02-08T12:28:12.741751Z"
    }
   },
   "outputs": [
    {
     "data": {
      "text/plain": [
       "array([[False, False, False],\n",
       "       [False, False, False],\n",
       "       [False, False, False]])"
      ]
     },
     "execution_count": 119,
     "metadata": {},
     "output_type": "execute_result"
    }
   ],
   "source": [
    "# 값이 infinite인지 여부\n",
    "np.isinf(a2d)"
   ]
  },
  {
   "cell_type": "code",
   "execution_count": 120,
   "metadata": {
    "ExecuteTime": {
     "end_time": "2023-02-08T12:28:12.771670Z",
     "start_time": "2023-02-08T12:28:12.757709Z"
    }
   },
   "outputs": [
    {
     "data": {
      "text/plain": [
       "array([[ True,  True,  True],\n",
       "       [ True,  True,  True],\n",
       "       [ True,  True,  True]])"
      ]
     },
     "execution_count": 120,
     "metadata": {},
     "output_type": "execute_result"
    }
   ],
   "source": [
    "# 값이 유한값인지 여부\n",
    "np.isfinite(a2d)"
   ]
  },
  {
   "cell_type": "code",
   "execution_count": 121,
   "metadata": {
    "ExecuteTime": {
     "end_time": "2023-02-08T12:28:12.787660Z",
     "start_time": "2023-02-08T12:28:12.773667Z"
    }
   },
   "outputs": [
    {
     "data": {
      "text/plain": [
       "array([[ 0.54030231, -0.41614684, -0.9899925 ],\n",
       "       [-0.65364362,  0.28366219,  0.96017029],\n",
       "       [ 0.68454667, -0.51928865, -0.96236488]])"
      ]
     },
     "execution_count": 121,
     "metadata": {},
     "output_type": "execute_result"
    }
   ],
   "source": [
    "# cosine\n",
    "np.cos(a2d)"
   ]
  },
  {
   "cell_type": "code",
   "execution_count": 122,
   "metadata": {
    "ExecuteTime": {
     "end_time": "2023-02-08T12:28:12.803585Z",
     "start_time": "2023-02-08T12:28:12.789623Z"
    }
   },
   "outputs": [
    {
     "data": {
      "text/plain": [
       "array([[-1.55740772, -2.18503986, -0.14254654],\n",
       "       [-1.15782128, -3.38051501, -0.29100619],\n",
       "       [ 1.06489313, -1.64571073, -0.28238835]])"
      ]
     },
     "execution_count": 122,
     "metadata": {},
     "output_type": "execute_result"
    }
   ],
   "source": [
    "# tangent\n",
    "np.tan(a2d)"
   ]
  },
  {
   "cell_type": "code",
   "execution_count": 123,
   "metadata": {
    "ExecuteTime": {
     "end_time": "2023-02-08T12:28:12.819542Z",
     "start_time": "2023-02-08T12:28:12.805580Z"
    }
   },
   "outputs": [
    {
     "data": {
      "text/plain": [
       "array([[-1. ,  2. ,  3. ],\n",
       "       [-4. ,  5. ,  6. ],\n",
       "       [ 7.1,  8.4, -9.7]])"
      ]
     },
     "metadata": {},
     "output_type": "display_data"
    },
    {
     "data": {
      "text/plain": [
       "array([[1, 2, 3],\n",
       "       [4, 5, 6],\n",
       "       [7, 8, 9]])"
      ]
     },
     "metadata": {},
     "output_type": "display_data"
    }
   ],
   "source": [
    "b2d = np.array([[1,2,3],[4,5,6],[7,8,9]])\n",
    "display(a2d, b2d)"
   ]
  },
  {
   "cell_type": "code",
   "execution_count": 124,
   "metadata": {
    "ExecuteTime": {
     "end_time": "2023-02-08T12:28:12.835525Z",
     "start_time": "2023-02-08T12:28:12.821537Z"
    }
   },
   "outputs": [
    {
     "data": {
      "text/plain": [
       "array([[ 0. ,  4. ,  6. ],\n",
       "       [ 0. , 10. , 12. ],\n",
       "       [14.1, 16.4, -0.7]])"
      ]
     },
     "execution_count": 124,
     "metadata": {},
     "output_type": "execute_result"
    }
   ],
   "source": [
    "# 2개의 행렬 더하기\n",
    "np.add(a2d, b2d)"
   ]
  },
  {
   "cell_type": "code",
   "execution_count": 125,
   "metadata": {
    "ExecuteTime": {
     "end_time": "2023-02-08T12:28:12.851459Z",
     "start_time": "2023-02-08T12:28:12.837496Z"
    }
   },
   "outputs": [
    {
     "data": {
      "text/plain": [
       "array([[ -1. ,   4. ,   9. ],\n",
       "       [-16. ,  25. ,  36. ],\n",
       "       [ 49.7,  67.2, -87.3]])"
      ]
     },
     "execution_count": 125,
     "metadata": {},
     "output_type": "execute_result"
    }
   ],
   "source": [
    "# 2개의 행렬 곱하기\n",
    "np.multiply(a2d, b2d)"
   ]
  },
  {
   "cell_type": "code",
   "execution_count": 126,
   "metadata": {
    "ExecuteTime": {
     "end_time": "2023-02-08T12:28:12.867414Z",
     "start_time": "2023-02-08T12:28:12.853486Z"
    }
   },
   "outputs": [
    {
     "data": {
      "text/plain": [
       "array([[-1.00000000e+00,  4.00000000e+00,  2.70000000e+01],\n",
       "       [ 2.56000000e+02,  3.12500000e+03,  4.66560000e+04],\n",
       "       [ 9.09512016e+05,  2.47875891e+07, -7.60231059e+08]])"
      ]
     },
     "execution_count": 126,
     "metadata": {},
     "output_type": "execute_result"
    }
   ],
   "source": [
    "# 2개의 행렬 제곱\n",
    "np.power(a2d, b2d)"
   ]
  },
  {
   "cell_type": "code",
   "execution_count": 127,
   "metadata": {
    "ExecuteTime": {
     "end_time": "2023-02-08T12:28:12.883373Z",
     "start_time": "2023-02-08T12:28:12.869411Z"
    }
   },
   "outputs": [
    {
     "data": {
      "text/plain": [
       "array([[ True, False, False],\n",
       "       [ True, False, False],\n",
       "       [False, False,  True]])"
      ]
     },
     "execution_count": 127,
     "metadata": {},
     "output_type": "execute_result"
    }
   ],
   "source": [
    "# 2개의 행렬 요소별 비교\n",
    "np.greater(b2d, a2d)"
   ]
  },
  {
   "cell_type": "markdown",
   "metadata": {
    "ExecuteTime": {
     "end_time": "2019-02-22T08:46:44.847002Z",
     "start_time": "2019-02-22T08:46:44.843004Z"
    }
   },
   "source": [
    "### Array 통계 연산"
   ]
  },
  {
   "cell_type": "code",
   "execution_count": 128,
   "metadata": {
    "ExecuteTime": {
     "end_time": "2023-02-08T12:28:12.899329Z",
     "start_time": "2023-02-08T12:28:12.885367Z"
    }
   },
   "outputs": [
    {
     "data": {
      "text/plain": [
       "array([[-1,  2,  3],\n",
       "       [-4,  5,  6],\n",
       "       [ 7,  8, -9]])"
      ]
     },
     "execution_count": 128,
     "metadata": {},
     "output_type": "execute_result"
    }
   ],
   "source": [
    "a2d = np.array([[-1,2,3],[-4,5,6],[7,8,-9]])\n",
    "a2d"
   ]
  },
  {
   "cell_type": "code",
   "execution_count": 129,
   "metadata": {
    "ExecuteTime": {
     "end_time": "2023-02-08T12:28:12.915286Z",
     "start_time": "2023-02-08T12:28:12.901324Z"
    }
   },
   "outputs": [
    {
     "data": {
      "text/plain": [
       "array([[ 1,  4,  5],\n",
       "       [-2,  7,  8],\n",
       "       [ 9, 10, -7]])"
      ]
     },
     "execution_count": 129,
     "metadata": {},
     "output_type": "execute_result"
    }
   ],
   "source": [
    "# 요소별 더하기\n",
    "a2d + 2"
   ]
  },
  {
   "cell_type": "code",
   "execution_count": 130,
   "metadata": {
    "ExecuteTime": {
     "end_time": "2023-02-08T12:28:12.931244Z",
     "start_time": "2023-02-08T12:28:12.917283Z"
    }
   },
   "outputs": [
    {
     "data": {
      "text/plain": [
       "array([[ -2,   4,   6],\n",
       "       [ -8,  10,  12],\n",
       "       [ 14,  16, -18]])"
      ]
     },
     "execution_count": 130,
     "metadata": {},
     "output_type": "execute_result"
    }
   ],
   "source": [
    "# 요소별 곱하기\n",
    "a2d * 2"
   ]
  },
  {
   "cell_type": "code",
   "execution_count": 131,
   "metadata": {
    "ExecuteTime": {
     "end_time": "2023-02-08T12:28:12.947202Z",
     "start_time": "2023-02-08T12:28:12.932241Z"
    }
   },
   "outputs": [
    {
     "data": {
      "text/plain": [
       "dtype('int32')"
      ]
     },
     "execution_count": 131,
     "metadata": {},
     "output_type": "execute_result"
    }
   ],
   "source": [
    "# 값의 형태 확인\n",
    "a2d.dtype"
   ]
  },
  {
   "cell_type": "code",
   "execution_count": 132,
   "metadata": {
    "ExecuteTime": {
     "end_time": "2023-02-08T12:28:12.963159Z",
     "start_time": "2023-02-08T12:28:12.949197Z"
    }
   },
   "outputs": [
    {
     "data": {
      "text/plain": [
       "(3, 3)"
      ]
     },
     "execution_count": 132,
     "metadata": {},
     "output_type": "execute_result"
    }
   ],
   "source": [
    "# 행렬의 크기 확인\n",
    "a2d.shape"
   ]
  },
  {
   "cell_type": "code",
   "execution_count": 133,
   "metadata": {
    "ExecuteTime": {
     "end_time": "2023-02-08T12:28:12.979147Z",
     "start_time": "2023-02-08T12:28:12.965154Z"
    }
   },
   "outputs": [
    {
     "data": {
      "text/plain": [
       "2"
      ]
     },
     "execution_count": 133,
     "metadata": {},
     "output_type": "execute_result"
    }
   ],
   "source": [
    "# 행렬(데이터) 차원 확인\n",
    "# 데이터가 존재하는 축방향이 늘어나면 차원수도 늘어남\n",
    "a2d.ndim"
   ]
  },
  {
   "cell_type": "code",
   "execution_count": 134,
   "metadata": {
    "ExecuteTime": {
     "end_time": "2023-02-08T12:28:12.995109Z",
     "start_time": "2023-02-08T12:28:12.981111Z"
    }
   },
   "outputs": [
    {
     "data": {
      "text/plain": [
       "2"
      ]
     },
     "execution_count": 134,
     "metadata": {},
     "output_type": "execute_result"
    }
   ],
   "source": [
    "# 행렬 차원 확인\n",
    "# 함수사용하여 확인 가능\n",
    "np.ndim(a2d)"
   ]
  },
  {
   "cell_type": "code",
   "execution_count": 135,
   "metadata": {
    "ExecuteTime": {
     "end_time": "2023-02-08T12:28:13.011082Z",
     "start_time": "2023-02-08T12:28:12.998066Z"
    }
   },
   "outputs": [
    {
     "data": {
      "text/plain": [
       "array([[-1, -4,  7],\n",
       "       [ 2,  5,  8],\n",
       "       [ 3,  6, -9]])"
      ]
     },
     "execution_count": 135,
     "metadata": {},
     "output_type": "execute_result"
    }
   ],
   "source": [
    "# 전치행렬: 대각선 기준 회전\n",
    "a2d.T"
   ]
  },
  {
   "cell_type": "code",
   "execution_count": 136,
   "metadata": {
    "ExecuteTime": {
     "end_time": "2023-02-08T12:28:13.026988Z",
     "start_time": "2023-02-08T12:28:13.013026Z"
    }
   },
   "outputs": [
    {
     "data": {
      "text/plain": [
       "array([[-1, -4,  7],\n",
       "       [ 2,  5,  8],\n",
       "       [ 3,  6, -9]])"
      ]
     },
     "execution_count": 136,
     "metadata": {},
     "output_type": "execute_result"
    }
   ],
   "source": [
    "# 전치행렬: 대각선 기준 회전\n",
    "# 함수사용 변환가능\n",
    "np.transpose(a2d)"
   ]
  },
  {
   "cell_type": "code",
   "execution_count": 137,
   "metadata": {
    "ExecuteTime": {
     "end_time": "2023-02-08T12:28:13.042998Z",
     "start_time": "2023-02-08T12:28:13.029979Z"
    }
   },
   "outputs": [
    {
     "data": {
      "text/plain": [
       "array([ 2, 15,  0])"
      ]
     },
     "execution_count": 137,
     "metadata": {},
     "output_type": "execute_result"
    }
   ],
   "source": [
    "# 세로로 더하기\n",
    "np.sum(a2d, axis=0)"
   ]
  },
  {
   "cell_type": "code",
   "execution_count": 138,
   "metadata": {
    "ExecuteTime": {
     "end_time": "2023-02-08T12:28:13.058901Z",
     "start_time": "2023-02-08T12:28:13.044939Z"
    }
   },
   "outputs": [
    {
     "data": {
      "text/plain": [
       "array([4, 7, 6])"
      ]
     },
     "execution_count": 138,
     "metadata": {},
     "output_type": "execute_result"
    }
   ],
   "source": [
    "# 가로로 더하기\n",
    "np.sum(a2d, axis=1)"
   ]
  },
  {
   "cell_type": "code",
   "execution_count": 139,
   "metadata": {
    "ExecuteTime": {
     "end_time": "2023-02-08T12:28:13.074859Z",
     "start_time": "2023-02-08T12:28:13.061895Z"
    }
   },
   "outputs": [
    {
     "data": {
      "text/plain": [
       "17"
      ]
     },
     "execution_count": 139,
     "metadata": {},
     "output_type": "execute_result"
    }
   ],
   "source": [
    "# 전체 더하기\n",
    "np.sum(a2d)"
   ]
  },
  {
   "cell_type": "code",
   "execution_count": 140,
   "metadata": {
    "ExecuteTime": {
     "end_time": "2023-02-08T12:28:13.089820Z",
     "start_time": "2023-02-08T12:28:13.076875Z"
    }
   },
   "outputs": [
    {
     "data": {
      "text/plain": [
       "array([[-1,  2,  3],\n",
       "       [-4,  5,  6],\n",
       "       [ 7,  8, -9]])"
      ]
     },
     "execution_count": 140,
     "metadata": {},
     "output_type": "execute_result"
    }
   ],
   "source": [
    "a2d"
   ]
  },
  {
   "cell_type": "code",
   "execution_count": 141,
   "metadata": {
    "ExecuteTime": {
     "end_time": "2023-02-08T12:28:13.104781Z",
     "start_time": "2023-02-08T12:28:13.091814Z"
    }
   },
   "outputs": [
    {
     "data": {
      "text/plain": [
       "array([-1,  1,  4,  0,  5, 11, 18, 26, 17], dtype=int32)"
      ]
     },
     "execution_count": 141,
     "metadata": {},
     "output_type": "execute_result"
    }
   ],
   "source": [
    "# 누적합\n",
    "np.cumsum(a2d)"
   ]
  },
  {
   "cell_type": "code",
   "execution_count": 142,
   "metadata": {
    "ExecuteTime": {
     "end_time": "2023-02-08T12:28:13.120738Z",
     "start_time": "2023-02-08T12:28:13.106774Z"
    }
   },
   "outputs": [
    {
     "data": {
      "text/plain": [
       "-362880"
      ]
     },
     "execution_count": 142,
     "metadata": {},
     "output_type": "execute_result"
    }
   ],
   "source": [
    "# 곱하기\n",
    "np.prod(a2d)"
   ]
  },
  {
   "cell_type": "code",
   "execution_count": 143,
   "metadata": {
    "ExecuteTime": {
     "end_time": "2023-02-08T12:28:13.136735Z",
     "start_time": "2023-02-08T12:28:13.122740Z"
    }
   },
   "outputs": [
    {
     "data": {
      "text/plain": [
       "array([  28,   80, -162])"
      ]
     },
     "execution_count": 143,
     "metadata": {},
     "output_type": "execute_result"
    }
   ],
   "source": [
    "# 세로로 곱하기\n",
    "np.prod(a2d, axis=0)"
   ]
  },
  {
   "cell_type": "code",
   "execution_count": 144,
   "metadata": {
    "ExecuteTime": {
     "end_time": "2023-02-08T12:28:13.152652Z",
     "start_time": "2023-02-08T12:28:13.138689Z"
    }
   },
   "outputs": [
    {
     "data": {
      "text/plain": [
       "array([  -6, -120, -504])"
      ]
     },
     "execution_count": 144,
     "metadata": {},
     "output_type": "execute_result"
    }
   ],
   "source": [
    "# 가로로 곱하기\n",
    "np.prod(a2d, axis=1)"
   ]
  },
  {
   "cell_type": "code",
   "execution_count": 145,
   "metadata": {
    "ExecuteTime": {
     "end_time": "2023-02-08T12:28:13.168610Z",
     "start_time": "2023-02-08T12:28:13.154648Z"
    }
   },
   "outputs": [
    {
     "data": {
      "text/plain": [
       "array([     -1,      -2,      -6,      24,     120,     720,    5040,\n",
       "         40320, -362880], dtype=int32)"
      ]
     },
     "execution_count": 145,
     "metadata": {},
     "output_type": "execute_result"
    }
   ],
   "source": [
    "# 누적 곱하기\n",
    "np.cumprod(a2d)"
   ]
  },
  {
   "cell_type": "code",
   "execution_count": 146,
   "metadata": {
    "ExecuteTime": {
     "end_time": "2023-02-08T12:28:13.184584Z",
     "start_time": "2023-02-08T12:28:13.170603Z"
    }
   },
   "outputs": [
    {
     "data": {
      "text/plain": [
       "array([[  -1,    2,    3],\n",
       "       [   4,   10,   18],\n",
       "       [  28,   80, -162]], dtype=int32)"
      ]
     },
     "execution_count": 146,
     "metadata": {},
     "output_type": "execute_result"
    }
   ],
   "source": [
    "# 세로로 누적 곱하기\n",
    "np.cumprod(a2d, axis=0)"
   ]
  },
  {
   "cell_type": "code",
   "execution_count": 147,
   "metadata": {
    "ExecuteTime": {
     "end_time": "2023-02-08T12:28:13.200523Z",
     "start_time": "2023-02-08T12:28:13.186562Z"
    }
   },
   "outputs": [
    {
     "data": {
      "text/plain": [
       "array([[  -1,   -2,   -6],\n",
       "       [  -4,  -20, -120],\n",
       "       [   7,   56, -504]], dtype=int32)"
      ]
     },
     "execution_count": 147,
     "metadata": {},
     "output_type": "execute_result"
    }
   ],
   "source": [
    "# 가로로 누적 곱하기\n",
    "np.cumprod(a2d, axis=1)"
   ]
  },
  {
   "cell_type": "code",
   "execution_count": 148,
   "metadata": {
    "ExecuteTime": {
     "end_time": "2023-02-08T12:28:13.216482Z",
     "start_time": "2023-02-08T12:28:13.201521Z"
    }
   },
   "outputs": [
    {
     "data": {
      "text/plain": [
       "array([0.66666667, 5.        , 0.        ])"
      ]
     },
     "execution_count": 148,
     "metadata": {},
     "output_type": "execute_result"
    }
   ],
   "source": [
    "# 세로로 평균\n",
    "np.mean(a2d, axis=0)"
   ]
  },
  {
   "cell_type": "code",
   "execution_count": 149,
   "metadata": {
    "ExecuteTime": {
     "end_time": "2023-02-08T12:28:13.232439Z",
     "start_time": "2023-02-08T12:28:13.218477Z"
    }
   },
   "outputs": [
    {
     "data": {
      "text/plain": [
       "1.8888888888888888"
      ]
     },
     "execution_count": 149,
     "metadata": {},
     "output_type": "execute_result"
    }
   ],
   "source": [
    "# 전체 평균\n",
    "np.mean(a2d)"
   ]
  },
  {
   "cell_type": "code",
   "execution_count": 150,
   "metadata": {
    "ExecuteTime": {
     "end_time": "2023-02-08T12:28:13.248397Z",
     "start_time": "2023-02-08T12:28:13.235432Z"
    }
   },
   "outputs": [
    {
     "data": {
      "text/plain": [
       "array([4.64279609, 2.44948974, 6.4807407 ])"
      ]
     },
     "execution_count": 150,
     "metadata": {},
     "output_type": "execute_result"
    }
   ],
   "source": [
    "# 세로로 표준편차\n",
    "np.std(a2d, axis=0)"
   ]
  },
  {
   "cell_type": "code",
   "execution_count": 151,
   "metadata": {
    "ExecuteTime": {
     "end_time": "2023-02-08T12:28:13.294278Z",
     "start_time": "2023-02-08T12:28:13.250392Z"
    }
   },
   "outputs": [
    {
     "data": {
      "text/plain": [
       "5.30082686305625"
      ]
     },
     "execution_count": 151,
     "metadata": {},
     "output_type": "execute_result"
    }
   ],
   "source": [
    "# 전체 표준편차\n",
    "np.std(a2d)"
   ]
  },
  {
   "cell_type": "code",
   "execution_count": 152,
   "metadata": {
    "ExecuteTime": {
     "end_time": "2023-02-08T12:28:13.310229Z",
     "start_time": "2023-02-08T12:28:13.297265Z"
    }
   },
   "outputs": [
    {
     "data": {
      "text/plain": [
       "array([21.55555556,  6.        , 42.        ])"
      ]
     },
     "execution_count": 152,
     "metadata": {},
     "output_type": "execute_result"
    }
   ],
   "source": [
    "# 세로로 분산\n",
    "np.var(a2d, axis=0)"
   ]
  },
  {
   "cell_type": "code",
   "execution_count": 153,
   "metadata": {
    "ExecuteTime": {
     "end_time": "2023-02-08T12:28:13.326223Z",
     "start_time": "2023-02-08T12:28:13.313225Z"
    }
   },
   "outputs": [
    {
     "data": {
      "text/plain": [
       "array([-4,  2, -9])"
      ]
     },
     "execution_count": 153,
     "metadata": {},
     "output_type": "execute_result"
    }
   ],
   "source": [
    "# 세로로 최소값\n",
    "# 실제로 많이 사용\n",
    "np.min(a2d, axis=0)"
   ]
  },
  {
   "cell_type": "code",
   "execution_count": 154,
   "metadata": {
    "ExecuteTime": {
     "end_time": "2023-02-08T12:28:13.342145Z",
     "start_time": "2023-02-08T12:28:13.328183Z"
    }
   },
   "outputs": [
    {
     "data": {
      "text/plain": [
       "array([7, 8, 6])"
      ]
     },
     "execution_count": 154,
     "metadata": {},
     "output_type": "execute_result"
    }
   ],
   "source": [
    "# 세로로 최대값\n",
    "# 실제로 많이 사용\n",
    "np.max(a2d, axis=0)"
   ]
  },
  {
   "cell_type": "code",
   "execution_count": 155,
   "metadata": {
    "ExecuteTime": {
     "end_time": "2023-02-08T12:28:13.358102Z",
     "start_time": "2023-02-08T12:28:13.344141Z"
    }
   },
   "outputs": [
    {
     "data": {
      "text/plain": [
       "(-9, 8)"
      ]
     },
     "execution_count": 155,
     "metadata": {},
     "output_type": "execute_result"
    }
   ],
   "source": [
    "# 전체의 최소값과 최대값\n",
    "np.min(a2d), np.max(a2d)"
   ]
  },
  {
   "cell_type": "code",
   "execution_count": 156,
   "metadata": {
    "ExecuteTime": {
     "end_time": "2023-02-08T12:28:13.374059Z",
     "start_time": "2023-02-08T12:28:13.360096Z"
    }
   },
   "outputs": [
    {
     "data": {
      "text/plain": [
       "array([1, 0, 2], dtype=int64)"
      ]
     },
     "execution_count": 156,
     "metadata": {},
     "output_type": "execute_result"
    }
   ],
   "source": [
    "# 최소값 인덱스\n",
    "# argmax보다는 덜 쓰이지만 자주 보임\n",
    "# 세로로 가장작은 값의 위치(인덱스)\n",
    "np.argmin(a2d, axis=0)"
   ]
  },
  {
   "cell_type": "code",
   "execution_count": 157,
   "metadata": {
    "ExecuteTime": {
     "end_time": "2023-02-08T12:28:13.389019Z",
     "start_time": "2023-02-08T12:28:13.376053Z"
    }
   },
   "outputs": [
    {
     "data": {
      "text/plain": [
       "array([2, 2, 1], dtype=int64)"
      ]
     },
     "execution_count": 157,
     "metadata": {},
     "output_type": "execute_result"
    }
   ],
   "source": [
    "# 자주 사용합니다.\n",
    "# 최대값 존재하고 있는 인덱스 넘버를 리턴\n",
    "# 출력값이 인덱스\n",
    "# 세로로 가장큰 값의 위치(인덱스)\n",
    "np.argmax(a2d, axis=0)"
   ]
  },
  {
   "cell_type": "code",
   "execution_count": 158,
   "metadata": {
    "ExecuteTime": {
     "end_time": "2023-02-08T12:28:13.403978Z",
     "start_time": "2023-02-08T12:28:13.391018Z"
    }
   },
   "outputs": [
    {
     "data": {
      "text/plain": [
       "array([[-1,  2,  3],\n",
       "       [-5,  7,  9],\n",
       "       [ 2, 15,  0]], dtype=int32)"
      ]
     },
     "execution_count": 158,
     "metadata": {},
     "output_type": "execute_result"
    }
   ],
   "source": [
    "# 세로로 누적합\n",
    "np.cumsum(a2d, axis=0)"
   ]
  },
  {
   "cell_type": "code",
   "execution_count": 159,
   "metadata": {
    "ExecuteTime": {
     "end_time": "2023-02-08T12:28:13.419937Z",
     "start_time": "2023-02-08T12:28:13.405973Z"
    }
   },
   "outputs": [
    {
     "data": {
      "text/plain": [
       "array([[  -1,    2,    3],\n",
       "       [   4,   10,   18],\n",
       "       [  28,   80, -162]], dtype=int32)"
      ]
     },
     "execution_count": 159,
     "metadata": {},
     "output_type": "execute_result"
    }
   ],
   "source": [
    "# 세로로 누적곱\n",
    "np.cumprod(a2d, axis=0)"
   ]
  },
  {
   "cell_type": "code",
   "execution_count": 160,
   "metadata": {
    "ExecuteTime": {
     "end_time": "2023-02-08T12:28:13.435893Z",
     "start_time": "2023-02-08T12:28:13.421958Z"
    }
   },
   "outputs": [
    {
     "data": {
      "text/plain": [
       "array([[-1,  2,  3],\n",
       "       [-4,  5,  6],\n",
       "       [ 7,  8, -9]])"
      ]
     },
     "metadata": {},
     "output_type": "display_data"
    },
    {
     "data": {
      "text/plain": [
       "array([[1, 2, 3],\n",
       "       [4, 5, 6],\n",
       "       [7, 8, 9]])"
      ]
     },
     "metadata": {},
     "output_type": "display_data"
    }
   ],
   "source": [
    "a2d = np.array([[-1,2,3],[-4,5,6],[7,8,-9]])\n",
    "b2d = np.array([[1,2,3],[4,5,6],[7,8,9]])\n",
    "display(a2d, b2d)"
   ]
  },
  {
   "cell_type": "code",
   "execution_count": 161,
   "metadata": {
    "ExecuteTime": {
     "end_time": "2023-02-08T12:28:13.451882Z",
     "start_time": "2023-02-08T12:28:13.437889Z"
    }
   },
   "outputs": [
    {
     "data": {
      "text/plain": [
       "array([[-1,  2,  3],\n",
       "       [-4,  5,  6],\n",
       "       [ 7,  8, -9],\n",
       "       [ 1,  2,  3],\n",
       "       [ 4,  5,  6],\n",
       "       [ 7,  8,  9]])"
      ]
     },
     "execution_count": 161,
     "metadata": {},
     "output_type": "execute_result"
    }
   ],
   "source": [
    "# 세로로 붙이기\n",
    "c2d = np.concatenate((a2d, b2d), axis=0)\n",
    "c2d"
   ]
  },
  {
   "cell_type": "code",
   "execution_count": 162,
   "metadata": {
    "ExecuteTime": {
     "end_time": "2023-02-08T12:28:13.466811Z",
     "start_time": "2023-02-08T12:28:13.453847Z"
    }
   },
   "outputs": [
    {
     "data": {
      "text/plain": [
       "array([[-1,  2,  3,  1,  2,  3],\n",
       "       [-4,  5,  6,  4,  5,  6],\n",
       "       [ 7,  8, -9,  7,  8,  9]])"
      ]
     },
     "execution_count": 162,
     "metadata": {},
     "output_type": "execute_result"
    }
   ],
   "source": [
    "# 가로로 붙이기\n",
    "c2d = np.concatenate((a2d, b2d), axis=1)\n",
    "c2d"
   ]
  },
  {
   "cell_type": "code",
   "execution_count": 163,
   "metadata": {
    "ExecuteTime": {
     "end_time": "2023-02-08T12:28:13.481770Z",
     "start_time": "2023-02-08T12:28:13.468807Z"
    }
   },
   "outputs": [
    {
     "data": {
      "text/plain": [
       "array([[-1,  2],\n",
       "       [ 3,  1],\n",
       "       [ 2,  3],\n",
       "       [-4,  5],\n",
       "       [ 6,  4],\n",
       "       [ 5,  6],\n",
       "       [ 7,  8],\n",
       "       [-9,  7],\n",
       "       [ 8,  9]])"
      ]
     },
     "execution_count": 163,
     "metadata": {},
     "output_type": "execute_result"
    }
   ],
   "source": [
    "# 크기/형태 변경\n",
    "c2d.reshape((9,2))"
   ]
  },
  {
   "cell_type": "code",
   "execution_count": 164,
   "metadata": {
    "ExecuteTime": {
     "end_time": "2023-02-08T12:28:13.497761Z",
     "start_time": "2023-02-08T12:28:13.483766Z"
    }
   },
   "outputs": [
    {
     "data": {
      "text/plain": [
       "array([[-1,  2,  3],\n",
       "       [ 1,  2,  3],\n",
       "       [-4,  5,  6],\n",
       "       [ 4,  5,  6],\n",
       "       [ 7,  8, -9],\n",
       "       [ 7,  8,  9]])"
      ]
     },
     "execution_count": 164,
     "metadata": {},
     "output_type": "execute_result"
    }
   ],
   "source": [
    "# 크기/형태 변경\n",
    "# 함수 사용해서 변경 가능\n",
    "# 어떤 조건에서 reshape가능한가? 데이터 내부에 존재하는 속성 갯수가 같아야 함.\n",
    "np.reshape(c2d, (6,3))"
   ]
  },
  {
   "cell_type": "code",
   "execution_count": 165,
   "metadata": {
    "ExecuteTime": {
     "end_time": "2023-02-08T12:28:13.513686Z",
     "start_time": "2023-02-08T12:28:13.499723Z"
    }
   },
   "outputs": [
    {
     "data": {
      "text/plain": [
       "array([[ 1,  2,  3,  4],\n",
       "       [ 5,  6,  7,  8],\n",
       "       [ 9, 10, 11, 12],\n",
       "       [13, 14, 15, 16]])"
      ]
     },
     "execution_count": 165,
     "metadata": {},
     "output_type": "execute_result"
    }
   ],
   "source": [
    "a2d = np.array([[1, 2, 3, 4], [5, 6, 7, 8], [9, 10, 11, 12], [13 ,14 ,15, 16]])\n",
    "a2d"
   ]
  },
  {
   "cell_type": "code",
   "execution_count": 166,
   "metadata": {
    "ExecuteTime": {
     "end_time": "2023-02-08T12:28:13.529642Z",
     "start_time": "2023-02-08T12:28:13.515680Z"
    }
   },
   "outputs": [
    {
     "data": {
      "text/plain": [
       "[array([[1, 2, 3, 4],\n",
       "        [5, 6, 7, 8]]),\n",
       " array([[ 9, 10, 11, 12],\n",
       "        [13, 14, 15, 16]])]"
      ]
     },
     "execution_count": 166,
     "metadata": {},
     "output_type": "execute_result"
    }
   ],
   "source": [
    "# 세로로 배열 분리하기\n",
    "np.split(a2d, 2, axis=0)"
   ]
  },
  {
   "cell_type": "code",
   "execution_count": 167,
   "metadata": {
    "ExecuteTime": {
     "end_time": "2023-02-08T12:28:13.545601Z",
     "start_time": "2023-02-08T12:28:13.532636Z"
    }
   },
   "outputs": [
    {
     "data": {
      "text/plain": [
       "[array([[ 1,  2],\n",
       "        [ 5,  6],\n",
       "        [ 9, 10],\n",
       "        [13, 14]]),\n",
       " array([[ 3,  4],\n",
       "        [ 7,  8],\n",
       "        [11, 12],\n",
       "        [15, 16]])]"
      ]
     },
     "execution_count": 167,
     "metadata": {},
     "output_type": "execute_result"
    }
   ],
   "source": [
    "# 가로로 배열 분리하기\n",
    "np.split(a2d, 2, axis=1)"
   ]
  },
  {
   "cell_type": "markdown",
   "metadata": {},
   "source": [
    "# **Questions**"
   ]
  },
  {
   "cell_type": "markdown",
   "metadata": {},
   "source": [
    "`산업용 월별 전기사용 데이터`로 주어진 `Task를 작성/출력` 하며, 모든 답안의 길이는 한줄부터 여러줄이 가능함\n",
    "\n",
    "- **데이터 정보**\n",
    "> - **파일명:** `Industry_MonthlyElectricUsage.txt`\n",
    "> - **파일위치:** `r'.\\Data\\Energy\\Industry_MonthlyElectricUsage.txt'`\n",
    "> - **포함정보:** 아래와 같이 `5개의 열(컬럼,변수)`이 차례대로 포함\n",
    ">\n",
    "> <br>\n",
    ">\n",
    "> (1) 년월    \n",
    "> (2) 가구수    \n",
    "> (3) 사용량    \n",
    "> (4) 전기요금    \n",
    "> (5) 평균판매단가    "
   ]
  },
  {
   "cell_type": "code",
   "execution_count": 175,
   "metadata": {
    "ExecuteTime": {
     "end_time": "2023-02-08T13:02:22.784383Z",
     "start_time": "2023-02-08T13:02:22.724549Z"
    }
   },
   "outputs": [
    {
     "data": {
      "text/plain": [
       "array([[2.02001000e+05, 1.30000000e+01, 1.11140000e+04, 1.70977500e+06,\n",
       "        1.54000000e+02],\n",
       "       [2.02001000e+05, 5.05200000e+03, 1.66106290e+07, 2.29918341e+09,\n",
       "        1.38000000e+02],\n",
       "       [2.02001000e+05, 5.57000000e+03, 6.51106010e+07, 8.23555475e+09,\n",
       "        1.27000000e+02],\n",
       "       ...,\n",
       "       [2.02012000e+05, 9.00000000e+00, 0.00000000e+00, 0.00000000e+00,\n",
       "        0.00000000e+00],\n",
       "       [2.02012000e+05, 4.00000000e+00, 0.00000000e+00, 0.00000000e+00,\n",
       "        0.00000000e+00],\n",
       "       [2.02012000e+05, 1.30000000e+01, 0.00000000e+00, 0.00000000e+00,\n",
       "        0.00000000e+00]])"
      ]
     },
     "execution_count": 175,
     "metadata": {},
     "output_type": "execute_result"
    }
   ],
   "source": [
    "# 데이터 불러오기 실행 (Local PC에서 실행하는 경우)\n",
    "import numpy as np\n",
    "raw = np.loadtxt(fname='C:/Users/phamt/Data/Energy/Industry_MonthlyElectricUsage.txt', delimiter='\\t')\n",
    "raw"
   ]
  },
  {
   "cell_type": "code",
   "execution_count": 176,
   "metadata": {
    "ExecuteTime": {
     "end_time": "2023-02-08T13:02:30.092596Z",
     "start_time": "2023-02-08T13:02:30.083620Z"
    }
   },
   "outputs": [],
   "source": [
    "# # 데이터 불러오기 실행 (Google Colab에서 실행하는 경우)\n",
    "# # 파일 선택을 눌러서 'Industry_MonthlyElectricUsage.txt' 파일을 선택해주면 로딩 완료\n",
    "# from google.colab import files\n",
    "# files.upload()\n",
    "\n",
    "# import numpy as np\n",
    "# raw = np.loadtxt('Industry_MonthlyElectricUsage.txt', delimiter='\\t')\n",
    "# raw"
   ]
  },
  {
   "cell_type": "code",
   "execution_count": 177,
   "metadata": {
    "ExecuteTime": {
     "end_time": "2023-02-08T13:02:31.978712Z",
     "start_time": "2023-02-08T13:02:31.956757Z"
    }
   },
   "outputs": [
    {
     "data": {
      "text/plain": [
       "(4473, 5)"
      ]
     },
     "execution_count": 177,
     "metadata": {},
     "output_type": "execute_result"
    }
   ],
   "source": [
    "# 데이터의 크기 확인하여 행과 열의 갯수 출력\n",
    "raw.shape"
   ]
  },
  {
   "cell_type": "code",
   "execution_count": 178,
   "metadata": {
    "ExecuteTime": {
     "end_time": "2023-02-08T13:02:34.749811Z",
     "start_time": "2023-02-08T13:02:34.737845Z"
    }
   },
   "outputs": [
    {
     "data": {
      "text/plain": [
       "0"
      ]
     },
     "execution_count": 178,
     "metadata": {},
     "output_type": "execute_result"
    }
   ],
   "source": [
    "# 결측값의 갯수를 출력\n",
    "np.isnan(raw).sum()"
   ]
  },
  {
   "cell_type": "code",
   "execution_count": 179,
   "metadata": {
    "ExecuteTime": {
     "end_time": "2023-02-08T13:02:37.524825Z",
     "start_time": "2023-02-08T13:02:37.504878Z"
    }
   },
   "outputs": [
    {
     "data": {
      "text/plain": [
       "(array([202001., 202002., 202003., 202004., 202005., 202006., 202007.,\n",
       "        202008., 202009., 202010., 202011., 202012.]),\n",
       " 12)"
      ]
     },
     "execution_count": 179,
     "metadata": {},
     "output_type": "execute_result"
    }
   ],
   "source": [
    "# 1) 중복되지 않은 년월 값들 출력\n",
    "# 2) 1)의 출력값 갯수 출력\n",
    "a = raw[:,0:1]\n",
    "np.unique(a)\n",
    "\n",
    "#2)\n",
    "len(np.unique(a))\n",
    "\n",
    "np.unique(a), len(np.unique(a))"
   ]
  },
  {
   "cell_type": "code",
   "execution_count": 180,
   "metadata": {
    "ExecuteTime": {
     "end_time": "2023-02-08T13:02:39.533477Z",
     "start_time": "2023-02-08T13:02:39.511508Z"
    }
   },
   "outputs": [
    {
     "data": {
      "text/plain": [
       "(30198.262463670915, 185754100.5240331)"
      ]
     },
     "execution_count": 180,
     "metadata": {},
     "output_type": "execute_result"
    }
   ],
   "source": [
    "# 전체 기간의 가구수 평균과 사용량 평균 출력\n",
    "b = raw[:,1:2]\n",
    "c = raw[:,2:3]\n",
    "\n",
    "np.mean(b), np.mean(c)"
   ]
  },
  {
   "cell_type": "code",
   "execution_count": 181,
   "metadata": {
    "ExecuteTime": {
     "end_time": "2023-02-08T13:02:41.641831Z",
     "start_time": "2023-02-08T13:02:41.625874Z"
    }
   },
   "outputs": [
    {
     "data": {
      "text/plain": [
       "(-17844180.0, 9193268214.0)"
      ]
     },
     "execution_count": 181,
     "metadata": {},
     "output_type": "execute_result"
    }
   ],
   "source": [
    "# 사용량 최대값과 최소값 출력\n",
    "np.min(c), np.max(c)"
   ]
  },
  {
   "cell_type": "code",
   "execution_count": 182,
   "metadata": {
    "ExecuteTime": {
     "end_time": "2023-02-08T13:02:44.813843Z",
     "start_time": "2023-02-08T13:02:44.801875Z"
    }
   },
   "outputs": [
    {
     "name": "stdout",
     "output_type": "stream",
     "text": [
      "[[ 2.02011000e+05  6.43300000e+03 -1.78441800e+07  1.56945295e+09\n",
      "  -8.80000000e+01]]\n",
      "[[2.02011000e+05 6.43300000e+03 1.78441800e+07 1.56945295e+09\n",
      "  8.80000000e+01]]\n"
     ]
    },
    {
     "data": {
      "text/plain": [
       "(4472, 5)"
      ]
     },
     "execution_count": 182,
     "metadata": {},
     "output_type": "execute_result"
    }
   ],
   "source": [
    "# 1) raw에서 사용량이 음수인 행 출력\n",
    "# 2) raw에서 사용량이 음수인 행을 모두 양수로 바꾸어 출력(raw에 저장이 아닌 오로지 출력만!)\n",
    "# 3) (2)의 결과를 raw에 저장하지 않고 음수 행이 존재하는)raw에서, \n",
    "#    사용량이 음수인 행을 필터/삭제하고 나머지를 새로운 raw_filter 이름으로 저장\n",
    "# 4) raw_filter의 데이터 크기 확인하여 행과 열의 갯수 출력(raw의 행과 열 갯수와 다름)\n",
    "#1)\n",
    "print(raw[raw[:,2] < 0, :])\n",
    "\n",
    "#2)\n",
    "print(np.abs(raw[raw[:,2] < 0, :]))\n",
    "#3)\n",
    "raw_filter = np.delete(raw, np.where(raw[:,2]<0), 0)\n",
    "\n",
    "#4)\n",
    "raw_filter.shape"
   ]
  },
  {
   "cell_type": "code",
   "execution_count": 183,
   "metadata": {
    "ExecuteTime": {
     "end_time": "2023-02-08T13:02:46.913588Z",
     "start_time": "2023-02-08T13:02:46.905617Z"
    }
   },
   "outputs": [
    {
     "data": {
      "text/plain": [
       "(1103271084397.0, 0.0)"
      ]
     },
     "execution_count": 183,
     "metadata": {},
     "output_type": "execute_result"
    }
   ],
   "source": [
    "# raw_filter의 전기요금 최대값과 최소값 출력\n",
    "d = raw_filter[:,3]\n",
    "np.max(d) , np.min(d)"
   ]
  },
  {
   "cell_type": "code",
   "execution_count": 184,
   "metadata": {
    "ExecuteTime": {
     "end_time": "2023-02-08T13:02:49.204497Z",
     "start_time": "2023-02-08T13:02:49.189491Z"
    }
   },
   "outputs": [
    {
     "data": {
      "text/plain": [
       "array([202001., 202002., 202007., 202008., 202012.])"
      ]
     },
     "execution_count": 184,
     "metadata": {},
     "output_type": "execute_result"
    }
   ],
   "source": [
    "# raw_filter에서 전기요금으로 1조가 넘는 비용을 지불한 년월 출력\n",
    "elecfee = raw_filter[:,3]\n",
    "elecfee_1 = raw_filter[np.where(elecfee>1000000000000)]\n",
    "elecfee_1[:,0]"
   ]
  },
  {
   "cell_type": "code",
   "execution_count": 185,
   "metadata": {
    "ExecuteTime": {
     "end_time": "2023-02-08T13:02:51.733551Z",
     "start_time": "2023-02-08T13:02:51.711611Z"
    }
   },
   "outputs": [
    {
     "data": {
      "text/plain": [
       "202012.0"
      ]
     },
     "execution_count": 185,
     "metadata": {},
     "output_type": "execute_result"
    }
   ],
   "source": [
    "# 1) raw_filter에서 전기요금으로 1조가 넘는 비용을 지불한 년월의 가구수 출력\n",
    "# 2) 1)에서 구한 가구수들 중 최대값과 최대값의 인덱스(순번) 출력\n",
    "# 3) 2)에서 구한 최대값에 해당되는 년월 출력\n",
    "#1)\n",
    "elecfee_1[:,1]\n",
    "\n",
    "#2)\n",
    "np.max(elecfee_1[:,1]), np.argmax(elecfee_1[:,1], axis = 0)\n",
    "\n",
    "#3)\n",
    "np.max(elecfee_1[:,0])\n"
   ]
  },
  {
   "cell_type": "code",
   "execution_count": 186,
   "metadata": {
    "ExecuteTime": {
     "end_time": "2023-02-08T13:02:53.878794Z",
     "start_time": "2023-02-08T13:02:53.861840Z"
    }
   },
   "outputs": [
    {
     "name": "stdout",
     "output_type": "stream",
     "text": [
      "년월:  202001 전기요금최대값:  1061535709786.0 전기요금최소값:  77965.0\n",
      "년월:  202002 전기요금최대값:  1033127200639.0 전기요금최소값:  80088.0\n",
      "년월:  202003 전기요금최대값:  869048300673.0 전기요금최소값:  70795.0\n",
      "년월:  202004 전기요금최대값:  780211035574.0 전기요금최소값:  64704.0\n",
      "년월:  202005 전기요금최대값:  755695365936.0 전기요금최소값:  63791.0\n",
      "년월:  202006 전기요금최대값:  977348887916.0 전기요금최소값:  0.0\n",
      "년월:  202007 전기요금최대값:  1085637813332.0 전기요금최소값:  84812.0\n",
      "년월:  202008 전기요금최대값:  1094353070725.0 전기요금최소값:  0.0\n",
      "년월:  202009 전기요금최대값:  911878292715.0 전기요금최소값:  0.0\n",
      "년월:  202010 전기요금최대값:  768392039871.0 전기요금최소값:  0.0\n",
      "년월:  202011 전기요금최대값:  972964601646.0 전기요금최소값:  63907.0\n",
      "년월:  202012 전기요금최대값:  1103271084397.0 전기요금최소값:  0.0\n"
     ]
    }
   ],
   "source": [
    "# raw_filter 데이터에서,\n",
    "# 각 년월별, 아래 출력결과의 형식과 동일하게 년월 + 전기요금 최대값 + 전기요금 최소값 출력\n",
    "# 년월은 정수로 출력하고 나머지는 실수로 출력\n",
    "# 출력결과: '년월: 202001 , 전기요금최대값: 100000 , 전기요금최소값: 0'\n",
    "#           '년월: 202002 , 전기요금최대값: 110000 , 전기요금최소값: 100'\n",
    "#             ...\n",
    "YearMonth = [202001, 202002, 202003, 202004, 202005, 202006, 202007, 202008, 202009, 202010, 202011, 202012]\n",
    "\n",
    "for i in YearMonth :\n",
    "    max_elecfee = np.max(raw_filter[np.where(raw_filter[:,0] == i), 3])\n",
    "    min_elecfee = np.min(raw_filter[np.where(raw_filter[:,0] == i), 3])\n",
    "    print('년월: ', i, '전기요금최대값: ',max_elecfee, '전기요금최소값: ', min_elecfee)"
   ]
  },
  {
   "cell_type": "code",
   "execution_count": 187,
   "metadata": {
    "ExecuteTime": {
     "end_time": "2023-02-08T13:03:00.157779Z",
     "start_time": "2023-02-08T13:03:00.133811Z"
    }
   },
   "outputs": [
    {
     "name": "stdout",
     "output_type": "stream",
     "text": [
      "Intel64 Family 6 Model 142 Stepping 11, GenuineIntel\n",
      "8(GB)\n",
      "Windows\n",
      "10.0.19041\n",
      "C:\\Users\\phamt\\DEBAStudy\\Practice\n",
      "2023-01-03 16:12:54.412954\n",
      "2023-02-08 22:02:59.770051\n",
      "2023-02-08 22:02:59.770051\n",
      "2023-02-08 22:03:00.140793\n",
      "다음 출력을 파일명으로 설정하고 제출하시오: 팜티궤느_201902731_DEBAStudy_1기_InputNumpy\n"
     ]
    }
   ],
   "source": [
    "# 반드시 이 cell을 실행하시오\n",
    "# 실행하지 않을 시 직접 하지 않은 것으로 간주\n",
    "# 마지막 줄 출력으로 파일명을 설정하고 제출 필수\n",
    "import platform, psutil, os, datetime\n",
    "print(platform.processor())\n",
    "print(str(round(psutil.virtual_memory().total / (1024.0 **3)))+\"(GB)\")\n",
    "print(platform.system())\n",
    "print(platform.version())\n",
    "print(os.getcwd())\n",
    "print(datetime.datetime.fromtimestamp(os.path.getctime(os.getcwd())))\n",
    "print(datetime.datetime.fromtimestamp(os.path.getmtime(os.getcwd())))\n",
    "print(datetime.datetime.fromtimestamp(os.path.getatime(os.getcwd())))\n",
    "print(datetime.datetime.now())\n",
    "title = 'InputNumpy'    # 고정값\n",
    "name = '팜티궤느'    # 본인 이름을 작성\n",
    "studentid = '201902731'    # 본인 학번을 작성\n",
    "course = 'DEBAStudy'    # 'E정보시스템', 'E데이터베이스', '빅데이터', \n",
    "                          # '비즈니스혁신을위한데이터사이언스응용', '인공지능활용디지털경제플랫폼연구'\n",
    "course_number = '1기'    #  학수번호 끝자리\n",
    "                         # E데이터베이스 (0003854001) => 1반\n",
    "                         # E데이터베이스 (0003854002) => 2반\n",
    "                         # 빅데이터 (0006718001) => 1반\n",
    "                         # 비즈니스혁신을위한데이터사이언스응용 (1002667001) => 1반\n",
    "print('다음 출력을 파일명으로 설정하고 제출하시오:', name + '_' + studentid + '_' + course + '_' + course_number + '_' + title)"
   ]
  },
  {
   "cell_type": "code",
   "execution_count": null,
   "metadata": {},
   "outputs": [],
   "source": []
  }
 ],
 "metadata": {
  "hide_input": false,
  "kernelspec": {
   "display_name": "Python 3 (ipykernel)",
   "language": "python",
   "name": "python3"
  },
  "language_info": {
   "codemirror_mode": {
    "name": "ipython",
    "version": 3
   },
   "file_extension": ".py",
   "mimetype": "text/x-python",
   "name": "python",
   "nbconvert_exporter": "python",
   "pygments_lexer": "ipython3",
   "version": "3.9.13"
  },
  "toc": {
   "base_numbering": 1,
   "nav_menu": {},
   "number_sections": true,
   "sideBar": true,
   "skip_h1_title": false,
   "title_cell": "Table of Contents",
   "title_sidebar": "Contents",
   "toc_cell": false,
   "toc_position": {
    "height": "calc(100% - 180px)",
    "left": "10px",
    "top": "150px",
    "width": "314px"
   },
   "toc_section_display": true,
   "toc_window_display": true
  },
  "toc-autonumbering": true,
  "toc-showmarkdowntxt": false,
  "varInspector": {
   "cols": {
    "lenName": 16,
    "lenType": 16,
    "lenVar": 40
   },
   "kernels_config": {
    "python": {
     "delete_cmd_postfix": "",
     "delete_cmd_prefix": "del ",
     "library": "var_list.py",
     "varRefreshCmd": "print(var_dic_list())"
    },
    "r": {
     "delete_cmd_postfix": ") ",
     "delete_cmd_prefix": "rm(",
     "library": "var_list.r",
     "varRefreshCmd": "cat(var_dic_list()) "
    }
   },
   "types_to_exclude": [
    "module",
    "function",
    "builtin_function_or_method",
    "instance",
    "_Feature"
   ],
   "window_display": false
  }
 },
 "nbformat": 4,
 "nbformat_minor": 4
}
