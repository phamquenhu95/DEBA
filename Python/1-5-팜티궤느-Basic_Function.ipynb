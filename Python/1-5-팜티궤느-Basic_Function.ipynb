{
 "cells": [
  {
   "cell_type": "code",
   "execution_count": 1,
   "metadata": {
    "ExecuteTime": {
     "end_time": "2023-01-28T04:40:52.913561Z",
     "start_time": "2023-01-28T04:40:52.882601Z"
    }
   },
   "outputs": [
    {
     "name": "stdout",
     "output_type": "stream",
     "text": [
      "Intel64 Family 6 Model 142 Stepping 11, GenuineIntel\n",
      "8(GB)\n",
      "Windows\n",
      "10.0.19044\n",
      "C:\\Users\\phamt\\DEBAStudy\\Tutorial-Python-Programming-main\n",
      "2022-11-18 05:04:20.360651\n",
      "2023-01-28 13:37:14.190120\n",
      "2023-01-28 13:37:14.190120\n",
      "2023-01-28 13:40:52.894563\n",
      "다음 출력을 파일명으로 설정하고 제출하시오: 팜티궤느_201902731_DEBAStudy_1기_Function\n"
     ]
    }
   ],
   "source": [
    "# 반드시 이 cell을 실행하시오\n",
    "# 실행하지 않을 시 직접 하지 않은 것으로 간주\n",
    "# 마지막 줄 출력으로 파일명을 설정하고 제출 필수\n",
    "import platform, psutil, os, datetime\n",
    "print(platform.processor())\n",
    "print(str(round(psutil.virtual_memory().total / (1024.0 **3)))+\"(GB)\")\n",
    "print(platform.system())\n",
    "print(platform.version())\n",
    "print(os.getcwd())\n",
    "print(datetime.datetime.fromtimestamp(os.path.getctime(os.getcwd())))\n",
    "print(datetime.datetime.fromtimestamp(os.path.getmtime(os.getcwd())))\n",
    "print(datetime.datetime.fromtimestamp(os.path.getatime(os.getcwd())))\n",
    "print(datetime.datetime.now())\n",
    "title = 'Function'    # 고정값\n",
    "name = '팜티궤느'    # 본인 이름을 작성\n",
    "studentid = '201902731'    # 본인 학번을 작성\n",
    "course = 'DEBAStudy'    # 'E정보시스템', 'E데이터베이스', '빅데이터', \n",
    "                          # '비즈니스혁신을위한데이터사이언스응용', '인공지능활용디지털경제플랫폼연구'\n",
    "course_number = '1기'    #  학수번호 끝자리 (아래 예시)\n",
    "                         # E정보시스템 (0003853001) => 1반\n",
    "                         # E정보시스템 (0003853001) => 2반\n",
    "                         # E데이터베이스 (0003854001) => 1반\n",
    "                         # E데이터베이스 (0003854002) => 2반\n",
    "                         # 빅데이터 (0006718001) => 1반\n",
    "                         # 비즈니스혁신을위한데이터사이언스응용 (1002667001) => 1반\n",
    "print('다음 출력을 파일명으로 설정하고 제출하시오:', name + '_' + studentid + '_' + course + '_' + course_number + '_' + title)"
   ]
  },
  {
   "cell_type": "markdown",
   "metadata": {},
   "source": [
    "# **파이썬함수: 사람의 생각/행동을 정교하게 구현/자동화하다**\n",
    "\n",
    "[![Open in Colab](http://colab.research.google.com/assets/colab-badge.svg)](https://colab.research.google.com/github/thekimk/Tutorial-Python-Programming/blob/main/Practice1-5_Basic_Function_KK(Practice).ipynb)\n",
    "\n",
    "**1) 함수의 등장배경 및 필요성**\n",
    "\n",
    "- **프로그램 vs 함수:** 우리가 무언가를 입력하면 결과를 주는 **`프로그램`** 들이 결국 **`함수 + UI`**\n",
    "\n",
    "| **프로그램 이름** | **주 생성목적** | **생성 프로그래밍 언어** |\n",
    "|:---:|:---:|---|\n",
    "| **휴지통** | 필요없어서 버린 자료 보관 | **C, C++, C#** |\n",
    "| **Word** | 문서 작성 | **C, C++, C#** |\n",
    "| **한글** | 문서 작성 | **C, C++, C#** |\n",
    "| **Excel** | 수치 계산, 문서 작성, 각종 업무 | **C, C++, C#** |\n",
    "| **Photoshop** | 그래픽 이미지 생성 및 처리 | **C++, C#** |\n",
    "| **Internet, Chrome..** | 인터넷 환경 접속 및 정보 처리 | **C++, C#, Java, HTML, CSS** |\n",
    "| **캡처 도구** | 화면을 이미지로 저장 | **C++, C#, Java** |\n",
    "| **TeamViewer** | 원격으로 기기제어 | **C++, C#, Java, Cobol, Python** |\n",
    "| **카카오톡** | 커뮤니케이션, 공유 | **Java, Cobol, Python** |\n",
    "| **스마트폰** | 커뮤니케이션, 수치계산, 문서작성, 운동지원, … | **Java, Cobol, Python** |\n",
    "| **자율주행차** | 자동으로 운전 | **Java, Cobol, Python** |\n",
    "\n",
    "| **비교** | 설명 |\n",
    "|:---:|---|\n",
    "| **프로그램** | 특정 작업/목적을 수행하기 위해 만든 것으로 여러 코드를 모은 후, <br> 사람이 이해할 수 있는 UI(User Interface)를 덮어 씌워서 생성 |\n",
    "| **함수** | 특정 작업/목적을 수행하기 위해 만든 것으로 여러 코드를 모은 것 |\n",
    "\n",
    "- **기업들도 결국 함수를 정교하게 고도화시켜 플랫폼 비즈니스를 하고 수익을 극대화** \n",
    "\n",
    "| **Python <br>구성** | **일반적사회 <br>구성** | **비즈니스 <br>구성** | **Data Science <br>구성** |\n",
    "|:---:|:---:|:---:|:---:|\n",
    "| **Library** | - | - | C Library, Java Library, R Library, Python Library.. |\n",
    "| **Package** | 정치, 경제, 교육, 금융, 사회, 복지, 대한민국, 미국, 중국.. | 사업부1, 사업부2, 인재개발원, 연구소.. | Google Analytics, AWS Analytics, Tableau, SAP Reports, SAS BI, Microsoft   BI, IBM Cognos.. |\n",
    "| **Module** | 청와대, 대학교, 기업, 어린이집.. | 인사팀, 재무팀, 개발팀, 영업팀, 마케팅팀, 고객관리팀.. | 구매자예측플랫폼, 가격예측플랫폼, 고객관리플랫폼, 재고최소화플랫폼.. |\n",
    "| **Class** | 대통령, 정치인, 교수, 직장인, 사업가, 학생, 아기, 강아지, 고양이.. | 사원, 대리, 과장, 차장, 부장, 임원.. | 마케팅구매자예측, 광고가격예측, 고객불만예측, 재고율낮추기.. |\n",
    "| **Function** | ex1) 교수: 수업하기, 연구하기, 졸기..<br>ex2) 학생: 수업듣기, 졸기..  | 대화하기, 차마시기, 컴퓨터설치하기, 다른사람만나기, 문서작성하기, 사원증만들기, 배달하기, 주문하기, 자리정리하기, 청소하기.. | 데이터수집, 문제정의, 해결대안협의, 데이터입력, 데이터전처리, 알고리즘적용, 비즈니스검증기획.. |\n",
    "\n",
    "---\n",
    "\n",
    "**2) 함수의 구성:**\n",
    "\n",
    "<center><img src='Image/Basic/Programming_IndependentStructure.png' width='600'></center>\n",
    "\n",
    "- **목적:** 사람의 생각/행동(f)을 컴퓨터로 구현하여 자동으로 입력에 대응되는 출력 반환\n",
    "> - 사람의 **`생각`** 또는 컴퓨터의 **`처리`** 과정을 **`함수`** 로 관리하면 효율적이고 편리하게 반복사용 가능\n",
    "> - 입력(X)을 받아 **`함수`** 를 거쳐 출력(Y) 된다: **`Y = f(X)`**\n",
    "> - print, input 등도 모두 파이썬에서 미리 만들어 둔 내장 함수\n",
    "> - 특정 기능을 수행하는 코드의 집합으로 여러 실행 문장을 하나로 묶는 기능\n",
    "> - 코드의 용도를 잘 정리해 둘 수 있고, 얼마든지 재사용 가능하며, 실수를 줄일 수 있음\n",
    "> - 복잡한 것들도 결국 **`함수`** 로 작성할 수 있고, 결국 사람이 수작업으로 해야할 것들이 줄어들고 **`자동화(인공지능)`** 가능\n",
    "\n",
    "<center><img src='Image/Basic/Function_Example.png' width='600'></center>\n",
    "\n",
    "<center><img src='Image/Basic/Function_Example_Result.png' width='200'></center>\n",
    "\n",
    "---\n",
    "\n",
    "<center><img src='Image/Basic/Programming_RealCommunication.png' width='600'></center>\n",
    "\n",
    "---\n",
    "\n",
    "**3) Data Science 에서의 함수 적용:**\n",
    "\n",
    "<center><img src='Image/Basic/DataSplit_Concept1.png' width='900'></center>\n",
    "\n",
    "---\n",
    "\n",
    "<center><img src='Image/Basic/Analysis_Process.png' width='900'></center>"
   ]
  },
  {
   "cell_type": "markdown",
   "metadata": {},
   "source": [
    "# **파이썬함수의 모양과 종류**\n",
    "\n",
    "## 내장함수(Built-in Function)\n",
    "\n",
    "- 파이썬 **`내부`** 에 포함되어 있는 함수\n",
    "- **`print(), input(), len(), int(), max(), str()`** 등이 모두 내장 함수\n",
    "- [다양한 내장함수 종류](https://docs.python.org/3/library/functions.html)\n",
    "- **`help(len), shift + tab`** 방식으로 모든 내장함수의 사용법을 쉽게 알 수 있음\n",
    "- 하지만 위 내장 함수들도 결국 **`사용자 정의 함수`** 방식으로 미리 만들어 둔 것\n",
    "- 우리도 같은 방식으로 얼마든지 쉽게 함수를 만들어 내장 함수처럼 사용 가능"
   ]
  },
  {
   "cell_type": "code",
   "execution_count": 2,
   "metadata": {
    "ExecuteTime": {
     "end_time": "2023-01-28T04:40:52.928473Z",
     "start_time": "2023-01-28T04:40:52.915510Z"
    }
   },
   "outputs": [
    {
     "data": {
      "text/plain": [
       "9"
      ]
     },
     "execution_count": 2,
     "metadata": {},
     "output_type": "execute_result"
    }
   ],
   "source": [
    "max([1,2,5,7,9])    # 입력:[1,2,5,7,9], 처리:max, 출력:9"
   ]
  },
  {
   "cell_type": "markdown",
   "metadata": {},
   "source": [
    "### 함수 vs 메서드\n",
    "\n",
    "- **메서드(Method):** 특정 데이터 형에만 사용할 수 있게 만들어 둔 전용 함수\n",
    "- 데이터 뒤에 점 기호 **`.`** 를 찍어서 사용하며 점 앞의 데이터를 자동으로 인수로 받아 사용"
   ]
  },
  {
   "cell_type": "code",
   "execution_count": 3,
   "metadata": {
    "ExecuteTime": {
     "end_time": "2023-01-28T04:40:52.943474Z",
     "start_time": "2023-01-28T04:40:52.930468Z"
    }
   },
   "outputs": [],
   "source": [
    "# 데이터 예시\n",
    "my_list = [3,2,1,4]"
   ]
  },
  {
   "cell_type": "code",
   "execution_count": 4,
   "metadata": {
    "ExecuteTime": {
     "end_time": "2023-01-28T04:40:52.959439Z",
     "start_time": "2023-01-28T04:40:52.946424Z"
    }
   },
   "outputs": [
    {
     "name": "stdout",
     "output_type": "stream",
     "text": [
      "[3, 2, 1, 4]\n"
     ]
    }
   ],
   "source": [
    "# 함수 결과\n",
    "print(my_list)"
   ]
  },
  {
   "cell_type": "code",
   "execution_count": 5,
   "metadata": {
    "ExecuteTime": {
     "end_time": "2023-01-28T04:40:52.974391Z",
     "start_time": "2023-01-28T04:40:52.961384Z"
    }
   },
   "outputs": [
    {
     "data": {
      "text/plain": [
       "4"
      ]
     },
     "execution_count": 5,
     "metadata": {},
     "output_type": "execute_result"
    }
   ],
   "source": [
    "# 함수 결과\n",
    "len(my_list)"
   ]
  },
  {
   "cell_type": "code",
   "execution_count": 6,
   "metadata": {
    "ExecuteTime": {
     "end_time": "2023-01-28T04:40:52.989311Z",
     "start_time": "2023-01-28T04:40:52.975349Z"
    }
   },
   "outputs": [
    {
     "data": {
      "text/plain": [
       "10"
      ]
     },
     "execution_count": 6,
     "metadata": {},
     "output_type": "execute_result"
    }
   ],
   "source": [
    "# 함수 결과\n",
    "sum(my_list)"
   ]
  },
  {
   "cell_type": "code",
   "execution_count": 7,
   "metadata": {
    "ExecuteTime": {
     "end_time": "2023-01-28T04:40:53.005268Z",
     "start_time": "2023-01-28T04:40:52.990307Z"
    }
   },
   "outputs": [
    {
     "data": {
      "text/plain": [
       "1"
      ]
     },
     "execution_count": 7,
     "metadata": {},
     "output_type": "execute_result"
    }
   ],
   "source": [
    "# 함수 결과\n",
    "min(my_list)"
   ]
  },
  {
   "cell_type": "code",
   "execution_count": 8,
   "metadata": {
    "ExecuteTime": {
     "end_time": "2023-01-28T04:40:53.021226Z",
     "start_time": "2023-01-28T04:40:53.007263Z"
    }
   },
   "outputs": [
    {
     "data": {
      "text/plain": [
       "[3, 2, 1, 4, 4]"
      ]
     },
     "execution_count": 8,
     "metadata": {},
     "output_type": "execute_result"
    }
   ],
   "source": [
    "# 메서드 결과\n",
    "my_list.append(4)\n",
    "my_list"
   ]
  },
  {
   "cell_type": "code",
   "execution_count": 9,
   "metadata": {
    "ExecuteTime": {
     "end_time": "2023-01-28T04:40:53.036184Z",
     "start_time": "2023-01-28T04:40:53.022223Z"
    }
   },
   "outputs": [
    {
     "data": {
      "text/plain": [
       "[2, 1, 4, 4]"
      ]
     },
     "execution_count": 9,
     "metadata": {},
     "output_type": "execute_result"
    }
   ],
   "source": [
    "# 메서드 결과\n",
    "my_list.remove(3)\n",
    "my_list"
   ]
  },
  {
   "cell_type": "code",
   "execution_count": 10,
   "metadata": {
    "ExecuteTime": {
     "end_time": "2023-01-28T04:40:53.051144Z",
     "start_time": "2023-01-28T04:40:53.039178Z"
    }
   },
   "outputs": [
    {
     "data": {
      "text/plain": [
       "[2, 1, 4]"
      ]
     },
     "execution_count": 10,
     "metadata": {},
     "output_type": "execute_result"
    }
   ],
   "source": [
    "# 메서드 결과\n",
    "my_list.pop(3)\n",
    "my_list"
   ]
  },
  {
   "cell_type": "code",
   "execution_count": 11,
   "metadata": {
    "ExecuteTime": {
     "end_time": "2023-01-28T04:40:53.067101Z",
     "start_time": "2023-01-28T04:40:53.053138Z"
    }
   },
   "outputs": [
    {
     "data": {
      "text/plain": [
       "[1, 2, 4]"
      ]
     },
     "execution_count": 11,
     "metadata": {},
     "output_type": "execute_result"
    }
   ],
   "source": [
    "# 메서드 결과\n",
    "my_list.sort()\n",
    "my_list"
   ]
  },
  {
   "cell_type": "markdown",
   "metadata": {},
   "source": [
    "## 외장 함수\n",
    "\n",
    "- 파이썬 **`외부`** 에 포함되어 있는 함수\n",
    "- Anaconda설치시 **`내장함수`** 와 **`파이썬`** 도 설치되지만, **`외장함수`** 도 포함\n",
    "> - `Python`에 없지만 `Anaconda`에는 포함된 함수\n",
    "> - `Python`에 없지만 `Anaconda`에도 포함되지 않은 함수\n",
    "> <center><img src='Image/Basic/Python_vs_Anaconda.png' width='400'></center>\n",
    "- **`import`** 라는 명령어를 사용하여 파이썬 외부 함수를 불러옴\n",
    "- 여러 외장함수들을 묶어서 **`모듈`** 형식으로 제공\n",
    "- 내장함수 및 메서드 방식을 모두 활용하여 사용\n",
    "\n",
    "```python\n",
    "import 모듈\n",
    "모듈.함수(입력)    # 내장함수처럼 입력 받아 사용\n",
    "# 또는\n",
    "from 모듈 import 함수\n",
    "함수(입력)\n",
    "입력.함수()    # 메서드처럼 입력 받아 사용\n",
    "```"
   ]
  },
  {
   "cell_type": "markdown",
   "metadata": {},
   "source": [
    "### 함수 vs 모듈\n",
    "\n",
    "- **\"여러 외장함수들을 묶어서 `모듈` 형식으로 제공\"**\n",
    "> - **프로그램 vs 함수:** 우리가 무언가를 입력하면 결과를 주는 **`프로그램`** 들이 결국 **`함수 + UI`**\n",
    "> - 프로그램이 `여러가지의 기능`을 한다면, 하나의 함수가 아닌 `여러개의 함수`가 필요할 것\n",
    "> - **모듈(Module):** 프로그램에서 사용할 **`여러 함수들과 함수에 필요한 것들을 모아 놓은 것`**\n",
    "\n",
    "---\n",
    "\n",
    "- **함수 vs 모듈**\n",
    "> **함수:**\n",
    "> <center><img src='Image/Basic/Function_Example.png' width='600'></center>\n",
    "> <center><img src='Image/Basic/Function_Example_Result.png' width='200'></center>\n",
    ">\n",
    "> **모듈:**\n",
    "> <center><img src='Image/Basic/Function_ExampleModule.png' width='600'></center>"
   ]
  },
  {
   "cell_type": "code",
   "execution_count": 12,
   "metadata": {
    "ExecuteTime": {
     "end_time": "2023-01-28T04:40:53.099017Z",
     "start_time": "2023-01-28T04:40:53.069096Z"
    },
    "scrolled": true
   },
   "outputs": [
    {
     "name": "stdout",
     "output_type": "stream",
     "text": [
      "Help on module random:\n",
      "\n",
      "NAME\n",
      "    random - Random variable generators.\n",
      "\n",
      "MODULE REFERENCE\n",
      "    https://docs.python.org/3.9/library/random\n",
      "    \n",
      "    The following documentation is automatically generated from the Python\n",
      "    source files.  It may be incomplete, incorrect or include features that\n",
      "    are considered implementation detail and may vary between Python\n",
      "    implementations.  When in doubt, consult the module reference at the\n",
      "    location listed above.\n",
      "\n",
      "DESCRIPTION\n",
      "        bytes\n",
      "        -----\n",
      "               uniform bytes (values between 0 and 255)\n",
      "    \n",
      "        integers\n",
      "        --------\n",
      "               uniform within range\n",
      "    \n",
      "        sequences\n",
      "        ---------\n",
      "               pick random element\n",
      "               pick random sample\n",
      "               pick weighted random sample\n",
      "               generate random permutation\n",
      "    \n",
      "        distributions on the real line:\n",
      "        ------------------------------\n",
      "               uniform\n",
      "               triangular\n",
      "               normal (Gaussian)\n",
      "               lognormal\n",
      "               negative exponential\n",
      "               gamma\n",
      "               beta\n",
      "               pareto\n",
      "               Weibull\n",
      "    \n",
      "        distributions on the circle (angles 0 to 2pi)\n",
      "        ---------------------------------------------\n",
      "               circular uniform\n",
      "               von Mises\n",
      "    \n",
      "    General notes on the underlying Mersenne Twister core generator:\n",
      "    \n",
      "    * The period is 2**19937-1.\n",
      "    * It is one of the most extensively tested generators in existence.\n",
      "    * The random() method is implemented in C, executes in a single Python step,\n",
      "      and is, therefore, threadsafe.\n",
      "\n",
      "CLASSES\n",
      "    _random.Random(builtins.object)\n",
      "        Random\n",
      "            SystemRandom\n",
      "    \n",
      "    class Random(_random.Random)\n",
      "     |  Random(x=None)\n",
      "     |  \n",
      "     |  Random number generator base class used by bound module functions.\n",
      "     |  \n",
      "     |  Used to instantiate instances of Random to get generators that don't\n",
      "     |  share state.\n",
      "     |  \n",
      "     |  Class Random can also be subclassed if you want to use a different basic\n",
      "     |  generator of your own devising: in that case, override the following\n",
      "     |  methods:  random(), seed(), getstate(), and setstate().\n",
      "     |  Optionally, implement a getrandbits() method so that randrange()\n",
      "     |  can cover arbitrarily large ranges.\n",
      "     |  \n",
      "     |  Method resolution order:\n",
      "     |      Random\n",
      "     |      _random.Random\n",
      "     |      builtins.object\n",
      "     |  \n",
      "     |  Methods defined here:\n",
      "     |  \n",
      "     |  __getstate__(self)\n",
      "     |      # Issue 17489: Since __reduce__ was defined to fix #759889 this is no\n",
      "     |      # longer called; we leave it here because it has been here since random was\n",
      "     |      # rewritten back in 2001 and why risk breaking something.\n",
      "     |  \n",
      "     |  __init__(self, x=None)\n",
      "     |      Initialize an instance.\n",
      "     |      \n",
      "     |      Optional argument x controls seeding, as for Random.seed().\n",
      "     |  \n",
      "     |  __reduce__(self)\n",
      "     |      Helper for pickle.\n",
      "     |  \n",
      "     |  __setstate__(self, state)\n",
      "     |  \n",
      "     |  betavariate(self, alpha, beta)\n",
      "     |      Beta distribution.\n",
      "     |      \n",
      "     |      Conditions on the parameters are alpha > 0 and beta > 0.\n",
      "     |      Returned values range between 0 and 1.\n",
      "     |  \n",
      "     |  choice(self, seq)\n",
      "     |      Choose a random element from a non-empty sequence.\n",
      "     |  \n",
      "     |  choices(self, population, weights=None, *, cum_weights=None, k=1)\n",
      "     |      Return a k sized list of population elements chosen with replacement.\n",
      "     |      \n",
      "     |      If the relative weights or cumulative weights are not specified,\n",
      "     |      the selections are made with equal probability.\n",
      "     |  \n",
      "     |  expovariate(self, lambd)\n",
      "     |      Exponential distribution.\n",
      "     |      \n",
      "     |      lambd is 1.0 divided by the desired mean.  It should be\n",
      "     |      nonzero.  (The parameter would be called \"lambda\", but that is\n",
      "     |      a reserved word in Python.)  Returned values range from 0 to\n",
      "     |      positive infinity if lambd is positive, and from negative\n",
      "     |      infinity to 0 if lambd is negative.\n",
      "     |  \n",
      "     |  gammavariate(self, alpha, beta)\n",
      "     |      Gamma distribution.  Not the gamma function!\n",
      "     |      \n",
      "     |      Conditions on the parameters are alpha > 0 and beta > 0.\n",
      "     |      \n",
      "     |      The probability distribution function is:\n",
      "     |      \n",
      "     |                  x ** (alpha - 1) * math.exp(-x / beta)\n",
      "     |        pdf(x) =  --------------------------------------\n",
      "     |                    math.gamma(alpha) * beta ** alpha\n",
      "     |  \n",
      "     |  gauss(self, mu, sigma)\n",
      "     |      Gaussian distribution.\n",
      "     |      \n",
      "     |      mu is the mean, and sigma is the standard deviation.  This is\n",
      "     |      slightly faster than the normalvariate() function.\n",
      "     |      \n",
      "     |      Not thread-safe without a lock around calls.\n",
      "     |  \n",
      "     |  getstate(self)\n",
      "     |      Return internal state; can be passed to setstate() later.\n",
      "     |  \n",
      "     |  lognormvariate(self, mu, sigma)\n",
      "     |      Log normal distribution.\n",
      "     |      \n",
      "     |      If you take the natural logarithm of this distribution, you'll get a\n",
      "     |      normal distribution with mean mu and standard deviation sigma.\n",
      "     |      mu can have any value, and sigma must be greater than zero.\n",
      "     |  \n",
      "     |  normalvariate(self, mu, sigma)\n",
      "     |      Normal distribution.\n",
      "     |      \n",
      "     |      mu is the mean, and sigma is the standard deviation.\n",
      "     |  \n",
      "     |  paretovariate(self, alpha)\n",
      "     |      Pareto distribution.  alpha is the shape parameter.\n",
      "     |  \n",
      "     |  randbytes(self, n)\n",
      "     |      Generate n random bytes.\n",
      "     |  \n",
      "     |  randint(self, a, b)\n",
      "     |      Return random integer in range [a, b], including both end points.\n",
      "     |  \n",
      "     |  randrange(self, start, stop=None, step=1)\n",
      "     |      Choose a random item from range(start, stop[, step]).\n",
      "     |      \n",
      "     |      This fixes the problem with randint() which includes the\n",
      "     |      endpoint; in Python this is usually not what you want.\n",
      "     |  \n",
      "     |  sample(self, population, k, *, counts=None)\n",
      "     |      Chooses k unique random elements from a population sequence or set.\n",
      "     |      \n",
      "     |      Returns a new list containing elements from the population while\n",
      "     |      leaving the original population unchanged.  The resulting list is\n",
      "     |      in selection order so that all sub-slices will also be valid random\n",
      "     |      samples.  This allows raffle winners (the sample) to be partitioned\n",
      "     |      into grand prize and second place winners (the subslices).\n",
      "     |      \n",
      "     |      Members of the population need not be hashable or unique.  If the\n",
      "     |      population contains repeats, then each occurrence is a possible\n",
      "     |      selection in the sample.\n",
      "     |      \n",
      "     |      Repeated elements can be specified one at a time or with the optional\n",
      "     |      counts parameter.  For example:\n",
      "     |      \n",
      "     |          sample(['red', 'blue'], counts=[4, 2], k=5)\n",
      "     |      \n",
      "     |      is equivalent to:\n",
      "     |      \n",
      "     |          sample(['red', 'red', 'red', 'red', 'blue', 'blue'], k=5)\n",
      "     |      \n",
      "     |      To choose a sample from a range of integers, use range() for the\n",
      "     |      population argument.  This is especially fast and space efficient\n",
      "     |      for sampling from a large population:\n",
      "     |      \n",
      "     |          sample(range(10000000), 60)\n",
      "     |  \n",
      "     |  seed(self, a=None, version=2)\n",
      "     |      Initialize internal state from a seed.\n",
      "     |      \n",
      "     |      The only supported seed types are None, int, float,\n",
      "     |      str, bytes, and bytearray.\n",
      "     |      \n",
      "     |      None or no argument seeds from current time or from an operating\n",
      "     |      system specific randomness source if available.\n",
      "     |      \n",
      "     |      If *a* is an int, all bits are used.\n",
      "     |      \n",
      "     |      For version 2 (the default), all of the bits are used if *a* is a str,\n",
      "     |      bytes, or bytearray.  For version 1 (provided for reproducing random\n",
      "     |      sequences from older versions of Python), the algorithm for str and\n",
      "     |      bytes generates a narrower range of seeds.\n",
      "     |  \n",
      "     |  setstate(self, state)\n",
      "     |      Restore internal state from object returned by getstate().\n",
      "     |  \n",
      "     |  shuffle(self, x, random=None)\n",
      "     |      Shuffle list x in place, and return None.\n",
      "     |      \n",
      "     |      Optional argument random is a 0-argument function returning a\n",
      "     |      random float in [0.0, 1.0); if it is the default None, the\n",
      "     |      standard random.random will be used.\n",
      "     |  \n",
      "     |  triangular(self, low=0.0, high=1.0, mode=None)\n",
      "     |      Triangular distribution.\n",
      "     |      \n",
      "     |      Continuous distribution bounded by given lower and upper limits,\n",
      "     |      and having a given mode value in-between.\n",
      "     |      \n",
      "     |      http://en.wikipedia.org/wiki/Triangular_distribution\n",
      "     |  \n",
      "     |  uniform(self, a, b)\n",
      "     |      Get a random number in the range [a, b) or [a, b] depending on rounding.\n",
      "     |  \n",
      "     |  vonmisesvariate(self, mu, kappa)\n",
      "     |      Circular data distribution.\n",
      "     |      \n",
      "     |      mu is the mean angle, expressed in radians between 0 and 2*pi, and\n",
      "     |      kappa is the concentration parameter, which must be greater than or\n",
      "     |      equal to zero.  If kappa is equal to zero, this distribution reduces\n",
      "     |      to a uniform random angle over the range 0 to 2*pi.\n",
      "     |  \n",
      "     |  weibullvariate(self, alpha, beta)\n",
      "     |      Weibull distribution.\n",
      "     |      \n",
      "     |      alpha is the scale parameter and beta is the shape parameter.\n",
      "     |  \n",
      "     |  ----------------------------------------------------------------------\n",
      "     |  Class methods defined here:\n",
      "     |  \n",
      "     |  __init_subclass__(**kwargs) from builtins.type\n",
      "     |      Control how subclasses generate random integers.\n",
      "     |      \n",
      "     |      The algorithm a subclass can use depends on the random() and/or\n",
      "     |      getrandbits() implementation available to it and determines\n",
      "     |      whether it can generate random integers from arbitrarily large\n",
      "     |      ranges.\n",
      "     |  \n",
      "     |  ----------------------------------------------------------------------\n",
      "     |  Data descriptors defined here:\n",
      "     |  \n",
      "     |  __dict__\n",
      "     |      dictionary for instance variables (if defined)\n",
      "     |  \n",
      "     |  __weakref__\n",
      "     |      list of weak references to the object (if defined)\n",
      "     |  \n",
      "     |  ----------------------------------------------------------------------\n",
      "     |  Data and other attributes defined here:\n",
      "     |  \n",
      "     |  VERSION = 3\n",
      "     |  \n",
      "     |  ----------------------------------------------------------------------\n",
      "     |  Methods inherited from _random.Random:\n",
      "     |  \n",
      "     |  getrandbits(self, k, /)\n",
      "     |      getrandbits(k) -> x.  Generates an int with k random bits.\n",
      "     |  \n",
      "     |  random(self, /)\n",
      "     |      random() -> x in the interval [0, 1).\n",
      "     |  \n",
      "     |  ----------------------------------------------------------------------\n",
      "     |  Static methods inherited from _random.Random:\n",
      "     |  \n",
      "     |  __new__(*args, **kwargs) from builtins.type\n",
      "     |      Create and return a new object.  See help(type) for accurate signature.\n",
      "    \n",
      "    class SystemRandom(Random)\n",
      "     |  SystemRandom(x=None)\n",
      "     |  \n",
      "     |  Alternate random number generator using sources provided\n",
      "     |  by the operating system (such as /dev/urandom on Unix or\n",
      "     |  CryptGenRandom on Windows).\n",
      "     |  \n",
      "     |   Not available on all systems (see os.urandom() for details).\n",
      "     |  \n",
      "     |  Method resolution order:\n",
      "     |      SystemRandom\n",
      "     |      Random\n",
      "     |      _random.Random\n",
      "     |      builtins.object\n",
      "     |  \n",
      "     |  Methods defined here:\n",
      "     |  \n",
      "     |  getrandbits(self, k)\n",
      "     |      getrandbits(k) -> x.  Generates an int with k random bits.\n",
      "     |  \n",
      "     |  getstate = _notimplemented(self, *args, **kwds)\n",
      "     |  \n",
      "     |  randbytes(self, n)\n",
      "     |      Generate n random bytes.\n",
      "     |  \n",
      "     |  random(self)\n",
      "     |      Get the next random number in the range [0.0, 1.0).\n",
      "     |  \n",
      "     |  seed(self, *args, **kwds)\n",
      "     |      Stub method.  Not used for a system random number generator.\n",
      "     |  \n",
      "     |  setstate = _notimplemented(self, *args, **kwds)\n",
      "     |  \n",
      "     |  ----------------------------------------------------------------------\n",
      "     |  Methods inherited from Random:\n",
      "     |  \n",
      "     |  __getstate__(self)\n",
      "     |      # Issue 17489: Since __reduce__ was defined to fix #759889 this is no\n",
      "     |      # longer called; we leave it here because it has been here since random was\n",
      "     |      # rewritten back in 2001 and why risk breaking something.\n",
      "     |  \n",
      "     |  __init__(self, x=None)\n",
      "     |      Initialize an instance.\n",
      "     |      \n",
      "     |      Optional argument x controls seeding, as for Random.seed().\n",
      "     |  \n",
      "     |  __reduce__(self)\n",
      "     |      Helper for pickle.\n",
      "     |  \n",
      "     |  __setstate__(self, state)\n",
      "     |  \n",
      "     |  betavariate(self, alpha, beta)\n",
      "     |      Beta distribution.\n",
      "     |      \n",
      "     |      Conditions on the parameters are alpha > 0 and beta > 0.\n",
      "     |      Returned values range between 0 and 1.\n",
      "     |  \n",
      "     |  choice(self, seq)\n",
      "     |      Choose a random element from a non-empty sequence.\n",
      "     |  \n",
      "     |  choices(self, population, weights=None, *, cum_weights=None, k=1)\n",
      "     |      Return a k sized list of population elements chosen with replacement.\n",
      "     |      \n",
      "     |      If the relative weights or cumulative weights are not specified,\n",
      "     |      the selections are made with equal probability.\n",
      "     |  \n",
      "     |  expovariate(self, lambd)\n",
      "     |      Exponential distribution.\n",
      "     |      \n",
      "     |      lambd is 1.0 divided by the desired mean.  It should be\n",
      "     |      nonzero.  (The parameter would be called \"lambda\", but that is\n",
      "     |      a reserved word in Python.)  Returned values range from 0 to\n",
      "     |      positive infinity if lambd is positive, and from negative\n",
      "     |      infinity to 0 if lambd is negative.\n",
      "     |  \n",
      "     |  gammavariate(self, alpha, beta)\n",
      "     |      Gamma distribution.  Not the gamma function!\n",
      "     |      \n",
      "     |      Conditions on the parameters are alpha > 0 and beta > 0.\n",
      "     |      \n",
      "     |      The probability distribution function is:\n",
      "     |      \n",
      "     |                  x ** (alpha - 1) * math.exp(-x / beta)\n",
      "     |        pdf(x) =  --------------------------------------\n",
      "     |                    math.gamma(alpha) * beta ** alpha\n",
      "     |  \n",
      "     |  gauss(self, mu, sigma)\n",
      "     |      Gaussian distribution.\n",
      "     |      \n",
      "     |      mu is the mean, and sigma is the standard deviation.  This is\n",
      "     |      slightly faster than the normalvariate() function.\n",
      "     |      \n",
      "     |      Not thread-safe without a lock around calls.\n",
      "     |  \n",
      "     |  lognormvariate(self, mu, sigma)\n",
      "     |      Log normal distribution.\n",
      "     |      \n",
      "     |      If you take the natural logarithm of this distribution, you'll get a\n",
      "     |      normal distribution with mean mu and standard deviation sigma.\n",
      "     |      mu can have any value, and sigma must be greater than zero.\n",
      "     |  \n",
      "     |  normalvariate(self, mu, sigma)\n",
      "     |      Normal distribution.\n",
      "     |      \n",
      "     |      mu is the mean, and sigma is the standard deviation.\n",
      "     |  \n",
      "     |  paretovariate(self, alpha)\n",
      "     |      Pareto distribution.  alpha is the shape parameter.\n",
      "     |  \n",
      "     |  randint(self, a, b)\n",
      "     |      Return random integer in range [a, b], including both end points.\n",
      "     |  \n",
      "     |  randrange(self, start, stop=None, step=1)\n",
      "     |      Choose a random item from range(start, stop[, step]).\n",
      "     |      \n",
      "     |      This fixes the problem with randint() which includes the\n",
      "     |      endpoint; in Python this is usually not what you want.\n",
      "     |  \n",
      "     |  sample(self, population, k, *, counts=None)\n",
      "     |      Chooses k unique random elements from a population sequence or set.\n",
      "     |      \n",
      "     |      Returns a new list containing elements from the population while\n",
      "     |      leaving the original population unchanged.  The resulting list is\n",
      "     |      in selection order so that all sub-slices will also be valid random\n",
      "     |      samples.  This allows raffle winners (the sample) to be partitioned\n",
      "     |      into grand prize and second place winners (the subslices).\n",
      "     |      \n",
      "     |      Members of the population need not be hashable or unique.  If the\n",
      "     |      population contains repeats, then each occurrence is a possible\n",
      "     |      selection in the sample.\n",
      "     |      \n",
      "     |      Repeated elements can be specified one at a time or with the optional\n",
      "     |      counts parameter.  For example:\n",
      "     |      \n",
      "     |          sample(['red', 'blue'], counts=[4, 2], k=5)\n",
      "     |      \n",
      "     |      is equivalent to:\n",
      "     |      \n",
      "     |          sample(['red', 'red', 'red', 'red', 'blue', 'blue'], k=5)\n",
      "     |      \n",
      "     |      To choose a sample from a range of integers, use range() for the\n",
      "     |      population argument.  This is especially fast and space efficient\n",
      "     |      for sampling from a large population:\n",
      "     |      \n",
      "     |          sample(range(10000000), 60)\n",
      "     |  \n",
      "     |  shuffle(self, x, random=None)\n",
      "     |      Shuffle list x in place, and return None.\n",
      "     |      \n",
      "     |      Optional argument random is a 0-argument function returning a\n",
      "     |      random float in [0.0, 1.0); if it is the default None, the\n",
      "     |      standard random.random will be used.\n",
      "     |  \n",
      "     |  triangular(self, low=0.0, high=1.0, mode=None)\n",
      "     |      Triangular distribution.\n",
      "     |      \n",
      "     |      Continuous distribution bounded by given lower and upper limits,\n",
      "     |      and having a given mode value in-between.\n",
      "     |      \n",
      "     |      http://en.wikipedia.org/wiki/Triangular_distribution\n",
      "     |  \n",
      "     |  uniform(self, a, b)\n",
      "     |      Get a random number in the range [a, b) or [a, b] depending on rounding.\n",
      "     |  \n",
      "     |  vonmisesvariate(self, mu, kappa)\n",
      "     |      Circular data distribution.\n",
      "     |      \n",
      "     |      mu is the mean angle, expressed in radians between 0 and 2*pi, and\n",
      "     |      kappa is the concentration parameter, which must be greater than or\n",
      "     |      equal to zero.  If kappa is equal to zero, this distribution reduces\n",
      "     |      to a uniform random angle over the range 0 to 2*pi.\n",
      "     |  \n",
      "     |  weibullvariate(self, alpha, beta)\n",
      "     |      Weibull distribution.\n",
      "     |      \n",
      "     |      alpha is the scale parameter and beta is the shape parameter.\n",
      "     |  \n",
      "     |  ----------------------------------------------------------------------\n",
      "     |  Class methods inherited from Random:\n",
      "     |  \n",
      "     |  __init_subclass__(**kwargs) from builtins.type\n",
      "     |      Control how subclasses generate random integers.\n",
      "     |      \n",
      "     |      The algorithm a subclass can use depends on the random() and/or\n",
      "     |      getrandbits() implementation available to it and determines\n",
      "     |      whether it can generate random integers from arbitrarily large\n",
      "     |      ranges.\n",
      "     |  \n",
      "     |  ----------------------------------------------------------------------\n",
      "     |  Data descriptors inherited from Random:\n",
      "     |  \n",
      "     |  __dict__\n",
      "     |      dictionary for instance variables (if defined)\n",
      "     |  \n",
      "     |  __weakref__\n",
      "     |      list of weak references to the object (if defined)\n",
      "     |  \n",
      "     |  ----------------------------------------------------------------------\n",
      "     |  Data and other attributes inherited from Random:\n",
      "     |  \n",
      "     |  VERSION = 3\n",
      "     |  \n",
      "     |  ----------------------------------------------------------------------\n",
      "     |  Static methods inherited from _random.Random:\n",
      "     |  \n",
      "     |  __new__(*args, **kwargs) from builtins.type\n",
      "     |      Create and return a new object.  See help(type) for accurate signature.\n",
      "\n",
      "FUNCTIONS\n",
      "    betavariate(alpha, beta) method of Random instance\n",
      "        Beta distribution.\n",
      "        \n",
      "        Conditions on the parameters are alpha > 0 and beta > 0.\n",
      "        Returned values range between 0 and 1.\n",
      "    \n",
      "    choice(seq) method of Random instance\n",
      "        Choose a random element from a non-empty sequence.\n",
      "    \n",
      "    choices(population, weights=None, *, cum_weights=None, k=1) method of Random instance\n",
      "        Return a k sized list of population elements chosen with replacement.\n",
      "        \n",
      "        If the relative weights or cumulative weights are not specified,\n",
      "        the selections are made with equal probability.\n",
      "    \n",
      "    expovariate(lambd) method of Random instance\n",
      "        Exponential distribution.\n",
      "        \n",
      "        lambd is 1.0 divided by the desired mean.  It should be\n",
      "        nonzero.  (The parameter would be called \"lambda\", but that is\n",
      "        a reserved word in Python.)  Returned values range from 0 to\n",
      "        positive infinity if lambd is positive, and from negative\n",
      "        infinity to 0 if lambd is negative.\n",
      "    \n",
      "    gammavariate(alpha, beta) method of Random instance\n",
      "        Gamma distribution.  Not the gamma function!\n",
      "        \n",
      "        Conditions on the parameters are alpha > 0 and beta > 0.\n",
      "        \n",
      "        The probability distribution function is:\n",
      "        \n",
      "                    x ** (alpha - 1) * math.exp(-x / beta)\n",
      "          pdf(x) =  --------------------------------------\n",
      "                      math.gamma(alpha) * beta ** alpha\n",
      "    \n",
      "    gauss(mu, sigma) method of Random instance\n",
      "        Gaussian distribution.\n",
      "        \n",
      "        mu is the mean, and sigma is the standard deviation.  This is\n",
      "        slightly faster than the normalvariate() function.\n",
      "        \n",
      "        Not thread-safe without a lock around calls.\n",
      "    \n",
      "    getrandbits(k, /) method of Random instance\n",
      "        getrandbits(k) -> x.  Generates an int with k random bits.\n",
      "    \n",
      "    getstate() method of Random instance\n",
      "        Return internal state; can be passed to setstate() later.\n",
      "    \n",
      "    lognormvariate(mu, sigma) method of Random instance\n",
      "        Log normal distribution.\n",
      "        \n",
      "        If you take the natural logarithm of this distribution, you'll get a\n",
      "        normal distribution with mean mu and standard deviation sigma.\n",
      "        mu can have any value, and sigma must be greater than zero.\n",
      "    \n",
      "    normalvariate(mu, sigma) method of Random instance\n",
      "        Normal distribution.\n",
      "        \n",
      "        mu is the mean, and sigma is the standard deviation.\n",
      "    \n",
      "    paretovariate(alpha) method of Random instance\n",
      "        Pareto distribution.  alpha is the shape parameter.\n",
      "    \n",
      "    randbytes(n) method of Random instance\n",
      "        Generate n random bytes.\n",
      "    \n",
      "    randint(a, b) method of Random instance\n",
      "        Return random integer in range [a, b], including both end points.\n",
      "    \n",
      "    random() method of Random instance\n",
      "        random() -> x in the interval [0, 1).\n",
      "    \n",
      "    randrange(start, stop=None, step=1) method of Random instance\n",
      "        Choose a random item from range(start, stop[, step]).\n",
      "        \n",
      "        This fixes the problem with randint() which includes the\n",
      "        endpoint; in Python this is usually not what you want.\n",
      "    \n",
      "    sample(population, k, *, counts=None) method of Random instance\n",
      "        Chooses k unique random elements from a population sequence or set.\n",
      "        \n",
      "        Returns a new list containing elements from the population while\n",
      "        leaving the original population unchanged.  The resulting list is\n",
      "        in selection order so that all sub-slices will also be valid random\n",
      "        samples.  This allows raffle winners (the sample) to be partitioned\n",
      "        into grand prize and second place winners (the subslices).\n",
      "        \n",
      "        Members of the population need not be hashable or unique.  If the\n",
      "        population contains repeats, then each occurrence is a possible\n",
      "        selection in the sample.\n",
      "        \n",
      "        Repeated elements can be specified one at a time or with the optional\n",
      "        counts parameter.  For example:\n",
      "        \n",
      "            sample(['red', 'blue'], counts=[4, 2], k=5)\n",
      "        \n",
      "        is equivalent to:\n",
      "        \n",
      "            sample(['red', 'red', 'red', 'red', 'blue', 'blue'], k=5)\n",
      "        \n",
      "        To choose a sample from a range of integers, use range() for the\n",
      "        population argument.  This is especially fast and space efficient\n",
      "        for sampling from a large population:\n",
      "        \n",
      "            sample(range(10000000), 60)\n",
      "    \n",
      "    seed(a=None, version=2) method of Random instance\n",
      "        Initialize internal state from a seed.\n",
      "        \n",
      "        The only supported seed types are None, int, float,\n",
      "        str, bytes, and bytearray.\n",
      "        \n",
      "        None or no argument seeds from current time or from an operating\n",
      "        system specific randomness source if available.\n",
      "        \n",
      "        If *a* is an int, all bits are used.\n",
      "        \n",
      "        For version 2 (the default), all of the bits are used if *a* is a str,\n",
      "        bytes, or bytearray.  For version 1 (provided for reproducing random\n",
      "        sequences from older versions of Python), the algorithm for str and\n",
      "        bytes generates a narrower range of seeds.\n",
      "    \n",
      "    setstate(state) method of Random instance\n",
      "        Restore internal state from object returned by getstate().\n",
      "    \n",
      "    shuffle(x, random=None) method of Random instance\n",
      "        Shuffle list x in place, and return None.\n",
      "        \n",
      "        Optional argument random is a 0-argument function returning a\n",
      "        random float in [0.0, 1.0); if it is the default None, the\n",
      "        standard random.random will be used.\n",
      "    \n",
      "    triangular(low=0.0, high=1.0, mode=None) method of Random instance\n",
      "        Triangular distribution.\n",
      "        \n",
      "        Continuous distribution bounded by given lower and upper limits,\n",
      "        and having a given mode value in-between.\n",
      "        \n",
      "        http://en.wikipedia.org/wiki/Triangular_distribution\n",
      "    \n",
      "    uniform(a, b) method of Random instance\n",
      "        Get a random number in the range [a, b) or [a, b] depending on rounding.\n",
      "    \n",
      "    vonmisesvariate(mu, kappa) method of Random instance\n",
      "        Circular data distribution.\n",
      "        \n",
      "        mu is the mean angle, expressed in radians between 0 and 2*pi, and\n",
      "        kappa is the concentration parameter, which must be greater than or\n",
      "        equal to zero.  If kappa is equal to zero, this distribution reduces\n",
      "        to a uniform random angle over the range 0 to 2*pi.\n",
      "    \n",
      "    weibullvariate(alpha, beta) method of Random instance\n",
      "        Weibull distribution.\n",
      "        \n",
      "        alpha is the scale parameter and beta is the shape parameter.\n",
      "\n",
      "DATA\n",
      "    __all__ = ['Random', 'SystemRandom', 'betavariate', 'choice', 'choices...\n",
      "\n",
      "FILE\n",
      "    c:\\users\\phamt\\anaconda3\\lib\\random.py\n",
      "\n",
      "\n"
     ]
    }
   ],
   "source": [
    "# 모듈 불러오기\n",
    "import random    # 아무 숫자나 선택해 주는 함수들이 들어있는 모듈\n",
    "help(random)"
   ]
  },
  {
   "cell_type": "code",
   "execution_count": 13,
   "metadata": {
    "ExecuteTime": {
     "end_time": "2023-01-28T04:40:53.114975Z",
     "start_time": "2023-01-28T04:40:53.101019Z"
    }
   },
   "outputs": [
    {
     "data": {
      "text/plain": [
       "3"
      ]
     },
     "execution_count": 13,
     "metadata": {},
     "output_type": "execute_result"
    }
   ],
   "source": [
    "# 모듈 내 함수 사용하기\n",
    "random.randrange(1, 10)    # range(a, b) 중 값 한개를 아무거나 가지고 옴"
   ]
  },
  {
   "cell_type": "code",
   "execution_count": 14,
   "metadata": {
    "ExecuteTime": {
     "end_time": "2023-01-28T04:40:53.130933Z",
     "start_time": "2023-01-28T04:40:53.115973Z"
    }
   },
   "outputs": [
    {
     "data": {
      "text/plain": [
       "0.5974529139238839"
      ]
     },
     "execution_count": 14,
     "metadata": {},
     "output_type": "execute_result"
    }
   ],
   "source": [
    "# 모듈 내 함수 사용하기\n",
    "random.random()    # [0,1) 사이의 값 한개를 아무거나 가지고 옴"
   ]
  },
  {
   "cell_type": "code",
   "execution_count": 15,
   "metadata": {
    "ExecuteTime": {
     "end_time": "2023-01-28T04:40:53.145893Z",
     "start_time": "2023-01-28T04:40:53.132928Z"
    }
   },
   "outputs": [
    {
     "data": {
      "text/plain": [
       "[1, 3, 5]"
      ]
     },
     "execution_count": 15,
     "metadata": {},
     "output_type": "execute_result"
    }
   ],
   "source": [
    "# 모듈 내 함수 사용하기\n",
    "random.sample([1,2,3,4,5], 3)    # 리스트에 있는 값들 중 특정 숫자의 갯수를 랜덤하게 선택"
   ]
  },
  {
   "cell_type": "code",
   "execution_count": 16,
   "metadata": {
    "ExecuteTime": {
     "end_time": "2023-01-28T04:40:53.160853Z",
     "start_time": "2023-01-28T04:40:53.147887Z"
    }
   },
   "outputs": [
    {
     "name": "stdout",
     "output_type": "stream",
     "text": [
      "[2, 3, 5]\n",
      "[2, 5, 3]\n"
     ]
    }
   ],
   "source": [
    "# 모듈 내 함수 사용하기\n",
    "sample = random.sample([1,2,3,4,5], 3)    # 리스트에 있는 값들 중 특정 숫자의 갯수를 랜덤하게 선택\n",
    "print(sample)\n",
    "random.shuffle(sample)\n",
    "print(sample)"
   ]
  },
  {
   "cell_type": "markdown",
   "metadata": {},
   "source": [
    "## 사용자 정의 함수(User Defined Function)\n",
    "\n",
    "- **`내장/외장`** 함수에는 우리가 원하는 모든 함수가 포함되어 있지는 않기 때문에 **`직접 생성 필요`**\n",
    "\n",
    "**1) 함수 만들기**\n",
    ">- 정의한다(define)라는 뜻의 줄임말인 **`def`** 키워드를 사용하여 정의한다\n",
    ">- 함수에는 **`입력값`** 과 **`출력값`** 이 있으며 없을 수도 있다\n",
    ">- 입력은 **`매개변수`** 라고도 하고 출력은 **`반환값`** 이라고도 한다\n",
    ">- 함수 선언시 마지막에 **`콜론`** 을 입력한다\n",
    "> ```python\n",
    "def 함수이름(매개변수):\n",
    "    실행할 명령\n",
    "    return 반환값\n",
    ">\n",
    "> <center><img src='Image/Basic/Basic_Function.png' width='500'></center>\n",
    ">\n",
    ">- **입력값:** 함수 선언시 입력 값으로 매개변수라고 함\n",
    ">- **출력값:** 결과값, 반환값, 돌려주는값 등\n",
    ">> - **return:** 값을 함수 밖으로 **`반환/할당`** 하는 + 함수를 **`종료`** 하는 기능\n",
    ">> - **`반환값을 제외하고 함수 안에서 사용되는 어떤 값들도 함수 밖에선 인식되지 않음`**\n",
    "\n",
    "**2) 함수 사용하기(내장함수처럼)**\n",
    ">- **입력값:** 함수 선언시 입력 값은 **`매개변수`**, 함수 사용(호출)시 입력 값은 매개변수에 할당되는 값으로 **`인수`** 라고 함\n",
    "> ```python\n",
    "함수이름(인수)\n",
    "\n",
    "**3) 함수의 실행 순서:**\n",
    "\n",
    "1. 파이썬 함수 작성 및 실행\n",
    "2. 작성 함수 호출(함수 생성 전 호출 불가)\n",
    "3. 호출된 함수 실행\n",
    "4. 호출된 함수 출력\n",
    "5. 호출된 함수 종료\n",
    "\n",
    "```python\n",
    "# 함수를 정의할 때\n",
    "def my_func(a, b):    # 선언 함수이름(매개변수)\n",
    "    c = 2 * (a + b)    # 실행할 명령\n",
    "    return c    # c를 함수 밖으로 출력\n",
    "\n",
    "# 함수를 사용할 때\n",
    "my_func(3, 4)    # 3, 4는 인수이며 위 함수의 매개변수 값이되어 c값인 14가 출력\n",
    "```"
   ]
  },
  {
   "cell_type": "code",
   "execution_count": 17,
   "metadata": {
    "ExecuteTime": {
     "end_time": "2023-01-28T04:40:53.176810Z",
     "start_time": "2023-01-28T04:40:53.161851Z"
    }
   },
   "outputs": [
    {
     "data": {
      "text/plain": [
       "1"
      ]
     },
     "execution_count": 17,
     "metadata": {},
     "output_type": "execute_result"
    }
   ],
   "source": [
    "5 % 2"
   ]
  },
  {
   "cell_type": "code",
   "execution_count": 18,
   "metadata": {
    "ExecuteTime": {
     "end_time": "2023-01-28T04:40:53.191770Z",
     "start_time": "2023-01-28T04:40:53.178804Z"
    }
   },
   "outputs": [
    {
     "data": {
      "text/plain": [
       "3"
      ]
     },
     "execution_count": 18,
     "metadata": {},
     "output_type": "execute_result"
    }
   ],
   "source": [
    "7 % 4"
   ]
  },
  {
   "cell_type": "code",
   "execution_count": 19,
   "metadata": {
    "ExecuteTime": {
     "end_time": "2023-01-28T04:40:53.207332Z",
     "start_time": "2023-01-28T04:40:53.193764Z"
    }
   },
   "outputs": [
    {
     "data": {
      "text/plain": [
       "1"
      ]
     },
     "execution_count": 19,
     "metadata": {},
     "output_type": "execute_result"
    }
   ],
   "source": [
    "# 함수정의\n",
    "# 함수의 이름(함수이름)은 func_name이고 입력으로 2개의 값을 받아 나눈 나머지를 출력\n",
    "# 정의한 함수를 사용(호출)하여 5를 2로 나눈 나머지를 출력\n",
    "def func_name(a, b):\n",
    "    return a % b\n",
    "\n",
    "func_name(5,2)"
   ]
  },
  {
   "cell_type": "code",
   "execution_count": 20,
   "metadata": {
    "ExecuteTime": {
     "end_time": "2023-01-28T04:40:53.223290Z",
     "start_time": "2023-01-28T04:40:53.209328Z"
    }
   },
   "outputs": [
    {
     "data": {
      "text/plain": [
       "1"
      ]
     },
     "execution_count": 20,
     "metadata": {},
     "output_type": "execute_result"
    }
   ],
   "source": [
    "# 변수값으로 출력 가능\n",
    "def func_name(a, b):\n",
    "    result = a % b\n",
    "    return result\n",
    "\n",
    "func_name(5,2)"
   ]
  },
  {
   "cell_type": "code",
   "execution_count": 21,
   "metadata": {
    "ExecuteTime": {
     "end_time": "2023-01-28T04:40:53.239248Z",
     "start_time": "2023-01-28T04:40:53.225286Z"
    }
   },
   "outputs": [
    {
     "data": {
      "text/plain": [
       "1"
      ]
     },
     "execution_count": 21,
     "metadata": {},
     "output_type": "execute_result"
    }
   ],
   "source": [
    "# 변수값으로 출력 가능\n",
    "def func_name(a, b):\n",
    "    result = a % b\n",
    "    return result\n",
    "\n",
    "y = func_name(5,2)\n",
    "y"
   ]
  },
  {
   "cell_type": "code",
   "execution_count": 22,
   "metadata": {
    "ExecuteTime": {
     "end_time": "2023-01-28T04:40:53.255205Z",
     "start_time": "2023-01-28T04:40:53.240244Z"
    }
   },
   "outputs": [
    {
     "data": {
      "text/plain": [
       "1"
      ]
     },
     "execution_count": 22,
     "metadata": {},
     "output_type": "execute_result"
    }
   ],
   "source": [
    "# 예시 결과 확인\n",
    "func_name(1,3)"
   ]
  },
  {
   "cell_type": "code",
   "execution_count": 23,
   "metadata": {
    "ExecuteTime": {
     "end_time": "2023-01-28T04:40:53.271211Z",
     "start_time": "2023-01-28T04:40:53.256201Z"
    }
   },
   "outputs": [
    {
     "data": {
      "text/plain": [
       "2"
      ]
     },
     "execution_count": 23,
     "metadata": {},
     "output_type": "execute_result"
    }
   ],
   "source": [
    "# 예시 결과 확인\n",
    "func_name(50,4)"
   ]
  },
  {
   "cell_type": "code",
   "execution_count": 24,
   "metadata": {
    "ExecuteTime": {
     "end_time": "2023-01-28T04:40:53.287119Z",
     "start_time": "2023-01-28T04:40:53.273156Z"
    }
   },
   "outputs": [],
   "source": [
    "# print(a)\n",
    "# print(b)"
   ]
  },
  {
   "cell_type": "code",
   "execution_count": 25,
   "metadata": {
    "ExecuteTime": {
     "end_time": "2023-01-28T04:40:53.303076Z",
     "start_time": "2023-01-28T04:40:53.289114Z"
    }
   },
   "outputs": [
    {
     "name": "stdout",
     "output_type": "stream",
     "text": [
      "Hello, world!\n"
     ]
    }
   ],
   "source": [
    "# 예시 결과 확인\n",
    "def hello():\n",
    "    print('Hello, world!')\n",
    "\n",
    "hello()"
   ]
  },
  {
   "cell_type": "code",
   "execution_count": 26,
   "metadata": {
    "ExecuteTime": {
     "end_time": "2023-01-28T04:40:53.318084Z",
     "start_time": "2023-01-28T04:40:53.304073Z"
    }
   },
   "outputs": [
    {
     "name": "stdout",
     "output_type": "stream",
     "text": [
      "Hello, world!\n"
     ]
    }
   ],
   "source": [
    "# 예시 결과 확인\n",
    "def hello():\n",
    "    print('Hello, world!')\n",
    "\n",
    "result = hello()"
   ]
  },
  {
   "cell_type": "code",
   "execution_count": 27,
   "metadata": {
    "ExecuteTime": {
     "end_time": "2023-01-28T04:40:53.333045Z",
     "start_time": "2023-01-28T04:40:53.320032Z"
    }
   },
   "outputs": [],
   "source": [
    "# 예시 결과 확인\n",
    "result"
   ]
  },
  {
   "cell_type": "code",
   "execution_count": 28,
   "metadata": {
    "ExecuteTime": {
     "end_time": "2023-01-28T04:40:53.348007Z",
     "start_time": "2023-01-28T04:40:53.337983Z"
    }
   },
   "outputs": [],
   "source": [
    "# 함수 명령 건너띄기\n",
    "def hello():\n",
    "    pass"
   ]
  },
  {
   "cell_type": "code",
   "execution_count": 29,
   "metadata": {
    "ExecuteTime": {
     "end_time": "2023-01-28T04:40:53.363914Z",
     "start_time": "2023-01-28T04:40:53.349951Z"
    }
   },
   "outputs": [],
   "source": [
    "# 예시 결과 확인\n",
    "hello()"
   ]
  },
  {
   "cell_type": "markdown",
   "metadata": {},
   "source": [
    "### 입력도 없고 출력도 없는 함수"
   ]
  },
  {
   "cell_type": "code",
   "execution_count": 30,
   "metadata": {
    "ExecuteTime": {
     "end_time": "2023-01-28T04:40:53.379919Z",
     "start_time": "2023-01-28T04:40:53.364911Z"
    }
   },
   "outputs": [
    {
     "name": "stdout",
     "output_type": "stream",
     "text": [
      "My name is Nhu\n",
      "My name is Nhu\n"
     ]
    }
   ],
   "source": [
    "# 함수를 작성하고, 함수를 호출하여 결과 확인\n",
    "def func1():\n",
    "    print('My name is Nhu')\n",
    "    \n",
    "func1()\n",
    "func1()"
   ]
  },
  {
   "cell_type": "markdown",
   "metadata": {},
   "source": [
    "### 입력만 있는 함수"
   ]
  },
  {
   "cell_type": "code",
   "execution_count": 31,
   "metadata": {
    "ExecuteTime": {
     "end_time": "2023-01-28T04:40:53.395861Z",
     "start_time": "2023-01-28T04:40:53.380868Z"
    }
   },
   "outputs": [
    {
     "name": "stdout",
     "output_type": "stream",
     "text": [
      "2 곱하기 4 = 8\n"
     ]
    }
   ],
   "source": [
    "# 함수를 작성하고, 함수를 호출하여 결과 확인\n",
    "# a = 2, b = 4\n",
    "def func2(a, b):\n",
    "    print(f'{a} 곱하기 {b} = {a*b}')\n",
    "    \n",
    "func2(2,4)"
   ]
  },
  {
   "cell_type": "code",
   "execution_count": 32,
   "metadata": {
    "ExecuteTime": {
     "end_time": "2023-01-28T04:40:53.411786Z",
     "start_time": "2023-01-28T04:40:53.397824Z"
    }
   },
   "outputs": [
    {
     "name": "stdout",
     "output_type": "stream",
     "text": [
      "5 곱하기 4 = 20\n"
     ]
    }
   ],
   "source": [
    "# 예시 결과 확인\n",
    "func2(5,4)"
   ]
  },
  {
   "cell_type": "code",
   "execution_count": 33,
   "metadata": {
    "ExecuteTime": {
     "end_time": "2023-01-28T04:40:53.427788Z",
     "start_time": "2023-01-28T04:40:53.413782Z"
    }
   },
   "outputs": [
    {
     "name": "stdout",
     "output_type": "stream",
     "text": [
      "10 곱하기 2 = 20\n"
     ]
    }
   ],
   "source": [
    "# 예시 결과 확인\n",
    "func2(10,2)"
   ]
  },
  {
   "cell_type": "code",
   "execution_count": 34,
   "metadata": {
    "ExecuteTime": {
     "end_time": "2023-01-28T04:40:53.443748Z",
     "start_time": "2023-01-28T04:40:53.429738Z"
    }
   },
   "outputs": [
    {
     "name": "stdout",
     "output_type": "stream",
     "text": [
      "10 곱하기 2 = 20\n"
     ]
    }
   ],
   "source": [
    "# 예시 결과 확인\n",
    "y = func2(10,2)"
   ]
  },
  {
   "cell_type": "code",
   "execution_count": 35,
   "metadata": {
    "ExecuteTime": {
     "end_time": "2023-01-28T04:40:53.459677Z",
     "start_time": "2023-01-28T04:40:53.445695Z"
    }
   },
   "outputs": [],
   "source": [
    "# 예시 결과 확인\n",
    "y"
   ]
  },
  {
   "cell_type": "markdown",
   "metadata": {},
   "source": [
    "### 출력만 있는 함수"
   ]
  },
  {
   "cell_type": "code",
   "execution_count": 36,
   "metadata": {
    "ExecuteTime": {
     "end_time": "2023-01-28T04:40:53.475663Z",
     "start_time": "2023-01-28T04:40:53.460655Z"
    }
   },
   "outputs": [
    {
     "data": {
      "text/plain": [
       "'What is your name? '"
      ]
     },
     "execution_count": 36,
     "metadata": {},
     "output_type": "execute_result"
    }
   ],
   "source": [
    "# 함수를 작성하고, 함수를 호출하여 결과 확인\n",
    "def func3():\n",
    "    return 'What is your name? '\n",
    "\n",
    "func3()"
   ]
  },
  {
   "cell_type": "code",
   "execution_count": 37,
   "metadata": {
    "ExecuteTime": {
     "end_time": "2023-01-28T04:40:53.491572Z",
     "start_time": "2023-01-28T04:40:53.476612Z"
    }
   },
   "outputs": [],
   "source": [
    "# 예시 결과 확인\n",
    "y = func3()"
   ]
  },
  {
   "cell_type": "code",
   "execution_count": 38,
   "metadata": {
    "ExecuteTime": {
     "end_time": "2023-01-28T04:40:53.507561Z",
     "start_time": "2023-01-28T04:40:53.492570Z"
    }
   },
   "outputs": [
    {
     "data": {
      "text/plain": [
       "'What is your name? Nhu'"
      ]
     },
     "execution_count": 38,
     "metadata": {},
     "output_type": "execute_result"
    }
   ],
   "source": [
    "# 예시 결과 확인\n",
    "y = func3()\n",
    "y + 'Nhu'"
   ]
  },
  {
   "cell_type": "markdown",
   "metadata": {},
   "source": [
    "### 입력이나 출력이 여러개인 함수"
   ]
  },
  {
   "cell_type": "code",
   "execution_count": 39,
   "metadata": {
    "ExecuteTime": {
     "end_time": "2023-01-28T04:40:53.523536Z",
     "start_time": "2023-01-28T04:40:53.508528Z"
    }
   },
   "outputs": [
    {
     "data": {
      "text/plain": [
       "10"
      ]
     },
     "execution_count": 39,
     "metadata": {},
     "output_type": "execute_result"
    }
   ],
   "source": [
    "# 함수를 작성하고, 함수를 호출하여 결과 확인\n",
    "# a=1, b=2, c=3, d=4\n",
    "def input_several(a, b, c, d):\n",
    "    summation = a + b + c + d\n",
    "    return summation\n",
    "\n",
    "input_several(1,2,3,4)"
   ]
  },
  {
   "cell_type": "code",
   "execution_count": 40,
   "metadata": {
    "ExecuteTime": {
     "end_time": "2023-01-28T04:40:53.539492Z",
     "start_time": "2023-01-28T04:40:53.525482Z"
    }
   },
   "outputs": [],
   "source": [
    "# input_several(1,2,3,4,5)"
   ]
  },
  {
   "cell_type": "code",
   "execution_count": 41,
   "metadata": {
    "ExecuteTime": {
     "end_time": "2023-01-28T04:40:53.555536Z",
     "start_time": "2023-01-28T04:40:53.540441Z"
    }
   },
   "outputs": [
    {
     "data": {
      "text/plain": [
       "(10, -10)"
      ]
     },
     "execution_count": 41,
     "metadata": {},
     "output_type": "execute_result"
    }
   ],
   "source": [
    "# 함수를 작성하고, 함수를 호출하여 결과 확인\n",
    "# 모든 입력값의 합과 차를 계산하는 함수\n",
    "# a=1, b=2, c=3, d=4\n",
    "def output_several(a, b, c, d):\n",
    "    plus = a + b + c + d\n",
    "    minus = - a - b - c - d\n",
    "    return plus, minus\n",
    "\n",
    "output_several(1,2,3,4)"
   ]
  },
  {
   "cell_type": "code",
   "execution_count": 42,
   "metadata": {
    "ExecuteTime": {
     "end_time": "2023-01-28T04:40:53.571492Z",
     "start_time": "2023-01-28T04:40:53.556534Z"
    }
   },
   "outputs": [
    {
     "name": "stdout",
     "output_type": "stream",
     "text": [
      "10 -10\n"
     ]
    }
   ],
   "source": [
    "# 변수로 받아 출력 가능\n",
    "x, y = output_several(1,2,3,4)\n",
    "print(x, y)"
   ]
  },
  {
   "cell_type": "markdown",
   "metadata": {},
   "source": [
    "# **파이썬함수 응용**"
   ]
  },
  {
   "cell_type": "markdown",
   "metadata": {},
   "source": [
    "## **위치인수:** 인수값 순서대로 반영\n",
    "\n",
    "- **위치인수(Positional Argument):** 함수 사용시 입력(인자) 순서대로 매개변수의 값으로 반영되는 방식"
   ]
  },
  {
   "cell_type": "code",
   "execution_count": 43,
   "metadata": {
    "ExecuteTime": {
     "end_time": "2023-01-28T04:40:53.587450Z",
     "start_time": "2023-01-28T04:40:53.573489Z"
    }
   },
   "outputs": [
    {
     "name": "stdout",
     "output_type": "stream",
     "text": [
      "10 20 30\n"
     ]
    }
   ],
   "source": [
    "print(10, 20, 30)"
   ]
  },
  {
   "cell_type": "code",
   "execution_count": 44,
   "metadata": {
    "ExecuteTime": {
     "end_time": "2023-01-28T04:40:53.603409Z",
     "start_time": "2023-01-28T04:40:53.589447Z"
    }
   },
   "outputs": [
    {
     "name": "stdout",
     "output_type": "stream",
     "text": [
      "10\n",
      "20\n",
      "30\n"
     ]
    }
   ],
   "source": [
    "def print_numbers(a, b, c):\n",
    "    print(a)\n",
    "    print(b)\n",
    "    print(c)\n",
    "    \n",
    "print_numbers(10, 20, 30)"
   ]
  },
  {
   "cell_type": "code",
   "execution_count": 45,
   "metadata": {
    "ExecuteTime": {
     "end_time": "2023-01-28T04:40:53.619366Z",
     "start_time": "2023-01-28T04:40:53.604407Z"
    }
   },
   "outputs": [
    {
     "name": "stdout",
     "output_type": "stream",
     "text": [
      "10\n",
      "20\n",
      "30\n",
      "40\n",
      "50\n",
      "60\n",
      "70\n",
      "80\n",
      "90\n",
      "100\n"
     ]
    }
   ],
   "source": [
    "# 함수의 입력값은 코드의 입력 위치와 매핑되어 자동으로 인식\n",
    "def print_numbers(a, b, c, d, e, f, g, h, i, j):\n",
    "    print(a)\n",
    "    print(b)\n",
    "    print(c)\n",
    "    print(d)\n",
    "    print(e)\n",
    "    print(f)\n",
    "    print(g)\n",
    "    print(h)\n",
    "    print(i)\n",
    "    print(j)\n",
    "    \n",
    "print_numbers(10, 20, 30, 40, 50, 60, 70, 80, 90, 100)"
   ]
  },
  {
   "cell_type": "markdown",
   "metadata": {},
   "source": [
    "## **아규먼트인수:** 갯수를 알수없는 위치인수 처리"
   ]
  },
  {
   "cell_type": "markdown",
   "metadata": {},
   "source": [
    "- **언패킹(Unpacking):** 함수 입력값(인수) 앞에 `*` 기호를 붙이면 `리스트/튜플/변수` 내부 값들을 모두 모아 튜플로 변경후 매개변수로 반영\n",
    "- `언패킹 인수`로 리스트/튜플/변수 사용시, 인수 내부 `값의 갯수`와 `매개변수의 갯수`는 같아야 함\n",
    "\n",
    "```python\n",
    "# 함수 사용\n",
    "함수이름(*인수)\n",
    "```"
   ]
  },
  {
   "cell_type": "code",
   "execution_count": 46,
   "metadata": {
    "ExecuteTime": {
     "end_time": "2023-01-28T04:40:53.635324Z",
     "start_time": "2023-01-28T04:40:53.620364Z"
    }
   },
   "outputs": [
    {
     "name": "stdout",
     "output_type": "stream",
     "text": [
      "10\n",
      "20\n",
      "30\n"
     ]
    }
   ],
   "source": [
    "def print_numbers(a, b, c):\n",
    "    print(a)\n",
    "    print(b)\n",
    "    print(c)\n",
    "\n",
    "# print_numbers(10, 20, 30)    \n",
    "print_numbers(*[10, 20, 30])"
   ]
  },
  {
   "cell_type": "code",
   "execution_count": 47,
   "metadata": {
    "ExecuteTime": {
     "end_time": "2023-01-28T04:40:53.651280Z",
     "start_time": "2023-01-28T04:40:53.636322Z"
    }
   },
   "outputs": [
    {
     "name": "stdout",
     "output_type": "stream",
     "text": [
      "10\n",
      "20\n",
      "30\n"
     ]
    }
   ],
   "source": [
    "# x에 [10, 20, 30]를 반영하고 이를 아규먼트를 사용하여 print_numbers 함수를 출력\n",
    "x = [10, 20, 30]\n",
    "print_numbers(*x)"
   ]
  },
  {
   "cell_type": "code",
   "execution_count": 48,
   "metadata": {
    "ExecuteTime": {
     "end_time": "2023-01-28T04:40:53.666240Z",
     "start_time": "2023-01-28T04:40:53.652277Z"
    }
   },
   "outputs": [],
   "source": [
    "# 입력 갯수가 다르면 오류 발생\n",
    "# print_numbers(*[10, 20, 30, 40, 50])"
   ]
  },
  {
   "cell_type": "markdown",
   "metadata": {},
   "source": [
    "- **가변인수(Variable Argument):** 인수(입력)의 갯수가 정해지지 않은 것\n",
    "- `언패킹`을 활용하여 `가변인수` 처리 가능\n",
    "- `언패킹 인수`로 리스트/튜플/변수 사용시, 인수 내부 `값의 갯수`와 `매개변수의 갯수`는 같아야 함\n",
    "- `언패킹 매개변수` 사용시, 인수 값의 `갯수 무관` (1개, 10개, 0개 모두 가능)\n",
    "\n",
    "```python\n",
    "# 함수 생성\n",
    "def 함수이름(*매개변수):\n",
    "    문장\n",
    "\n",
    "# 함수 사용    \n",
    "함수이름(*인수)    \n",
    "```"
   ]
  },
  {
   "cell_type": "code",
   "execution_count": 49,
   "metadata": {
    "ExecuteTime": {
     "end_time": "2023-01-28T04:40:53.681201Z",
     "start_time": "2023-01-28T04:40:53.668236Z"
    }
   },
   "outputs": [
    {
     "name": "stdout",
     "output_type": "stream",
     "text": [
      "(10, 20, 30, 40, 50)\n"
     ]
    }
   ],
   "source": [
    "# 가변인수를 사용해서 입력의 갯수를 조정 가능\n",
    "def print_numbers(*a):\n",
    "    print(a)\n",
    "    \n",
    "x = [10, 20, 30, 40, 50]\n",
    "print_numbers(*x)"
   ]
  },
  {
   "cell_type": "code",
   "execution_count": 50,
   "metadata": {
    "ExecuteTime": {
     "end_time": "2023-01-28T04:40:53.697158Z",
     "start_time": "2023-01-28T04:40:53.684195Z"
    }
   },
   "outputs": [
    {
     "name": "stdout",
     "output_type": "stream",
     "text": [
      "(10, 20, 30, 40, 50, 60, 70)\n"
     ]
    }
   ],
   "source": [
    "# 다양한 상황 활용 가능\n",
    "x = [10, 20, 30, 40, 50, 60, 70]\n",
    "print_numbers(*x)"
   ]
  },
  {
   "cell_type": "code",
   "execution_count": 51,
   "metadata": {
    "ExecuteTime": {
     "end_time": "2023-01-28T04:40:53.713115Z",
     "start_time": "2023-01-28T04:40:53.699153Z"
    }
   },
   "outputs": [
    {
     "name": "stdout",
     "output_type": "stream",
     "text": [
      "(10,)\n",
      "10\n"
     ]
    }
   ],
   "source": [
    "# 입력값들의 개별 출력 가능\n",
    "def print_numbers(*args):\n",
    "    print(args)\n",
    "    for arg in args:\n",
    "        print(arg)\n",
    "        \n",
    "print_numbers(10)"
   ]
  },
  {
   "cell_type": "code",
   "execution_count": 52,
   "metadata": {
    "ExecuteTime": {
     "end_time": "2023-01-28T04:40:53.729120Z",
     "start_time": "2023-01-28T04:40:53.714113Z"
    }
   },
   "outputs": [
    {
     "name": "stdout",
     "output_type": "stream",
     "text": [
      "10\n"
     ]
    }
   ],
   "source": [
    "# 입력값들의 개별 출력 가능\n",
    "def print_numbers(*args):\n",
    "    for arg in args:\n",
    "        print(arg)\n",
    "        \n",
    "print_numbers(10)"
   ]
  },
  {
   "cell_type": "code",
   "execution_count": 53,
   "metadata": {
    "ExecuteTime": {
     "end_time": "2023-01-28T04:40:53.745078Z",
     "start_time": "2023-01-28T04:40:53.731067Z"
    }
   },
   "outputs": [],
   "source": [
    "# 예시 출력 확인\n",
    "print_numbers()"
   ]
  },
  {
   "cell_type": "code",
   "execution_count": 54,
   "metadata": {
    "ExecuteTime": {
     "end_time": "2023-01-28T04:40:53.760986Z",
     "start_time": "2023-01-28T04:40:53.746027Z"
    }
   },
   "outputs": [
    {
     "name": "stdout",
     "output_type": "stream",
     "text": [
      "10\n",
      "20\n",
      "30\n",
      "40\n"
     ]
    }
   ],
   "source": [
    "# 예시 출력 확인\n",
    "print_numbers(10, 20, 30, 40)"
   ]
  },
  {
   "cell_type": "code",
   "execution_count": 55,
   "metadata": {
    "ExecuteTime": {
     "end_time": "2023-01-28T04:40:53.776943Z",
     "start_time": "2023-01-28T04:40:53.762982Z"
    }
   },
   "outputs": [
    {
     "name": "stdout",
     "output_type": "stream",
     "text": [
      "10\n",
      "20\n",
      "30\n",
      "40\n",
      "50\n",
      "60\n",
      "70\n"
     ]
    }
   ],
   "source": [
    "# 예시 출력 확인\n",
    "y = [10, 20, 30, 40, 50, 60, 70]\n",
    "print_numbers(*y)"
   ]
  },
  {
   "cell_type": "code",
   "execution_count": 56,
   "metadata": {
    "ExecuteTime": {
     "end_time": "2023-01-28T04:40:53.791903Z",
     "start_time": "2023-01-28T04:40:53.778938Z"
    }
   },
   "outputs": [
    {
     "name": "stdout",
     "output_type": "stream",
     "text": [
      "10\n"
     ]
    }
   ],
   "source": [
    "# 값의 위치를 기반으로 출력 가능\n",
    "def print_numbers(args):\n",
    "    length = len(args)\n",
    "    for i in range(length):\n",
    "        print(args[i])\n",
    "        \n",
    "print_numbers([10])"
   ]
  },
  {
   "cell_type": "code",
   "execution_count": 57,
   "metadata": {
    "ExecuteTime": {
     "end_time": "2023-01-28T04:40:53.806898Z",
     "start_time": "2023-01-28T04:40:53.792901Z"
    }
   },
   "outputs": [
    {
     "name": "stdout",
     "output_type": "stream",
     "text": [
      "10\n",
      "20\n",
      "30\n"
     ]
    }
   ],
   "source": [
    "# 예시 출력 확인\n",
    "print_numbers([10, 20, 30])"
   ]
  },
  {
   "cell_type": "code",
   "execution_count": 58,
   "metadata": {
    "ExecuteTime": {
     "end_time": "2023-01-28T04:40:53.822848Z",
     "start_time": "2023-01-28T04:40:53.808860Z"
    }
   },
   "outputs": [
    {
     "data": {
      "text/plain": [
       "3"
      ]
     },
     "execution_count": 58,
     "metadata": {},
     "output_type": "execute_result"
    }
   ],
   "source": [
    "# 입력값들의 합을 계산\n",
    "def total_sum(*args):\n",
    "    a = 0\n",
    "    for i in args:\n",
    "        a = a + i\n",
    "    return a\n",
    "\n",
    "total_sum(1,2)"
   ]
  },
  {
   "cell_type": "code",
   "execution_count": 59,
   "metadata": {
    "ExecuteTime": {
     "end_time": "2023-01-28T04:40:53.838826Z",
     "start_time": "2023-01-28T04:40:53.824817Z"
    }
   },
   "outputs": [
    {
     "data": {
      "text/plain": [
       "18"
      ]
     },
     "execution_count": 59,
     "metadata": {},
     "output_type": "execute_result"
    }
   ],
   "source": [
    "# 3,4,5,6의 합을 위 함수를 사용하여 출력\n",
    "total_sum(3,4,5,6)"
   ]
  },
  {
   "cell_type": "code",
   "execution_count": 60,
   "metadata": {
    "ExecuteTime": {
     "end_time": "2023-01-28T04:40:53.853788Z",
     "start_time": "2023-01-28T04:40:53.840775Z"
    }
   },
   "outputs": [
    {
     "data": {
      "text/plain": [
       "0"
      ]
     },
     "execution_count": 60,
     "metadata": {},
     "output_type": "execute_result"
    }
   ],
   "source": [
    "# 예시 출력 확인\n",
    "total_sum()"
   ]
  },
  {
   "cell_type": "markdown",
   "metadata": {},
   "source": [
    "- ***args:** `arguments`의 약자로 함수를 호출할 때 매개변수 이름으로 통상 사용\n",
    "- 튜플로 변환된 입력 인수 값들을 `args`로 할당되어 함수 내부에 사용\n",
    "- 위치인수와 아규먼트인수를 함께 사용시, 위치인수에 대응되는 위치 매개변수를 항상 우선 사용하고 다음 매개변수로 `*args`를 사용\n",
    "\n",
    "```python\n",
    "# 함수 생성\n",
    "def 함수이름(위치 매개변수, *args):\n",
    "    문장\n",
    "```"
   ]
  },
  {
   "cell_type": "code",
   "execution_count": 61,
   "metadata": {
    "ExecuteTime": {
     "end_time": "2023-01-28T04:40:53.868731Z",
     "start_time": "2023-01-28T04:40:53.855735Z"
    }
   },
   "outputs": [
    {
     "name": "stdout",
     "output_type": "stream",
     "text": [
      "5 (2, 3)\n",
      "7\n",
      "8\n"
     ]
    }
   ],
   "source": [
    "# 위치인수와 가변인수를 모두 입력으로 활용 가능\n",
    "def print_numbers(a, *args):\n",
    "    print(a, args)\n",
    "    for arg in args:\n",
    "        print(arg + a)\n",
    "    \n",
    "print_numbers(5, 2, 3)"
   ]
  },
  {
   "cell_type": "code",
   "execution_count": 62,
   "metadata": {
    "ExecuteTime": {
     "end_time": "2023-01-28T04:40:53.884707Z",
     "start_time": "2023-01-28T04:40:53.869697Z"
    }
   },
   "outputs": [],
   "source": [
    "def print_numbers(a, *args):\n",
    "    print(a)\n",
    "    print(args)"
   ]
  },
  {
   "cell_type": "code",
   "execution_count": 63,
   "metadata": {
    "ExecuteTime": {
     "end_time": "2023-01-28T04:40:53.900647Z",
     "start_time": "2023-01-28T04:40:53.885653Z"
    }
   },
   "outputs": [
    {
     "name": "stdout",
     "output_type": "stream",
     "text": [
      "1\n",
      "()\n"
     ]
    }
   ],
   "source": [
    "print_numbers(1)"
   ]
  },
  {
   "cell_type": "code",
   "execution_count": 64,
   "metadata": {
    "ExecuteTime": {
     "end_time": "2023-01-28T04:40:53.916613Z",
     "start_time": "2023-01-28T04:40:53.901611Z"
    }
   },
   "outputs": [
    {
     "name": "stdout",
     "output_type": "stream",
     "text": [
      "1\n",
      "(10, 20)\n"
     ]
    }
   ],
   "source": [
    "print_numbers(1, 10, 20)"
   ]
  },
  {
   "cell_type": "code",
   "execution_count": 65,
   "metadata": {
    "ExecuteTime": {
     "end_time": "2023-01-28T04:40:53.932529Z",
     "start_time": "2023-01-28T04:40:53.917570Z"
    }
   },
   "outputs": [
    {
     "name": "stdout",
     "output_type": "stream",
     "text": [
      "10\n",
      "(20, 30)\n"
     ]
    }
   ],
   "source": [
    "print_numbers(*[10, 20, 30])"
   ]
  },
  {
   "cell_type": "markdown",
   "metadata": {},
   "source": [
    "- **Question:** 언패킹 매개변수(`*args`)를 사용하여 `get_max_score` 프로그램(함수)을 만들고, 아래의 2종류 입력에서 가장 높은 점수가 출력되도록 만드시오\n",
    "\n",
    "```python\n",
    "# 입력 후보\n",
    "korean, english, mathematics, science = 100, 86, 81, 91\n",
    "\n",
    "# 4과목 입력 프로그램 및 결과\n",
    "max_score = get_max_score(korean, english, mathematics, science)\n",
    "print('높은점수: ', max_score)\n",
    "\n",
    "# 2과목 입력 프로그램 및 결과\n",
    "max_score = get_max_score(english, science)\n",
    "print('높은점수: ', max_score)\n",
    "```"
   ]
  },
  {
   "cell_type": "code",
   "execution_count": 66,
   "metadata": {
    "ExecuteTime": {
     "end_time": "2023-01-28T04:40:53.948486Z",
     "start_time": "2023-01-28T04:40:53.933526Z"
    }
   },
   "outputs": [
    {
     "name": "stdout",
     "output_type": "stream",
     "text": [
      "높은점수:  100\n",
      "높은점수:  91\n"
     ]
    }
   ],
   "source": [
    "# 프로그램(함수) 작성\n",
    "def get_max_score(*args):\n",
    "    return max(args)\n",
    "\n",
    "# 입력 후보\n",
    "korean, english, mathematics, science = 100, 86, 81, 91\n",
    "\n",
    "# 4과목 입력 프로그램 및 결과\n",
    "max_score = get_max_score(korean, english, mathematics, science)\n",
    "print('높은점수: ', max_score)\n",
    "\n",
    "# 2과목 입력 프로그램 및 결과\n",
    "max_score = get_max_score(english, science)\n",
    "print('높은점수: ', max_score)"
   ]
  },
  {
   "cell_type": "markdown",
   "metadata": {},
   "source": [
    "- **Question:** 입력의 갯수가 몇개가 들어오든 무관하게 모든 입력의 평균값을 계산해주는 프로그램을 만들고, 임의의 입력이 2개일때 평균값과 입력이 5개일때 평균값을 출력하시오"
   ]
  },
  {
   "cell_type": "code",
   "execution_count": 67,
   "metadata": {
    "ExecuteTime": {
     "end_time": "2023-01-28T04:40:53.964444Z",
     "start_time": "2023-01-28T04:40:53.950508Z"
    }
   },
   "outputs": [
    {
     "name": "stdout",
     "output_type": "stream",
     "text": [
      "1.5\n",
      "3.0\n"
     ]
    }
   ],
   "source": [
    "# 프로그램(함수) 작성\n",
    "def avg_numbers(*args): # 입력 개수에 상관없이 사용하기 위해 *args를 사용\n",
    "    result = 0\n",
    "    for i in args:\n",
    "        result += i\n",
    "    return result / len(args)\n",
    "\n",
    "# 임의 입력 2개 사용 출력 확인\n",
    "print(avg_numbers(1, 2)) # 1.5\n",
    "\n",
    "# 임의 입력 5개 사용 출력 확인\n",
    "print(avg_numbers(1,2,3,4,5)) # 3.0\n"
   ]
  },
  {
   "cell_type": "markdown",
   "metadata": {},
   "source": [
    "## **키워드인수:** 위치인수의 매개변수 변경\n",
    "\n",
    "- **키워드 인수(Keyword Argument):** 함수 사용의 인수 입력시 대응되는 위치의 매개변수의 함수 내 역할을 알아야 하지만, `각 인수`마다 `매개변수 이름`을 함께 입력하면 매개변수 역할이나 위치 고려할 필요 없음\n",
    "\n",
    "```python\n",
    "# 프로그램\n",
    "def 함수이름(매개변수1, 매개변수2, 매개변수3):\n",
    "    문장\n",
    "    \n",
    "# 사용\n",
    "함수이름(매개변수3=값, 매개변수1=값, 매개변수2=값)\n",
    "```"
   ]
  },
  {
   "cell_type": "code",
   "execution_count": 68,
   "metadata": {
    "ExecuteTime": {
     "end_time": "2023-01-28T04:40:53.980400Z",
     "start_time": "2023-01-28T04:40:53.970428Z"
    }
   },
   "outputs": [],
   "source": [
    "# 키워드 인수를 사용하여 입력값을 고정 가능\n",
    "def personal_info(name, age, address):\n",
    "    print('이름: ', name)\n",
    "    print('나이: ', age)\n",
    "    print('주소: ', address)"
   ]
  },
  {
   "cell_type": "code",
   "execution_count": 69,
   "metadata": {
    "ExecuteTime": {
     "end_time": "2023-01-28T04:40:53.995359Z",
     "start_time": "2023-01-28T04:40:53.982396Z"
    }
   },
   "outputs": [
    {
     "name": "stdout",
     "output_type": "stream",
     "text": [
      "이름:  Nhu\n",
      "나이:  20\n",
      "주소:  인천광역시 남동구\n"
     ]
    }
   ],
   "source": [
    "# 위 함수 사용하여 본인 이름, 나이, 주소를 출력\n",
    "personal_info('Nhu', 20, '인천광역시 남동구')"
   ]
  },
  {
   "cell_type": "code",
   "execution_count": 70,
   "metadata": {
    "ExecuteTime": {
     "end_time": "2023-01-28T04:40:54.010368Z",
     "start_time": "2023-01-28T04:40:53.997355Z"
    }
   },
   "outputs": [
    {
     "name": "stdout",
     "output_type": "stream",
     "text": [
      "이름:  인천광역시 남동구\n",
      "나이:  Nhu\n",
      "주소:  20\n"
     ]
    }
   ],
   "source": [
    "# 입력값의 위치를 바꾸면 결과도 변경\n",
    "personal_info('인천광역시 남동구', 'Nhu', 20)"
   ]
  },
  {
   "cell_type": "code",
   "execution_count": 71,
   "metadata": {
    "ExecuteTime": {
     "end_time": "2023-01-28T04:40:54.026278Z",
     "start_time": "2023-01-28T04:40:54.011318Z"
    }
   },
   "outputs": [
    {
     "name": "stdout",
     "output_type": "stream",
     "text": [
      "이름:  Nhu\n",
      "나이:  20\n",
      "주소:  인천광역시 남동구\n"
     ]
    }
   ],
   "source": [
    "# 입력값의 위치를 바꾸더라도 결과가 달라지지 않도록 고정 가능\n",
    "personal_info(name='Nhu', age=20, address='인천광역시 남동구')"
   ]
  },
  {
   "cell_type": "code",
   "execution_count": 72,
   "metadata": {
    "ExecuteTime": {
     "end_time": "2023-01-28T04:40:54.042268Z",
     "start_time": "2023-01-28T04:40:54.028274Z"
    }
   },
   "outputs": [
    {
     "name": "stdout",
     "output_type": "stream",
     "text": [
      "이름:  Nhu\n",
      "나이:  20\n",
      "주소:  인천광역시 남동구\n"
     ]
    }
   ],
   "source": [
    "# 다양한 방식으로 사용 가능\n",
    "personal_info(name='Nhu', address='인천광역시 남동구', age=20)"
   ]
  },
  {
   "cell_type": "markdown",
   "metadata": {},
   "source": [
    "## **딕셔너리인수:** 갯수를 알수없는 키워드인수 처리\n",
    "\n",
    "- 키워드 인수 입력이 많아지면 함수 가독성이 떨어지고 입력값들의 종류나 구조를 이해하기 어려워짐\n",
    "- **딕셔너리 언패킹(Dictionary Unpacking):** 키와 값으로 이루어진 `딕셔너리 활용` 여러개의 키워드인수 한꺼번에 처리\n",
    "- 인수가 `리스트/튜플/변수`일 경우 `*`기호를 사용하여 언패킹했지만, 인수가 `딕셔너리`인 경우 `**`기호를 사용하여 언패킹\n",
    "- 딕션너리의 `키의 이름과 갯수`가 함수 생성시의 `매개변수 이름과 갯수`와 같아야 함\n",
    "\n",
    "```python\n",
    "# 함수 사용\n",
    "함수이름(**인수)\n",
    "```"
   ]
  },
  {
   "cell_type": "code",
   "execution_count": 73,
   "metadata": {
    "ExecuteTime": {
     "end_time": "2023-01-28T04:40:54.058226Z",
     "start_time": "2023-01-28T04:40:54.043232Z"
    }
   },
   "outputs": [],
   "source": [
    "def personal_info(name, age, address):\n",
    "    print('이름: ', name)\n",
    "    print('나이: ', age)\n",
    "    print('주소: ', address)"
   ]
  },
  {
   "cell_type": "code",
   "execution_count": 74,
   "metadata": {
    "ExecuteTime": {
     "end_time": "2023-01-28T04:40:54.073188Z",
     "start_time": "2023-01-28T04:40:54.059190Z"
    }
   },
   "outputs": [
    {
     "name": "stdout",
     "output_type": "stream",
     "text": [
      "이름:  Nhu\n",
      "나이:  20\n",
      "주소:  인천광역시 남동구\n"
     ]
    }
   ],
   "source": [
    "personal_info(name='Nhu', address='인천광역시 남동구', age=20)"
   ]
  },
  {
   "cell_type": "code",
   "execution_count": 75,
   "metadata": {
    "ExecuteTime": {
     "end_time": "2023-01-28T04:40:54.088146Z",
     "start_time": "2023-01-28T04:40:54.075147Z"
    }
   },
   "outputs": [
    {
     "name": "stdout",
     "output_type": "stream",
     "text": [
      "이름:  Nhu\n",
      "나이:  20\n",
      "주소:  인천광역시 남동구\n"
     ]
    }
   ],
   "source": [
    "# 임의의 딕셔너리로 입력값을 반영 가능\n",
    "x = {'name': 'Nhu', \n",
    "     'age': 20, \n",
    "     'address': '인천광역시 남동구'}\n",
    "\n",
    "personal_info(**x)"
   ]
  },
  {
   "cell_type": "code",
   "execution_count": 76,
   "metadata": {
    "ExecuteTime": {
     "end_time": "2023-01-28T04:40:54.104069Z",
     "start_time": "2023-01-28T04:40:54.089110Z"
    }
   },
   "outputs": [],
   "source": [
    "# # 임의의 딕셔너리라도 입력값의 갯수는 함수의 입력 갯수와 같아야 함\n",
    "# x = {'name': 'Nhu', \n",
    "#      'age': 20, \n",
    "#      'address': '인천광역시 남동구',\n",
    "#      'temp': '블라블라'}\n",
    "\n",
    "# personal_info(**x)"
   ]
  },
  {
   "cell_type": "code",
   "execution_count": 77,
   "metadata": {
    "ExecuteTime": {
     "end_time": "2023-01-28T04:40:54.120029Z",
     "start_time": "2023-01-28T04:40:54.106063Z"
    }
   },
   "outputs": [
    {
     "name": "stdout",
     "output_type": "stream",
     "text": [
      "이름:  Nhu\n",
      "나이:  20\n",
      "주소:  인천광역시 남동구\n"
     ]
    }
   ],
   "source": [
    "# 다양하게 입력 가능\n",
    "personal_info(**{'name': 'Nhu', 'age': 20, 'address': '인천광역시 남동구'})"
   ]
  },
  {
   "cell_type": "code",
   "execution_count": 78,
   "metadata": {
    "ExecuteTime": {
     "end_time": "2023-01-28T04:40:54.136032Z",
     "start_time": "2023-01-28T04:40:54.121024Z"
    }
   },
   "outputs": [
    {
     "name": "stdout",
     "output_type": "stream",
     "text": [
      "이름:  name\n",
      "나이:  age\n",
      "주소:  address\n"
     ]
    }
   ],
   "source": [
    "# 일반 변수로 입력시 key만 인식\n",
    "personal_info(*x) # *기호를 1번만 사용하면 키값만 사용, 2번 사용하면 키와 값을 사용한다는 뜻"
   ]
  },
  {
   "cell_type": "markdown",
   "metadata": {},
   "source": [
    "- ****kwargs:** 매개변수 이름은 자유지만 관례적으로 `keyword arguments`를 줄여서 표현\n",
    "- `딕셔너리 언패킹 매개변수` 사용시, 인수 값의 `갯수 무관` (1개, 10개, 0개 모두 가능)\n",
    "\n",
    "```python\n",
    "# 함수 생성\n",
    "def 함수이름(**kwargs):\n",
    "    문장\n",
    "\n",
    "# 함수 사용    \n",
    "함수이름(**인수)    \n",
    "```"
   ]
  },
  {
   "cell_type": "code",
   "execution_count": 79,
   "metadata": {
    "ExecuteTime": {
     "end_time": "2023-01-28T04:40:54.151941Z",
     "start_time": "2023-01-28T04:40:54.136982Z"
    }
   },
   "outputs": [
    {
     "data": {
      "text/plain": [
       "dict_items([('name', 'Nhu'), ('age', 20), ('address', '인천광역시 남동구')])"
      ]
     },
     "execution_count": 79,
     "metadata": {},
     "output_type": "execute_result"
    }
   ],
   "source": [
    "x = {'name': 'Nhu', \n",
    "     'age': 20, \n",
    "     'address': '인천광역시 남동구'}\n",
    "x.items()"
   ]
  },
  {
   "cell_type": "code",
   "execution_count": 80,
   "metadata": {
    "ExecuteTime": {
     "end_time": "2023-01-28T04:40:54.167931Z",
     "start_time": "2023-01-28T04:40:54.153937Z"
    }
   },
   "outputs": [],
   "source": [
    "# 키워드 인수의 갯수에 무관하게 함수 구성 가능\n",
    "def personal_info(**kwargs):\n",
    "    for kw, arg in kwargs.items():\n",
    "        print(kw, ':', arg, sep='')"
   ]
  },
  {
   "cell_type": "code",
   "execution_count": 81,
   "metadata": {
    "ExecuteTime": {
     "end_time": "2023-01-28T04:40:54.183856Z",
     "start_time": "2023-01-28T04:40:54.168897Z"
    }
   },
   "outputs": [
    {
     "name": "stdout",
     "output_type": "stream",
     "text": [
      "name:Nhu\n"
     ]
    }
   ],
   "source": [
    "# 키워드 인수가 하나일 때 출력\n",
    "personal_info(name='Nhu')"
   ]
  },
  {
   "cell_type": "code",
   "execution_count": 82,
   "metadata": {
    "ExecuteTime": {
     "end_time": "2023-01-28T04:40:54.214828Z",
     "start_time": "2023-01-28T04:40:54.195873Z"
    }
   },
   "outputs": [
    {
     "name": "stdout",
     "output_type": "stream",
     "text": [
      "name:Nhu\n",
      "age:20\n",
      "address:인천광역시 남동구\n"
     ]
    }
   ],
   "source": [
    "# 키워드 인수가 세개일 때 출력\n",
    "personal_info(name='Nhu', age=20, address='인천광역시 남동구')"
   ]
  },
  {
   "cell_type": "code",
   "execution_count": 83,
   "metadata": {
    "ExecuteTime": {
     "end_time": "2023-01-28T04:40:54.229734Z",
     "start_time": "2023-01-28T04:40:54.216770Z"
    }
   },
   "outputs": [
    {
     "name": "stdout",
     "output_type": "stream",
     "text": [
      "name:Nhu\n",
      "age:20\n",
      "address:인천광역시 남동구\n"
     ]
    }
   ],
   "source": [
    "# 다양하게 입력 가능\n",
    "y = {'name': 'Nhu', 'age': 20, 'address': '인천광역시 남동구'}\n",
    "\n",
    "personal_info(**y)"
   ]
  },
  {
   "cell_type": "code",
   "execution_count": 84,
   "metadata": {
    "ExecuteTime": {
     "end_time": "2023-01-28T04:40:54.244727Z",
     "start_time": "2023-01-28T04:40:54.230733Z"
    }
   },
   "outputs": [
    {
     "name": "stdout",
     "output_type": "stream",
     "text": [
      "name:Nhu\n",
      "age:20\n",
      "address:인천광역시 남동구\n",
      "temp:블라블라\n"
     ]
    }
   ],
   "source": [
    "# 다양하게 입력 가능\n",
    "y = {'name': 'Nhu', \n",
    "     'age': 20, \n",
    "     'address': '인천광역시 남동구',\n",
    "     'temp': '블라블라'}\n",
    "\n",
    "personal_info(**y)"
   ]
  },
  {
   "cell_type": "code",
   "execution_count": 85,
   "metadata": {
    "ExecuteTime": {
     "end_time": "2023-01-28T04:40:54.260652Z",
     "start_time": "2023-01-28T04:40:54.246690Z"
    }
   },
   "outputs": [],
   "source": [
    "# 조건문이 포함된 함수에 키워드 인수 활용 가능\n",
    "def personal_info(**kwargs):\n",
    "    if 'name' in kwargs:    # in으로 딕셔너리 안에 특정 키가 있는지 확인\n",
    "        print('이름: ', kwargs['name'])\n",
    "    if 'age' in kwargs:\n",
    "        print('나이: ', kwargs['age'])\n",
    "    if 'address' in kwargs:\n",
    "        print('주소: ', kwargs['address'])"
   ]
  },
  {
   "cell_type": "code",
   "execution_count": 86,
   "metadata": {
    "ExecuteTime": {
     "end_time": "2023-01-28T04:40:54.275611Z",
     "start_time": "2023-01-28T04:40:54.262648Z"
    }
   },
   "outputs": [
    {
     "name": "stdout",
     "output_type": "stream",
     "text": [
      "이름:  Nhu\n",
      "나이:  20\n",
      "주소:  인천광역시 남동구\n"
     ]
    }
   ],
   "source": [
    "# 세개의 키워드 인수 활용 가능\n",
    "y = {'name': 'Nhu', 'age': 20, 'address': '인천광역시 남동구'}\n",
    "\n",
    "personal_info(**y)"
   ]
  },
  {
   "cell_type": "code",
   "execution_count": 87,
   "metadata": {
    "ExecuteTime": {
     "end_time": "2023-01-28T04:40:54.290571Z",
     "start_time": "2023-01-28T04:40:54.276609Z"
    }
   },
   "outputs": [
    {
     "name": "stdout",
     "output_type": "stream",
     "text": [
      "이름:  Nhu\n",
      "나이:  20\n",
      "주소:  인천광역시 남동구\n"
     ]
    }
   ],
   "source": [
    "# 네개의 키워드 인수 활용 가능\n",
    "y = {'name': 'Nhu', \n",
    "     'age': 20, \n",
    "     'address': '인천광역시 남동구',\n",
    "     'temp': '블라블라'}\n",
    "\n",
    "personal_info(**y)"
   ]
  },
  {
   "cell_type": "code",
   "execution_count": 88,
   "metadata": {
    "ExecuteTime": {
     "end_time": "2023-01-28T04:40:54.306529Z",
     "start_time": "2023-01-28T04:40:54.291569Z"
    }
   },
   "outputs": [
    {
     "name": "stdout",
     "output_type": "stream",
     "text": [
      "{'name': 'Nhu'}\n"
     ]
    }
   ],
   "source": [
    "# 입력을 자동으로 dictionary로 인식\n",
    "def personal_info(**kwargs):\n",
    "    print(kwargs)\n",
    "    \n",
    "personal_info(name='Nhu')"
   ]
  },
  {
   "cell_type": "code",
   "execution_count": 89,
   "metadata": {
    "ExecuteTime": {
     "end_time": "2023-01-28T04:40:54.321488Z",
     "start_time": "2023-01-28T04:40:54.309539Z"
    }
   },
   "outputs": [
    {
     "name": "stdout",
     "output_type": "stream",
     "text": [
      "{'name': 'Nhu', 'age': 20}\n"
     ]
    }
   ],
   "source": [
    "# 입력을 자동으로 dictionary로 인식\n",
    "personal_info(name='Nhu', age=20)"
   ]
  },
  {
   "cell_type": "code",
   "execution_count": 90,
   "metadata": {
    "ExecuteTime": {
     "end_time": "2023-01-28T04:40:54.336449Z",
     "start_time": "2023-01-28T04:40:54.323484Z"
    }
   },
   "outputs": [],
   "source": [
    "# 위치인수와 키워드인수를 함께 사용 가능\n",
    "def personal_info(name, **kwargs):\n",
    "    print(name)\n",
    "    print(kwargs)"
   ]
  },
  {
   "cell_type": "code",
   "execution_count": 91,
   "metadata": {
    "ExecuteTime": {
     "end_time": "2023-01-28T04:40:54.352449Z",
     "start_time": "2023-01-28T04:40:54.338444Z"
    }
   },
   "outputs": [
    {
     "name": "stdout",
     "output_type": "stream",
     "text": [
      "Nhu\n",
      "{}\n"
     ]
    }
   ],
   "source": [
    "personal_info('Nhu')"
   ]
  },
  {
   "cell_type": "code",
   "execution_count": 92,
   "metadata": {
    "ExecuteTime": {
     "end_time": "2023-01-28T04:40:54.367368Z",
     "start_time": "2023-01-28T04:40:54.354400Z"
    }
   },
   "outputs": [
    {
     "name": "stdout",
     "output_type": "stream",
     "text": [
      "Nhu\n",
      "{'age': 20, 'address': '인천광역시 남동구'}\n"
     ]
    }
   ],
   "source": [
    "# 입력 갯수에 따라 위치 인수와 키워드 인수로 자동 인식\n",
    "personal_info('Nhu', age=20, address='인천광역시 남동구')"
   ]
  },
  {
   "cell_type": "code",
   "execution_count": 93,
   "metadata": {
    "ExecuteTime": {
     "end_time": "2023-01-28T04:40:54.382325Z",
     "start_time": "2023-01-28T04:40:54.369363Z"
    }
   },
   "outputs": [
    {
     "name": "stdout",
     "output_type": "stream",
     "text": [
      "Nhu\n",
      "{'age': 20, 'address': '인천광역시 남동구'}\n"
     ]
    }
   ],
   "source": [
    "# 다양하게 입력 가능\n",
    "personal_info(**{'name': 'Nhu', 'age': 20, 'address': '인천광역시 남동구'})"
   ]
  },
  {
   "cell_type": "markdown",
   "metadata": {},
   "source": [
    "## 함수 내 위치/아규먼트/키워드/딕셔너리 인수 동시 활용\n",
    "\n",
    "- 내장함수들은 보통 `위치인수`와 `키워드인수`을 함께 사용하는 편\n",
    "- 복잡한 함수의 경우 `위치/아규먼트/키워드/딕셔너리 인수` 모두 사용\n",
    "- 대응되는 매개변수 입력 순서에는 `위치`, `*args`, `**kwargs` 순서대로 사용해야 함\n",
    "- `*args`는 리스트를 사용하고, `**kwargs`는 딕셔너리를 사용\n",
    "\n",
    "```python\n",
    "# 함수 생성\n",
    "def 함수이름(arg, *args, **kwargs):\n",
    "    문장\n",
    "```\n",
    "\n",
    "![Description_Print](Image/Description_Print.png)"
   ]
  },
  {
   "cell_type": "code",
   "execution_count": 94,
   "metadata": {
    "ExecuteTime": {
     "end_time": "2023-01-28T04:40:54.398324Z",
     "start_time": "2023-01-28T04:40:54.384355Z"
    }
   },
   "outputs": [
    {
     "name": "stdout",
     "output_type": "stream",
     "text": [
      "1:2:3"
     ]
    }
   ],
   "source": [
    "# 다양한 입력 결합 가능\n",
    "def custum_print(*args, **kwargs):\n",
    "    print(*args, **kwargs)\n",
    "    \n",
    "custum_print(1, 2, 3, sep=':', end='')"
   ]
  },
  {
   "cell_type": "code",
   "execution_count": 95,
   "metadata": {
    "ExecuteTime": {
     "end_time": "2023-01-28T04:40:54.413290Z",
     "start_time": "2023-01-28T04:40:54.400278Z"
    }
   },
   "outputs": [
    {
     "name": "stdout",
     "output_type": "stream",
     "text": [
      "1:2:3"
     ]
    }
   ],
   "source": [
    "# 다양한 입력 결합 가능\n",
    "def custum_print(value, *args, **kwargs):\n",
    "    print(value, *args, **kwargs)\n",
    "    \n",
    "custum_print(1, 2, 3, sep=':', end='')"
   ]
  },
  {
   "cell_type": "code",
   "execution_count": 96,
   "metadata": {
    "ExecuteTime": {
     "end_time": "2023-01-28T04:40:54.428236Z",
     "start_time": "2023-01-28T04:40:54.414240Z"
    }
   },
   "outputs": [
    {
     "name": "stdout",
     "output_type": "stream",
     "text": [
      "1 2 3\n"
     ]
    }
   ],
   "source": [
    "custum_print(1, 2, 3)"
   ]
  },
  {
   "cell_type": "markdown",
   "metadata": {},
   "source": [
    "## 함수 내 미입력 인수값의 매개변수 자동반영\n",
    "\n",
    "- 함수 만들 때 매개변수에 `초깃값`을 할당하면 생략 가능\n",
    "- 여러개의 입력 중 특정 입력값이 입력되지 않으면 함수내부에서 지정한 값으로 사용\n",
    "- 초깃값으로 고정된 입력은 함수입력 표현에서 `가장 뒤에 배치`해야 함\n",
    "- 초깃값으로 고정되더라도 함수 활용시 `인수에 값을 할당하면 할당값 우선` 적용\n",
    "\n",
    "```python\n",
    "# 함수 생성\n",
    "def 함수이름(매개변수=값):\n",
    "    문장\n",
    "```"
   ]
  },
  {
   "cell_type": "code",
   "execution_count": 97,
   "metadata": {
    "ExecuteTime": {
     "end_time": "2023-01-28T04:40:54.444161Z",
     "start_time": "2023-01-28T04:40:54.430230Z"
    }
   },
   "outputs": [
    {
     "name": "stdout",
     "output_type": "stream",
     "text": [
      "이름:  Nhu\n",
      "나이:  20\n",
      "주소:  인천광역시 남동구\n"
     ]
    }
   ],
   "source": [
    "def personal_info(name, age, address):\n",
    "    print('이름: ', name)\n",
    "    print('나이: ', age)\n",
    "    print('주소: ', address)\n",
    "    \n",
    "personal_info('Nhu', 20, '인천광역시 남동구')"
   ]
  },
  {
   "cell_type": "code",
   "execution_count": 98,
   "metadata": {
    "ExecuteTime": {
     "end_time": "2023-01-28T04:40:54.459171Z",
     "start_time": "2023-01-28T04:40:54.446158Z"
    }
   },
   "outputs": [],
   "source": [
    "# # 입력의 갯수가 맞지 않으면 에러 출력\n",
    "# def personal_info(name, age, address):\n",
    "#     print('이름: ', name)\n",
    "#     print('나이: ', age)\n",
    "#     print('주소: ', address)\n",
    "    \n",
    "# personal_info('KK', 30)"
   ]
  },
  {
   "cell_type": "code",
   "execution_count": 99,
   "metadata": {
    "ExecuteTime": {
     "end_time": "2023-01-28T04:40:54.475133Z",
     "start_time": "2023-01-28T04:40:54.460118Z"
    }
   },
   "outputs": [],
   "source": [
    "# 특정 입력값을 고정 가능\n",
    "def personal_info(name, age, address='비공개'):\n",
    "    print('이름: ', name)\n",
    "    print('나이: ', age)\n",
    "    print('주소: ', address)"
   ]
  },
  {
   "cell_type": "code",
   "execution_count": 100,
   "metadata": {
    "ExecuteTime": {
     "end_time": "2023-01-28T04:40:54.490037Z",
     "start_time": "2023-01-28T04:40:54.476075Z"
    }
   },
   "outputs": [
    {
     "name": "stdout",
     "output_type": "stream",
     "text": [
      "이름:  Nhu\n",
      "나이:  20\n",
      "주소:  비공개\n"
     ]
    }
   ],
   "source": [
    "# 고정된 입력값은 별도 입력하지 않아도 됨\n",
    "personal_info('Nhu', 20)"
   ]
  },
  {
   "cell_type": "code",
   "execution_count": 101,
   "metadata": {
    "ExecuteTime": {
     "end_time": "2023-01-28T04:40:54.504999Z",
     "start_time": "2023-01-28T04:40:54.492033Z"
    }
   },
   "outputs": [
    {
     "name": "stdout",
     "output_type": "stream",
     "text": [
      "이름:  Nhu\n",
      "나이:  20\n",
      "주소:  인천광역시 남동구\n"
     ]
    }
   ],
   "source": [
    "# 고정 입력값이 있더라도 별도 입력시 별도 입력값을 우선함\n",
    "personal_info('Nhu', 20, '인천광역시 남동구')"
   ]
  },
  {
   "cell_type": "code",
   "execution_count": 102,
   "metadata": {
    "ExecuteTime": {
     "end_time": "2023-01-28T04:40:54.520997Z",
     "start_time": "2023-01-28T04:40:54.506992Z"
    }
   },
   "outputs": [],
   "source": [
    "# # 고정입력값은 마지막에 와야만 함\n",
    "# def personal_info(name, address='비공개', age):\n",
    "#     print('이름: ', name)\n",
    "#     print('나이: ', age)\n",
    "#     print('주소: ', address)"
   ]
  },
  {
   "cell_type": "markdown",
   "metadata": {
    "ExecuteTime": {
     "end_time": "2021-10-02T12:44:43.217177Z",
     "start_time": "2021-10-02T12:44:43.208237Z"
    }
   },
   "source": [
    "```python\n",
    "def personal_info(name, age, address='비공개'):\n",
    "def personal_info(name, age=0, address='비공개'):\n",
    "def personal_info(name='비공개', age=0, address='비공개'):\n",
    "```"
   ]
  },
  {
   "cell_type": "markdown",
   "metadata": {},
   "source": [
    "## 함수 내 조건문 사용\n",
    "\n",
    "- 생각하는 조건이 `참(True)`이면 명령을 실행하고 `거짓(False)`이면 명령을 실행하지 않음"
   ]
  },
  {
   "cell_type": "code",
   "execution_count": 103,
   "metadata": {
    "ExecuteTime": {
     "end_time": "2023-01-28T04:40:54.536912Z",
     "start_time": "2023-01-28T04:40:54.521953Z"
    }
   },
   "outputs": [
    {
     "name": "stdout",
     "output_type": "stream",
     "text": [
      "짝수입니다!\n",
      "2의 배수입니다!\n"
     ]
    }
   ],
   "source": [
    "# if ~: 특정 조건을 만족하는 상황 반영\n",
    "a = 4\n",
    "\n",
    "if a % 2 == 0:\n",
    "    print('짝수입니다!')\n",
    "    print('2의 배수입니다!')"
   ]
  },
  {
   "cell_type": "code",
   "execution_count": 104,
   "metadata": {
    "ExecuteTime": {
     "end_time": "2023-01-28T04:40:54.552868Z",
     "start_time": "2023-01-28T04:40:54.538908Z"
    }
   },
   "outputs": [],
   "source": [
    "# 예시 출력 확인\n",
    "a = 5\n",
    "\n",
    "if a % 2 == 0:\n",
    "    print('짝수입니다!')\n",
    "    print('2의 배수입니다!')"
   ]
  },
  {
   "cell_type": "code",
   "execution_count": 105,
   "metadata": {
    "ExecuteTime": {
     "end_time": "2023-01-28T04:40:54.568826Z",
     "start_time": "2023-01-28T04:40:54.553866Z"
    }
   },
   "outputs": [
    {
     "name": "stdout",
     "output_type": "stream",
     "text": [
      "홀수입니다!\n"
     ]
    }
   ],
   "source": [
    "# if ~ else: 특정 조건을 만족하는 경우와 그렇지 않은 경우를 모두 반영\n",
    "a = 5\n",
    "\n",
    "if a % 2 == 0:\n",
    "    print('짝수입니다!')\n",
    "else:\n",
    "    print('홀수입니다!')"
   ]
  },
  {
   "cell_type": "code",
   "execution_count": 106,
   "metadata": {
    "ExecuteTime": {
     "end_time": "2023-01-28T04:40:54.584783Z",
     "start_time": "2023-01-28T04:40:54.570822Z"
    }
   },
   "outputs": [
    {
     "name": "stdout",
     "output_type": "stream",
     "text": [
      "짝수입니다!\n"
     ]
    }
   ],
   "source": [
    "# 예시 출력 확인\n",
    "a = 4\n",
    "\n",
    "if a % 2 == 0:\n",
    "    print('짝수입니다!')\n",
    "else:\n",
    "    print('홀수입니다!')"
   ]
  },
  {
   "cell_type": "code",
   "execution_count": 107,
   "metadata": {
    "ExecuteTime": {
     "end_time": "2023-01-28T04:40:54.600743Z",
     "start_time": "2023-01-28T04:40:54.586781Z"
    }
   },
   "outputs": [
    {
     "name": "stdout",
     "output_type": "stream",
     "text": [
      "적당한 양수\n"
     ]
    }
   ],
   "source": [
    "# if ~ elif ~ else: 여러가지 조건을 중첩하는 경우 반영\n",
    "a = 10\n",
    "\n",
    "if a >= 100:\n",
    "    print('큰 양수')\n",
    "elif a >= 10:\n",
    "    print('적당한 양수')\n",
    "elif a < 0:\n",
    "    print('음수')\n",
    "else:\n",
    "    print('0에 가깝구만유!')"
   ]
  },
  {
   "cell_type": "code",
   "execution_count": 108,
   "metadata": {
    "ExecuteTime": {
     "end_time": "2023-01-28T04:40:54.615703Z",
     "start_time": "2023-01-28T04:40:54.602737Z"
    }
   },
   "outputs": [
    {
     "name": "stdout",
     "output_type": "stream",
     "text": [
      "큰 양수\n"
     ]
    }
   ],
   "source": [
    "# 예시 출력 확인\n",
    "a = 1000\n",
    "\n",
    "if a >= 100:\n",
    "    print('큰 양수')\n",
    "elif a >= 10:\n",
    "    print('적당한 양수')\n",
    "elif a < 0:\n",
    "    print('음수')\n",
    "else:\n",
    "    print('0에 가깝구만유!')"
   ]
  },
  {
   "cell_type": "code",
   "execution_count": 109,
   "metadata": {
    "ExecuteTime": {
     "end_time": "2023-01-28T04:40:54.630661Z",
     "start_time": "2023-01-28T04:40:54.617731Z"
    }
   },
   "outputs": [
    {
     "name": "stdout",
     "output_type": "stream",
     "text": [
      "음수\n"
     ]
    }
   ],
   "source": [
    "# 예시 출력 확인\n",
    "a = -1000\n",
    "\n",
    "if a >= 100:\n",
    "    print('큰 양수')\n",
    "elif a >= 10:\n",
    "    print('적당한 양수')\n",
    "elif a < 0:\n",
    "    print('음수')\n",
    "else:\n",
    "    print('0에 가깝구만유!')"
   ]
  },
  {
   "cell_type": "code",
   "execution_count": 110,
   "metadata": {
    "ExecuteTime": {
     "end_time": "2023-01-28T04:40:54.646620Z",
     "start_time": "2023-01-28T04:40:54.632658Z"
    }
   },
   "outputs": [
    {
     "name": "stdout",
     "output_type": "stream",
     "text": [
      "0에 가깝구만유!\n"
     ]
    }
   ],
   "source": [
    "# 예시 출력 확인\n",
    "a = 5\n",
    "\n",
    "if a >= 100:\n",
    "    print('큰 양수')\n",
    "elif a >= 10:\n",
    "    print('적당한 양수')\n",
    "elif a < 0:\n",
    "    print('음수')\n",
    "else:\n",
    "    print('0에 가깝구만유!')"
   ]
  },
  {
   "cell_type": "code",
   "execution_count": 111,
   "metadata": {
    "ExecuteTime": {
     "end_time": "2023-01-28T04:40:54.662576Z",
     "start_time": "2023-01-28T04:40:54.649611Z"
    }
   },
   "outputs": [
    {
     "name": "stdout",
     "output_type": "stream",
     "text": [
      "0에 가깝구만유!\n"
     ]
    }
   ],
   "source": [
    "# 함수와 결합\n",
    "def num_spec(a):\n",
    "    if a >= 100:\n",
    "        print('큰 양수')\n",
    "    elif a >= 10:\n",
    "        print('적당한 양수')\n",
    "    elif a < 0:\n",
    "        print('음수')\n",
    "    else:\n",
    "        print('0에 가깝구만유!')\n",
    "        \n",
    "y = num_spec(5)\n",
    "y"
   ]
  },
  {
   "cell_type": "code",
   "execution_count": 112,
   "metadata": {
    "ExecuteTime": {
     "end_time": "2023-01-28T04:40:54.678583Z",
     "start_time": "2023-01-28T04:40:54.664597Z"
    }
   },
   "outputs": [
    {
     "name": "stdout",
     "output_type": "stream",
     "text": [
      "큰 양수\n"
     ]
    }
   ],
   "source": [
    "# 1000 입력 후 결과 확인\n",
    "num_spec(1000)"
   ]
  },
  {
   "cell_type": "code",
   "execution_count": 113,
   "metadata": {
    "ExecuteTime": {
     "end_time": "2023-01-28T04:40:54.693494Z",
     "start_time": "2023-01-28T04:40:54.680529Z"
    }
   },
   "outputs": [
    {
     "name": "stdout",
     "output_type": "stream",
     "text": [
      "음수\n"
     ]
    }
   ],
   "source": [
    "# -1000 입력 후 결과 확인\n",
    "num_spec(-1000)"
   ]
  },
  {
   "cell_type": "code",
   "execution_count": 114,
   "metadata": {
    "ExecuteTime": {
     "end_time": "2023-01-28T04:40:54.708499Z",
     "start_time": "2023-01-28T04:40:54.695489Z"
    }
   },
   "outputs": [
    {
     "name": "stdout",
     "output_type": "stream",
     "text": [
      "0에 가깝구만유!\n"
     ]
    }
   ],
   "source": [
    "# 5 입력 후 결과 확인\n",
    "num_spec(5)"
   ]
  },
  {
   "cell_type": "markdown",
   "metadata": {
    "ExecuteTime": {
     "end_time": "2022-04-05T16:40:29.300479Z",
     "start_time": "2022-04-05T16:40:29.286477Z"
    }
   },
   "source": [
    "- **Question:** -99999부터 99999까지의 숫자를 입력받아 숫자가 양수면 숫자의 자리수를 출력하고 음수면 양수로 바꾸어 33으로 나눈 몫의 자리수를 출력하는 프로그램을 만들고 1) 1234을 입력하여 자리수 4을 출력하고, 2) -99990을 입력하여 자리수 4를 출력하라\n",
    "\n",
    "```python\n",
    "# 프로그램(함수) 작성\n",
    "\n",
    "\n",
    "# 자리수 출력1\n",
    "# 함수명(1234)\n",
    "\n",
    "# 자리수 출력2\n",
    "# 함수명(-99990)\n",
    "```"
   ]
  },
  {
   "cell_type": "code",
   "execution_count": 115,
   "metadata": {
    "ExecuteTime": {
     "end_time": "2023-01-28T04:41:08.045952Z",
     "start_time": "2023-01-28T04:40:54.710448Z"
    }
   },
   "outputs": [
    {
     "name": "stdout",
     "output_type": "stream",
     "text": [
      "-99999부터 99999까지의 숫자를 입력하세요: -99990\n",
      "4\n"
     ]
    }
   ],
   "source": [
    "# 프로그램(함수) 작성\n",
    "a = int(input('-99999부터 99999까지의 숫자를 입력하세요: '))\n",
    "\n",
    "# 자리수 출력1\n",
    "# 함수명(123)\n",
    "if a >= 0:\n",
    "    print(len(str(a)))\n",
    "\n",
    "# 자리수 출력2\n",
    "# 함수명(-99990)\n",
    "else:\n",
    "    b = abs(a)\n",
    "    print(len(str(b//33)))\n"
   ]
  },
  {
   "cell_type": "code",
   "execution_count": 116,
   "metadata": {
    "ExecuteTime": {
     "end_time": "2023-01-28T04:41:08.061911Z",
     "start_time": "2023-01-28T04:41:08.047948Z"
    }
   },
   "outputs": [
    {
     "name": "stdout",
     "output_type": "stream",
     "text": [
      "4\n",
      "4\n"
     ]
    }
   ],
   "source": [
    "# 프로그램(함수) 작성\n",
    "def num(a):\n",
    "    if a >= 0:\n",
    "        print(len(str(a)))\n",
    "    else:\n",
    "        b = abs(a)\n",
    "        print(len(str(b//33)))\n",
    "# 자리수 출력1\n",
    "# 함수명(123)\n",
    "c = num(1234)\n",
    "c   \n",
    "\n",
    "# 자리수 출력2\n",
    "# 함수명(-99990)\n",
    "d = num(-99990)\n",
    "d"
   ]
  },
  {
   "cell_type": "markdown",
   "metadata": {},
   "source": [
    "## 함수 내 반복문 사용\n",
    "\n",
    "- 반복 횟수는 상용화 프로그램이 아닌 이상, 보통 유한개의 원소 개수만큼만 반복"
   ]
  },
  {
   "cell_type": "code",
   "execution_count": 117,
   "metadata": {
    "ExecuteTime": {
     "end_time": "2023-01-28T04:41:08.077902Z",
     "start_time": "2023-01-28T04:41:08.064904Z"
    }
   },
   "outputs": [
    {
     "name": "stdout",
     "output_type": "stream",
     "text": [
      "1\n",
      "2\n",
      "3\n",
      "5\n",
      "7\n",
      "10\n"
     ]
    }
   ],
   "source": [
    "# for문으로 숫자 출력\n",
    "num_list = [1,2,3,5,7,10]\n",
    "\n",
    "for num in num_list:\n",
    "    print(num)"
   ]
  },
  {
   "cell_type": "code",
   "execution_count": 118,
   "metadata": {
    "ExecuteTime": {
     "end_time": "2023-01-28T04:41:08.093858Z",
     "start_time": "2023-01-28T04:41:08.079869Z"
    }
   },
   "outputs": [
    {
     "name": "stdout",
     "output_type": "stream",
     "text": [
      "5\n",
      "7\n",
      "10\n"
     ]
    }
   ],
   "source": [
    "# if문과의 결합\n",
    "num_list = [1,2,3,5,7,10]\n",
    "\n",
    "for num in num_list:\n",
    "    if num >= 5:\n",
    "        print(num)"
   ]
  },
  {
   "cell_type": "code",
   "execution_count": 119,
   "metadata": {
    "ExecuteTime": {
     "end_time": "2023-01-28T04:41:08.109783Z",
     "start_time": "2023-01-28T04:41:08.096820Z"
    }
   },
   "outputs": [
    {
     "name": "stdout",
     "output_type": "stream",
     "text": [
      "5\n",
      "10\n",
      "125\n",
      "\n",
      "\n",
      "7\n",
      "14\n",
      "343\n",
      "\n",
      "\n",
      "10\n",
      "20\n",
      "1000\n",
      "\n",
      "\n"
     ]
    }
   ],
   "source": [
    "# if문과의 결합\n",
    "num_list = [1,2,3,5,7,10]\n",
    "\n",
    "for num in num_list:\n",
    "    if num >= 5:\n",
    "        print(num)\n",
    "        print(num*2)\n",
    "        print(num**3)\n",
    "        print('\\n')"
   ]
  },
  {
   "cell_type": "code",
   "execution_count": 120,
   "metadata": {
    "ExecuteTime": {
     "end_time": "2023-01-28T04:41:08.125742Z",
     "start_time": "2023-01-28T04:41:08.110781Z"
    }
   },
   "outputs": [
    {
     "name": "stdout",
     "output_type": "stream",
     "text": [
      "5\n",
      "7\n",
      "10\n"
     ]
    },
    {
     "data": {
      "text/plain": [
       "[10, 14, 20]"
      ]
     },
     "execution_count": 120,
     "metadata": {},
     "output_type": "execute_result"
    }
   ],
   "source": [
    "# 값의 저장\n",
    "blank = []\n",
    "for num in num_list:\n",
    "    if num >= 5:\n",
    "        print(num)\n",
    "        blank.append(num*2) \n",
    "\n",
    "blank"
   ]
  },
  {
   "cell_type": "code",
   "execution_count": 121,
   "metadata": {
    "ExecuteTime": {
     "end_time": "2023-01-28T04:41:08.141730Z",
     "start_time": "2023-01-28T04:41:08.127735Z"
    }
   },
   "outputs": [
    {
     "data": {
      "text/plain": [
       "[10, 14, 20]"
      ]
     },
     "execution_count": 121,
     "metadata": {},
     "output_type": "execute_result"
    }
   ],
   "source": [
    "# 함수와 결합\n",
    "def multiple_list(num_list, criteria):\n",
    "    blank = []\n",
    "    for num in num_list:\n",
    "        if num >= criteria:\n",
    "            blank.append(num*2)\n",
    "    return blank\n",
    "\n",
    "multiple_list([1,2,3,5,7,10], 5)"
   ]
  },
  {
   "cell_type": "code",
   "execution_count": 122,
   "metadata": {
    "ExecuteTime": {
     "end_time": "2023-01-28T04:41:08.157654Z",
     "start_time": "2023-01-28T04:41:08.143690Z"
    }
   },
   "outputs": [
    {
     "data": {
      "text/plain": [
       "[6, 10, 14, 18, 22]"
      ]
     },
     "execution_count": 122,
     "metadata": {},
     "output_type": "execute_result"
    }
   ],
   "source": [
    "# 예시 결과 확인\n",
    "multiple_list([1,3,5,7,9,11], 3)"
   ]
  },
  {
   "cell_type": "code",
   "execution_count": 123,
   "metadata": {
    "ExecuteTime": {
     "end_time": "2023-01-28T04:41:08.173661Z",
     "start_time": "2023-01-28T04:41:08.160647Z"
    }
   },
   "outputs": [
    {
     "data": {
      "text/plain": [
       "[22]"
      ]
     },
     "execution_count": 123,
     "metadata": {},
     "output_type": "execute_result"
    }
   ],
   "source": [
    "# 예시 결과 확인\n",
    "multiple_list([1,3,5,7,9,11], 10)"
   ]
  },
  {
   "cell_type": "code",
   "execution_count": 124,
   "metadata": {
    "ExecuteTime": {
     "end_time": "2023-01-28T04:41:08.189568Z",
     "start_time": "2023-01-28T04:41:08.175606Z"
    }
   },
   "outputs": [
    {
     "data": {
      "text/plain": [
       "[10, 14, 20]"
      ]
     },
     "execution_count": 124,
     "metadata": {},
     "output_type": "execute_result"
    }
   ],
   "source": [
    "# 함수와 결합\n",
    "def multiple_list(num_list, criteria=5):\n",
    "    blank = []\n",
    "    for num in num_list:\n",
    "        if num >= criteria:\n",
    "            blank.append(num*2)\n",
    "    return blank\n",
    "\n",
    "multiple_list([1,2,3,5,7,10])"
   ]
  },
  {
   "cell_type": "code",
   "execution_count": 125,
   "metadata": {
    "ExecuteTime": {
     "end_time": "2023-01-28T04:41:08.204577Z",
     "start_time": "2023-01-28T04:41:08.191604Z"
    }
   },
   "outputs": [
    {
     "data": {
      "text/plain": [
       "[14, 20]"
      ]
     },
     "execution_count": 125,
     "metadata": {},
     "output_type": "execute_result"
    }
   ],
   "source": [
    "# 예시 결과 확인\n",
    "multiple_list([1,2,3,5,7,10], 7)"
   ]
  },
  {
   "cell_type": "code",
   "execution_count": 126,
   "metadata": {
    "ExecuteTime": {
     "end_time": "2023-01-28T04:41:08.219538Z",
     "start_time": "2023-01-28T04:41:08.205526Z"
    }
   },
   "outputs": [
    {
     "name": "stdout",
     "output_type": "stream",
     "text": [
      "1\n",
      "2\n",
      "3\n",
      "4\n"
     ]
    }
   ],
   "source": [
    "# while ~\n",
    "num = 1\n",
    "\n",
    "while num < 5:\n",
    "    print(num)\n",
    "    num = num + 1"
   ]
  },
  {
   "cell_type": "code",
   "execution_count": 127,
   "metadata": {
    "ExecuteTime": {
     "end_time": "2023-01-28T04:41:08.234480Z",
     "start_time": "2023-01-28T04:41:08.220486Z"
    }
   },
   "outputs": [
    {
     "name": "stdout",
     "output_type": "stream",
     "text": [
      "1\n",
      "2\n",
      "3\n",
      "4\n"
     ]
    }
   ],
   "source": [
    "# for + if 를 결합하여 결과 복제\n",
    "for num in [1,2,3,4,5,6,7,8,9]:\n",
    "    if num < 5:\n",
    "        print(num)"
   ]
  },
  {
   "cell_type": "code",
   "execution_count": 128,
   "metadata": {
    "ExecuteTime": {
     "end_time": "2023-01-28T04:41:08.250410Z",
     "start_time": "2023-01-28T04:41:08.235446Z"
    }
   },
   "outputs": [
    {
     "name": "stdout",
     "output_type": "stream",
     "text": [
      "before:  1\n",
      "after:  2\n",
      "\n",
      "\n",
      "before:  2\n",
      "after:  4\n",
      "\n",
      "\n",
      "before:  3\n",
      "after:  6\n",
      "\n",
      "\n",
      "before:  4\n",
      "after:  8\n",
      "\n",
      "\n"
     ]
    }
   ],
   "source": [
    "num = 1\n",
    "\n",
    "while num < 5:\n",
    "    print('before: ', num)\n",
    "    print('after: ', num*2)\n",
    "    print('\\n')\n",
    "    num = num + 1"
   ]
  },
  {
   "cell_type": "code",
   "execution_count": 129,
   "metadata": {
    "ExecuteTime": {
     "end_time": "2023-01-28T04:41:08.266363Z",
     "start_time": "2023-01-28T04:41:08.252402Z"
    }
   },
   "outputs": [
    {
     "name": "stdout",
     "output_type": "stream",
     "text": [
      "before:  1\n",
      "after:  2\n",
      "\n",
      "\n",
      "before:  2\n",
      "after:  4\n",
      "\n",
      "\n",
      "before:  3\n",
      "after:  6\n",
      "\n",
      "\n",
      "before:  4\n",
      "after:  8\n",
      "\n",
      "\n"
     ]
    }
   ],
   "source": [
    "# 함수와의 결합\n",
    "def num2(num):\n",
    "    while num < 5:\n",
    "        print('before: ', num)\n",
    "        print('after: ', num*2)\n",
    "        print('\\n')\n",
    "        num = num + 1\n",
    "\n",
    "num2(1)"
   ]
  },
  {
   "cell_type": "code",
   "execution_count": 130,
   "metadata": {
    "ExecuteTime": {
     "end_time": "2023-01-28T04:41:08.281324Z",
     "start_time": "2023-01-28T04:41:08.269355Z"
    }
   },
   "outputs": [
    {
     "name": "stdout",
     "output_type": "stream",
     "text": [
      "before:  2\n",
      "after:  4\n",
      "\n",
      "\n",
      "before:  3\n",
      "after:  6\n",
      "\n",
      "\n",
      "before:  4\n",
      "after:  8\n",
      "\n",
      "\n"
     ]
    }
   ],
   "source": [
    "# 예시 결과 확인\n",
    "num2(2)"
   ]
  },
  {
   "cell_type": "code",
   "execution_count": 131,
   "metadata": {
    "ExecuteTime": {
     "end_time": "2023-01-28T04:41:08.296283Z",
     "start_time": "2023-01-28T04:41:08.282321Z"
    }
   },
   "outputs": [
    {
     "name": "stdout",
     "output_type": "stream",
     "text": [
      "[2]\n",
      "[2, 4]\n",
      "[2, 4, 6]\n",
      "[2, 4, 6, 8]\n",
      "[2, 4, 6, 8, 10]\n"
     ]
    }
   ],
   "source": [
    "# while ~ break: 특정 상황에서 조건문을 빠져나오기 위해 break 명령을 사용\n",
    "num = 1\n",
    "\n",
    "blank = []\n",
    "while True:\n",
    "    blank.append(num*2)\n",
    "    print(blank)\n",
    "    if len(blank) == 5:\n",
    "        break\n",
    "    num = num + 1"
   ]
  },
  {
   "cell_type": "code",
   "execution_count": 132,
   "metadata": {
    "ExecuteTime": {
     "end_time": "2023-01-28T04:41:08.311285Z",
     "start_time": "2023-01-28T04:41:08.298318Z"
    }
   },
   "outputs": [
    {
     "name": "stdout",
     "output_type": "stream",
     "text": [
      "[2]\n",
      "[2, 4]\n",
      "[2, 4, 6]\n",
      "[2, 4, 6, 8]\n",
      "[2, 4, 6, 8, 10]\n"
     ]
    }
   ],
   "source": [
    "# 함수와의 결합\n",
    "def numseq2(num):\n",
    "    blank = []\n",
    "    while True:\n",
    "        blank.append(num*2)\n",
    "        print(blank)\n",
    "        if len(blank) == 5:\n",
    "            break\n",
    "        num = num + 1    \n",
    "        \n",
    "numseq2(1)"
   ]
  },
  {
   "cell_type": "code",
   "execution_count": 133,
   "metadata": {
    "ExecuteTime": {
     "end_time": "2023-01-28T04:41:08.327239Z",
     "start_time": "2023-01-28T04:41:08.313267Z"
    }
   },
   "outputs": [
    {
     "name": "stdout",
     "output_type": "stream",
     "text": [
      "[6]\n",
      "[6, 8]\n",
      "[6, 8, 10]\n",
      "[6, 8, 10, 12]\n",
      "[6, 8, 10, 12, 14]\n"
     ]
    }
   ],
   "source": [
    "# 예시 결과 확인\n",
    "numseq2(3)"
   ]
  },
  {
   "cell_type": "code",
   "execution_count": 134,
   "metadata": {
    "ExecuteTime": {
     "end_time": "2023-01-28T04:41:08.342160Z",
     "start_time": "2023-01-28T04:41:08.329197Z"
    }
   },
   "outputs": [
    {
     "name": "stdout",
     "output_type": "stream",
     "text": [
      "[1, 2, 3, 4, 5, 6, 7, 8, 9, 10, 11, 12, 13, 14, 15, 16, 17, 18, 19, 20, 21, 22, 23, 24, 25, 26, 27, 28, 29, 30, 31, 32, 33, 34, 35, 36, 37, 38, 39, 40, 41, 42, 43, 44, 45]\n",
      "[28, 26, 2, 8, 3, 6, 33, 45, 40, 38, 29, 41, 27, 34, 1, 32, 43, 9, 21, 15, 16, 13, 20, 39, 10, 23, 14, 18, 25, 44, 30, 37, 5, 7, 17, 19, 24, 35, 11, 31, 42, 36, 22, 12, 4]\n"
     ]
    }
   ],
   "source": [
    "# 랜덤 값 생성 내장함수 사용하여 임의 값 출력\n",
    "import random\n",
    "\n",
    "samples = list(range(1,46))\n",
    "print(samples)\n",
    "random.shuffle(samples)\n",
    "print(samples)"
   ]
  },
  {
   "cell_type": "code",
   "execution_count": 135,
   "metadata": {
    "ExecuteTime": {
     "end_time": "2023-01-28T04:41:08.357120Z",
     "start_time": "2023-01-28T04:41:08.344157Z"
    }
   },
   "outputs": [
    {
     "name": "stdout",
     "output_type": "stream",
     "text": [
      "None\n"
     ]
    }
   ],
   "source": [
    "# 계산값을 random.shuffle에 바로 사용시 사용 불가\n",
    "samples_test = random.shuffle(list(range(1,46)))\n",
    "print(samples_test)"
   ]
  },
  {
   "cell_type": "code",
   "execution_count": 136,
   "metadata": {
    "ExecuteTime": {
     "end_time": "2023-01-28T04:41:08.373127Z",
     "start_time": "2023-01-28T04:41:08.359116Z"
    }
   },
   "outputs": [
    {
     "name": "stdout",
     "output_type": "stream",
     "text": [
      "6\n",
      "5\n",
      "4\n",
      "3\n",
      "1\n",
      "8\n",
      "[6, 5, 4, 3, 1, 8]\n"
     ]
    }
   ],
   "source": [
    "# 중복된 값이 가능한 로또 번호 6개 출력\n",
    "samples = list(range(1,10))\n",
    "\n",
    "lotto = []\n",
    "while len(lotto) < 6:\n",
    "    random.shuffle(samples)\n",
    "    num_selected = samples[0]\n",
    "    \n",
    "    print(num_selected)\n",
    "    lotto.append(num_selected)\n",
    "print(lotto)"
   ]
  },
  {
   "cell_type": "markdown",
   "metadata": {},
   "source": [
    "- **Question:** 위 로또번호 생성기에, 1) `continue/break` 문을 사용하여 중복되지 않는 번호 6개를 출력하는 프로그램(함수)을 `lotto`라는 이름으로 만들고, 2) 아래 코드 실행시 100이내의 정수 중 중복되지 않는 로또번호가 6개를 출력하시오\n",
    "\n",
    "```python\n",
    "# 프로그램\n",
    "\n",
    "# 로또번호 생성\n",
    "y = lotto(100)\n",
    "y\n",
    "```"
   ]
  },
  {
   "cell_type": "code",
   "execution_count": 137,
   "metadata": {
    "ExecuteTime": {
     "end_time": "2023-01-28T04:41:08.388072Z",
     "start_time": "2023-01-28T04:41:08.374075Z"
    },
    "code_folding": [
     2
    ]
   },
   "outputs": [
    {
     "name": "stdout",
     "output_type": "stream",
     "text": [
      "[12, 27, 31, 35, 40, 57]\n"
     ]
    }
   ],
   "source": [
    "# 로또 함수 작성\n",
    "import random \n",
    "\n",
    "def get_random_number():\n",
    "    num = random.randint(1, 101)\n",
    "    return num #  1~101 난수를뽑아 number에 반환하는 함수 생성.\n",
    "\n",
    "lotto_num = [] # 표준출력 오름차순으로 구하려면 리스트 sort사용.\n",
    "\n",
    "while True: # 조건3: 중복이 나올 수 있으니 6개 뽑기보단 무한루프로 일단 돌리기\n",
    "    random_num = get_random_number() # random_num에 반환된 num 저장\n",
    "    if random_num not in lotto_num: # 그 반환된 num이 리스트에 없다면?\n",
    "        lotto_num.append(random_num) # 리스트에 넣기!\n",
    "    if len(lotto_num) == 6: # 리스트 길이가 6이되면 반복문 탈출\n",
    "        break\n",
    "\n",
    "lotto_num.sort() # 오름차순 정렬\n",
    "\n",
    "print(lotto_num)"
   ]
  },
  {
   "cell_type": "markdown",
   "metadata": {},
   "source": [
    "## 다양한 내장함수 사용\n",
    "\n",
    "- `anaconda` 설치시 파이썬이 함께 설치가 되고, 그 파이썬 **`내부`** 에 포함되어 있는 함수"
   ]
  },
  {
   "cell_type": "code",
   "execution_count": 138,
   "metadata": {
    "ExecuteTime": {
     "end_time": "2023-01-28T04:41:08.403047Z",
     "start_time": "2023-01-28T04:41:08.389089Z"
    }
   },
   "outputs": [
    {
     "data": {
      "text/plain": [
       "55"
      ]
     },
     "execution_count": 138,
     "metadata": {},
     "output_type": "execute_result"
    }
   ],
   "source": [
    "# 합계\n",
    "samples = [1,2,3,4,5,6,7,8,9,10]\n",
    "sum(samples)"
   ]
  },
  {
   "cell_type": "code",
   "execution_count": 139,
   "metadata": {
    "ExecuteTime": {
     "end_time": "2023-01-28T04:41:08.419004Z",
     "start_time": "2023-01-28T04:41:08.403997Z"
    }
   },
   "outputs": [
    {
     "name": "stdout",
     "output_type": "stream",
     "text": [
      "[1, 2, 3, 4, 5, 6, 7, 8, 9, 10]\n",
      "55\n"
     ]
    }
   ],
   "source": [
    "# 합계 내장함수와 동일한 결과가 나오는 반복문 생성\n",
    "samples = list(range(1,11))\n",
    "print(samples)\n",
    "\n",
    "num_sum = 0\n",
    "for i in samples:\n",
    "    num_sum = num_sum + i\n",
    "print(num_sum)"
   ]
  },
  {
   "cell_type": "code",
   "execution_count": 140,
   "metadata": {
    "ExecuteTime": {
     "end_time": "2023-01-28T04:41:08.434914Z",
     "start_time": "2023-01-28T04:41:08.420952Z"
    }
   },
   "outputs": [
    {
     "data": {
      "text/plain": [
       "10"
      ]
     },
     "execution_count": 140,
     "metadata": {},
     "output_type": "execute_result"
    }
   ],
   "source": [
    "# 최대값\n",
    "max(samples)"
   ]
  },
  {
   "cell_type": "code",
   "execution_count": 141,
   "metadata": {
    "ExecuteTime": {
     "end_time": "2023-01-28T04:41:08.450918Z",
     "start_time": "2023-01-28T04:41:08.436939Z"
    }
   },
   "outputs": [
    {
     "data": {
      "text/plain": [
       "1"
      ]
     },
     "execution_count": 141,
     "metadata": {},
     "output_type": "execute_result"
    }
   ],
   "source": [
    "# 최소값\n",
    "min(samples)"
   ]
  },
  {
   "cell_type": "code",
   "execution_count": 142,
   "metadata": {
    "ExecuteTime": {
     "end_time": "2023-01-28T04:41:08.466875Z",
     "start_time": "2023-01-28T04:41:08.451867Z"
    }
   },
   "outputs": [
    {
     "data": {
      "text/plain": [
       "10"
      ]
     },
     "execution_count": 142,
     "metadata": {},
     "output_type": "execute_result"
    }
   ],
   "source": [
    "# 길이\n",
    "len(samples)"
   ]
  },
  {
   "cell_type": "code",
   "execution_count": 143,
   "metadata": {
    "ExecuteTime": {
     "end_time": "2023-01-28T04:41:08.482832Z",
     "start_time": "2023-01-28T04:41:08.468824Z"
    }
   },
   "outputs": [
    {
     "name": "stdout",
     "output_type": "stream",
     "text": [
      "10\n",
      "11\n",
      "12\n",
      "13\n",
      "14\n",
      "15\n",
      "16\n",
      "17\n",
      "18\n",
      "19\n"
     ]
    }
   ],
   "source": [
    "samples = list(range(10,20))\n",
    "\n",
    "for num in samples:\n",
    "    print(num)"
   ]
  },
  {
   "cell_type": "code",
   "execution_count": 144,
   "metadata": {
    "ExecuteTime": {
     "end_time": "2023-01-28T04:41:08.498789Z",
     "start_time": "2023-01-28T04:41:08.483782Z"
    }
   },
   "outputs": [
    {
     "name": "stdout",
     "output_type": "stream",
     "text": [
      "0 10\n",
      "1 11\n",
      "2 12\n",
      "3 13\n",
      "4 14\n",
      "5 15\n",
      "6 16\n",
      "7 17\n",
      "8 18\n",
      "9 19\n"
     ]
    }
   ],
   "source": [
    "# 개별 순서와 값을 반환하는 함수 작성\n",
    "samples = list(range(10,20))\n",
    "\n",
    "for i, num in enumerate(samples):\n",
    "    print(i, num)"
   ]
  },
  {
   "cell_type": "code",
   "execution_count": 145,
   "metadata": {
    "ExecuteTime": {
     "end_time": "2023-01-28T04:41:08.514748Z",
     "start_time": "2023-01-28T04:41:08.500737Z"
    }
   },
   "outputs": [
    {
     "data": {
      "text/plain": [
       "range(0, 10)"
      ]
     },
     "execution_count": 145,
     "metadata": {},
     "output_type": "execute_result"
    }
   ],
   "source": [
    "# 특정 범위의 배열을 만드는 함수: range(시작, 끝)\n",
    "range(0,10)"
   ]
  },
  {
   "cell_type": "code",
   "execution_count": 146,
   "metadata": {
    "ExecuteTime": {
     "end_time": "2023-01-28T04:41:08.529659Z",
     "start_time": "2023-01-28T04:41:08.515697Z"
    }
   },
   "outputs": [
    {
     "name": "stdout",
     "output_type": "stream",
     "text": [
      "0\n",
      "1\n",
      "2\n",
      "3\n",
      "4\n",
      "5\n",
      "6\n",
      "7\n",
      "8\n",
      "9\n"
     ]
    }
   ],
   "source": [
    "# range 내장함수 사용 값 출력\n",
    "for i in range(0,10):\n",
    "    print(i)"
   ]
  },
  {
   "cell_type": "code",
   "execution_count": 147,
   "metadata": {
    "ExecuteTime": {
     "end_time": "2023-01-28T04:41:08.544620Z",
     "start_time": "2023-01-28T04:41:08.530657Z"
    }
   },
   "outputs": [
    {
     "data": {
      "text/plain": [
       "3"
      ]
     },
     "execution_count": 147,
     "metadata": {},
     "output_type": "execute_result"
    }
   ],
   "source": [
    "# 정수형으로 변환\n",
    "int(3.14)"
   ]
  },
  {
   "cell_type": "code",
   "execution_count": 148,
   "metadata": {
    "ExecuteTime": {
     "end_time": "2023-01-28T04:41:08.560577Z",
     "start_time": "2023-01-28T04:41:08.546615Z"
    }
   },
   "outputs": [
    {
     "data": {
      "text/plain": [
       "'3.14'"
      ]
     },
     "execution_count": 148,
     "metadata": {},
     "output_type": "execute_result"
    }
   ],
   "source": [
    "# 문자열로 변환\n",
    "str(3.14)"
   ]
  },
  {
   "cell_type": "code",
   "execution_count": 149,
   "metadata": {
    "ExecuteTime": {
     "end_time": "2023-01-28T04:41:08.576535Z",
     "start_time": "2023-01-28T04:41:08.562572Z"
    }
   },
   "outputs": [
    {
     "data": {
      "text/plain": [
       "3"
      ]
     },
     "execution_count": 149,
     "metadata": {},
     "output_type": "execute_result"
    }
   ],
   "source": [
    "# 반올림\n",
    "round(3.14)"
   ]
  },
  {
   "cell_type": "code",
   "execution_count": 150,
   "metadata": {
    "ExecuteTime": {
     "end_time": "2023-01-28T04:41:08.592491Z",
     "start_time": "2023-01-28T04:41:08.578530Z"
    }
   },
   "outputs": [
    {
     "name": "stdout",
     "output_type": "stream",
     "text": [
      "[1, 2, 3, 4, 5, 6, 7, 8, 9]\n",
      "[9, 8, 7, 6, 5, 4, 3, 2, 1]\n"
     ]
    }
   ],
   "source": [
    "# 값들의 순서를 바꿈\n",
    "samples = list(range(1,10))\n",
    "print(samples)\n",
    "reverse_samples = list(reversed(samples))\n",
    "print(reverse_samples)"
   ]
  },
  {
   "cell_type": "code",
   "execution_count": 151,
   "metadata": {
    "ExecuteTime": {
     "end_time": "2023-01-28T04:41:08.608476Z",
     "start_time": "2023-01-28T04:41:08.594498Z"
    }
   },
   "outputs": [
    {
     "data": {
      "text/plain": [
       "[1, 2, 3, 4, 5, 6, 7, 8, 9]"
      ]
     },
     "execution_count": 151,
     "metadata": {},
     "output_type": "execute_result"
    }
   ],
   "source": [
    "# 오름차순\n",
    "sorted(reverse_samples)"
   ]
  },
  {
   "cell_type": "code",
   "execution_count": 152,
   "metadata": {
    "ExecuteTime": {
     "end_time": "2023-01-28T04:41:08.624405Z",
     "start_time": "2023-01-28T04:41:08.610443Z"
    }
   },
   "outputs": [
    {
     "data": {
      "text/plain": [
       "<zip at 0x1aa0695d440>"
      ]
     },
     "execution_count": 152,
     "metadata": {},
     "output_type": "execute_result"
    }
   ],
   "source": [
    "# 값들의 짝을 이루게하여 반복문에 많이 사용됨\n",
    "# 짝을 이룰 값들의 길이는 서로 같아야 함\n",
    "chars = ['a','b','c']\n",
    "nums = [1,2,3]\n",
    "zip(chars, nums)"
   ]
  },
  {
   "cell_type": "code",
   "execution_count": 153,
   "metadata": {
    "ExecuteTime": {
     "end_time": "2023-01-28T04:41:08.640363Z",
     "start_time": "2023-01-28T04:41:08.626403Z"
    }
   },
   "outputs": [
    {
     "data": {
      "text/plain": [
       "[('a', 1), ('b', 2), ('c', 3)]"
      ]
     },
     "execution_count": 153,
     "metadata": {},
     "output_type": "execute_result"
    }
   ],
   "source": [
    "# 짝을 이룬 값들 출력\n",
    "list(zip(chars, nums))"
   ]
  },
  {
   "cell_type": "code",
   "execution_count": 154,
   "metadata": {
    "ExecuteTime": {
     "end_time": "2023-01-28T04:41:08.656357Z",
     "start_time": "2023-01-28T04:41:08.641363Z"
    }
   },
   "outputs": [
    {
     "data": {
      "text/plain": [
       "{'a': 1, 'b': 2, 'c': 3}"
      ]
     },
     "execution_count": 154,
     "metadata": {},
     "output_type": "execute_result"
    }
   ],
   "source": [
    "# 다양한 출력 가능\n",
    "dict(zip(chars, nums))"
   ]
  },
  {
   "cell_type": "markdown",
   "metadata": {},
   "source": [
    "## 사용자 정의 함수를 내장함수처럼 사용"
   ]
  },
  {
   "cell_type": "code",
   "execution_count": 155,
   "metadata": {
    "ExecuteTime": {
     "end_time": "2023-01-28T04:41:08.672325Z",
     "start_time": "2023-01-28T04:41:08.658315Z"
    }
   },
   "outputs": [
    {
     "data": {
      "text/plain": [
       "2"
      ]
     },
     "execution_count": 155,
     "metadata": {},
     "output_type": "execute_result"
    }
   ],
   "source": [
    "# 5 나누기 3의 나머지 출력 함수 작성\n",
    "def calculator(a, b):\n",
    "    result = a % b\n",
    "    return result\n",
    "\n",
    "calculator(5,3)"
   ]
  },
  {
   "cell_type": "code",
   "execution_count": 156,
   "metadata": {
    "ExecuteTime": {
     "end_time": "2023-01-28T04:41:08.688272Z",
     "start_time": "2023-01-28T04:41:08.673275Z"
    }
   },
   "outputs": [
    {
     "data": {
      "text/plain": [
       "0"
      ]
     },
     "execution_count": 156,
     "metadata": {},
     "output_type": "execute_result"
    }
   ],
   "source": [
    "# 예시 확인\n",
    "calculator(2,2)"
   ]
  },
  {
   "cell_type": "code",
   "execution_count": 157,
   "metadata": {
    "ExecuteTime": {
     "end_time": "2023-01-28T04:41:08.704246Z",
     "start_time": "2023-01-28T04:41:08.690230Z"
    }
   },
   "outputs": [
    {
     "data": {
      "text/plain": [
       "1"
      ]
     },
     "execution_count": 157,
     "metadata": {},
     "output_type": "execute_result"
    }
   ],
   "source": [
    "# 예시 확인\n",
    "calculator(10,3)"
   ]
  },
  {
   "cell_type": "code",
   "execution_count": 158,
   "metadata": {
    "ExecuteTime": {
     "end_time": "2023-01-28T04:41:08.720199Z",
     "start_time": "2023-01-28T04:41:08.705191Z"
    },
    "scrolled": true
   },
   "outputs": [
    {
     "name": "stdout",
     "output_type": "stream",
     "text": [
      "2\n",
      "0\n",
      "1\n"
     ]
    }
   ],
   "source": [
    "# 위 함수 활용 3가지 케이스 나머지 모두 출력\n",
    "pairs = [(5,3), (2,2), (10,3)]\n",
    "for a, b in pairs:\n",
    "    modulo = calculator(a,b)\n",
    "    print(modulo)"
   ]
  },
  {
   "cell_type": "code",
   "execution_count": 159,
   "metadata": {
    "ExecuteTime": {
     "end_time": "2023-01-28T04:41:08.736157Z",
     "start_time": "2023-01-28T04:41:08.722145Z"
    }
   },
   "outputs": [
    {
     "name": "stdout",
     "output_type": "stream",
     "text": [
      "30\n",
      "200\n"
     ]
    }
   ],
   "source": [
    "# 함수의 중첩\n",
    "def mul(a, b):\n",
    "    c = a * b\n",
    "    return c\n",
    " \n",
    "def add(a, b):\n",
    "    c = a + b\n",
    "    print(c)\n",
    "    d = mul(a, b)\n",
    "    print(d)\n",
    "    \n",
    "x = 10\n",
    "y = 20\n",
    "add(x, y)"
   ]
  },
  {
   "cell_type": "code",
   "execution_count": 160,
   "metadata": {
    "ExecuteTime": {
     "end_time": "2023-01-28T04:41:08.752065Z",
     "start_time": "2023-01-28T04:41:08.738102Z"
    }
   },
   "outputs": [
    {
     "data": {
      "text/plain": [
       "{(5, 3): 2, (2, 2): 0, (10, 3): 1}"
      ]
     },
     "execution_count": 160,
     "metadata": {},
     "output_type": "execute_result"
    }
   ],
   "source": [
    "# 중첩 함수로 계산기 만들기\n",
    "def calculator(a, b):\n",
    "    result = a % b\n",
    "    return result\n",
    "\n",
    "def calculator_final(pairs):\n",
    "    result = dict()\n",
    "    for a, b in pairs:\n",
    "        modulo = calculator(a,b)\n",
    "        result[(a,b)] = modulo\n",
    "    return result\n",
    "\n",
    "pairs = [(5,3), (2,2), (10,3)]\n",
    "calculator_final(pairs)"
   ]
  },
  {
   "cell_type": "markdown",
   "metadata": {},
   "source": [
    "- **Question:** 아래 2개의 변수값을 입력받아 1) `몫`을 구하는 프로그램, 2) `나머지`를 구하는 프로그램, 3) 그리고 1)과2)를 중첩함수로 `한꺼번에 몫과 나머지`를 출력하는 프로그램을 작성하고, 4) 3)에서 만든 프로그램을 이용해 아래 `예시의 입력에 대한 몫과 나머지를 출력`하시오\n",
    "\n",
    "```python\n",
    "# 프로그램(함수)\n",
    "# 1) 몫을 출력하는 프로그램\n",
    "\n",
    "# 2) 나머지를 출력하는 프로그램\n",
    "\n",
    "# 3) 1)과 2) 함수를 사용하여 한꺼번에 몫과 나머지를 출력하는 프로그램\n",
    "\n",
    "\n",
    "# 입력\n",
    "# 3)에서 만든 프로그램 활용 몫과 나머지 출력\n",
    "x, y = 10, 3\n",
    "```"
   ]
  },
  {
   "cell_type": "code",
   "execution_count": 161,
   "metadata": {
    "ExecuteTime": {
     "end_time": "2023-01-28T04:41:08.768023Z",
     "start_time": "2023-01-28T04:41:08.753063Z"
    }
   },
   "outputs": [
    {
     "name": "stdout",
     "output_type": "stream",
     "text": [
      "1\n",
      "3\n"
     ]
    }
   ],
   "source": [
    "# 프로그램(함수)\n",
    "# 1) 몫을 출력하는 프로그램\n",
    "def quotient(x,y):\n",
    "    q = x // y\n",
    "    return q\n",
    "   \n",
    "# 2) 나머지를 출력하는 프로그램\n",
    "def remainder(x,y):\n",
    "    q = x % y\n",
    "    print(q)\n",
    "    r = quotient(x,y)\n",
    "    print(r)\n",
    "# 입력\n",
    "x, y = 10, 3\n",
    "\n",
    "remainder(x,y)"
   ]
  },
  {
   "cell_type": "code",
   "execution_count": 162,
   "metadata": {
    "ExecuteTime": {
     "end_time": "2023-01-28T04:41:08.783980Z",
     "start_time": "2023-01-28T04:41:08.769021Z"
    }
   },
   "outputs": [
    {
     "name": "stdout",
     "output_type": "stream",
     "text": [
      "몫: 3, 나머지: 1\n"
     ]
    }
   ],
   "source": [
    "def quotient_remainder(a, b):\n",
    "    return a // b, a % b\n",
    "quotient, remainder = quotient_remainder(x, y)\n",
    "print('몫: {0}, 나머지: {1}'.format(quotient, remainder))\n",
    "x = 10\n",
    "y = 3"
   ]
  },
  {
   "cell_type": "code",
   "execution_count": 163,
   "metadata": {
    "ExecuteTime": {
     "end_time": "2023-01-28T04:41:08.799936Z",
     "start_time": "2023-01-28T04:41:08.786009Z"
    }
   },
   "outputs": [],
   "source": [
    "# 프로그램(함수)\n",
    "# 1) 몫을 출력하는 프로그램\n",
    "\n",
    "# 2) 나머지를 출력하는 프로그램\n",
    "\n",
    "# 3) 1)과 2) 함수를 사용하여 한꺼번에 몫과 나머지를 출력하는 프로그램\n",
    "\n",
    "\n",
    "# 입력\n",
    "# 3)에서 만든 프로그램 활용 몫과 나머지 출력\n",
    "x, y = 10, 3\n",
    "\n",
    "# 출력\n"
   ]
  },
  {
   "cell_type": "markdown",
   "metadata": {},
   "source": [
    "## 사용자 정의 함수를 내장함수처럼 설명\n",
    "\n",
    "- **독스트링(문서화 문자열, documentation strings, docstring):** 함수의 `콜론(:)` 다음줄에 `\"\"\" \"\"\"(큰따옴표 3개 묶음)`으로 문자열을 입력하면 함수에 대한 설명 반영\n",
    "- `' '(작은따옴표)`, `\" \"(큰따옴표)`, `''' '''(작은따옴표 3개)`로 만들어도 되지만, 파이썬 코딩 스타일 가이드(PEP 8)에서는 `\"\"\" \"\"\"(큰따옴표 3개)`를 권장\n",
    "\n",
    "```python\n",
    "# 함수 생성\n",
    "def 함수이름(매개변수):\n",
    "    \"\"\"독스트링\"\"\"\n",
    "    문장\n",
    " \n",
    "# 함수 생성\n",
    "def 함수이름(매개변수):\n",
    "    \"\"\"\n",
    "    여러 줄로 된 \n",
    "    독스트링\n",
    "    \"\"\"\n",
    "    문장\n",
    "```"
   ]
  },
  {
   "cell_type": "code",
   "execution_count": 164,
   "metadata": {
    "ExecuteTime": {
     "end_time": "2023-01-28T04:41:08.815894Z",
     "start_time": "2023-01-28T04:41:08.800935Z"
    }
   },
   "outputs": [
    {
     "data": {
      "text/plain": [
       "{(5, 3): 2, (2, 2): 0, (10, 3): 1}"
      ]
     },
     "execution_count": 164,
     "metadata": {},
     "output_type": "execute_result"
    }
   ],
   "source": [
    "# 위 계산기 중첩 함수에서 설명 추가 하기\n",
    "def calculator(a, b):\n",
    "    result = a % b\n",
    "    return result\n",
    "\n",
    "def calculator_final(pairs):\n",
    "    \"\"\"이 함수는 쌍의 값을 받아 각 쌍별 나머지를 출력하는 함수입니다.\"\"\"\n",
    "    result = dict()\n",
    "    for a, b in pairs:\n",
    "        modulo = calculator(a,b)\n",
    "        result[(a,b)] = modulo\n",
    "    return result\n",
    "\n",
    "pairs = [(5,3), (2,2), (10,3)]\n",
    "calculator_final(pairs)"
   ]
  },
  {
   "cell_type": "code",
   "execution_count": 165,
   "metadata": {
    "ExecuteTime": {
     "end_time": "2023-01-28T04:41:08.831853Z",
     "start_time": "2023-01-28T04:41:08.817888Z"
    }
   },
   "outputs": [
    {
     "data": {
      "text/plain": [
       "'이 함수는 쌍의 값을 받아 각 쌍별 나머지를 출력하는 함수입니다.'"
      ]
     },
     "execution_count": 165,
     "metadata": {},
     "output_type": "execute_result"
    }
   ],
   "source": [
    "# 함수 설명 확인하기\n",
    "calculator_final.__doc__"
   ]
  },
  {
   "cell_type": "code",
   "execution_count": 166,
   "metadata": {
    "ExecuteTime": {
     "end_time": "2023-01-28T04:41:08.847809Z",
     "start_time": "2023-01-28T04:41:08.833846Z"
    }
   },
   "outputs": [
    {
     "name": "stdout",
     "output_type": "stream",
     "text": [
      "print(value, ..., sep=' ', end='\\n', file=sys.stdout, flush=False)\n",
      "\n",
      "Prints the values to a stream, or to sys.stdout by default.\n",
      "Optional keyword arguments:\n",
      "file:  a file-like object (stream); defaults to the current sys.stdout.\n",
      "sep:   string inserted between values, default a space.\n",
      "end:   string appended after the last value, default a newline.\n",
      "flush: whether to forcibly flush the stream.\n"
     ]
    }
   ],
   "source": [
    "# 내장함수의 설명도 확인 가능\n",
    "print(print.__doc__)"
   ]
  },
  {
   "cell_type": "markdown",
   "metadata": {
    "ExecuteTime": {
     "end_time": "2022-04-05T16:54:18.975178Z",
     "start_time": "2022-04-05T16:54:18.968149Z"
    }
   },
   "source": [
    "- **Question:** 바로 위 문제에서 만든 3개의 프로그램(함수)에 내장함수처럼 설명을 반영하여 아래와 같은 설명을 출력하시오\n",
    "\n",
    "```python\n",
    "# 프로그램(함수)\n",
    "# 1) 몫을 출력하는 프로그램\n",
    "\n",
    "# 2) 나머지를 출력하는 프로그램\n",
    "\n",
    "# 3) 1)과 2) 함수를 사용하여 한꺼번에 몫과 나머지를 출력하는 프로그램\n",
    "\n",
    "\n",
    "# 출력\n",
    "# 1) '이 프로그램은 몫을 출력합니다.'\n",
    "\n",
    "# 2) '이 프로그램은 나머지를 출력합니다.'\n",
    "\n",
    "# 3) '이 프로그램은 몫과 나머지를 모두 출력합니다.'\n",
    "```"
   ]
  },
  {
   "cell_type": "code",
   "execution_count": 7,
   "metadata": {
    "ExecuteTime": {
     "end_time": "2023-01-28T04:55:37.350512Z",
     "start_time": "2023-01-28T04:55:37.332567Z"
    }
   },
   "outputs": [
    {
     "name": "stdout",
     "output_type": "stream",
     "text": [
      "몫: 3, 나머지: 1\n"
     ]
    },
    {
     "data": {
      "text/plain": [
       "'이 프로그램은 몫과 나머지를 모두 출력합니다.'"
      ]
     },
     "execution_count": 7,
     "metadata": {},
     "output_type": "execute_result"
    }
   ],
   "source": [
    "# 프로그램(함수)\n",
    "# 1) 몫을 출력하는 프로그램\n",
    "def quotient(x,y):\n",
    "    \"\"\"이 프로그램은 몫을 출력합니다.\"\"\"\n",
    "    q = x // y\n",
    "    print(q)\n",
    "   \n",
    "# 2) 나머지를 출력하는 프로그램\n",
    "def remainder(x,y):\n",
    "    \"\"\"이 프로그램은 나머지를 출력합니다.\"\"\"\n",
    "    r = x % y\n",
    "    print(r)\n",
    "def quotient_remainder(a, b):\n",
    "    \"\"\"이 프로그램은 몫과 나머지를 모두 출력합니다.\"\"\"\n",
    "    return a // b, a % b\n",
    "quotient, remainder = quotient_remainder(x, y)\n",
    "print('몫: {0}, 나머지: {1}'.format(quotient, remainder))\n",
    "# 입력\n",
    "x, y = 10, 3\n",
    "#quotient.__doc__\n",
    "#remainder.__doc__\n",
    "quotient_remainder.__doc__"
   ]
  },
  {
   "cell_type": "markdown",
   "metadata": {},
   "source": [
    "## **스코핑 룰(Scoping Rule):** 함수 내 변수의 인식 범위\n",
    "\n",
    "- 변수의 생존 범위에 관련된 규칙\n",
    "- 파이썬 함수는 변수들이 인식될수 있는 각자의 `공간 또는 범위` 존재\n",
    "> - **지역변수(Local Variable):** 함수 안에서 정의되어, 함수 내부에서만 인식되는 변수\n",
    "> - **전역변수(Global Variable):** 함수 밖에서 정의되어, 함수 외부에서도 인식되는 변수\n",
    "> - **내장변수(Built-in Variable):** 파이썬 자체에서 정의되어, 어디서든 인식되는 변수\n",
    "\n",
    "<center><img src='Image/Basic/Scoping_Rule.png' width='400'></center>"
   ]
  },
  {
   "cell_type": "code",
   "execution_count": 10,
   "metadata": {
    "ExecuteTime": {
     "end_time": "2023-01-28T04:56:48.057912Z",
     "start_time": "2023-01-28T04:56:48.042954Z"
    }
   },
   "outputs": [],
   "source": [
    "# def foo():\n",
    "#     xx = 10      # foo의 지역 변수\n",
    "#     print(xx)    # foo의 지역 변수 출력\n",
    " \n",
    "# foo()\n",
    "# print(xx)        # 에러. foo의 지역 변수는 출력할 수 없음"
   ]
  },
  {
   "cell_type": "code",
   "execution_count": 168,
   "metadata": {
    "ExecuteTime": {
     "end_time": "2023-01-28T04:41:08.879723Z",
     "start_time": "2023-01-28T04:41:08.865761Z"
    }
   },
   "outputs": [
    {
     "name": "stdout",
     "output_type": "stream",
     "text": [
      "10\n",
      "10\n"
     ]
    }
   ],
   "source": [
    "# 예시 결과 확인\n",
    "xx = 10          # 전역 변수\n",
    "def foo():\n",
    "    print(xx)    # 전역 변수 출력\n",
    " \n",
    "foo()\n",
    "print(xx)        # 전역 변수 출력"
   ]
  },
  {
   "cell_type": "code",
   "execution_count": 169,
   "metadata": {
    "ExecuteTime": {
     "end_time": "2023-01-28T04:41:08.895680Z",
     "start_time": "2023-01-28T04:41:08.881718Z"
    }
   },
   "outputs": [
    {
     "name": "stdout",
     "output_type": "stream",
     "text": [
      "20\n",
      "10\n"
     ]
    }
   ],
   "source": [
    "# 예시 결과 확인\n",
    "xx = 10          # 전역 변수\n",
    "def foo():\n",
    "    xx = 20      # x는 foo의 지역 변수\n",
    "    print(xx)    # foo의 지역 변수 출력\n",
    " \n",
    "foo()\n",
    "print(xx)        # 전역 변수 출력"
   ]
  },
  {
   "cell_type": "code",
   "execution_count": 170,
   "metadata": {
    "ExecuteTime": {
     "end_time": "2023-01-28T04:41:08.911673Z",
     "start_time": "2023-01-28T04:41:08.898673Z"
    }
   },
   "outputs": [
    {
     "name": "stdout",
     "output_type": "stream",
     "text": [
      "20\n",
      "20\n"
     ]
    }
   ],
   "source": [
    "# 예시 결과 확인\n",
    "xx = 10          # 전역 변수\n",
    "def foo():\n",
    "    global xx    # 전역 변수 x를 사용하겠다고 설정\n",
    "    xx = 20      # x는 전역 변수\n",
    "    print(xx)    # 전역 변수 출력\n",
    " \n",
    "foo()\n",
    "print(xx)        # 전역 변수 출력"
   ]
  },
  {
   "cell_type": "code",
   "execution_count": 171,
   "metadata": {
    "ExecuteTime": {
     "end_time": "2023-01-28T04:41:08.927594Z",
     "start_time": "2023-01-28T04:41:08.912636Z"
    }
   },
   "outputs": [
    {
     "name": "stdout",
     "output_type": "stream",
     "text": [
      "200\n",
      "200\n"
     ]
    }
   ],
   "source": [
    "# 예시 결과 확인\n",
    "# 전역 변수 x가 없는 상태\n",
    "def foo():\n",
    "    global xx    # x를 전역 변수로 만듦\n",
    "    xx = 200      # x는 전역 변수\n",
    "    print(xx)    # 전역 변수 출력\n",
    " \n",
    "foo()\n",
    "print(xx)        # 전역 변수 출력"
   ]
  },
  {
   "cell_type": "code",
   "execution_count": 172,
   "metadata": {
    "ExecuteTime": {
     "end_time": "2023-01-28T04:41:08.943553Z",
     "start_time": "2023-01-28T04:41:08.929590Z"
    }
   },
   "outputs": [
    {
     "name": "stdout",
     "output_type": "stream",
     "text": [
      "10\n"
     ]
    }
   ],
   "source": [
    "# 예시 결과 확인\n",
    "# 지역변수의 범위 확인\n",
    "def A():\n",
    "    x = 10        # A의 지역 변수 x\n",
    "    def B():\n",
    "        x = 20    # x에 20 할당\n",
    " \n",
    "    B()\n",
    "    print(x)      # A의 지역 변수 x 출력\n",
    " \n",
    "A()"
   ]
  },
  {
   "cell_type": "code",
   "execution_count": 173,
   "metadata": {
    "ExecuteTime": {
     "end_time": "2023-01-28T04:41:08.959510Z",
     "start_time": "2023-01-28T04:41:08.944550Z"
    }
   },
   "outputs": [
    {
     "name": "stdout",
     "output_type": "stream",
     "text": [
      "20\n"
     ]
    }
   ],
   "source": [
    "# 예시 결과 확인\n",
    "# nonlocal로 가장 가까운 지역변수까지 확장 가능\n",
    "def A():\n",
    "    x = 10        # A의 지역 변수 x\n",
    "    def B():\n",
    "        nonlocal x    # 현재 함수의 바깥쪽에 있는 지역 변수 사용\n",
    "        x = 20        # A의 지역 변수 x에 20 할당\n",
    " \n",
    "    B()\n",
    "    print(x)      # A의 지역 변수 x 출력\n",
    " \n",
    "A()"
   ]
  },
  {
   "cell_type": "code",
   "execution_count": 174,
   "metadata": {
    "ExecuteTime": {
     "end_time": "2023-01-28T04:41:08.975496Z",
     "start_time": "2023-01-28T04:41:08.961504Z"
    }
   },
   "outputs": [
    {
     "name": "stdout",
     "output_type": "stream",
     "text": [
      "20\n",
      "0\n"
     ]
    }
   ],
   "source": [
    "# 예시 결과 확인\n",
    "# nonlocal은 전역변수 범주는 관여하지 않음\n",
    "x = 0\n",
    "def A():\n",
    "    x = 10        # A의 지역 변수 x\n",
    "    def B():\n",
    "        nonlocal x    # 현재 함수의 바깥쪽에 있는 지역 변수 사용\n",
    "        x = 20        # A의 지역 변수 x에 20 할당\n",
    " \n",
    "    B()\n",
    "    print(x)      # A의 지역 변수 x 출력\n",
    "\n",
    "A()\n",
    "print(x)"
   ]
  },
  {
   "cell_type": "code",
   "execution_count": 175,
   "metadata": {
    "ExecuteTime": {
     "end_time": "2023-01-28T04:41:08.991477Z",
     "start_time": "2023-01-28T04:41:08.977462Z"
    }
   },
   "outputs": [
    {
     "name": "stdout",
     "output_type": "stream",
     "text": [
      "10\n",
      "20\n"
     ]
    }
   ],
   "source": [
    "# 예시 결과 확인\n",
    "# global 함수는 모든 함수 외부의 변수에 관여하며 함수내 지역변수는 관여하지 않음\n",
    "x = 0\n",
    "def A():\n",
    "    x = 10        # A의 지역 변수 x\n",
    "    def B():\n",
    "        global x    # 현재 함수의 바깥쪽에 있는 전역 변수 사용\n",
    "        x = 20        # A의 지역 변수 x에 20 할당\n",
    " \n",
    "    B()\n",
    "    print(x)      # A의 지역 변수 x 출력\n",
    "\n",
    "A()\n",
    "print(x)"
   ]
  },
  {
   "cell_type": "markdown",
   "metadata": {},
   "source": [
    "- `nonlocal`은 현재 함수의 바깥쪽에 있는 지역 변수 탐색시 가장 가까운 함수에서부터 탐색\n",
    "- 함수의 단계와 무관하게 `global` 키워드를 사용하면 무조건 전역변수로 적용\n",
    "- 전역변수는 가급적 사용하지 않고 `지역변수를 유지`하는게 오류를 줄이는 방법"
   ]
  },
  {
   "cell_type": "markdown",
   "metadata": {},
   "source": [
    "- **Question:** 아래의 코드의 출력결과를 이해하여 왜 50과 400이 출력되었는지 주석으로 작성하시오"
   ]
  },
  {
   "cell_type": "code",
   "execution_count": 176,
   "metadata": {
    "ExecuteTime": {
     "end_time": "2023-01-28T04:41:09.007382Z",
     "start_time": "2023-01-28T04:41:08.992423Z"
    }
   },
   "outputs": [
    {
     "name": "stdout",
     "output_type": "stream",
     "text": [
      "50\n",
      "400\n"
     ]
    }
   ],
   "source": [
    "def A():\n",
    "    x = 10\n",
    "    y = 100\n",
    "    def B():\n",
    "        x = 20         \n",
    "        def C():\n",
    "            nonlocal x \n",
    "            nonlocal y \n",
    "            x = x + 30\n",
    "            y = y + 300\n",
    "            print(x)\n",
    "            print(y)\n",
    "        C()\n",
    "    B()\n",
    " \n",
    "A()"
   ]
  },
  {
   "cell_type": "code",
   "execution_count": 11,
   "metadata": {
    "ExecuteTime": {
     "end_time": "2023-01-28T05:02:00.856035Z",
     "start_time": "2023-01-28T05:02:00.842024Z"
    }
   },
   "outputs": [
    {
     "name": "stdout",
     "output_type": "stream",
     "text": [
      "50\n",
      "400\n"
     ]
    }
   ],
   "source": [
    "# 결과 설명\n",
    "def A():\n",
    "    x = 10\n",
    "    y = 100\n",
    "    def B():\n",
    "        x = 20         # A의 지역 변수 x에 20 할당\n",
    "        def C():\n",
    "            nonlocal x # 현재 함수의 바깥쪽에 있는 지역 변수 사용\n",
    "            nonlocal y # 현재 함수의 바깥쪽에 있는 지역 변수 사용\n",
    "            x = x + 30\n",
    "            y = y + 300\n",
    "            print(x)\n",
    "            print(y)\n",
    "        C()\n",
    "    B()\n",
    " \n",
    "A()\n",
    "# "
   ]
  },
  {
   "cell_type": "markdown",
   "metadata": {},
   "source": [
    "- **Question:** 아래의 코드의 출력결과를 이해하여 왜 31이 출력되었는지 주석으로 작성하시오"
   ]
  },
  {
   "cell_type": "code",
   "execution_count": 178,
   "metadata": {
    "ExecuteTime": {
     "end_time": "2023-01-28T04:41:09.039348Z",
     "start_time": "2023-01-28T04:41:09.025342Z"
    }
   },
   "outputs": [
    {
     "name": "stdout",
     "output_type": "stream",
     "text": [
      "31\n"
     ]
    }
   ],
   "source": [
    "x = 1\n",
    "def A():\n",
    "    x = 10\n",
    "    def B():\n",
    "        x = 20\n",
    "        def C():\n",
    "            global x    # 현재 함수의 바깥쪽에 있는 전역 변수 사용\n",
    "            x = x + 30  \n",
    "            print(x)\n",
    "        C()\n",
    "    B()\n",
    " \n",
    "A()"
   ]
  },
  {
   "cell_type": "code",
   "execution_count": 179,
   "metadata": {
    "ExecuteTime": {
     "end_time": "2023-01-28T04:41:09.055306Z",
     "start_time": "2023-01-28T04:41:09.041291Z"
    }
   },
   "outputs": [],
   "source": [
    "# 결과 설명\n",
    "x = 1\n",
    "def A():\n",
    "    x = 10\n",
    "    def B():\n",
    "        x = 20\n",
    "        def C():\n",
    "            global x\n",
    "            x = x + 30\n",
    "            print(x)\n",
    "        C()\n",
    "    B()\n",
    " \n",
    "A()\n",
    "#\n",
    "#"
   ]
  },
  {
   "cell_type": "markdown",
   "metadata": {},
   "source": [
    "## **Others:** 경제적인 함수사용"
   ]
  },
  {
   "cell_type": "markdown",
   "metadata": {},
   "source": [
    "### **함수생성:** lambda\n",
    "\n",
    "- `lambda 입력:출력`\n",
    "- `lambda`는 함수를 생성하는 예약어 `def`와 동일한 역할이나 한줄로 간결하게 작성 가능\n",
    "- 주로 def를 사용해야 할 정도로 복잡하지 않거나 def를 사용할 수 없는 곳에 사용\n",
    "- 식의 형태로 되어 있어 `람다 표현식(Lambda Expression)`이라고도 하며 다른 함수의 인수로 주로 사용\n",
    "- 람다 표현식은 이름이 없는 익명함수라서 호출할 수 없고 사용후 메모리에서 사라지므로 경제적\n",
    "\n",
    "```python\n",
    "# 함수 생성\n",
    "함수이름 = lambda 매개변수1 입력, 매개변수2 입력, ...: 매개변수들 표현식의 연산값 출력\n",
    "```"
   ]
  },
  {
   "cell_type": "code",
   "execution_count": 180,
   "metadata": {
    "ExecuteTime": {
     "end_time": "2023-01-28T04:41:09.071261Z",
     "start_time": "2023-01-28T04:41:09.057251Z"
    }
   },
   "outputs": [
    {
     "data": {
      "text/plain": [
       "3"
      ]
     },
     "execution_count": 180,
     "metadata": {},
     "output_type": "execute_result"
    }
   ],
   "source": [
    "def add(a,b):\n",
    "    return a+b\n",
    "\n",
    "add(1,2)"
   ]
  },
  {
   "cell_type": "code",
   "execution_count": 181,
   "metadata": {
    "ExecuteTime": {
     "end_time": "2023-01-28T04:41:09.087170Z",
     "start_time": "2023-01-28T04:41:09.072211Z"
    }
   },
   "outputs": [
    {
     "data": {
      "text/plain": [
       "3"
      ]
     },
     "execution_count": 181,
     "metadata": {},
     "output_type": "execute_result"
    }
   ],
   "source": [
    "# 람다 기능으로 위 함수를 변환\n",
    "add_ld = lambda a,b:a+b\n",
    "\n",
    "add_ld(1,2)"
   ]
  },
  {
   "cell_type": "code",
   "execution_count": 182,
   "metadata": {
    "ExecuteTime": {
     "end_time": "2023-01-28T04:41:09.103126Z",
     "start_time": "2023-01-28T04:41:09.088167Z"
    }
   },
   "outputs": [
    {
     "data": {
      "text/plain": [
       "[2]"
      ]
     },
     "execution_count": 182,
     "metadata": {},
     "output_type": "execute_result"
    }
   ],
   "source": [
    "# 람다 함수 변수 저장 가능\n",
    "result = []\n",
    "add_func = lambda x:result.append(x+1)\n",
    "\n",
    "add_func(1)\n",
    "result"
   ]
  },
  {
   "cell_type": "code",
   "execution_count": 183,
   "metadata": {
    "ExecuteTime": {
     "end_time": "2023-01-28T04:41:09.119135Z",
     "start_time": "2023-01-28T04:41:09.104124Z"
    }
   },
   "outputs": [
    {
     "name": "stdout",
     "output_type": "stream",
     "text": [
      "[2]\n",
      "[2, 3]\n",
      "[2, 3, 4]\n",
      "[2, 3, 4, 5]\n",
      "[2, 3, 4, 5, 6]\n"
     ]
    }
   ],
   "source": [
    "# 람다 함수도 활용 가능\n",
    "result = []\n",
    "for x in [1,2,3,4,5]:\n",
    "    add_func(x)\n",
    "    print(result)"
   ]
  },
  {
   "cell_type": "markdown",
   "metadata": {},
   "source": [
    "- 람다 표현식 자체를 마치 `함수/처리/f` 처럼 사용할 수 있음\n",
    "\n",
    "```python\n",
    "# f(x)\n",
    "(lambda 매개변수 입력: 매개변수식 출력)(인수들)\n",
    "```"
   ]
  },
  {
   "cell_type": "code",
   "execution_count": 184,
   "metadata": {
    "ExecuteTime": {
     "end_time": "2023-01-28T04:41:09.135093Z",
     "start_time": "2023-01-28T04:41:09.120081Z"
    }
   },
   "outputs": [
    {
     "data": {
      "text/plain": [
       "11"
      ]
     },
     "execution_count": 184,
     "metadata": {},
     "output_type": "execute_result"
    }
   ],
   "source": [
    "# 다양한 활용 가능\n",
    "(lambda x: x+10)(1)    # f(x)"
   ]
  },
  {
   "cell_type": "code",
   "execution_count": 185,
   "metadata": {
    "ExecuteTime": {
     "end_time": "2023-01-28T04:41:09.151043Z",
     "start_time": "2023-01-28T04:41:09.136038Z"
    }
   },
   "outputs": [],
   "source": [
    "# 내부 변수 생성 불가\n",
    "# (lambda x: y=10; x+y)(1)"
   ]
  },
  {
   "cell_type": "code",
   "execution_count": 186,
   "metadata": {
    "ExecuteTime": {
     "end_time": "2023-01-28T04:41:09.166955Z",
     "start_time": "2023-01-28T04:41:09.151996Z"
    }
   },
   "outputs": [
    {
     "data": {
      "text/plain": [
       "11"
      ]
     },
     "execution_count": 186,
     "metadata": {},
     "output_type": "execute_result"
    }
   ],
   "source": [
    "# 다양한 활용 가능\n",
    "y = 10\n",
    "(lambda x: x+y)(1)"
   ]
  },
  {
   "cell_type": "markdown",
   "metadata": {},
   "source": [
    "- 특히 함수의 인수부분을 간단하게 함수로 반영할 때 많이 사용"
   ]
  },
  {
   "cell_type": "code",
   "execution_count": 187,
   "metadata": {
    "ExecuteTime": {
     "end_time": "2023-01-28T04:41:09.182914Z",
     "start_time": "2023-01-28T04:41:09.167984Z"
    }
   },
   "outputs": [
    {
     "data": {
      "text/plain": [
       "[11, 12, 13]"
      ]
     },
     "execution_count": 187,
     "metadata": {},
     "output_type": "execute_result"
    }
   ],
   "source": [
    "# 예시 결과 확인\n",
    "def plus_ten(x):\n",
    "    return x + 10\n",
    "\n",
    "list(map(plus_ten, [1,2,3]))"
   ]
  },
  {
   "cell_type": "code",
   "execution_count": 188,
   "metadata": {
    "ExecuteTime": {
     "end_time": "2023-01-28T04:41:09.198915Z",
     "start_time": "2023-01-28T04:41:09.184908Z"
    }
   },
   "outputs": [
    {
     "data": {
      "text/plain": [
       "[11, 12, 13]"
      ]
     },
     "execution_count": 188,
     "metadata": {},
     "output_type": "execute_result"
    }
   ],
   "source": [
    "# 예시 결과 확인\n",
    "list(map(lambda x:x+10, [1,2,3]))"
   ]
  },
  {
   "cell_type": "markdown",
   "metadata": {},
   "source": [
    "- **Question:** 람다 표현식을 사용하여 아래 파일 명 중 확장자가 `.jpg, .png`로 끝나는 이미지 파일만 리스트로 뽑아내는 프로그램을 작성하시오\n",
    "\n",
    "```python\n",
    "# 프로그램(함수) 작성\n",
    "\n",
    "\n",
    "# 입력\n",
    "files = ['font', '1.png', '10.jpg', '11.gif', '2.jpg', '3.png', 'table.xslx', 'spec.docx']\n",
    "\n",
    "# 출력\n",
    "\n",
    "```"
   ]
  },
  {
   "cell_type": "code",
   "execution_count": 12,
   "metadata": {
    "ExecuteTime": {
     "end_time": "2023-01-28T05:07:25.065123Z",
     "start_time": "2023-01-28T05:07:25.050140Z"
    }
   },
   "outputs": [
    {
     "name": "stdout",
     "output_type": "stream",
     "text": [
      "['1.png', '10.jpg', '2.jpg', '3.png']\n"
     ]
    }
   ],
   "source": [
    "# 프로그램(함수) 작성\n",
    "\n",
    "\n",
    "# 입력\n",
    "files = ['font', '1.png', '10.jpg', '11.gif', '2.jpg', '3.png', 'table.xslx', 'spec.docx']\n",
    "a =list(filter(lambda x :'jpg' in x or 'png' in x ,files))\n",
    "print(a)\n",
    "# 출력\n",
    "\n"
   ]
  },
  {
   "cell_type": "code",
   "execution_count": null,
   "metadata": {},
   "outputs": [],
   "source": []
  },
  {
   "cell_type": "markdown",
   "metadata": {},
   "source": [
    "### **중첩함수:** map\n",
    "\n",
    "- `map(function, input1, ...)`\n",
    "- 함수자체와 함수에 입력될 값들을 `map`함수의 인수로 받아, 입력될 값이 함수에 적용된 결과를 출력"
   ]
  },
  {
   "cell_type": "code",
   "execution_count": 190,
   "metadata": {
    "ExecuteTime": {
     "end_time": "2023-01-28T04:41:09.230837Z",
     "start_time": "2023-01-28T04:41:09.216822Z"
    }
   },
   "outputs": [
    {
     "data": {
      "text/plain": [
       "[1, 2, 3, 4, 5, 6, 7, 8, 9, 10]"
      ]
     },
     "execution_count": 190,
     "metadata": {},
     "output_type": "execute_result"
    }
   ],
   "source": [
    "# 함수와 값의 결합 가능\n",
    "add_one = lambda x:x+1\n",
    "data = list(range(0,10))\n",
    "\n",
    "list(map(add_one, data))"
   ]
  },
  {
   "cell_type": "code",
   "execution_count": 191,
   "metadata": {
    "ExecuteTime": {
     "end_time": "2023-01-28T04:41:09.246779Z",
     "start_time": "2023-01-28T04:41:09.232782Z"
    }
   },
   "outputs": [
    {
     "data": {
      "text/plain": [
       "[6, 6, 6, 6, 6]"
      ]
     },
     "execution_count": 191,
     "metadata": {},
     "output_type": "execute_result"
    }
   ],
   "source": [
    "# 함수와 2개 이상의 값 결합 가능\n",
    "add = lambda x,y:x+y\n",
    "a = [1,2,3,4,5]\n",
    "b = [5,4,3,2,1]\n",
    "\n",
    "list(map(add, a,b))"
   ]
  },
  {
   "cell_type": "code",
   "execution_count": 192,
   "metadata": {
    "ExecuteTime": {
     "end_time": "2023-01-28T04:41:09.262744Z",
     "start_time": "2023-01-28T04:41:09.247740Z"
    }
   },
   "outputs": [
    {
     "data": {
      "text/plain": [
       "[6, 6, 6, 6, 6]"
      ]
     },
     "execution_count": 192,
     "metadata": {},
     "output_type": "execute_result"
    }
   ],
   "source": [
    "# 다양한 활용 가능\n",
    "a = [1,2,3,4,5]\n",
    "b = [5,4,3,2,1]\n",
    "list(map(lambda x,y:x+y, a,b))"
   ]
  },
  {
   "cell_type": "code",
   "execution_count": 193,
   "metadata": {
    "ExecuteTime": {
     "end_time": "2023-01-28T04:41:09.277660Z",
     "start_time": "2023-01-28T04:41:09.263722Z"
    }
   },
   "outputs": [
    {
     "data": {
      "text/plain": [
       "[6, 6, 6, 6, 6]"
      ]
     },
     "execution_count": 193,
     "metadata": {},
     "output_type": "execute_result"
    }
   ],
   "source": [
    "# 다양한 활용 가능\n",
    "list(map(lambda x,y:x+y, [1,2,3,4,5],[5,4,3,2,1]))"
   ]
  },
  {
   "cell_type": "markdown",
   "metadata": {},
   "source": [
    "- `조건문`을 lambda 함수나 map 함수와 결합가능\n",
    "- 조건문 표현식에 콜론(:) 사용하지 않음\n",
    "- if를 사용했다면 `반드시 else 사용`해야 함\n",
    "- `elif 사용 불가`하고 if를 연속적으로 사용해야 함\n",
    "\n",
    "```python\n",
    "lambda 매개변수들: 매개변수 식1(조건식 참일때) if 조건식 else 식2(조건식 거짓일때)\n",
    "lambda 매개변수들: 매개변수 식1 if 조건식1 else 식2 if 조건식2 else 식3\n",
    "```"
   ]
  },
  {
   "cell_type": "code",
   "execution_count": 194,
   "metadata": {
    "ExecuteTime": {
     "end_time": "2023-01-28T04:41:09.292619Z",
     "start_time": "2023-01-28T04:41:09.279656Z"
    }
   },
   "outputs": [
    {
     "data": {
      "text/plain": [
       "[1, 2, '3', 4, 5, '6', 7, 8, '9', 10]"
      ]
     },
     "execution_count": 194,
     "metadata": {},
     "output_type": "execute_result"
    }
   ],
   "source": [
    "# 조건문 결합 가능\n",
    "a = [1, 2, 3, 4, 5, 6, 7, 8, 9, 10]\n",
    "\n",
    "list(map(lambda x: str(x) if x % 3 == 0 else x, a))"
   ]
  },
  {
   "cell_type": "code",
   "execution_count": 195,
   "metadata": {
    "ExecuteTime": {
     "end_time": "2023-01-28T04:41:09.307621Z",
     "start_time": "2023-01-28T04:41:09.294644Z"
    }
   },
   "outputs": [],
   "source": [
    "# else가 포함된 완벽한 형태여야 오류 미발생\n",
    "# a = [1, 2, 3, 4, 5, 6, 7, 8, 9, 10]\n",
    "\n",
    "# list(map(lambda x: str(x) if x % 3 == 0, a))"
   ]
  },
  {
   "cell_type": "code",
   "execution_count": 196,
   "metadata": {
    "ExecuteTime": {
     "end_time": "2023-01-28T04:41:09.323575Z",
     "start_time": "2023-01-28T04:41:09.309576Z"
    }
   },
   "outputs": [
    {
     "data": {
      "text/plain": [
       "[11, 12, '3', 14, 5.0, '6', 17, 18, '9', 10.0]"
      ]
     },
     "execution_count": 196,
     "metadata": {},
     "output_type": "execute_result"
    }
   ],
   "source": [
    "# 조건문 여러개도 결합 가능\n",
    "a = [1, 2, 3, 4, 5, 6, 7, 8, 9, 10]\n",
    "\n",
    "list(map(lambda x: str(x) if x % 3 == 0 else float(x) if x % 5 == 0 else x+10, a))"
   ]
  },
  {
   "cell_type": "markdown",
   "metadata": {},
   "source": [
    "- **Question:** 위와 동일한 결과를 출력하기 위해, `def` 명령을 사용하여 함수 `f`를 작성하고 아래의 입력을 받아 동일한 결과를 출력하시오\n",
    "\n",
    "```python\n",
    "# 프로그램(함수) 작성\n",
    "\n",
    "\n",
    "# 입력\n",
    "a = [1, 2, 3, 4, 5, 6, 7, 8, 9, 10]\n",
    "\n",
    "# 예상출력: [11, 12, '3', 14, 5.0, '6', 17, 18, '9', 10.0]\n",
    "list(map(f, a))\n",
    "```"
   ]
  },
  {
   "cell_type": "code",
   "execution_count": 15,
   "metadata": {
    "ExecuteTime": {
     "end_time": "2023-01-28T05:12:11.545884Z",
     "start_time": "2023-01-28T05:12:11.530900Z"
    }
   },
   "outputs": [
    {
     "data": {
      "text/plain": [
       "[11, 12, '3', 14, 5.0, '6', 17, 18, '9', 10.0]"
      ]
     },
     "execution_count": 15,
     "metadata": {},
     "output_type": "execute_result"
    }
   ],
   "source": [
    "# 프로그램(함수) 작성\n",
    "def f(x):\n",
    "    if x % 3 == 0:\n",
    "        return str(x)\n",
    "    elif x % 5 == 0:\n",
    "        return float(x)\n",
    "    else:\n",
    "        return x + 10\n",
    "\n",
    "# 입력\n",
    "a = [1, 2, 3, 4, 5, 6, 7, 8, 9, 10]\n",
    "\n",
    "# 예상출력: [11, 12, '3', 14, 5.0, '6', 17, 18, '9', 10.0]\n",
    "list(map(f, a))"
   ]
  },
  {
   "cell_type": "markdown",
   "metadata": {},
   "source": [
    "### **조건반영 중첩함수:** filter\n",
    "\n",
    "- `filter(function, input1, ...)`\n",
    "- map과 동일한 구조지만 `조건식이 참인 입력값들만 출력`"
   ]
  },
  {
   "cell_type": "code",
   "execution_count": 198,
   "metadata": {
    "ExecuteTime": {
     "end_time": "2023-01-28T04:41:09.353457Z",
     "start_time": "2023-01-28T04:41:09.340523Z"
    }
   },
   "outputs": [
    {
     "data": {
      "text/plain": [
       "[0, 2, 4, 6, 8]"
      ]
     },
     "execution_count": 198,
     "metadata": {},
     "output_type": "execute_result"
    }
   ],
   "source": [
    "# 값의 필터링 기능 확인\n",
    "even_num = lambda x:x%2==0\n",
    "data = list(range(0,10))\n",
    "\n",
    "list(filter(even_num, data))"
   ]
  },
  {
   "cell_type": "code",
   "execution_count": 199,
   "metadata": {
    "ExecuteTime": {
     "end_time": "2023-01-28T04:41:09.369415Z",
     "start_time": "2023-01-28T04:41:09.355452Z"
    }
   },
   "outputs": [
    {
     "data": {
      "text/plain": [
       "[True, False, True, False, True, False, True, False, True, False]"
      ]
     },
     "execution_count": 199,
     "metadata": {},
     "output_type": "execute_result"
    }
   ],
   "source": [
    "# map 함수에서는 참/거짓의 로직만 출력됨\n",
    "list(map(even_num, data))"
   ]
  },
  {
   "cell_type": "code",
   "execution_count": 200,
   "metadata": {
    "ExecuteTime": {
     "end_time": "2023-01-28T04:41:09.384375Z",
     "start_time": "2023-01-28T04:41:09.371409Z"
    }
   },
   "outputs": [
    {
     "data": {
      "text/plain": [
       "[8, 7, 9]"
      ]
     },
     "execution_count": 200,
     "metadata": {},
     "output_type": "execute_result"
    }
   ],
   "source": [
    "# 예시 결과 확인\n",
    "f = lambda x: x>5 and x<10\n",
    "data = [8, 3, 2, 10, 15, 7, 1, 9, 0, 11]\n",
    "\n",
    "list(filter(f, data))"
   ]
  },
  {
   "cell_type": "markdown",
   "metadata": {},
   "source": [
    "- map, filter와 lambda 중첩보다 `리스트 표현식이 훨씬 가독성 좋고 속도도 빠름`"
   ]
  },
  {
   "cell_type": "code",
   "execution_count": 201,
   "metadata": {
    "ExecuteTime": {
     "end_time": "2023-01-28T04:41:09.399336Z",
     "start_time": "2023-01-28T04:41:09.386371Z"
    }
   },
   "outputs": [
    {
     "data": {
      "text/plain": [
       "[8, 7, 9]"
      ]
     },
     "execution_count": 201,
     "metadata": {},
     "output_type": "execute_result"
    }
   ],
   "source": [
    "# 리스트 표현식으로 동일 결과 작성 가능\n",
    "a = [8, 3, 2, 10, 15, 7, 1, 9, 0, 11]\n",
    "\n",
    "[i for i in a if i>5 and i<10]"
   ]
  },
  {
   "cell_type": "markdown",
   "metadata": {},
   "source": [
    "### **반복값 생성함수:** Comprehension\n",
    "\n",
    "- 반복값을 생성하는 방법중 간편하고 유용한 기능으로 `list 외 tuple/set/dict`에서도 활용가능"
   ]
  },
  {
   "cell_type": "code",
   "execution_count": 202,
   "metadata": {
    "ExecuteTime": {
     "end_time": "2023-01-28T04:41:09.414296Z",
     "start_time": "2023-01-28T04:41:09.400333Z"
    }
   },
   "outputs": [
    {
     "data": {
      "text/plain": [
       "[0, 2, 4, 6, 8, 10, 12, 14, 16, 18, 20]"
      ]
     },
     "execution_count": 202,
     "metadata": {},
     "output_type": "execute_result"
    }
   ],
   "source": [
    "# List Type\n",
    "result = []\n",
    "for x in range(11):\n",
    "    result.append(x*2)\n",
    "result"
   ]
  },
  {
   "cell_type": "code",
   "execution_count": 203,
   "metadata": {
    "ExecuteTime": {
     "end_time": "2023-01-28T04:41:09.429255Z",
     "start_time": "2023-01-28T04:41:09.415293Z"
    }
   },
   "outputs": [
    {
     "data": {
      "text/plain": [
       "[0, 2, 4, 6, 8, 10, 12, 14, 16, 18, 20]"
      ]
     },
     "execution_count": 203,
     "metadata": {},
     "output_type": "execute_result"
    }
   ],
   "source": [
    "# 리스트 표현으로 위와 동일 결과 작성\n",
    "[x*2 for x in range(11)]"
   ]
  },
  {
   "cell_type": "code",
   "execution_count": 204,
   "metadata": {
    "ExecuteTime": {
     "end_time": "2023-01-28T04:41:09.445211Z",
     "start_time": "2023-01-28T04:41:09.431250Z"
    }
   },
   "outputs": [
    {
     "name": "stdout",
     "output_type": "stream",
     "text": [
      "75 [4, 6, 8, 10, 12, 14, 16, 18, 20, 22, 24, 26, 28, 30, 32, 34, 36, 38, 40, 42, 44, 46, 48, 6, 9, 12, 15, 18, 21, 24, 27, 30, 33, 36, 39, 42, 45, 48, 8, 12, 16, 20, 24, 28, 32, 36, 40, 44, 48, 10, 15, 20, 25, 30, 35, 40, 45, 12, 18, 24, 30, 36, 42, 48, 14, 21, 28, 35, 42, 49, 16, 24, 32, 40, 48]\n"
     ]
    }
   ],
   "source": [
    "result = []\n",
    "for i in range(2,9):\n",
    "    for j in range(i*2, 50, i):\n",
    "        result.append(j)\n",
    "print(len(result), result)"
   ]
  },
  {
   "cell_type": "code",
   "execution_count": 205,
   "metadata": {
    "ExecuteTime": {
     "end_time": "2023-01-28T04:41:09.461169Z",
     "start_time": "2023-01-28T04:41:09.447207Z"
    }
   },
   "outputs": [
    {
     "name": "stdout",
     "output_type": "stream",
     "text": [
      "75 [4, 6, 8, 10, 12, 14, 16, 18, 20, 22, 24, 26, 28, 30, 32, 34, 36, 38, 40, 42, 44, 46, 48, 6, 9, 12, 15, 18, 21, 24, 27, 30, 33, 36, 39, 42, 45, 48, 8, 12, 16, 20, 24, 28, 32, 36, 40, 44, 48, 10, 15, 20, 25, 30, 35, 40, 45, 12, 18, 24, 30, 36, 42, 48, 14, 21, 28, 35, 42, 49, 16, 24, 32, 40, 48]\n"
     ]
    }
   ],
   "source": [
    "# 리스트 표현으로 위와 동일 결과 작성\n",
    "result = [j for i in range(2,9) for j in range(i*2, 50, i)]\n",
    "print(len(result), result)"
   ]
  },
  {
   "cell_type": "code",
   "execution_count": 206,
   "metadata": {
    "ExecuteTime": {
     "end_time": "2023-01-28T04:41:09.477125Z",
     "start_time": "2023-01-28T04:41:09.463163Z"
    }
   },
   "outputs": [
    {
     "name": "stdout",
     "output_type": "stream",
     "text": [
      "33 {4, 6, 8, 9, 10, 12, 14, 15, 16, 18, 20, 21, 22, 24, 25, 26, 27, 28, 30, 32, 33, 34, 35, 36, 38, 39, 40, 42, 44, 45, 46, 48, 49}\n"
     ]
    }
   ],
   "source": [
    "# 집합으로 값을 정리하면 중복값들은 사라짐\n",
    "result = {j for i in range(2,9) for j in range(i*2, 50, i)}\n",
    "print(len(result), result)"
   ]
  },
  {
   "cell_type": "code",
   "execution_count": 207,
   "metadata": {
    "ExecuteTime": {
     "end_time": "2023-01-28T04:41:09.493125Z",
     "start_time": "2023-01-28T04:41:09.479121Z"
    }
   },
   "outputs": [
    {
     "data": {
      "text/plain": [
       "{'math': 90, 'history': 80, 'english': 95, 'computer engineering': 100}"
      ]
     },
     "execution_count": 207,
     "metadata": {},
     "output_type": "execute_result"
    }
   ],
   "source": [
    "# Dict Type\n",
    "subjects = ['math', 'history', 'english', 'computer engineering']\n",
    "scores = [90, 80, 95, 100]\n",
    "\n",
    "result = dict()\n",
    "for key, value in zip(subjects, scores):\n",
    "    result[key] = value\n",
    "result"
   ]
  },
  {
   "cell_type": "code",
   "execution_count": 208,
   "metadata": {
    "ExecuteTime": {
     "end_time": "2023-01-28T04:41:09.509040Z",
     "start_time": "2023-01-28T04:41:09.495078Z"
    }
   },
   "outputs": [
    {
     "data": {
      "text/plain": [
       "{'math': 90, 'history': 80, 'english': 95, 'computer engineering': 100}"
      ]
     },
     "execution_count": 208,
     "metadata": {},
     "output_type": "execute_result"
    }
   ],
   "source": [
    "# 리스트 표현으로 위와 동일 결과 작성\n",
    "{key:value for key, value in zip(subjects, scores)}"
   ]
  },
  {
   "cell_type": "code",
   "execution_count": 209,
   "metadata": {
    "ExecuteTime": {
     "end_time": "2023-01-28T04:41:09.525040Z",
     "start_time": "2023-01-28T04:41:09.510038Z"
    }
   },
   "outputs": [
    {
     "data": {
      "text/plain": [
       "{'math': 90, 'history': 80, 'english': 95, 'computer engineering': 100}"
      ]
     },
     "execution_count": 209,
     "metadata": {},
     "output_type": "execute_result"
    }
   ],
   "source": [
    "# zip 함수로 위와 동일 결과 작성\n",
    "dict(zip(subjects, scores))"
   ]
  },
  {
   "cell_type": "code",
   "execution_count": 210,
   "metadata": {
    "ExecuteTime": {
     "end_time": "2023-01-28T04:41:09.540956Z",
     "start_time": "2023-01-28T04:41:09.526992Z"
    }
   },
   "outputs": [
    {
     "data": {
      "text/plain": [
       "{'math': 90, 'history': 80, 'english': 95, 'computer engineering': 100}"
      ]
     },
     "execution_count": 210,
     "metadata": {},
     "output_type": "execute_result"
    }
   ],
   "source": [
    "# 리스트 표현으로 위와 동일 결과 작성\n",
    "score_tuples = [('math', 90), ('history', 80), ('english', 95), ('computer engineering', 100)]\n",
    "{t[0]: t[1] for t in score_tuples}"
   ]
  },
  {
   "cell_type": "code",
   "execution_count": 211,
   "metadata": {
    "ExecuteTime": {
     "end_time": "2023-01-28T04:41:09.556913Z",
     "start_time": "2023-01-28T04:41:09.542951Z"
    }
   },
   "outputs": [
    {
     "name": "stdout",
     "output_type": "stream",
     "text": [
      "('math', 90)\n",
      "('history', 80)\n",
      "('english', 95)\n",
      "('computer engineering', 100)\n"
     ]
    }
   ],
   "source": [
    "# dict 값은 key & value가 동시에 반복적 입력됨\n",
    "score_tuples = [('math', 90), ('history', 80), ('english', 95), ('computer engineering', 100)]\n",
    "for t in score_tuples:\n",
    "    print(t)"
   ]
  },
  {
   "cell_type": "markdown",
   "metadata": {},
   "source": [
    "# **파이썬 라이브러리(Library)란?**\n",
    "\n",
    "- 라이브러리는 특정 기능이 실행되도록 미리 만들어둔 프로그래밍 함수 모음\n",
    "- 라이브러리는 넓은 범위에서 상황에 따라 **`패키지, 모듈, 클래스, 함수`** 로 지칭\n",
    "- 좁은 범위에서 패키지와 같은 의미로도 쓰이고 패키지를 모아놓은 것이라는 의미로도 쓰임\n",
    "- **포함관계:** 라이브러리 $\\geq$ 패키지 $\\geq$ 모듈 $>$ 클래스 $>$ 함수\n",
    "\n",
    "<center><img src='Image/Basic/Function_to_Package.png' width='600'>(https://thinkreen.github.io/_posts/2020-06-30-py-FunctionModuleClass/)</center>\n",
    "\n",
    "- **\"사회적 유사형태 비교\"** \n",
    "> - **기업들도 결국 함수를 정교하게 고도화시켜 플랫폼 비즈니스를 하고 수익을 극대화** \n",
    "\n",
    "| **Python <br>구성** | **일반적사회 <br>구성** | **비즈니스 <br>구성** | **Data Science <br>구성** |\n",
    "|:---:|:---:|:---:|:---:|\n",
    "| **Library** | - | - | C Library, Java Library, R Library, Python Library.. |\n",
    "| **Package** | 정치, 경제, 교육, 금융, 사회, 복지, 대한민국, 미국, 중국.. | 사업부1, 사업부2, 인재개발원, 연구소.. | Google Analytics, AWS Analytics, Tableau, SAP Reports, SAS BI, Microsoft   BI, IBM Cognos.. |\n",
    "| **Module** | 청와대, 대학교, 기업, 어린이집.. | 인사팀, 재무팀, 개발팀, 영업팀, 마케팅팀, 고객관리팀.. | 구매자예측플랫폼, 가격예측플랫폼, 고객관리플랫폼, 재고최소화플랫폼.. |\n",
    "| **Class** | 대통령, 정치인, 교수, 직장인, 사업가, 학생, 아기, 강아지, 고양이.. | 사원, 대리, 과장, 차장, 부장, 임원.. | 마케팅구매자예측, 광고가격예측, 고객불만예측, 재고율낮추기.. |\n",
    "| **Function** | ex1) 교수: 수업하기, 연구하기, 졸기..<br>ex2) 학생: 수업듣기, 졸기..  | 대화하기, 차마시기, 컴퓨터설치하기, 다른사람만나기, 문서작성하기, 사원증만들기, 배달하기, 주문하기, 자리정리하기, 청소하기.. | 데이터수집, 문제정의, 해결대안협의, 데이터입력, 데이터전처리, 알고리즘적용, 비즈니스검증기획.. |\n",
    "\n",
    "---\n",
    "\n",
    "**1) 함수(Function):**\n",
    "- 하나의 기능을 가진 코드로 입력값을 처리하여 출력값을 반환\n",
    "- 함수를 사용한다는 것을 프로그래밍에선 함수를 호출한다고 함\n",
    "- **`내장함수, 외장함수, 사용자정의함수`** 가 있음\n",
    "- **사용법:** Jupyter Notebook에서\n",
    " \n",
    "```python\n",
    "min_value = min([1,2,3])    # 내장함수\n",
    "\n",
    "import numpy    # 외장함수\n",
    "mean_value = numpy.mean([1,2,3])    \n",
    "\n",
    "def 평균구하기(입력):    # 사용자 정의함수\n",
    "    return 총합/갯수\n",
    "\n",
    "출력 = 평균구하기(입력)\n",
    "```\n",
    "\n",
    "**2) 모듈(Module):**\n",
    "- **사용법:** Jupyter Notebook에서\n",
    "> - `import 모듈` (기본 설치되었거나 다른 패키지와 이름이 중복되지 않을시)\n",
    "> - `import 모듈 as 축약어` (모듈 이름이 길거나 중복우려서 별도 축약어로 사용)\n",
    "> - `from 모듈 import 함수` (모듈 내부의 특정 함수만 로딩 가능)\n",
    "> - `from 축약어 import 함수` (모듈 내부의 특정 함수만 로딩 가능)\n",
    "> - `import 모듈.함수` (모듈 내부의 특정 함수만 로딩 가능)\n",
    "- 변수, 여러 함수들을 묶어 모듈을 정의한 후, `.py` 확장자의 파일로 저장하면 `외장함수` 처럼 `import` 명령어로 불러와 사용 가능\n",
    "\n",
    "```python\n",
    "import numpy  \n",
    "import numpy as np   \n",
    "from numpy import mean\n",
    "from np import mean\n",
    "import numpy.mean\n",
    "import custom_module    # 사용자 정의모듈 로딩\n",
    "import custom_module as cm    # 사용자 정의모듈을 로딩하고, cm이라는 이름으로 사용\n",
    "from custom_module import 평균구하기    # 사용자 정의모듈에서 '평균구하기'라는 이름의 함수만 로딩\n",
    "from cm import 평균구하기    # 사용자 정의모듈에서 '평균구하기'라는 이름의 함수만 로딩\n",
    "import custom_module.평균구하기    # 사용자 정의모듈에서 '평균구하기'라는 이름의 함수만 로딩\n",
    "```\n",
    "\n",
    "**3) 클래스(Class):**\n",
    "- 클래스는 **`속성(변수)`** 과 **`함수`** 를 포함하여 객체/완제품으로 작동되도록 구성된 **`실체/객체`**\n",
    "- **`자동차, 휴대폰, 마우스, 게임케릭터 등`** 자동차가 휴대폰이 될 수 없고 마우스가 게임케릭터로 될 순 없지만, 각각 자체적으로 특정 기능만 수행하도록 구성된 것은 모두 클래스 형태\n",
    "- **사용법:** Jupyter Notebook에서\n",
    "\n",
    "```python\n",
    "class 학생(): \n",
    "    def 인사하기()\n",
    "        print(\"하이\")\n",
    "    def 공부하기()\n",
    "        print(\"무념무상\")\n",
    "    def 물마시기()\n",
    "        print(\"벌컥벌컥)\n",
    "\n",
    "KK = 학생()\n",
    "KK.공부하기()\n",
    "```\n",
    "\n",
    "**4) 패키지(Package):**\n",
    "- **`라이브러리`** 라고도 불림\n",
    "- 특정 기능과 관련된 여러 모듈을 하나로 묶어 둔 응용 프로그램 수준을 의미\n",
    "- **설치:** **`pip, conda`** 라는 Python 라이브러리 관리 프로그램으로 간편하게 가능\n",
    "> - Anaconda Prompt:\n",
    ">> - `pip install 패키지명`\n",
    ">> - `conda install 패키지명`\n",
    "> - Jupyter Notebook:\n",
    ">> - `!pip install 패키지명`\n",
    "> - 예시:\n",
    ">> - `!pip install numpy`\n",
    ">> - `!conda install numpy`\n",
    "\n",
    "- **사용법:** Jupyter Notebook에서\n",
    "> - `import 패키지` \n",
    "> - `import 패키지 as 축약어` (별도 축약어로 사용 가능)\n",
    "> - `from 패키지 import 모듈` (패키지 내부의 특정 모듈만 로딩 가능)\n",
    "> - `from 패키지 import 함수` (패키지 내부의 특정 함수만 로딩 가능)\n",
    "> - `from 축약어 import 모듈` (축약어 패키지로부터 특정 모듈만 로딩 가능)\n",
    "> - `from 축약어 import 함수` (축약어 패키지로부터 특정 함수만 로딩 가능)\n",
    "> - `import 패키지.모듈.함수` (패키지 내부 모듈의 특정 함수만 로딩 가능)\n",
    "> - `import 패키지.함수` (패키지 내부 특정 함수만 로딩 가능)\n"
   ]
  },
  {
   "cell_type": "code",
   "execution_count": 212,
   "metadata": {
    "ExecuteTime": {
     "end_time": "2023-01-28T04:41:16.608228Z",
     "start_time": "2023-01-28T04:41:09.558907Z"
    }
   },
   "outputs": [
    {
     "name": "stdout",
     "output_type": "stream",
     "text": [
      "Requirement already satisfied: numpy in c:\\users\\phamt\\anaconda3\\lib\\site-packages (1.21.5)\n"
     ]
    }
   ],
   "source": [
    "# 패키지 설치\n",
    "!pip install numpy"
   ]
  },
  {
   "cell_type": "code",
   "execution_count": 213,
   "metadata": {
    "ExecuteTime": {
     "end_time": "2023-01-28T04:41:20.710750Z",
     "start_time": "2023-01-28T04:41:16.610008Z"
    }
   },
   "outputs": [
    {
     "name": "stdout",
     "output_type": "stream",
     "text": [
      "Requirement already satisfied: pandas in c:\\users\\phamt\\anaconda3\\lib\\site-packages (1.4.2)\n",
      "Requirement already satisfied: pytz>=2020.1 in c:\\users\\phamt\\anaconda3\\lib\\site-packages (from pandas) (2021.3)\n",
      "Requirement already satisfied: numpy>=1.18.5 in c:\\users\\phamt\\anaconda3\\lib\\site-packages (from pandas) (1.21.5)\n",
      "Requirement already satisfied: python-dateutil>=2.8.1 in c:\\users\\phamt\\anaconda3\\lib\\site-packages (from pandas) (2.8.2)\n",
      "Requirement already satisfied: six>=1.5 in c:\\users\\phamt\\anaconda3\\lib\\site-packages (from python-dateutil>=2.8.1->pandas) (1.16.0)\n"
     ]
    }
   ],
   "source": [
    "# 패키지 설치\n",
    "!pip install pandas"
   ]
  },
  {
   "cell_type": "code",
   "execution_count": 214,
   "metadata": {
    "ExecuteTime": {
     "end_time": "2023-01-28T04:41:20.726756Z",
     "start_time": "2023-01-28T04:41:20.712746Z"
    }
   },
   "outputs": [
    {
     "name": "stdout",
     "output_type": "stream",
     "text": [
      "Intel64 Family 6 Model 142 Stepping 11, GenuineIntel\n",
      "8(GB)\n",
      "Windows\n",
      "10.0.19044\n",
      "C:\\Users\\phamt\\DEBAStudy\\Tutorial-Python-Programming-main\n",
      "2022-11-18 05:04:20.360651\n",
      "2023-01-28 13:41:14.238186\n",
      "2023-01-28 13:41:14.238186\n",
      "2023-01-28 13:41:20.719728\n",
      "다음 출력을 파일명으로 설정하고 제출하시오: 김경원_20211011_비즈니스혁신을위한데이터사이언스응용_1반_Function\n"
     ]
    }
   ],
   "source": [
    "# 반드시 이 cell을 실행하시오\n",
    "# 실행하지 않을 시 직접 하지 않은 것으로 간주\n",
    "# 마지막 줄 출력으로 파일명을 설정하고 제출 필수\n",
    "import platform, psutil, os, datetime\n",
    "print(platform.processor())\n",
    "print(str(round(psutil.virtual_memory().total / (1024.0 **3)))+\"(GB)\")\n",
    "print(platform.system())\n",
    "print(platform.version())\n",
    "print(os.getcwd())\n",
    "print(datetime.datetime.fromtimestamp(os.path.getctime(os.getcwd())))\n",
    "print(datetime.datetime.fromtimestamp(os.path.getmtime(os.getcwd())))\n",
    "print(datetime.datetime.fromtimestamp(os.path.getatime(os.getcwd())))\n",
    "print(datetime.datetime.now())\n",
    "title = 'Function'    # 고정값\n",
    "name = '김경원'    # 본인 이름을 작성\n",
    "studentid = '20211011'    # 본인 학번을 작성\n",
    "course = '비즈니스혁신을위한데이터사이언스응용'    # 'E정보시스템', 'E데이터베이스', '빅데이터', \n",
    "                          # '비즈니스혁신을위한데이터사이언스응용', '인공지능활용디지털경제플랫폼연구'\n",
    "course_number = '1반'    #  학수번호 끝자리 (아래 예시)\n",
    "                         # E정보시스템 (0003853001) => 1반\n",
    "                         # E정보시스템 (0003853001) => 2반\n",
    "                         # E데이터베이스 (0003854001) => 1반\n",
    "                         # E데이터베이스 (0003854002) => 2반\n",
    "                         # 빅데이터 (0006718001) => 1반\n",
    "                         # 비즈니스혁신을위한데이터사이언스응용 (1002667001) => 1반\n",
    "print('다음 출력을 파일명으로 설정하고 제출하시오:', name + '_' + studentid + '_' + course + '_' + course_number + '_' + title)"
   ]
  }
 ],
 "metadata": {
  "hide_input": false,
  "kernelspec": {
   "display_name": "Python 3 (ipykernel)",
   "language": "python",
   "name": "python3"
  },
  "language_info": {
   "codemirror_mode": {
    "name": "ipython",
    "version": 3
   },
   "file_extension": ".py",
   "mimetype": "text/x-python",
   "name": "python",
   "nbconvert_exporter": "python",
   "pygments_lexer": "ipython3",
   "version": "3.9.12"
  },
  "latex_envs": {
   "LaTeX_envs_menu_present": true,
   "autoclose": false,
   "autocomplete": true,
   "bibliofile": "biblio.bib",
   "cite_by": "apalike",
   "current_citInitial": 1,
   "eqLabelWithNumbers": true,
   "eqNumInitial": 1,
   "hotkeys": {
    "equation": "Ctrl-E",
    "itemize": "Ctrl-I"
   },
   "labels_anchors": false,
   "latex_user_defs": false,
   "report_style_numbering": false,
   "user_envs_cfg": false
  },
  "toc": {
   "base_numbering": 1,
   "nav_menu": {},
   "number_sections": true,
   "sideBar": true,
   "skip_h1_title": false,
   "title_cell": "Table of Contents",
   "title_sidebar": "Contents",
   "toc_cell": false,
   "toc_position": {
    "height": "calc(100% - 180px)",
    "left": "10px",
    "top": "150px",
    "width": "392.292px"
   },
   "toc_section_display": true,
   "toc_window_display": true
  },
  "varInspector": {
   "cols": {
    "lenName": 16,
    "lenType": 16,
    "lenVar": 40
   },
   "kernels_config": {
    "python": {
     "delete_cmd_postfix": "",
     "delete_cmd_prefix": "del ",
     "library": "var_list.py",
     "varRefreshCmd": "print(var_dic_list())"
    },
    "r": {
     "delete_cmd_postfix": ") ",
     "delete_cmd_prefix": "rm(",
     "library": "var_list.r",
     "varRefreshCmd": "cat(var_dic_list()) "
    }
   },
   "position": {
    "height": "144.667px",
    "left": "1346.67px",
    "right": "20px",
    "top": "141px",
    "width": "350px"
   },
   "types_to_exclude": [
    "module",
    "function",
    "builtin_function_or_method",
    "instance",
    "_Feature"
   ],
   "window_display": false
  }
 },
 "nbformat": 4,
 "nbformat_minor": 4
}
